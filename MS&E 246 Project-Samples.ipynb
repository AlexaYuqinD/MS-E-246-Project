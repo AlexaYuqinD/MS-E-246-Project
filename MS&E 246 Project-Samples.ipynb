{
 "cells": [
  {
   "cell_type": "code",
   "execution_count": 131,
   "metadata": {},
   "outputs": [],
   "source": [
    "import pandas as pd\n",
    "import numpy as np\n",
    "import copy\n",
    "import matplotlib.pyplot as plt\n",
    "import datetime as dt\n",
    "from sklearn.model_selection import train_test_split\n",
    "from sklearn.preprocessing import StandardScaler, OneHotEncoder\n",
    "%matplotlib inline\n",
    "%config InlineBackend.figure_format = 'retina'"
   ]
  },
  {
   "cell_type": "code",
   "execution_count": 132,
   "metadata": {},
   "outputs": [],
   "source": [
    "# read the preprocessed data\n",
    "rawdata = pd.read_csv('raw_data.csv')"
   ]
  },
  {
   "cell_type": "code",
   "execution_count": 133,
   "metadata": {},
   "outputs": [],
   "source": [
    "# split the data\n",
    "y = list(rawdata['target'])\n",
    "X = rawdata\n",
    "train_X, test_X, train_y, test_y = train_test_split(X,y,test_size=0.2,random_state=1)\n",
    "train_X, val_X, train_y, val_y = train_test_split(train_X,train_y,test_size=0.2,random_state=1)\n",
    "testdata = copy.deepcopy(test_X)\n",
    "#testdata.to_csv('test.csv')\n",
    "testdata['count'] = 1\n",
    "#testdata.groupby('ApprovalDate').sum()['count']\n",
    "\n"
   ]
  },
  {
   "cell_type": "code",
   "execution_count": 134,
   "metadata": {},
   "outputs": [],
   "source": [
    "date = '2006-02-15'\n",
    "testdata['diff'] = testdata['ApprovalDate'].map(lambda x: (dt.datetime.strptime(date,'%Y-%m-%d') - dt.datetime.strptime(x,'%Y-%m-%d')).days)\n",
    "testdata = testdata[(testdata['diff'] > 0) & (testdata['diff'] < testdata['TermInMonths']*30)]"
   ]
  },
  {
   "cell_type": "code",
   "execution_count": 135,
   "metadata": {},
   "outputs": [
    {
     "data": {
      "text/plain": [
       "9287"
      ]
     },
     "execution_count": 135,
     "metadata": {},
     "output_type": "execute_result"
    }
   ],
   "source": [
    "len(testdata)"
   ]
  },
  {
   "cell_type": "code",
   "execution_count": 136,
   "metadata": {},
   "outputs": [],
   "source": [
    "date1 = '2007-02-15'\n",
    "chargeOffDate = list(testdata['ChargeOffDate'])\n",
    "target1 = []\n",
    "date5 = '2011-02-15'\n",
    "target5 = []\n",
    "for i in range(len(chargeOffDate)):\n",
    "    if type(chargeOffDate[i]) == float:\n",
    "        target1.append(0)\n",
    "        target5.append(0)\n",
    "    else:\n",
    "        if (dt.datetime.strptime(chargeOffDate[i],'%Y-%m-%d') - dt.datetime.strptime(date1,'%Y-%m-%d')).days > 0:\n",
    "            target1.append(0)\n",
    "        else:\n",
    "            target1.append(1)\n",
    "        if (dt.datetime.strptime(chargeOffDate[i],'%Y-%m-%d') - dt.datetime.strptime(date5,'%Y-%m-%d')).days > 0:\n",
    "            target5.append(0)\n",
    "        else:\n",
    "            target5.append(1)        \n",
    "testdata['target1'] = target1\n",
    "testdata['target5'] = target5    "
   ]
  },
  {
   "cell_type": "code",
   "execution_count": 137,
   "metadata": {},
   "outputs": [],
   "source": [
    "testdata['age1'] = testdata['diff'] + 365\n",
    "testdata['age5'] = testdata['diff'] + 365*4 + 366"
   ]
  },
  {
   "cell_type": "code",
   "execution_count": 138,
   "metadata": {},
   "outputs": [],
   "source": [
    "samples = testdata.sample(500,random_state=0)\n",
    "samples.to_csv('samples.csv')"
   ]
  },
  {
   "cell_type": "code",
   "execution_count": null,
   "metadata": {},
   "outputs": [],
   "source": []
  }
 ],
 "metadata": {
  "kernelspec": {
   "display_name": "Python 3",
   "language": "python",
   "name": "python3"
  },
  "language_info": {
   "codemirror_mode": {
    "name": "ipython",
    "version": 3
   },
   "file_extension": ".py",
   "mimetype": "text/x-python",
   "name": "python",
   "nbconvert_exporter": "python",
   "pygments_lexer": "ipython3",
   "version": "3.6.7"
  }
 },
 "nbformat": 4,
 "nbformat_minor": 2
}
