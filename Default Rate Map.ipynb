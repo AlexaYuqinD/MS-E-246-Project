{
 "cells": [
  {
   "cell_type": "code",
   "execution_count": 37,
   "metadata": {
    "ExecuteTime": {
     "end_time": "2019-03-11T14:51:18.897512Z",
     "start_time": "2019-03-11T14:51:18.884638Z"
    }
   },
   "outputs": [],
   "source": [
    "import pandas as pd\n",
    "import plotly \n",
    "import plotly.plotly as py\n",
    "import plotly.graph_objs as go\n",
    "plotly.tools.set_credentials_file(username='allenwang', api_key='i4JQB5EHQwXYfWJq6J7G')"
   ]
  },
  {
   "cell_type": "markdown",
   "metadata": {},
   "source": [
    "## Data"
   ]
  },
  {
   "cell_type": "code",
   "execution_count": 38,
   "metadata": {
    "ExecuteTime": {
     "end_time": "2019-03-11T14:51:20.306948Z",
     "start_time": "2019-03-11T14:51:20.261933Z"
    }
   },
   "outputs": [
    {
     "name": "stdout",
     "output_type": "stream",
     "text": [
      "        state      rate code\n",
      "0     Alabama  0.205805   AL\n",
      "1      Alaska  0.142857   AK\n",
      "2     Arizona  0.240838   AZ\n",
      "3    Arkansas  0.239382   AR\n",
      "4  California  0.126314   CA\n",
      "        state      rate code\n",
      "0     Alabama  0.206056   AL\n",
      "1      Alaska  0.000000   AK\n",
      "2     Arizona  0.214936   AZ\n",
      "3    Arkansas  0.258065   AR\n",
      "4  California  0.113824   CA\n"
     ]
    }
   ],
   "source": [
    "## Default rates based on res. from other notebooks.\n",
    "borrstate_rate = pd.read_csv('borrstate_rate.csv', header=None)\n",
    "cdcstate_rate = pd.read_csv('cdcstate_rate.csv', header=None)\n",
    "state = pd.read_csv('state.csv', header=None)\n",
    "\n",
    "borrstate_rate.columns = ['state', 'rate']\n",
    "cdcstate_rate.columns = ['state', 'rate']\n",
    "state.columns = ['state', 'code']\n",
    "\n",
    "borrstate_rate = borrstate_rate.merge(state, on='state')\n",
    "cdcstate_rate = cdcstate_rate.merge(state, on='state')\n",
    "\n",
    "print(borrstate_rate.head())\n",
    "print(cdcstate_rate.head())"
   ]
  },
  {
   "cell_type": "markdown",
   "metadata": {},
   "source": [
    "## Borrower States"
   ]
  },
  {
   "cell_type": "code",
   "execution_count": 42,
   "metadata": {
    "ExecuteTime": {
     "end_time": "2019-03-11T14:52:26.318935Z",
     "start_time": "2019-03-11T14:52:26.302479Z"
    }
   },
   "outputs": [],
   "source": [
    "data = [go.Choropleth(\n",
    "    autocolorscale=True,\n",
    "    locations=borrstate_rate['code'].astype(str),\n",
    "    z=borrstate_rate['rate'].astype(float),\n",
    "    locationmode='USA-states',\n",
    "    marker=go.choropleth.Marker(\n",
    "        line=go.choropleth.marker.Line(\n",
    "            color='rgb(255,255,255)',\n",
    "            width=1\n",
    "        )),\n",
    "    colorbar=go.choropleth.ColorBar(\n",
    "        title=\"Default Rate\")\n",
    ")]\n",
    "\n",
    "layout = go.Layout(\n",
    "    title=go.layout.Title(\n",
    "        text='Borrower Default Rate by State'\n",
    "    ),\n",
    "    geo=go.layout.Geo(\n",
    "        scope='usa',\n",
    "        projection=go.layout.geo.Projection(type = 'albers usa'),\n",
    "        showlakes=True,\n",
    "        lakecolor='rgb(255, 255, 255)'),\n",
    ")\n",
    "\n",
    "fig = go.Figure(data=data, layout=layout)\n",
    "py.iplot(fig, filename='borr_rate_map')"
   ]
  },
  {
   "cell_type": "markdown",
   "metadata": {},
   "source": [
    "## CDC states"
   ]
  },
  {
   "cell_type": "code",
   "execution_count": 48,
   "metadata": {
    "ExecuteTime": {
     "end_time": "2019-03-11T14:57:04.106272Z",
     "start_time": "2019-03-11T14:57:02.573354Z"
    }
   },
   "outputs": [
    {
     "data": {
      "text/html": [
       "<iframe id=\"igraph\" scrolling=\"no\" style=\"border:none;\" seamless=\"seamless\" src=\"https://plot.ly/~allenwang/2.embed\" height=\"525px\" width=\"100%\"></iframe>"
      ],
      "text/plain": [
       "<plotly.tools.PlotlyDisplay object>"
      ]
     },
     "execution_count": 48,
     "metadata": {},
     "output_type": "execute_result"
    }
   ],
   "source": [
    "data = [go.Choropleth(\n",
    "    autocolorscale=True,\n",
    "    locations=cdcstate_rate['code'].astype(str),\n",
    "    z=cdcstate_rate['rate'].astype(float),\n",
    "    locationmode='USA-states',\n",
    "    marker=go.choropleth.Marker(\n",
    "        line=go.choropleth.marker.Line(\n",
    "            color='rgb(255,255,255)',\n",
    "            width=1\n",
    "        )),\n",
    "    colorbar=go.choropleth.ColorBar(\n",
    "        title=\"Default Rate\")\n",
    ")]\n",
    "\n",
    "layout = go.Layout(\n",
    "    title=go.layout.Title(\n",
    "        text='CDC State Default Rate'\n",
    "    ),\n",
    "    geo=go.layout.Geo(\n",
    "        scope='usa',\n",
    "        projection=go.layout.geo.Projection(type = 'albers usa'),\n",
    "        showlakes=True,\n",
    "        lakecolor='rgb(255, 255, 255)'),\n",
    ")\n",
    "\n",
    "fig = go.Figure(data=data, layout=layout)\n",
    "py.iplot(fig, filename='cdc_rate_map')"
   ]
  }
 ],
 "metadata": {
  "kernelspec": {
   "display_name": "Python 3",
   "language": "python",
   "name": "python3"
  },
  "language_info": {
   "codemirror_mode": {
    "name": "ipython",
    "version": 3
   },
   "file_extension": ".py",
   "mimetype": "text/x-python",
   "name": "python",
   "nbconvert_exporter": "python",
   "pygments_lexer": "ipython3",
   "version": "3.6.1"
  },
  "toc": {
   "base_numbering": 1,
   "nav_menu": {},
   "number_sections": true,
   "sideBar": true,
   "skip_h1_title": false,
   "title_cell": "Table of Contents",
   "title_sidebar": "Contents",
   "toc_cell": false,
   "toc_position": {},
   "toc_section_display": true,
   "toc_window_display": false
  },
  "varInspector": {
   "cols": {
    "lenName": 16,
    "lenType": 16,
    "lenVar": 40
   },
   "kernels_config": {
    "python": {
     "delete_cmd_postfix": "",
     "delete_cmd_prefix": "del ",
     "library": "var_list.py",
     "varRefreshCmd": "print(var_dic_list())"
    },
    "r": {
     "delete_cmd_postfix": ") ",
     "delete_cmd_prefix": "rm(",
     "library": "var_list.r",
     "varRefreshCmd": "cat(var_dic_list()) "
    }
   },
   "types_to_exclude": [
    "module",
    "function",
    "builtin_function_or_method",
    "instance",
    "_Feature"
   ],
   "window_display": false
  }
 },
 "nbformat": 4,
 "nbformat_minor": 2
}
