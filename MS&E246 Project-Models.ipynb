{
 "cells": [
  {
   "cell_type": "code",
   "execution_count": 1,
   "metadata": {},
   "outputs": [],
   "source": [
    "import math\n",
    "import numpy as np\n",
    "import h5py\n",
    "import matplotlib.pyplot as plt\n",
    "import tensorflow as tf\n",
    "import pandas as pd\n",
    "import scipy.io\n",
    "from sklearn import preprocessing\n",
    "from sklearn.preprocessing import StandardScaler, OneHotEncoder\n",
    "from sklearn.model_selection import train_test_split\n",
    "from sklearn.model_selection import RandomizedSearchCV\n",
    "from sklearn import metrics\n",
    "from sklearn.pipeline import Pipeline\n",
    "from sklearn.compose import ColumnTransformer\n",
    "from sklearn.linear_model import LogisticRegression\n",
    "from sklearn.linear_model import LinearRegression\n",
    "from sklearn.linear_model import Lasso\n",
    "from sklearn.linear_model import Ridge\n",
    "from sklearn.linear_model import ElasticNet\n",
    "from sklearn.metrics import classification_report\n",
    "from sklearn.metrics import roc_auc_score\n",
    "from sklearn.ensemble import RandomForestClassifier\n",
    "import lightgbm as lgb\n",
    "import xgboost as xgb\n",
    "import sklearn.datasets\n",
    "import re\n",
    "import seaborn as sns\n",
    "import datetime as dt\n",
    "import time\n",
    "import copy\n",
    "from tensorflow.python.framework import ops\n",
    "from imblearn.over_sampling import RandomOverSampler\n",
    "from imblearn.over_sampling import SMOTE\n",
    "\n",
    "#from DNN_utils import *\n",
    "%matplotlib inline\n",
    "%config InlineBackend.figure_format = 'retina'"
   ]
  },
  {
   "cell_type": "code",
   "execution_count": 2,
   "metadata": {},
   "outputs": [],
   "source": [
    "# read the preprocessed data\n",
    "rawdata = pd.read_csv('raw_data.csv')"
   ]
  },
  {
   "cell_type": "code",
   "execution_count": 38,
   "metadata": {},
   "outputs": [],
   "source": [
    "# split the data\n",
    "#y = list(rawdata['target'])\n",
    "#X = rawdata[numCols+catCols]\n",
    "#train_X, test_X, train_y, test_y = train_test_split(X,y,test_size=0.2,random_state=1)\n",
    "#train_X, val_X, train_y, val_y = train_test_split(train_X,train_y,test_size=0.2,random_state=1)\n"
   ]
  },
  {
   "cell_type": "code",
   "execution_count": 3,
   "metadata": {},
   "outputs": [],
   "source": [
    "# split the data\n",
    "y = list(rawdata['target'])\n",
    "X = rawdata\n",
    "train_X, test_X, train_y, test_y = train_test_split(X,y,test_size=0.2,random_state=1)\n",
    "train_X, val_X, train_y, val_y = train_test_split(train_X,train_y,test_size=0.2,random_state=1)\n",
    "#testdata.to_csv('test.csv')\n"
   ]
  },
  {
   "cell_type": "code",
   "execution_count": 4,
   "metadata": {},
   "outputs": [],
   "source": [
    "catCols = ['BorrName', 'BorrCity', 'BorrState','CDC_Name', 'CDC_Street', 'CDC_City', 'CDC_State', 'ThirdPartyLender_Name', 'ThirdPartyLender_City',\n",
    "       'ThirdPartyLender_State', 'ApprovalFiscalYear', 'DeliveryMethod', 'subpgmdesc','NaicsCode', 'NaicsDescription',\n",
    "       'ProjectCounty', 'ProjectState', 'BusinessType'\n",
    "       ]\n",
    "numCols = ['BorrZip','CDC_Zip','ThirdPartyDollars', 'GrossApproval','InitialInterestRate', 'TermInMonths','Borrgsp','unemploy_bow','unemploy_pro','SP500','borrthird','borrpro','borrCDC','total','termint']\n",
    "\n",
    "train_X = train_X[numCols+catCols]\n",
    "val_X = val_X[numCols+catCols]\n",
    "test_X = test_X[numCols+catCols]"
   ]
  },
  {
   "cell_type": "code",
   "execution_count": 109,
   "metadata": {},
   "outputs": [],
   "source": [
    "# achieved DNN auc 0.81\n",
    "catCols1 = ['BorrCity', 'BorrState','CDC_Name', 'CDC_Street', 'CDC_City', 'CDC_State', 'ThirdPartyLender_Name', 'ThirdPartyLender_City',\n",
    "       'ThirdPartyLender_State', 'ApprovalFiscalYear', 'NaicsCode', 'NaicsDescription',\n",
    "       'ProjectCounty', 'ProjectState', 'BusinessType'\n",
    "       ]\n",
    "numCols1 = ['BorrZip','ThirdPartyDollars', 'GrossApproval','InitialInterestRate', 'TermInMonths','Borrgsp','unemploy_bow','unemploy_pro','SP500','borrCDC','total','termint']\n",
    "\n",
    "train_X1 = train_X[numCols1+catCols1]\n",
    "val_X1 = val_X[numCols1+catCols1]\n",
    "test_X1 = test_X[numCols1+catCols1]\n",
    "\n",
    "train_y1 = copy.deepcopy(train_y)\n",
    "val_y1 = copy.deepcopy(val_y)\n",
    "test_y1 = copy.deepcopy(test_y)\n"
   ]
  },
  {
   "cell_type": "code",
   "execution_count": 51,
   "metadata": {},
   "outputs": [],
   "source": [
    "# still 0.81\n",
    "catCols1 = ['BorrCity', 'BorrState','CDC_Name', 'CDC_Street', 'CDC_City', 'CDC_State', 'ThirdPartyLender_Name', 'ThirdPartyLender_City',\n",
    "       'ThirdPartyLender_State', 'ApprovalFiscalYear', 'NaicsCode', 'NaicsDescription',\n",
    "       'ProjectCounty', 'ProjectState'\n",
    "       ]\n",
    "numCols1 = ['BorrZip','ThirdPartyDollars', 'GrossApproval','InitialInterestRate', 'TermInMonths','Borrgsp','unemploy_bow','unemploy_pro','SP500','borrCDC','total']\n",
    "\n",
    "train_X1 = train_X[numCols1+catCols1]\n",
    "val_X1 = val_X[numCols1+catCols1]\n",
    "test_X1 = test_X[numCols1+catCols1]\n",
    "\n",
    "train_y1 = copy.deepcopy(train_y)\n",
    "val_y1 = copy.deepcopy(val_y)\n",
    "test_y1 = copy.deepcopy(test_y)\n"
   ]
  },
  {
   "cell_type": "code",
   "execution_count": 6,
   "metadata": {},
   "outputs": [],
   "source": [
    "# try to drop features\n",
    "catCols1 = ['BorrCity', 'BorrState','CDC_Name', 'CDC_Street', 'CDC_City', 'CDC_State', 'ThirdPartyLender_Name', 'ThirdPartyLender_City',\n",
    "       'ThirdPartyLender_State', 'ApprovalFiscalYear', 'NaicsCode', 'NaicsDescription',\n",
    "       'ProjectCounty', 'ProjectState'\n",
    "       ]\n",
    "numCols1 = ['BorrZip','ThirdPartyDollars', 'GrossApproval', 'InitialInterestRate','TermInMonths','Borrgsp','unemploy_bow','unemploy_pro','SP500','borrCDC','total']\n",
    "\n",
    "train_X1 = train_X[numCols1+catCols1]\n",
    "val_X1 = val_X[numCols1+catCols1]\n",
    "test_X1 = test_X[numCols1+catCols1]\n",
    "\n",
    "train_y1 = copy.deepcopy(train_y)\n",
    "val_y1 = copy.deepcopy(val_y)\n",
    "test_y1 = copy.deepcopy(test_y)\n"
   ]
  },
  {
   "cell_type": "markdown",
   "metadata": {},
   "source": [
    "## Baseline: Logistic Regression"
   ]
  },
  {
   "cell_type": "code",
   "execution_count": 29,
   "metadata": {},
   "outputs": [
    {
     "name": "stderr",
     "output_type": "stream",
     "text": [
      "C:\\Users\\THINKPAD\\AppData\\Roaming\\Python\\Python36\\site-packages\\sklearn\\preprocessing\\data.py:617: DataConversionWarning: Data with input dtype int64, float64 were all converted to float64 by StandardScaler.\n",
      "  return self.partial_fit(X, y)\n",
      "C:\\Users\\THINKPAD\\AppData\\Roaming\\Python\\Python36\\site-packages\\sklearn\\base.py:465: DataConversionWarning: Data with input dtype int64, float64 were all converted to float64 by StandardScaler.\n",
      "  return self.fit(X, y, **fit_params).transform(X)\n",
      "C:\\Users\\THINKPAD\\AppData\\Roaming\\Python\\Python36\\site-packages\\sklearn\\linear_model\\logistic.py:432: FutureWarning: Default solver will be changed to 'lbfgs' in 0.22. Specify a solver to silence this warning.\n",
      "  FutureWarning)\n",
      "C:\\Users\\THINKPAD\\AppData\\Roaming\\Python\\Python36\\site-packages\\sklearn\\pipeline.py:451: DataConversionWarning: Data with input dtype int64, float64 were all converted to float64 by StandardScaler.\n",
      "  Xt = transform.transform(Xt)\n",
      "C:\\Users\\THINKPAD\\AppData\\Roaming\\Python\\Python36\\site-packages\\sklearn\\pipeline.py:451: DataConversionWarning: Data with input dtype int64, float64 were all converted to float64 by StandardScaler.\n",
      "  Xt = transform.transform(Xt)\n"
     ]
    },
    {
     "name": "stdout",
     "output_type": "stream",
     "text": [
      "model score: 0.872\n",
      "              precision    recall  f1-score   support\n",
      "\n",
      "           0       0.90      0.96      0.93      7361\n",
      "           1       0.66      0.42      0.51      1408\n",
      "\n",
      "   micro avg       0.87      0.87      0.87      8769\n",
      "   macro avg       0.78      0.69      0.72      8769\n",
      "weighted avg       0.86      0.87      0.86      8769\n",
      "\n",
      "0.8471537070370873"
     ]
    },
    {
     "name": "stderr",
     "output_type": "stream",
     "text": [
      "C:\\Users\\THINKPAD\\AppData\\Roaming\\Python\\Python36\\site-packages\\sklearn\\pipeline.py:451: DataConversionWarning: Data with input dtype int64, float64 were all converted to float64 by StandardScaler.\n",
      "  Xt = transform.transform(Xt)\n"
     ]
    },
    {
     "name": "stdout",
     "output_type": "stream",
     "text": [
      "\n"
     ]
    }
   ],
   "source": [
    "# standardization and one-hot encoding\n",
    "numeric_transformer = Pipeline(steps=[('scaler', StandardScaler())])\n",
    "categorical_transformer = Pipeline(steps=[('onehot', OneHotEncoder(handle_unknown='ignore'))])\n",
    "preprocessor = ColumnTransformer(transformers=[('num', numeric_transformer, numCols),\n",
    "                                               ('cat', categorical_transformer, catCols)])\n",
    "clf = Pipeline(steps=[('preprocessor', preprocessor),\n",
    "                      ('classifier', LogisticRegression())])\n",
    "\n",
    "clf.fit(train_X, train_y)\n",
    "print(\"model score: %.3f\" % clf.score(val_X, val_y))\n",
    "print(classification_report(val_y, clf.predict(val_X)))\n",
    "print(roc_auc_score(val_y, clf.predict_proba(val_X)[:,1]))"
   ]
  },
  {
   "cell_type": "code",
   "execution_count": 30,
   "metadata": {},
   "outputs": [
    {
     "name": "stderr",
     "output_type": "stream",
     "text": [
      "C:\\Users\\THINKPAD\\AppData\\Roaming\\Python\\Python36\\site-packages\\sklearn\\pipeline.py:451: DataConversionWarning: Data with input dtype int64, float64 were all converted to float64 by StandardScaler.\n",
      "  Xt = transform.transform(Xt)\n"
     ]
    },
    {
     "name": "stdout",
     "output_type": "stream",
     "text": [
      "0.8471537070370873\n"
     ]
    },
    {
     "data": {
      "image/png": "[encoded data removed]",
      "text/plain": [
       "<Figure size 432x288 with 1 Axes>"
      ]
     },
     "metadata": {
      "image/png": {
       "height": 277,
       "width": 393
      },
      "needs_background": "light"
     },
     "output_type": "display_data"
    }
   ],
   "source": [
    "# ROC_AUC curve for logistic regression\n",
    "probs = clf.predict_proba(val_X)\n",
    "preds = probs[:,1]\n",
    "fpr, tpr, threshold = metrics.roc_curve(val_y, preds)\n",
    "roc_auc = metrics.auc(fpr, tpr)\n",
    "print(roc_auc)\n",
    "\n",
    "plt.title('Receiver Operating Characteristic')\n",
    "plt.plot(fpr, tpr, 'b', label = 'AUC = %0.2f' % roc_auc)\n",
    "plt.legend(loc = 'lower right')\n",
    "plt.plot([0, 1], [0, 1],'r--')\n",
    "plt.xlim([0, 1])\n",
    "plt.ylim([0, 1])\n",
    "plt.ylabel('True Positive Rate')\n",
    "plt.xlabel('False Positive Rate')\n",
    "plt.show()"
   ]
  },
  {
   "cell_type": "markdown",
   "metadata": {},
   "source": [
    "### Logistic Regression with Regularization"
   ]
  },
  {
   "cell_type": "markdown",
   "metadata": {},
   "source": [
    "#### L1"
   ]
  },
  {
   "cell_type": "code",
   "execution_count": 5,
   "metadata": {},
   "outputs": [
    {
     "name": "stderr",
     "output_type": "stream",
     "text": [
      "C:\\Users\\THINKPAD\\AppData\\Roaming\\Python\\Python36\\site-packages\\sklearn\\preprocessing\\data.py:617: DataConversionWarning: Data with input dtype int64, float64 were all converted to float64 by StandardScaler.\n",
      "  return self.partial_fit(X, y)\n",
      "C:\\Users\\THINKPAD\\AppData\\Roaming\\Python\\Python36\\site-packages\\sklearn\\base.py:465: DataConversionWarning: Data with input dtype int64, float64 were all converted to float64 by StandardScaler.\n",
      "  return self.fit(X, y, **fit_params).transform(X)\n",
      "C:\\Users\\THINKPAD\\AppData\\Roaming\\Python\\Python36\\site-packages\\sklearn\\linear_model\\logistic.py:432: FutureWarning: Default solver will be changed to 'lbfgs' in 0.22. Specify a solver to silence this warning.\n",
      "  FutureWarning)\n",
      "C:\\Users\\THINKPAD\\AppData\\Roaming\\Python\\Python36\\site-packages\\sklearn\\pipeline.py:451: DataConversionWarning: Data with input dtype int64, float64 were all converted to float64 by StandardScaler.\n",
      "  Xt = transform.transform(Xt)\n",
      "C:\\Users\\THINKPAD\\AppData\\Roaming\\Python\\Python36\\site-packages\\sklearn\\pipeline.py:451: DataConversionWarning: Data with input dtype int64, float64 were all converted to float64 by StandardScaler.\n",
      "  Xt = transform.transform(Xt)\n",
      "C:\\Users\\THINKPAD\\AppData\\Roaming\\Python\\Python36\\site-packages\\sklearn\\pipeline.py:451: DataConversionWarning: Data with input dtype int64, float64 were all converted to float64 by StandardScaler.\n",
      "  Xt = transform.transform(Xt)\n"
     ]
    },
    {
     "name": "stdout",
     "output_type": "stream",
     "text": [
      "model score: 0.872\n",
      "              precision    recall  f1-score   support\n",
      "\n",
      "           0       0.90      0.96      0.93      7361\n",
      "           1       0.66      0.41      0.51      1408\n",
      "\n",
      "   micro avg       0.87      0.87      0.87      8769\n",
      "   macro avg       0.78      0.69      0.72      8769\n",
      "weighted avg       0.86      0.87      0.86      8769\n",
      "\n",
      "0.8459005577614207\n"
     ]
    }
   ],
   "source": [
    "from sklearn.feature_selection import SelectKBest\n",
    "numeric_transformer = Pipeline(steps=[('scaler', StandardScaler())])\n",
    "categorical_transformer = Pipeline(steps=[('onehot', OneHotEncoder(handle_unknown='ignore'))])\n",
    "preprocessor = ColumnTransformer(transformers=[('num', numeric_transformer, numCols),\n",
    "                                               ('cat', categorical_transformer, catCols)])\n",
    "clf = Pipeline(steps=[('preprocessor', preprocessor),\n",
    "                      ('classifier', LogisticRegression(penalty='l1'))])\n",
    "\n",
    "clf.fit(train_X, train_y)\n",
    "print(\"model score: %.3f\" % clf.score(val_X, val_y))\n",
    "print(classification_report(val_y, clf.predict(val_X)))\n",
    "print(roc_auc_score(val_y, clf.predict_proba(val_X)[:,1]))"
   ]
  },
  {
   "cell_type": "markdown",
   "metadata": {},
   "source": [
    "### Select Features after One-Hot"
   ]
  },
  {
   "cell_type": "code",
   "execution_count": 6,
   "metadata": {},
   "outputs": [],
   "source": [
    "def get_column_names_from_ColumnTransformer(column_transformer):    \n",
    "    col_name = []\n",
    "    for transformer_in_columns in column_transformer.transformers_[:]:#the last transformer is ColumnTransformer's 'remainder'\n",
    "        raw_col_name = transformer_in_columns[2]\n",
    "        if isinstance(transformer_in_columns[1],Pipeline): \n",
    "            transformer = transformer_in_columns[1].steps[-1][1]\n",
    "        else:\n",
    "            transformer = transformer_in_columns[1]\n",
    "        try:\n",
    "            names = transformer.get_feature_names()\n",
    "        except AttributeError: # if no 'get_feature_names' function, use raw column name\n",
    "            names = raw_col_name\n",
    "        if isinstance(names,np.ndarray): # eg.\n",
    "            col_name += names.tolist()\n",
    "        elif isinstance(names,list):\n",
    "            col_name += names    \n",
    "        elif isinstance(names,str):\n",
    "            col_name.append(names)\n",
    "    return col_name\n"
   ]
  },
  {
   "cell_type": "code",
   "execution_count": 26,
   "metadata": {},
   "outputs": [
    {
     "data": {
      "text/plain": [
       "2389"
      ]
     },
     "execution_count": 26,
     "metadata": {},
     "output_type": "execute_result"
    }
   ],
   "source": [
    "coef = clf.named_steps['classifier'].coef_\n",
    "feature_names = get_column_names_from_ColumnTransformer(clf.named_steps['preprocessor'])\n",
    "cat_names = feature_names[15:]\n",
    "select = []\n",
    "for i in range(coef.shape[1]):\n",
    "    if coef[0,i] != 0:\n",
    "        select.append(i)\n",
    "select_features = [feature_names[i] for i in select]\n",
    "len(select_features)"
   ]
  },
  {
   "cell_type": "code",
   "execution_count": 20,
   "metadata": {},
   "outputs": [
    {
     "data": {
      "text/plain": [
       "47677"
      ]
     },
     "execution_count": 20,
     "metadata": {},
     "output_type": "execute_result"
    }
   ],
   "source": [
    "#clf.named_steps['preprocessor'].named_transformers_['cat'].named_steps['onehot'].get_feature_names()"
   ]
  },
  {
   "cell_type": "code",
   "execution_count": 27,
   "metadata": {},
   "outputs": [],
   "source": [
    "num_select = select_features[:14]\n",
    "cat_select = select_features[14:]\n",
    "inds = []\n",
    "for i in range(len(cat_select)):\n",
    "    inds.append(cat_names.index(cat_select[i]))"
   ]
  },
  {
   "cell_type": "markdown",
   "metadata": {},
   "source": [
    "#### L2"
   ]
  },
  {
   "cell_type": "code",
   "execution_count": 151,
   "metadata": {},
   "outputs": [
    {
     "name": "stderr",
     "output_type": "stream",
     "text": [
      "C:\\Users\\THINKPAD\\AppData\\Roaming\\Python\\Python36\\site-packages\\sklearn\\preprocessing\\data.py:617: DataConversionWarning: Data with input dtype int64, float64 were all converted to float64 by StandardScaler.\n",
      "  return self.partial_fit(X, y)\n",
      "C:\\Users\\THINKPAD\\AppData\\Roaming\\Python\\Python36\\site-packages\\sklearn\\base.py:465: DataConversionWarning: Data with input dtype int64, float64 were all converted to float64 by StandardScaler.\n",
      "  return self.fit(X, y, **fit_params).transform(X)\n",
      "C:\\Users\\THINKPAD\\AppData\\Roaming\\Python\\Python36\\site-packages\\sklearn\\linear_model\\logistic.py:432: FutureWarning: Default solver will be changed to 'lbfgs' in 0.22. Specify a solver to silence this warning.\n",
      "  FutureWarning)\n",
      "C:\\Users\\THINKPAD\\AppData\\Roaming\\Python\\Python36\\site-packages\\sklearn\\pipeline.py:451: DataConversionWarning: Data with input dtype int64, float64 were all converted to float64 by StandardScaler.\n",
      "  Xt = transform.transform(Xt)\n",
      "C:\\Users\\THINKPAD\\AppData\\Roaming\\Python\\Python36\\site-packages\\sklearn\\pipeline.py:451: DataConversionWarning: Data with input dtype int64, float64 were all converted to float64 by StandardScaler.\n",
      "  Xt = transform.transform(Xt)\n",
      "C:\\Users\\THINKPAD\\AppData\\Roaming\\Python\\Python36\\site-packages\\sklearn\\pipeline.py:451: DataConversionWarning: Data with input dtype int64, float64 were all converted to float64 by StandardScaler.\n",
      "  Xt = transform.transform(Xt)\n"
     ]
    },
    {
     "name": "stdout",
     "output_type": "stream",
     "text": [
      "model score: 0.872\n",
      "              precision    recall  f1-score   support\n",
      "\n",
      "           0       0.90      0.96      0.93      7361\n",
      "           1       0.66      0.42      0.51      1408\n",
      "\n",
      "   micro avg       0.87      0.87      0.87      8769\n",
      "   macro avg       0.78      0.69      0.72      8769\n",
      "weighted avg       0.86      0.87      0.86      8769\n",
      "\n",
      "0.8475466910992825\n"
     ]
    }
   ],
   "source": [
    "clf = Pipeline(steps=[('preprocessor', preprocessor),\n",
    "                      ('classifier', LogisticRegression(penalty='l2'))])\n",
    "\n",
    "clf.fit(train_X, train_y)\n",
    "print(\"model score: %.3f\" % clf.score(val_X, val_y))\n",
    "print(classification_report(val_y, clf.predict(val_X)))\n",
    "print(roc_auc_score(val_y, clf.predict_proba(val_X)[:,1]))"
   ]
  },
  {
   "cell_type": "markdown",
   "metadata": {},
   "source": [
    "## Tree Models"
   ]
  },
  {
   "cell_type": "markdown",
   "metadata": {},
   "source": [
    "### Gradient Boosting"
   ]
  },
  {
   "cell_type": "code",
   "execution_count": 117,
   "metadata": {},
   "outputs": [],
   "source": [
    "def run_lgbc(train_X, train_y, val_X, val_y):\n",
    "    params = {\n",
    "        \"objective\" : \"binary\",\n",
    "        \"metric\" : \"binary_logloss\", \n",
    "        \"num_leaves\" : 30,\n",
    "        \"min_child_samples\" : 100,\n",
    "        \"learning_rate\" : 0.1,\n",
    "        \"bagging_fraction\" : 0.7,\n",
    "        \"feature_fraction\" : 0.5,\n",
    "        \"bagging_frequency\" : 5,\n",
    "        \"bagging_seed\" : 2018,\n",
    "    }\n",
    "    \n",
    "    lgtrain = lgb.Dataset(train_X, label=train_y)\n",
    "    lgval = lgb.Dataset(val_X, label=val_y)\n",
    "    model = lgb.train(params, lgtrain, 1000, valid_sets=[lgval], early_stopping_rounds=100, verbose_eval=100)\n",
    "\n",
    "    pred_val_y = model.predict(val_X, num_iteration=model.best_iteration)\n",
    "    return model, pred_val_y\n"
   ]
  },
  {
   "cell_type": "code",
   "execution_count": 118,
   "metadata": {},
   "outputs": [
    {
     "name": "stdout",
     "output_type": "stream",
     "text": [
      "Training until validation scores don't improve for 100 rounds.\n",
      "[100]\tvalid_0's binary_logloss: 0.309081\n",
      "[200]\tvalid_0's binary_logloss: 0.309657\n",
      "Early stopping, best iteration is:\n",
      "[147]\tvalid_0's binary_logloss: 0.308483\n",
      "              precision    recall  f1-score   support\n",
      "\n",
      "           0       0.90      0.97      0.93      7361\n",
      "           1       0.70      0.41      0.51      1408\n",
      "\n",
      "   micro avg       0.88      0.88      0.88      8769\n",
      "   macro avg       0.80      0.69      0.72      8769\n",
      "weighted avg       0.86      0.88      0.86      8769\n",
      "\n",
      "0.85621337423275\n"
     ]
    }
   ],
   "source": [
    "modelC, pred_val_y = run_lgbc(train_X, train_y, val_X, val_y)\n",
    "print(classification_report(val_y, modelC.predict(val_X)>0.5))\n",
    "print(roc_auc_score(val_y, modelC.predict(val_X)))"
   ]
  },
  {
   "cell_type": "code",
   "execution_count": 119,
   "metadata": {},
   "outputs": [
    {
     "name": "stdout",
     "output_type": "stream",
     "text": [
      "              precision    recall  f1-score   support\n",
      "\n",
      "           0       0.89      0.96      0.93      9119\n",
      "           1       0.70      0.40      0.51      1843\n",
      "\n",
      "   micro avg       0.87      0.87      0.87     10962\n",
      "   macro avg       0.79      0.68      0.72     10962\n",
      "weighted avg       0.86      0.87      0.86     10962\n",
      "\n",
      "0.8539681240095613\n"
     ]
    }
   ],
   "source": [
    "print(classification_report(test_y, modelC.predict(test_X)>0.5))\n",
    "print(roc_auc_score(test_y, modelC.predict(test_X)))"
   ]
  },
  {
   "cell_type": "code",
   "execution_count": 33,
   "metadata": {},
   "outputs": [
    {
     "data": {
      "text/plain": [
       "<matplotlib.axes._subplots.AxesSubplot at 0x1c8e350b3c8>"
      ]
     },
     "execution_count": 33,
     "metadata": {},
     "output_type": "execute_result"
    },
    {
     "data": {
      "image/png": "[encoded data removed]",
      "text/plain": [
       "<Figure size 432x288 with 1 Axes>"
      ]
     },
     "metadata": {
      "image/png": {
       "height": 277,
       "width": 493
      },
      "needs_background": "light"
     },
     "output_type": "display_data"
    }
   ],
   "source": [
    "lgb.plot_importance(modelC)"
   ]
  },
  {
   "cell_type": "code",
   "execution_count": 37,
   "metadata": {},
   "outputs": [
    {
     "name": "stdout",
     "output_type": "stream",
     "text": [
      "BorrZip 16\n",
      "CDC_Zip 6\n",
      "ThirdPartyDollars 13\n",
      "GrossApproval 51\n",
      "InitialInterestRate 1\n",
      "TermInMonths 5\n",
      "Borrgsp 24\n",
      "unemploy_bow 19\n",
      "unemploy_pro 12\n",
      "SP500 101\n",
      "borr=third 0\n",
      "borr=pro 0\n",
      "borr=CDC 2\n",
      "total 20\n",
      "termint 0\n",
      "BorrName 1\n",
      "BorrStreet 0\n",
      "BorrCity 53\n",
      "BorrState 27\n",
      "CDC_Name 124\n",
      "CDC_Street 102\n",
      "CDC_City 66\n",
      "CDC_State 20\n",
      "ThirdPartyLender_Name 38\n",
      "ThirdPartyLender_City 32\n",
      "ThirdPartyLender_State 20\n",
      "ApprovalFiscalYear 45\n",
      "DeliveryMethod 3\n",
      "subpgmdesc 2\n",
      "NaicsCode 125\n",
      "NaicsDescription 96\n",
      "ProjectCounty 189\n",
      "ProjectState 30\n",
      "BusinessType 4\n"
     ]
    }
   ],
   "source": [
    "fn = modelC.feature_name()\n",
    "fi = list(modelC.feature_importance())\n",
    "for i in range(len(fn)):\n",
    "    print(fn[i],fi[i])"
   ]
  },
  {
   "cell_type": "markdown",
   "metadata": {},
   "source": [
    "### Default Rate Prediction on the Best Model"
   ]
  },
  {
   "cell_type": "code",
   "execution_count": 125,
   "metadata": {},
   "outputs": [
    {
     "name": "stdout",
     "output_type": "stream",
     "text": [
      "              precision    recall  f1-score   support\n",
      "\n",
      "           0       0.98      0.97      0.97       489\n",
      "           1       0.00      0.00      0.00        11\n",
      "\n",
      "   micro avg       0.94      0.94      0.94       500\n",
      "   macro avg       0.49      0.48      0.49       500\n",
      "weighted avg       0.96      0.94      0.95       500\n",
      "\n",
      "0.4865216583007994\n"
     ]
    }
   ],
   "source": [
    "samples = pd.read_csv('samples.csv')\n",
    "pred_X = samples[numCols+catCols]\n",
    "# 1 year\n",
    "pred_y = samples['target1']\n",
    "pred_prob1 = modelC.predict(pred_X)\n",
    "print(classification_report(pred_y, modelC.predict(pred_X)>0.5))\n",
    "print(roc_auc_score(pred_y, modelC.predict(pred_X)))\n"
   ]
  },
  {
   "cell_type": "code",
   "execution_count": 126,
   "metadata": {},
   "outputs": [
    {
     "name": "stdout",
     "output_type": "stream",
     "text": [
      "              precision    recall  f1-score   support\n",
      "\n",
      "           0       0.94      0.98      0.96       461\n",
      "           1       0.53      0.23      0.32        39\n",
      "\n",
      "   micro avg       0.92      0.92      0.92       500\n",
      "   macro avg       0.73      0.61      0.64       500\n",
      "weighted avg       0.91      0.92      0.91       500\n",
      "\n",
      "0.7762945658824184\n"
     ]
    }
   ],
   "source": [
    "# 5 year\n",
    "pred_y = samples['target5']\n",
    "pred_prob5 = modelC.predict(pred_X)\n",
    "print(classification_report(pred_y, modelC.predict(pred_X)>0.5))\n",
    "print(roc_auc_score(pred_y, modelC.predict(pred_X)))\n"
   ]
  },
  {
   "cell_type": "markdown",
   "metadata": {},
   "source": [
    "### Select features2"
   ]
  },
  {
   "cell_type": "code",
   "execution_count": 90,
   "metadata": {},
   "outputs": [
    {
     "name": "stderr",
     "output_type": "stream",
     "text": [
      "C:\\Users\\THINKPAD\\AppData\\Roaming\\Python\\Python36\\site-packages\\sklearn\\preprocessing\\data.py:617: DataConversionWarning: Data with input dtype int64, float64 were all converted to float64 by StandardScaler.\n",
      "  return self.partial_fit(X, y)\n",
      "C:\\Users\\THINKPAD\\AppData\\Roaming\\Python\\Python36\\site-packages\\sklearn\\base.py:462: DataConversionWarning: Data with input dtype int64, float64 were all converted to float64 by StandardScaler.\n",
      "  return self.fit(X, **fit_params).transform(X)\n",
      "C:\\Users\\THINKPAD\\AppData\\Local\\Continuum\\Anaconda3\\envs\\Tensor\\lib\\site-packages\\ipykernel_launcher.py:3: DataConversionWarning: Data with input dtype int64, float64 were all converted to float64 by StandardScaler.\n",
      "  This is separate from the ipykernel package so we can avoid doing imports until\n",
      "C:\\Users\\THINKPAD\\AppData\\Local\\Continuum\\Anaconda3\\envs\\Tensor\\lib\\site-packages\\ipykernel_launcher.py:4: DataConversionWarning: Data with input dtype int64, float64 were all converted to float64 by StandardScaler.\n",
      "  after removing the cwd from sys.path.\n"
     ]
    }
   ],
   "source": [
    "data_scaler = StandardScaler()\n",
    "train_num = data_scaler.fit_transform(train_X[numCols])\n",
    "val_num = data_scaler.transform(val_X[numCols])\n",
    "test_num = data_scaler.transform(test_X[numCols])\n",
    "train_num_df = pd.DataFrame(train_num,columns = numCols)[num_select]\n",
    "train_num_df = train_num_df.reset_index(drop=True)\n",
    "val_num_df = pd.DataFrame(val_num,columns = numCols)[num_select]\n",
    "val_num_df = val_num_df.reset_index(drop=True)\n",
    "test_num_df = pd.DataFrame(test_num,columns = numCols)[num_select]\n",
    "test_num_df = test_num_df.reset_index(drop=True)"
   ]
  },
  {
   "cell_type": "code",
   "execution_count": 91,
   "metadata": {},
   "outputs": [],
   "source": [
    "train_cat = train_X[catCols]\n",
    "one_hot = OneHotEncoder(handle_unknown='ignore')\n",
    "one_hot.fit(train_cat)\n",
    "feature_names = [str(i) for i in list(one_hot.get_feature_names())]\n",
    "for i in range(4):\n",
    "    if i == 0:\n",
    "        train_piece = one_hot.transform(train_cat[i*10000:(i+1)*10000]).toarray()[:,inds]\n",
    "        val_piece = one_hot.transform(val_X[catCols]).toarray()[:,inds]\n",
    "        test_piece = one_hot.transform(test_X[catCols]).toarray()[:,inds]    \n",
    "    elif i == 3:\n",
    "        train_piece = np.vstack((train_piece,one_hot.transform(train_cat[30000:]).toarray()[:,inds]))      \n",
    "    else:\n",
    "        train_piece = np.vstack((train_piece,one_hot.transform(train_cat[i*10000:(i+1)*10000]).toarray()[:,inds]))\n",
    "\n",
    "train_cat_df = pd.DataFrame(train_piece,columns = cat_select)\n",
    "val_cat_df = pd.DataFrame(val_piece,columns = cat_select)\n",
    "test_cat_df = pd.DataFrame(test_piece,columns = cat_select)\n",
    "newcatCols = list(train_cat_df.columns)"
   ]
  },
  {
   "cell_type": "code",
   "execution_count": 92,
   "metadata": {},
   "outputs": [],
   "source": [
    "gbtrain_X = pd.concat([train_num_df,train_cat_df],axis = 1)\n",
    "gbval_X = pd.concat([val_num_df,val_cat_df],axis = 1)\n",
    "gbtest_X = pd.concat([test_num_df,test_cat_df],axis = 1)"
   ]
  },
  {
   "cell_type": "code",
   "execution_count": 94,
   "metadata": {},
   "outputs": [
    {
     "name": "stdout",
     "output_type": "stream",
     "text": [
      "Training until validation scores don't improve for 100 rounds.\n",
      "[100]\tvalid_0's binary_logloss: 0.308008\n",
      "[200]\tvalid_0's binary_logloss: 0.308335\n",
      "Early stopping, best iteration is:\n",
      "[166]\tvalid_0's binary_logloss: 0.307262\n",
      "              precision    recall  f1-score   support\n",
      "\n",
      "           0       0.90      0.97      0.93      7361\n",
      "           1       0.71      0.43      0.53      1408\n",
      "\n",
      "   micro avg       0.88      0.88      0.88      8769\n",
      "   macro avg       0.80      0.70      0.73      8769\n",
      "weighted avg       0.87      0.88      0.87      8769\n",
      "\n",
      "0.8583501346160971\n"
     ]
    }
   ],
   "source": [
    "modelS, pred_val_y = run_lgbc(gbtrain_X, train_y, gbval_X, val_y)\n",
    "print(classification_report(val_y, modelS.predict(gbval_X)>0.5))\n",
    "print(roc_auc_score(val_y, modelS.predict(gbval_X)))"
   ]
  },
  {
   "cell_type": "code",
   "execution_count": 95,
   "metadata": {},
   "outputs": [
    {
     "name": "stdout",
     "output_type": "stream",
     "text": [
      "              precision    recall  f1-score   support\n",
      "\n",
      "           0       0.89      0.96      0.92      9119\n",
      "           1       0.68      0.40      0.50      1843\n",
      "\n",
      "   micro avg       0.87      0.87      0.87     10962\n",
      "   macro avg       0.78      0.68      0.71     10962\n",
      "weighted avg       0.85      0.87      0.85     10962\n",
      "\n",
      "0.8485900569410896\n"
     ]
    }
   ],
   "source": [
    "print(classification_report(test_y, modelS.predict(gbtest_X)>0.5))\n",
    "print(roc_auc_score(test_y, modelS.predict(gbtest_X)))"
   ]
  },
  {
   "cell_type": "code",
   "execution_count": 96,
   "metadata": {},
   "outputs": [
    {
     "name": "stdout",
     "output_type": "stream",
     "text": [
      "BorrZip 377\n",
      "CDC_Zip 298\n",
      "ThirdPartyDollars 187\n",
      "GrossApproval 407\n",
      "InitialInterestRate 23\n",
      "TermInMonths 38\n",
      "Borrgsp 371\n",
      "unemploy_bow 258\n",
      "SP500 395\n",
      "borrthird 23\n",
      "borrCDC 16\n",
      "total 305\n",
      "x1_133 5\n",
      "x1_520 6\n",
      "x1_587 12\n",
      "x1_1283 2\n",
      "x1_1607 14\n",
      "x1_2251 6\n",
      "x1_2939 4\n",
      "x1_3071 7\n",
      "x1_3686 5\n",
      "x1_4074 1\n",
      "x1_5272 9\n",
      "x1_5729 10\n",
      "x1_5737 9\n",
      "x1_5744 4\n",
      "x1_6172 8\n",
      "x1_6668 3\n",
      "x2_4 9\n",
      "x2_5 4\n",
      "x2_6 2\n",
      "x2_10 15\n",
      "x2_13 3\n",
      "x2_14 2\n",
      "x2_15 2\n",
      "x2_16 1\n",
      "x2_17 2\n",
      "x2_19 14\n",
      "x2_23 15\n",
      "x2_26 2\n",
      "x2_29 4\n",
      "x2_31 3\n",
      "x2_34 6\n",
      "x2_37 4\n",
      "x2_39 2\n",
      "x2_41 4\n",
      "x2_46 2\n",
      "x2_47 5\n",
      "x2_50 1\n",
      "x2_51 10\n",
      "x3_5 10\n",
      "x3_8 1\n",
      "x3_21 1\n",
      "x3_32 1\n",
      "x3_33 3\n",
      "x3_34 3\n",
      "x3_35 11\n",
      "x3_38 10\n",
      "x3_39 5\n",
      "x3_41 5\n",
      "x3_45 2\n",
      "x3_46 7\n",
      "x3_47 3\n",
      "x3_62 4\n",
      "x3_72 2\n",
      "x3_74 3\n",
      "x3_86 3\n",
      "x3_93 6\n",
      "x3_105 6\n",
      "x3_112 18\n",
      "x3_113 8\n",
      "x3_114 12\n",
      "x3_133 4\n",
      "x3_134 1\n",
      "x3_141 4\n",
      "x3_150 5\n",
      "x3_161 4\n",
      "x3_173 5\n",
      "x3_178 3\n",
      "x3_179 3\n",
      "x3_188 3\n",
      "x3_192 1\n",
      "x3_212 1\n",
      "x3_225 3\n",
      "x3_230 7\n",
      "x3_232 4\n",
      "x3_235 11\n",
      "x3_241 5\n",
      "x3_242 8\n",
      "x3_245 10\n",
      "x3_247 2\n",
      "x3_261 3\n",
      "x3_266 2\n",
      "x4_27 2\n",
      "x4_45 2\n",
      "x4_55 1\n",
      "x4_57 1\n",
      "x4_65 2\n",
      "x4_70 9\n",
      "x4_101 1\n",
      "x4_112 3\n",
      "x4_132 5\n",
      "x4_141 1\n",
      "x4_144 1\n",
      "x4_145 1\n",
      "x4_166 2\n",
      "x4_182 10\n",
      "x4_197 2\n",
      "x4_198 1\n",
      "x4_203 3\n",
      "x4_216 6\n",
      "x4_218 5\n",
      "x4_221 1\n",
      "x4_222 2\n",
      "x4_228 4\n",
      "x4_236 1\n",
      "x4_245 4\n",
      "x4_258 2\n",
      "x4_261 1\n",
      "x4_269 1\n",
      "x4_272 1\n",
      "x4_273 1\n",
      "x4_275 2\n",
      "x4_291 2\n",
      "x4_293 3\n",
      "x4_306 3\n",
      "x5_6 1\n",
      "x5_15 1\n",
      "x5_16 2\n",
      "x5_18 3\n",
      "x5_19 1\n",
      "x5_30 5\n",
      "x5_43 1\n",
      "x5_54 2\n",
      "x5_55 5\n",
      "x5_61 1\n",
      "x5_79 1\n",
      "x5_120 2\n",
      "x5_122 4\n",
      "x5_125 1\n",
      "x5_154 9\n",
      "x5_190 1\n",
      "x5_199 5\n",
      "x5_208 1\n",
      "x5_210 2\n",
      "x5_212 4\n",
      "x5_215 1\n",
      "x5_229 1\n",
      "x5_241 3\n",
      "x5_248 1\n",
      "x5_252 2\n",
      "x6_2 13\n",
      "x6_4 3\n",
      "x6_6 4\n",
      "x6_12 1\n",
      "x6_14 6\n",
      "x6_15 3\n",
      "x6_16 2\n",
      "x6_21 1\n",
      "x6_22 5\n",
      "x6_25 3\n",
      "x6_31 7\n",
      "x6_35 4\n",
      "x6_36 7\n",
      "x6_46 1\n",
      "x6_49 4\n",
      "x7_0 11\n",
      "x7_140 7\n",
      "x7_960 2\n",
      "x7_1030 2\n",
      "x7_1977 1\n",
      "x7_2316 1\n",
      "x7_2383 5\n",
      "x8_0 5\n",
      "x8_126 3\n",
      "x8_251 20\n",
      "x8_298 11\n",
      "x8_339 3\n",
      "x8_792 5\n",
      "x8_809 1\n",
      "x8_1158 1\n",
      "x8_1243 4\n",
      "x8_1248 6\n",
      "x8_1303 14\n",
      "x8_1538 7\n",
      "x9_9 7\n",
      "x9_11 4\n",
      "x9_15 5\n",
      "x9_16 1\n",
      "x9_19 10\n",
      "x9_21 1\n",
      "x9_30 4\n",
      "x9_31 8\n",
      "x9_41 8\n",
      "x9_42 5\n",
      "x9_50 1\n",
      "x9_53 8\n",
      "x9_54 1\n",
      "x9_57 9\n",
      "x10_0 9\n",
      "x10_3 11\n",
      "x10_4 4\n",
      "x10_5 3\n",
      "x10_6 7\n",
      "x10_7 18\n",
      "x10_8 22\n",
      "x10_9 14\n",
      "x10_10 8\n",
      "x10_11 9\n",
      "x10_13 18\n",
      "x10_14 15\n",
      "x10_15 6\n",
      "x10_16 9\n",
      "x10_17 9\n",
      "x10_18 16\n",
      "x10_19 10\n",
      "x10_20 3\n",
      "x10_21 16\n",
      "x11_2 44\n",
      "x12_3 24\n",
      "x13_0 37\n",
      "x13_222 2\n",
      "x13_348 8\n",
      "x13_481 6\n",
      "x13_543 6\n",
      "x13_654 3\n",
      "x13_655 9\n",
      "x13_657 10\n",
      "x13_663 1\n",
      "x13_673 1\n",
      "x13_677 7\n",
      "x13_691 7\n",
      "x13_817 17\n",
      "x13_834 1\n",
      "x13_845 16\n",
      "x13_865 18\n",
      "x13_910 16\n",
      "x13_939 2\n",
      "x13_969 20\n",
      "x13_971 25\n",
      "x13_972 2\n",
      "x13_973 14\n",
      "x13_1002 5\n",
      "x13_1019 7\n",
      "x13_1020 13\n",
      "x13_1022 20\n",
      "x13_1029 29\n",
      "x13_1030 10\n",
      "x13_1036 10\n",
      "x13_1038 1\n",
      "x13_1042 3\n",
      "x13_1045 15\n",
      "x14_122 3\n",
      "x14_142 11\n",
      "x14_160 4\n",
      "x14_187 3\n",
      "x14_274 5\n",
      "x14_335 3\n",
      "x14_370 21\n",
      "x14_373 1\n",
      "x14_378 9\n",
      "x14_426 6\n",
      "x14_442 2\n",
      "x14_459 1\n",
      "x14_483 2\n",
      "x14_493 3\n",
      "x14_505 2\n",
      "x14_556 4\n",
      "x14_573 1\n",
      "x14_584 3\n",
      "x14_615 18\n",
      "x14_618 9\n",
      "x14_621 9\n",
      "x14_624 5\n",
      "x14_950 4\n",
      "x14_1012 5\n",
      "x14_1016 7\n",
      "x14_1049 2\n",
      "x15_15 2\n",
      "x15_47 6\n",
      "x15_120 8\n",
      "x15_123 9\n",
      "x15_169 13\n",
      "x15_230 15\n",
      "x15_294 18\n",
      "x15_335 13\n",
      "x15_338 1\n",
      "x15_374 13\n",
      "x15_377 1\n",
      "x15_387 12\n",
      "x15_404 3\n",
      "x15_436 10\n",
      "x15_440 8\n",
      "x15_466 7\n",
      "x15_470 3\n",
      "x15_498 2\n",
      "x15_602 7\n",
      "x15_618 12\n",
      "x15_630 3\n",
      "x15_688 12\n",
      "x15_709 7\n",
      "x15_721 8\n",
      "x15_730 1\n",
      "x15_755 14\n",
      "x15_758 11\n",
      "x15_814 23\n",
      "x15_848 7\n",
      "x15_899 9\n",
      "x15_900 10\n",
      "x15_924 4\n",
      "x15_928 12\n",
      "x15_955 1\n",
      "x15_991 9\n",
      "x15_1014 11\n",
      "x15_1075 12\n",
      "x15_1086 8\n",
      "x15_1126 7\n",
      "x15_1156 10\n",
      "x15_1167 3\n",
      "x15_1188 4\n",
      "x15_1202 9\n",
      "x15_1214 8\n",
      "x15_1218 5\n",
      "x15_1219 1\n",
      "x15_1220 9\n",
      "x15_1222 9\n",
      "x15_1223 7\n",
      "x15_1226 9\n",
      "x15_1238 9\n",
      "x15_1322 6\n",
      "x16_2 16\n",
      "x16_4 9\n",
      "x16_21 4\n",
      "x16_37 5\n",
      "x16_41 3\n",
      "x16_46 5\n",
      "x16_47 5\n",
      "x16_48 1\n",
      "x17_1 19\n",
      "x17_2 36\n",
      "x17_3 12\n"
     ]
    }
   ],
   "source": [
    "select2 = []\n",
    "fn = modelS.feature_name()\n",
    "fi = list(modelS.feature_importance())\n",
    "for i in range(len(fn)):\n",
    "    if fi[i] != 0:\n",
    "        select2.append(fn[i])\n",
    "        print(fn[i],fi[i])"
   ]
  },
  {
   "cell_type": "code",
   "execution_count": 97,
   "metadata": {},
   "outputs": [
    {
     "data": {
      "text/plain": [
       "341"
      ]
     },
     "execution_count": 97,
     "metadata": {},
     "output_type": "execute_result"
    }
   ],
   "source": [
    "len(select2)"
   ]
  },
  {
   "cell_type": "code",
   "execution_count": 108,
   "metadata": {},
   "outputs": [],
   "source": [
    "cat_names2 = fn[14:]\n",
    "num_select2 = select2[:12]\n",
    "cat_select2 = select2[12:]\n",
    "inds2 = []\n",
    "for i in range(len(cat_select2)):\n",
    "    inds2.append(cat_names2.index(cat_select2[i]))"
   ]
  },
  {
   "cell_type": "markdown",
   "metadata": {},
   "source": [
    "#### Oversampling"
   ]
  },
  {
   "cell_type": "markdown",
   "metadata": {},
   "source": [
    "##### 1. Random Oversampling"
   ]
  },
  {
   "cell_type": "code",
   "execution_count": 36,
   "metadata": {},
   "outputs": [],
   "source": [
    "ros = RandomOverSampler(random_state=0, sampling_strategy = 0.3)\n",
    "X_resampled, y_resampled = ros.fit_resample(train_X, train_y)\n",
    "#X_resampled = pd.DataFrame(X_resampled, columns=train_X.columns)\n"
   ]
  },
  {
   "cell_type": "code",
   "execution_count": 176,
   "metadata": {},
   "outputs": [
    {
     "name": "stdout",
     "output_type": "stream",
     "text": [
      "Training until validation scores don't improve for 100 rounds.\n",
      "[100]\tvalid_0's binary_logloss: 0.316449\n",
      "[200]\tvalid_0's binary_logloss: 0.314093\n",
      "[300]\tvalid_0's binary_logloss: 0.314576\n",
      "Early stopping, best iteration is:\n",
      "[209]\tvalid_0's binary_logloss: 0.313893\n",
      "              precision    recall  f1-score   support\n",
      "\n",
      "           0       0.91      0.94      0.93      7361\n",
      "           1       0.63      0.51      0.56      1408\n",
      "\n",
      "   micro avg       0.87      0.87      0.87      8769\n",
      "   macro avg       0.77      0.73      0.75      8769\n",
      "weighted avg       0.86      0.87      0.87      8769\n",
      "\n",
      "0.8577258756221363\n"
     ]
    }
   ],
   "source": [
    "modelC, pred_val_y = run_lgbc(X_resampled, y_resampled, val_X, val_y)\n",
    "print(classification_report(val_y, modelC.predict(val_X)>0.5))\n",
    "print(roc_auc_score(val_y, modelC.predict(val_X)))"
   ]
  },
  {
   "cell_type": "markdown",
   "metadata": {},
   "source": [
    "##### 2. SMOTE"
   ]
  },
  {
   "cell_type": "code",
   "execution_count": 53,
   "metadata": {},
   "outputs": [],
   "source": [
    "sm = SMOTE(random_state=0, sampling_strategy = 0.3)\n",
    "X_smote, y_smote = sm.fit_resample(train_X, train_y)\n",
    "#X_smote = pd.DataFrame(X_smote, columns=train_X.columns)\n",
    "#print('Original dataset shape %s' % Counter(train_y))\n",
    "#print('SMOTE dataset shape %s' % Counter(y_smote))"
   ]
  },
  {
   "cell_type": "code",
   "execution_count": 189,
   "metadata": {},
   "outputs": [
    {
     "name": "stdout",
     "output_type": "stream",
     "text": [
      "Training until validation scores don't improve for 100 rounds.\n",
      "[100]\tvalid_0's binary_logloss: 0.313906\n",
      "[200]\tvalid_0's binary_logloss: 0.314102\n",
      "Early stopping, best iteration is:\n",
      "[149]\tvalid_0's binary_logloss: 0.312691\n",
      "              precision    recall  f1-score   support\n",
      "\n",
      "           0       0.90      0.96      0.93      7361\n",
      "           1       0.68      0.44      0.53      1408\n",
      "\n",
      "   micro avg       0.88      0.88      0.88      8769\n",
      "   macro avg       0.79      0.70      0.73      8769\n",
      "weighted avg       0.86      0.88      0.87      8769\n",
      "\n",
      "0.853484484414173\n"
     ]
    }
   ],
   "source": [
    "modelC, pred_val_y = run_lgbc(X_smote, y_smote, val_X, val_y)\n",
    "print(classification_report(val_y, modelC.predict(val_X)>0.5))\n",
    "print(roc_auc_score(val_y, modelC.predict(val_X)))"
   ]
  },
  {
   "cell_type": "markdown",
   "metadata": {},
   "source": [
    "### Decision Tree"
   ]
  },
  {
   "cell_type": "code",
   "execution_count": 28,
   "metadata": {},
   "outputs": [
    {
     "name": "stdout",
     "output_type": "stream",
     "text": [
      "{'decisiontreeclassifier__min_samples_split': 8, 'decisiontreeclassifier__min_samples_leaf': 1, 'decisiontreeclassifier__max_features': 7, 'decisiontreeclassifier__max_depth': 6}\n"
     ]
    }
   ],
   "source": [
    "from sklearn.pipeline import make_pipeline\n",
    "from sklearn.tree import DecisionTreeClassifier\n",
    "from sklearn.model_selection import cross_validate\n",
    "pipelines = {\n",
    "    \"dtclass\": make_pipeline(DecisionTreeClassifier(random_state=0))\n",
    "}\n",
    "decisiontree_hyperparameters = {\n",
    "    'decisiontreeclassifier__max_depth' : np.arange(3, 10),\n",
    "    'decisiontreeclassifier__max_features' : np.arange(3, 8),\n",
    "    'decisiontreeclassifier__min_samples_split' : np.arange(2, 15),\n",
    "    \"decisiontreeclassifier__min_samples_leaf\" : np.arange(1,3)\n",
    "}\n",
    "dtclass_model = RandomizedSearchCV(pipelines['dtclass'],decisiontree_hyperparameters,n_iter = 100,cv=3)\n",
    "dtclass_model.fit(train_X, train_y)\n",
    "print(dtclass_model.best_params_)"
   ]
  },
  {
   "cell_type": "code",
   "execution_count": 29,
   "metadata": {},
   "outputs": [
    {
     "name": "stdout",
     "output_type": "stream",
     "text": [
      "              precision    recall  f1-score   support\n",
      "\n",
      "           0       0.89      0.96      0.92      7361\n",
      "           1       0.61      0.36      0.45      1408\n",
      "\n",
      "   micro avg       0.86      0.86      0.86      8769\n",
      "   macro avg       0.75      0.66      0.69      8769\n",
      "weighted avg       0.84      0.86      0.84      8769\n",
      "\n",
      "0.656666719411888\n"
     ]
    }
   ],
   "source": [
    "dtclass_best_model = dtclass_model.best_estimator_.named_steps['decisiontreeclassifier']\n",
    "print(classification_report(val_y, dtclass_best_model.predict(val_X)>0.5))\n",
    "print(roc_auc_score(val_y, dtclass_best_model.predict(val_X)))"
   ]
  },
  {
   "cell_type": "code",
   "execution_count": 30,
   "metadata": {},
   "outputs": [
    {
     "ename": "InvocationException",
     "evalue": "GraphViz's executables not found",
     "output_type": "error",
     "traceback": [
      "\u001b[1;31m---------------------------------------------------------------------------\u001b[0m",
      "\u001b[1;31mInvocationException\u001b[0m                       Traceback (most recent call last)",
      "\u001b[1;32m<ipython-input-30-a7282e58839b>\u001b[0m in \u001b[0;36m<module>\u001b[1;34m\u001b[0m\n\u001b[0;32m     10\u001b[0m \u001b[1;31m#make a graph from dot file\u001b[0m\u001b[1;33m\u001b[0m\u001b[1;33m\u001b[0m\u001b[1;33m\u001b[0m\u001b[0m\n\u001b[0;32m     11\u001b[0m \u001b[0mgraph\u001b[0m \u001b[1;33m=\u001b[0m \u001b[0mpdot\u001b[0m\u001b[1;33m.\u001b[0m\u001b[0mgraph_from_dot_data\u001b[0m\u001b[1;33m(\u001b[0m\u001b[0mdot_data\u001b[0m\u001b[1;33m.\u001b[0m\u001b[0mgetvalue\u001b[0m\u001b[1;33m(\u001b[0m\u001b[1;33m)\u001b[0m\u001b[1;33m)\u001b[0m\u001b[1;33m\u001b[0m\u001b[1;33m\u001b[0m\u001b[0m\n\u001b[1;32m---> 12\u001b[1;33m \u001b[0mImage\u001b[0m\u001b[1;33m(\u001b[0m\u001b[0mgraph\u001b[0m\u001b[1;33m.\u001b[0m\u001b[0mcreate_png\u001b[0m\u001b[1;33m(\u001b[0m\u001b[1;33m)\u001b[0m\u001b[1;33m)\u001b[0m\u001b[1;33m\u001b[0m\u001b[1;33m\u001b[0m\u001b[0m\n\u001b[0m",
      "\u001b[1;32m~\\AppData\\Local\\Continuum\\Anaconda3\\envs\\Tensor\\lib\\site-packages\\pydotplus\\graphviz.py\u001b[0m in \u001b[0;36m<lambda>\u001b[1;34m(f, prog)\u001b[0m\n\u001b[0;32m   1795\u001b[0m             self.__setattr__(\n\u001b[0;32m   1796\u001b[0m                 \u001b[1;34m'create_'\u001b[0m \u001b[1;33m+\u001b[0m \u001b[0mfrmt\u001b[0m\u001b[1;33m,\u001b[0m\u001b[1;33m\u001b[0m\u001b[1;33m\u001b[0m\u001b[0m\n\u001b[1;32m-> 1797\u001b[1;33m                 \u001b[1;32mlambda\u001b[0m \u001b[0mf\u001b[0m\u001b[1;33m=\u001b[0m\u001b[0mfrmt\u001b[0m\u001b[1;33m,\u001b[0m \u001b[0mprog\u001b[0m\u001b[1;33m=\u001b[0m\u001b[0mself\u001b[0m\u001b[1;33m.\u001b[0m\u001b[0mprog\u001b[0m\u001b[1;33m:\u001b[0m \u001b[0mself\u001b[0m\u001b[1;33m.\u001b[0m\u001b[0mcreate\u001b[0m\u001b[1;33m(\u001b[0m\u001b[0mformat\u001b[0m\u001b[1;33m=\u001b[0m\u001b[0mf\u001b[0m\u001b[1;33m,\u001b[0m \u001b[0mprog\u001b[0m\u001b[1;33m=\u001b[0m\u001b[0mprog\u001b[0m\u001b[1;33m)\u001b[0m\u001b[1;33m\u001b[0m\u001b[1;33m\u001b[0m\u001b[0m\n\u001b[0m\u001b[0;32m   1798\u001b[0m             )\n\u001b[0;32m   1799\u001b[0m             \u001b[0mf\u001b[0m \u001b[1;33m=\u001b[0m \u001b[0mself\u001b[0m\u001b[1;33m.\u001b[0m\u001b[0m__dict__\u001b[0m\u001b[1;33m[\u001b[0m\u001b[1;34m'create_'\u001b[0m \u001b[1;33m+\u001b[0m \u001b[0mfrmt\u001b[0m\u001b[1;33m]\u001b[0m\u001b[1;33m\u001b[0m\u001b[1;33m\u001b[0m\u001b[0m\n",
      "\u001b[1;32m~\\AppData\\Local\\Continuum\\Anaconda3\\envs\\Tensor\\lib\\site-packages\\pydotplus\\graphviz.py\u001b[0m in \u001b[0;36mcreate\u001b[1;34m(self, prog, format)\u001b[0m\n\u001b[0;32m   1958\u001b[0m             \u001b[1;32mif\u001b[0m \u001b[0mself\u001b[0m\u001b[1;33m.\u001b[0m\u001b[0mprogs\u001b[0m \u001b[1;32mis\u001b[0m \u001b[1;32mNone\u001b[0m\u001b[1;33m:\u001b[0m\u001b[1;33m\u001b[0m\u001b[1;33m\u001b[0m\u001b[0m\n\u001b[0;32m   1959\u001b[0m                 raise InvocationException(\n\u001b[1;32m-> 1960\u001b[1;33m                     'GraphViz\\'s executables not found')\n\u001b[0m\u001b[0;32m   1961\u001b[0m \u001b[1;33m\u001b[0m\u001b[0m\n\u001b[0;32m   1962\u001b[0m         \u001b[1;32mif\u001b[0m \u001b[0mprog\u001b[0m \u001b[1;32mnot\u001b[0m \u001b[1;32min\u001b[0m \u001b[0mself\u001b[0m\u001b[1;33m.\u001b[0m\u001b[0mprogs\u001b[0m\u001b[1;33m:\u001b[0m\u001b[1;33m\u001b[0m\u001b[1;33m\u001b[0m\u001b[0m\n",
      "\u001b[1;31mInvocationException\u001b[0m: GraphViz's executables not found"
     ]
    }
   ],
   "source": [
    "from sklearn.externals.six import StringIO\n",
    "from IPython.display import Image\n",
    "from sklearn.tree import export_graphviz\n",
    "import pydotplus as pdot\n",
    "#writing the dot data\n",
    "dot_data = StringIO()\n",
    "#export the decision tree along with the feature names into a dot file format\n",
    "export_graphviz(dtclass_best_model,out_file=dot_data,filled=True,special_characters=True,rounded=True,\n",
    "                feature_names=train_X.columns.values,class_names = [\"No\",\"Yes\"])\n",
    "#make a graph from dot file\n",
    "graph = pdot.graph_from_dot_data(dot_data.getvalue())\n",
    "Image(graph.create_png())"
   ]
  },
  {
   "cell_type": "markdown",
   "metadata": {},
   "source": [
    "### Random Forest"
   ]
  },
  {
   "cell_type": "code",
   "execution_count": 51,
   "metadata": {},
   "outputs": [],
   "source": [
    "# Number of trees in random forest\n",
    "n_estimators = [int(x) for x in np.linspace(start = 20, stop = 500, num = 10)]\n",
    "# Number of features to consider at every split\n",
    "max_features = ['auto', 'sqrt']\n",
    "# Maximum number of levels in tree\n",
    "max_depth = [int(x) for x in np.linspace(10, 110, num = 11)]\n",
    "max_depth.append(None)\n",
    "# Minimum number of samples required to split a node\n",
    "min_samples_split = [2, 5, 10]\n",
    "# Minimum number of samples required at each leaf node\n",
    "min_samples_leaf = [1, 2, 4]\n",
    "# Method of selecting samples for training each tree\n",
    "bootstrap = [True, False]\n",
    "# Create the random grid\n",
    "random_grid = {'n_estimators': n_estimators,\n",
    "               'max_features': max_features,\n",
    "               'max_depth': max_depth,\n",
    "               'min_samples_split': min_samples_split,\n",
    "               'min_samples_leaf': min_samples_leaf,\n",
    "               'bootstrap': bootstrap}\n",
    "rf_random = RandomizedSearchCV(estimator = RandomForestClassifier(random_state=0), param_distributions = random_grid, n_iter = 20, cv = 3, verbose=1, random_state=0)\n",
    "rf_random.fit(train_X, train_y)"
   ]
  },
  {
   "cell_type": "code",
   "execution_count": 80,
   "metadata": {},
   "outputs": [
    {
     "name": "stdout",
     "output_type": "stream",
     "text": [
      "{'n_estimators': 446, 'min_samples_split': 10, 'min_samples_leaf': 1, 'max_features': 'auto', 'max_depth': None, 'bootstrap': True}\n"
     ]
    }
   ],
   "source": [
    "print(rf_random.best_params_)"
   ]
  },
  {
   "cell_type": "code",
   "execution_count": 79,
   "metadata": {},
   "outputs": [
    {
     "name": "stdout",
     "output_type": "stream",
     "text": [
      "              precision    recall  f1-score   support\n",
      "\n",
      "           0       0.89      0.97      0.93      7361\n",
      "           1       0.69      0.38      0.49      1408\n",
      "\n",
      "   micro avg       0.87      0.87      0.87      8769\n",
      "   macro avg       0.79      0.68      0.71      8769\n",
      "weighted avg       0.86      0.87      0.86      8769\n",
      "\n",
      "0.6755581280643688\n"
     ]
    }
   ],
   "source": [
    "clf = RandomForestClassifier(n_estimators=500,random_state=0)\n",
    "clf.fit(train_X, train_y)\n",
    "print(classification_report(val_y, clf.predict(val_X)>0.5))\n",
    "print(roc_auc_score(val_y, clf.predict(val_X)))"
   ]
  },
  {
   "cell_type": "markdown",
   "metadata": {},
   "source": [
    "## DNN"
   ]
  },
  {
   "cell_type": "code",
   "execution_count": 54,
   "metadata": {},
   "outputs": [
    {
     "data": {
      "text/plain": [
       "<Figure size 432x288 with 0 Axes>"
      ]
     },
     "metadata": {},
     "output_type": "display_data"
    }
   ],
   "source": [
    "%run DNN_utils.py"
   ]
  },
  {
   "cell_type": "raw",
   "metadata": {},
   "source": [
    "# try to drop features \n",
    "preprocessor = ColumnTransformer(transformers=[('num', StandardScaler(), numCols1)])\n",
    "DNNtrain_X = preprocessor.fit_transform(train_X1)\n",
    "DNNval_X = preprocessor.transform(val_X1)\n",
    "DNNtest_X = preprocessor.transform(test_X1)"
   ]
  },
  {
   "cell_type": "raw",
   "metadata": {},
   "source": [
    "#read your data in, remeber to use one_hot_encoding for your Y, otherwise TF will not work\n",
    "#DNNtrain_X = DNNtrain_X.T.as_matrix()\n",
    "#DNNval_X = DNNval_X.T.as_matrix()\n",
    "DNNtrain_X = DNNtrain_X.T\n",
    "DNNval_X = DNNval_X.T\n",
    "DNNtest_X = DNNtest_X.T\n",
    "DNNtrain_y = np.array(train_y).reshape(1,-1)\n",
    "DNNval_y = np.array(val_y).reshape(1,-1)\n",
    "DNNtest_y = np.array(test_y).reshape(1,-1)\n",
    "DNNtrain_y = convert_to_one_hot(DNNtrain_y, 2)\n",
    "DNNval_y = convert_to_one_hot(DNNval_y, 2)\n",
    "DNNtest_y = convert_to_one_hot(DNNtest_y, 2)"
   ]
  },
  {
   "cell_type": "raw",
   "metadata": {},
   "source": [
    "# drop after one hot \n",
    "DNNtrain_X = gbtrain_X.T.as_matrix()\n",
    "DNNval_X = gbval_X.T.as_matrix()\n",
    "DNNtest_X = gbtest_X.T.as_matrix()\n",
    "DNNtrain_y = np.array(train_y).reshape(1,-1)\n",
    "DNNval_y = np.array(val_y).reshape(1,-1)\n",
    "DNNtest_y = np.array(test_y).reshape(1,-1)\n",
    "DNNtrain_y = convert_to_one_hot(DNNtrain_y, 2)\n",
    "DNNval_y = convert_to_one_hot(DNNval_y, 2)\n",
    "DNNtest_y = convert_to_one_hot(DNNtest_y, 2)"
   ]
  },
  {
   "cell_type": "code",
   "execution_count": 111,
   "metadata": {},
   "outputs": [
    {
     "name": "stderr",
     "output_type": "stream",
     "text": [
      "C:\\Users\\THINKPAD\\AppData\\Roaming\\Python\\Python36\\site-packages\\sklearn\\preprocessing\\data.py:617: DataConversionWarning: Data with input dtype int64, float64 were all converted to float64 by StandardScaler.\n",
      "  return self.partial_fit(X, y)\n",
      "C:\\Users\\THINKPAD\\AppData\\Roaming\\Python\\Python36\\site-packages\\sklearn\\base.py:462: DataConversionWarning: Data with input dtype int64, float64 were all converted to float64 by StandardScaler.\n",
      "  return self.fit(X, **fit_params).transform(X)\n",
      "C:\\Users\\THINKPAD\\AppData\\Local\\Continuum\\Anaconda3\\envs\\Tensor\\lib\\site-packages\\ipykernel_launcher.py:4: DataConversionWarning: Data with input dtype int64, float64 were all converted to float64 by StandardScaler.\n",
      "  after removing the cwd from sys.path.\n",
      "C:\\Users\\THINKPAD\\AppData\\Local\\Continuum\\Anaconda3\\envs\\Tensor\\lib\\site-packages\\ipykernel_launcher.py:5: DataConversionWarning: Data with input dtype int64, float64 were all converted to float64 by StandardScaler.\n",
      "  \"\"\"\n",
      "C:\\Users\\THINKPAD\\AppData\\Local\\Continuum\\Anaconda3\\envs\\Tensor\\lib\\site-packages\\ipykernel_launcher.py:32: FutureWarning: Method .as_matrix will be removed in a future version. Use .values instead.\n",
      "C:\\Users\\THINKPAD\\AppData\\Local\\Continuum\\Anaconda3\\envs\\Tensor\\lib\\site-packages\\ipykernel_launcher.py:33: FutureWarning: Method .as_matrix will be removed in a future version. Use .values instead.\n",
      "C:\\Users\\THINKPAD\\AppData\\Local\\Continuum\\Anaconda3\\envs\\Tensor\\lib\\site-packages\\ipykernel_launcher.py:34: FutureWarning: Method .as_matrix will be removed in a future version. Use .values instead.\n"
     ]
    }
   ],
   "source": [
    "# drop twice after one hot\n",
    "data_scaler = StandardScaler()\n",
    "train_num = data_scaler.fit_transform(train_X[numCols])\n",
    "val_num = data_scaler.transform(val_X[numCols])\n",
    "test_num = data_scaler.transform(test_X[numCols])\n",
    "train_num_df = pd.DataFrame(train_num,columns = numCols)[num_select2]\n",
    "train_num_df = train_num_df.reset_index(drop=True)\n",
    "val_num_df = pd.DataFrame(val_num,columns = numCols)[num_select2]\n",
    "val_num_df = val_num_df.reset_index(drop=True)\n",
    "test_num_df = pd.DataFrame(test_num,columns = numCols)[num_select2]\n",
    "test_num_df = test_num_df.reset_index(drop=True)\n",
    "\n",
    "train_cat = train_X[catCols]\n",
    "one_hot = OneHotEncoder(handle_unknown='ignore')\n",
    "one_hot.fit(train_cat)\n",
    "feature_names = [str(i) for i in list(one_hot.get_feature_names())]\n",
    "for i in range(4):\n",
    "    if i == 0:\n",
    "        train_piece = one_hot.transform(train_cat[i*10000:(i+1)*10000]).toarray()[:,inds2]\n",
    "        val_piece = one_hot.transform(val_X[catCols]).toarray()[:,inds2]\n",
    "        test_piece = one_hot.transform(test_X[catCols]).toarray()[:,inds2]    \n",
    "    elif i == 3:\n",
    "        train_piece = np.vstack((train_piece,one_hot.transform(train_cat[30000:]).toarray()[:,inds2]))      \n",
    "    else:\n",
    "        train_piece = np.vstack((train_piece,one_hot.transform(train_cat[i*10000:(i+1)*10000]).toarray()[:,inds2]))\n",
    "\n",
    "train_cat_df = pd.DataFrame(train_piece,columns = cat_select2)\n",
    "val_cat_df = pd.DataFrame(val_piece,columns = cat_select2)\n",
    "test_cat_df = pd.DataFrame(test_piece,columns = cat_select2)\n",
    "newcatCols = list(train_cat_df.columns)\n",
    "\n",
    "DNNtrain_X = pd.concat([train_num_df,train_cat_df],axis = 1).T.as_matrix()\n",
    "DNNval_X = pd.concat([val_num_df,val_cat_df],axis = 1).T.as_matrix()\n",
    "DNNtest_X = pd.concat([test_num_df,test_cat_df],axis = 1).T.as_matrix()\n",
    "\n",
    "DNNtrain_y = np.array(train_y).reshape(1,-1)\n",
    "DNNval_y = np.array(val_y).reshape(1,-1)\n",
    "DNNtest_y = np.array(test_y).reshape(1,-1)\n",
    "DNNtrain_y = convert_to_one_hot(DNNtrain_y, 2)\n",
    "DNNval_y = convert_to_one_hot(DNNval_y, 2)\n",
    "DNNtest_y = convert_to_one_hot(DNNtest_y, 2)"
   ]
  },
  {
   "cell_type": "raw",
   "metadata": {},
   "source": [
    "data_scaler = StandardScaler()\n",
    "train_num = data_scaler.fit_transform(train_X1[numCols1])\n",
    "val_num = data_scaler.transform(val_X1[numCols1])\n",
    "test_num = data_scaler.transform(test_X1[numCols1])\n",
    "train_num_df = pd.DataFrame(train_num,columns = numCols1)\n",
    "train_num_df.reset_index(inplace=True)\n",
    "val_num_df = pd.DataFrame(val_num,columns = numCols1)\n",
    "val_num_df.reset_index(inplace=True)\n",
    "test_num_df = pd.DataFrame(test_num,columns = numCols1)\n",
    "test_num_df.reset_index(inplace=True)\n",
    "\n",
    "one_hot = OneHotEncoder(handle_unknown='ignore')\n",
    "train_cat = one_hot.fit_transform(train_X1[catCols1]).toarray()\n",
    "train_cat_df.reset_index(inplace=True)\n",
    "val_cat = one_hot.transform(val_X1[catCols1]).toarray()\n",
    "val_cat_df.reset_index(inplace=True)\n",
    "test_cat = one_hot.transform(test_X1[catCols1]).toarray()\n",
    "test_cat_df.reset_index(inplace=True)\n",
    "feature_names = [str(i) for i in list(one_hot.get_feature_names())]\n",
    "train_cat_df = pd.DataFrame(train_cat,columns = feature_names)\n",
    "val_cat_df = pd.DataFrame(val_cat,columns = feature_names)\n",
    "test_cat_df = pd.DataFrame(test_cat,columns = feature_names)\n",
    "newcatCols = list(train_cat_df.columns)\n",
    "\n",
    "DNNtrain_X = pd.concat([train_num_df,train_cat_df],axis = 1)\n",
    "DNNval_X = pd.concat([val_num_df,val_cat_df],axis = 1)\n",
    "DNNtest_X = pd.concat([test_num_df,test_cat_df],axis = 1)"
   ]
  },
  {
   "cell_type": "code",
   "execution_count": 9,
   "metadata": {},
   "outputs": [],
   "source": [
    "# try to drop features \n",
    "#DNNtrain_X = train_X1.T.as_matrix()\n",
    "#DNNval_X = val_X1.T.as_matrix()\n",
    "#DNNtrain_y = np.array(train_y1).reshape(1,-1)\n",
    "#DNNval_y = np.array(val_y1).reshape(1,-1)\n",
    "#DNNtrain_y = convert_to_one_hot(DNNtrain_y, 2)\n",
    "#DNNval_y = convert_to_one_hot(DNNval_y, 2)"
   ]
  },
  {
   "cell_type": "code",
   "execution_count": 112,
   "metadata": {},
   "outputs": [
    {
     "name": "stdout",
     "output_type": "stream",
     "text": [
      "Cost after epoch 0: 2.734376\n",
      "Cost after epoch 100: 0.376210\n",
      "Cost after epoch 200: 0.374670\n",
      "Cost after epoch 300: 0.374188\n",
      "Cost after epoch 400: 0.374704\n"
     ]
    },
    {
     "data": {
      "image/png": "[encoded data removed]",
      "text/plain": [
       "<Figure size 432x288 with 1 Axes>"
      ]
     },
     "metadata": {
      "image/png": {
       "height": 277,
       "width": 387
      },
      "needs_background": "light"
     },
     "output_type": "display_data"
    },
    {
     "name": "stdout",
     "output_type": "stream",
     "text": [
      "Parameters have been trained!\n",
      "Train Accuracy: 0.85257304\n",
      "Test Accuracy: 0.8565401\n"
     ]
    }
   ],
   "source": [
    "num1 = DNNtrain_X.shape[0]\n",
    "parameters = model(DNNtrain_X, DNNtrain_y, DNNval_X, DNNval_y,num=num1,learning_rate = 0.0001, keep_prob=0.9,lamb=0.01,num_epochs = 500, minibatch_size=512, params = [256,128,2])"
   ]
  },
  {
   "cell_type": "code",
   "execution_count": 113,
   "metadata": {},
   "outputs": [
    {
     "data": {
      "text/plain": [
       "0.8175628658717319"
      ]
     },
     "execution_count": 113,
     "metadata": {},
     "output_type": "execute_result"
    }
   ],
   "source": [
    "default_prob = get_probability(parameters, DNNval_X)[1,:]\n",
    "roc_auc_score(DNNval_y[1,:], default_prob)"
   ]
  },
  {
   "cell_type": "code",
   "execution_count": 114,
   "metadata": {},
   "outputs": [
    {
     "data": {
      "text/plain": [
       "0.8119817982726376"
      ]
     },
     "execution_count": 114,
     "metadata": {},
     "output_type": "execute_result"
    }
   ],
   "source": [
    "default_prob = get_probability(parameters, DNNtest_X)[1,:]\n",
    "roc_auc_score(DNNtest_y[1,:], default_prob)"
   ]
  },
  {
   "cell_type": "code",
   "execution_count": 115,
   "metadata": {},
   "outputs": [
    {
     "name": "stdout",
     "output_type": "stream",
     "text": [
      "              precision    recall  f1-score   support\n",
      "\n",
      "         0.0       0.87      0.97      0.92      9119\n",
      "         1.0       0.63      0.26      0.36      1843\n",
      "\n",
      "   micro avg       0.85      0.85      0.85     10962\n",
      "   macro avg       0.75      0.61      0.64     10962\n",
      "weighted avg       0.83      0.85      0.82     10962\n",
      "\n"
     ]
    }
   ],
   "source": [
    "print(classification_report(DNNtest_y[1,:], default_prob>0.5))"
   ]
  },
  {
   "cell_type": "code",
   "execution_count": 175,
   "metadata": {},
   "outputs": [
    {
     "name": "stderr",
     "output_type": "stream",
     "text": [
      "C:\\Users\\THINKPAD\\AppData\\Local\\Continuum\\Anaconda3\\envs\\Tensor\\lib\\site-packages\\ipykernel_launcher.py:3: FutureWarning: Method .as_matrix will be removed in a future version. Use .values instead.\n",
      "  This is separate from the ipykernel package so we can avoid doing imports until\n",
      "C:\\Users\\THINKPAD\\AppData\\Local\\Continuum\\Anaconda3\\envs\\Tensor\\lib\\site-packages\\ipykernel_launcher.py:4: FutureWarning: Method .as_matrix will be removed in a future version. Use .values instead.\n",
      "  after removing the cwd from sys.path.\n"
     ]
    },
    {
     "name": "stdout",
     "output_type": "stream",
     "text": [
      "Cost after epoch 0: 17504.457699\n",
      "Cost after epoch 100: 109.061628\n",
      "Cost after epoch 200: 93.162514\n",
      "Cost after epoch 300: 90.435052\n",
      "Cost after epoch 400: 67.341103\n"
     ]
    },
    {
     "data": {
      "image/png": "[encoded data removed]",
      "text/plain": [
       "<Figure size 432x288 with 1 Axes>"
      ]
     },
     "metadata": {
      "image/png": {
       "height": 277,
       "width": 403
      },
      "needs_background": "light"
     },
     "output_type": "display_data"
    },
    {
     "name": "stdout",
     "output_type": "stream",
     "text": [
      "Parameters have been trained!\n",
      "Train Accuracy: 0.8087812\n",
      "Test Accuracy: 0.8065914\n"
     ]
    }
   ],
   "source": [
    "# cross validation\n",
    "num1 = DNNtrain_X.shape[0]\n",
    "learning_rates = [0.00001,0.0001,0.01,0.1]\n",
    "params_all = [[100,50,2],[128,64,2],[64,32,2],[256,128,2],[256,64,2],[512,256,2],[512,128,2]]\n",
    "keep_probs = [1,0.9,0.8]\n",
    "lambs = [0.01,0.1,1,10]\n",
    "minibatch_sizes = [256,512,1024]\n",
    "epochs = [400,500,600]\n",
    "\n",
    "aucl = []\n",
    "for l in learning_rates:\n",
    "    print('choose learning rate')\n",
    "    print(l)\n",
    "    parameters = model(DNNtrain_X, DNNtrain_y, DNNval_X, DNNval_y,num=num1,learning_rate=l)\n",
    "    default_prob = get_probability(parameters, DNNval_X)[1,:]\n",
    "    auc = roc_auc_score(DNNval_y[1,:], default_prob)\n",
    "    aucl.append(auc)\n",
    "    print(auc)\n",
    "    print('----------------------------')\n",
    "maxaucl = max(aucl)\n",
    "bestl = learning_rates[aucl.index(maxaucl)]\n",
    "print('Best learning rate: {}'.format(bestl))\n",
    "print('Best AUC: {}'.format(maxaucl))\n",
    "\n",
    "auck = []\n",
    "for k in keep_probs:\n",
    "    print('choose dropout prob')\n",
    "    print(k)\n",
    "    parameters = model(DNNtrain_X, DNNtrain_y, DNNval_X, DNNval_y,num=num1,learning_rate = bestl, keep_prob = k)\n",
    "    default_prob = get_probability(parameters, DNNval_X)[1,:]\n",
    "    auc = roc_auc_score(DNNval_y[1,:], default_prob)\n",
    "    auck.append(auc)    \n",
    "    print(auc)\n",
    "    print('----------------------------')\n",
    "maxauck = max(auck)\n",
    "bestk = keep_probs[auck.index(maxauck)]\n",
    "print('Best dropout prob: {}'.format(bestk))\n",
    "print('Best AUC: {}'.format(maxauck))\n",
    "\n",
    "\n",
    "aucp = []\n",
    "for p in params_all:\n",
    "    print('choose # nodes')\n",
    "    print(p)\n",
    "    parameters = model(DNNtrain_X, DNNtrain_y, DNNval_X, DNNval_y,num=num1,learning_rate = bestl, keep_prob = bestk, params = p)\n",
    "    default_prob = get_probability(parameters, DNNval_X)[1,:]\n",
    "    auc = roc_auc_score(DNNval_y[1,:], default_prob)\n",
    "    aucp.append(auc)    \n",
    "    print(auc)\n",
    "    print('----------------------------')    \n",
    "maxaucp = max(aucp)\n",
    "bestp = params_all[aucp.index(maxaucp)]\n",
    "print('Best # nodes: {}'.format(bestp))\n",
    "print('Best AUC: {}'.format(maxaucp))\n",
    "\n",
    "\n",
    "aucla = []    \n",
    "for la in lambs:\n",
    "    print('choose regularization param')\n",
    "    print(la)\n",
    "    parameters = model(DNNtrain_X, DNNtrain_y, DNNval_X, DNNval_y,num=num1,learning_rate = bestl, keep_prob = bestk, lamb = la, params = bestp)\n",
    "    default_prob = get_probability(parameters, DNNval_X)[1,:]\n",
    "    auc = roc_auc_score(DNNval_y[1,:], default_prob)\n",
    "    aucla.append(auc)    \n",
    "    print(auc)\n",
    "    print('----------------------------')\n",
    "maxaucla = max(aucla)\n",
    "bestla = lambs[aucla.index(maxaucla)]\n",
    "print('Best regularization param: {}'.format(bestla))\n",
    "print('Best AUC: {}'.format(maxaucla))\n",
    "\n",
    "aucmi = []\n",
    "for mi in minibatch_sizes:\n",
    "    print('choose minibatch size')\n",
    "    print(mi)\n",
    "    parameters = model(DNNtrain_X, DNNtrain_y, DNNval_X, DNNval_y,num=num1,learning_rate = bestl, keep_prob = bestk, lamb = bestla,minibatch_size = mi, params = bestp)\n",
    "    default_prob = get_probability(parameters, DNNval_X)[1,:]\n",
    "    auc = roc_auc_score(DNNval_y[1,:], default_prob)\n",
    "    aucmi.append(auc)  \n",
    "    print(auc)\n",
    "    print('----------------------------')\n",
    "maxaucmi = max(aucmi)\n",
    "bestmi = minibatch_sizes[aucmi.index(maxaucmi)]\n",
    "print('Best minibatch sizes: {}'.format(bestmi))\n",
    "print('Best AUC: {}'.format(maxaucmi))\n",
    "\n",
    "auce = []\n",
    "for e in epochs:\n",
    "    print('choose # epochs')\n",
    "    print(e)\n",
    "    parameters = model(DNNtrain_X, DNNtrain_y, DNNval_X, DNNval_y,num=num1,learning_rate = bestl, keep_prob = bestk, lamb = bestla,num_epochs = e,minibatch_size = mi, params = bestp)\n",
    "    default_prob = get_probability(parameters, DNNval_X)[1,:]\n",
    "    auc = roc_auc_score(DNNval_y[1,:], default_prob)\n",
    "    auce.append(auc)  \n",
    "    print(auc)\n",
    "    print('----------------------------')\n",
    "maxauce = max(auce)\n",
    "beste = minibatch_sizes[auce.index(maxauce)]\n",
    "print('Best # epochs: {}'.format(beste))\n",
    "print('Best AUC: {}'.format(maxauce))   \n"
   ]
  },
  {
   "cell_type": "code",
   "execution_count": 202,
   "metadata": {},
   "outputs": [
    {
     "data": {
      "text/plain": [
       "[<matplotlib.lines.Line2D at 0x11c78b61ba8>]"
      ]
     },
     "execution_count": 202,
     "metadata": {},
     "output_type": "execute_result"
    },
    {
     "data": {
      "image/png": "[encoded data removed]",
      "text/plain": [
       "<Figure size 360x360 with 1 Axes>"
      ]
     },
     "metadata": {
      "image/png": {
       "height": 304,
       "width": 319
      },
      "needs_background": "light"
     },
     "output_type": "display_data"
    }
   ],
   "source": [
    "default_prob = get_probability(parameters, DNNval_X)[1,:]\n",
    "n = 200\n",
    "TPR = np.zeros((n,1))\n",
    "FPR = np.zeros((n,1))\n",
    "t = np.linspace(0.0, 1.0, n)\n",
    "for i in range(n):\n",
    "    TPR[i,0], FPR[i,0] = get_ROC(default_prob,t[i],DNNval_y[1,:])\n",
    "plt.figure(figsize=(5,5))\n",
    "plt.plot(FPR, TPR)"
   ]
  },
  {
   "cell_type": "code",
   "execution_count": 204,
   "metadata": {},
   "outputs": [
    {
     "data": {
      "text/plain": [
       "0.6163920763297972"
      ]
     },
     "execution_count": 204,
     "metadata": {},
     "output_type": "execute_result"
    }
   ],
   "source": [
    "roc_auc_score(DNNval_y[1,:], default_prob)"
   ]
  },
  {
   "cell_type": "code",
   "execution_count": 200,
   "metadata": {},
   "outputs": [],
   "source": []
  },
  {
   "cell_type": "markdown",
   "metadata": {},
   "source": [
    "## Regression"
   ]
  },
  {
   "cell_type": "code",
   "execution_count": 131,
   "metadata": {},
   "outputs": [],
   "source": [
    "regdata = rawdata[rawdata['target'] == 1]\n",
    "# split the data\n",
    "y_reg = np.log(regdata['GrossChargeOffAmount'].values + 1)\n",
    "X_reg = regdata[numCols+['age']+catCols]\n",
    "train_X_reg, test_X_reg, train_y_reg, test_y_reg = train_test_split(X_reg,y_reg,test_size=0.2,random_state=1)\n",
    "train_X_reg, val_X_reg, train_y_reg, val_y_reg = train_test_split(train_X_reg,train_y_reg,test_size=0.2,random_state=1)\n"
   ]
  },
  {
   "cell_type": "markdown",
   "metadata": {},
   "source": [
    "### Linear Regression"
   ]
  },
  {
   "cell_type": "code",
   "execution_count": 17,
   "metadata": {},
   "outputs": [
    {
     "name": "stderr",
     "output_type": "stream",
     "text": [
      "C:\\Users\\THINKPAD\\AppData\\Roaming\\Python\\Python36\\site-packages\\sklearn\\preprocessing\\data.py:617: DataConversionWarning: Data with input dtype int64, float64 were all converted to float64 by StandardScaler.\n",
      "  return self.partial_fit(X, y)\n",
      "C:\\Users\\THINKPAD\\AppData\\Roaming\\Python\\Python36\\site-packages\\sklearn\\base.py:465: DataConversionWarning: Data with input dtype int64, float64 were all converted to float64 by StandardScaler.\n",
      "  return self.fit(X, y, **fit_params).transform(X)\n"
     ]
    },
    {
     "name": "stdout",
     "output_type": "stream",
     "text": [
      "time: 6.064478635787964\n",
      "4.5751126547079\n"
     ]
    },
    {
     "name": "stderr",
     "output_type": "stream",
     "text": [
      "C:\\Users\\THINKPAD\\AppData\\Roaming\\Python\\Python36\\site-packages\\sklearn\\pipeline.py:451: DataConversionWarning: Data with input dtype int64, float64 were all converted to float64 by StandardScaler.\n",
      "  Xt = transform.transform(Xt)\n"
     ]
    }
   ],
   "source": [
    "starttime = time.time()\n",
    "numeric_transformer = Pipeline(steps=[('scaler', StandardScaler())])\n",
    "categorical_transformer = Pipeline(steps=[('onehot', OneHotEncoder(handle_unknown='ignore'))])\n",
    "preprocessor = ColumnTransformer(transformers=[('num', numeric_transformer, numCols),\n",
    "                                               ('cat', categorical_transformer, catCols)])\n",
    "lr = Pipeline(steps=[('preprocessor', preprocessor),\n",
    "                      ('regressor', LinearRegression())])\n",
    "lr.fit(train_X_reg, train_y_reg)\n",
    "print('time: {}'.format(time.time()-starttime))\n",
    "print(np.sqrt(metrics.mean_squared_error(val_y_reg, lr.predict(val_X_reg))))\n"
   ]
  },
  {
   "cell_type": "markdown",
   "metadata": {},
   "source": [
    "### Lasso"
   ]
  },
  {
   "cell_type": "code",
   "execution_count": 18,
   "metadata": {},
   "outputs": [
    {
     "name": "stdout",
     "output_type": "stream",
     "text": [
      "alpha: 0.01\n"
     ]
    },
    {
     "name": "stderr",
     "output_type": "stream",
     "text": [
      "C:\\Users\\THINKPAD\\AppData\\Roaming\\Python\\Python36\\site-packages\\sklearn\\preprocessing\\data.py:617: DataConversionWarning: Data with input dtype int64, float64 were all converted to float64 by StandardScaler.\n",
      "  return self.partial_fit(X, y)\n",
      "C:\\Users\\THINKPAD\\AppData\\Roaming\\Python\\Python36\\site-packages\\sklearn\\base.py:465: DataConversionWarning: Data with input dtype int64, float64 were all converted to float64 by StandardScaler.\n",
      "  return self.fit(X, y, **fit_params).transform(X)\n",
      "C:\\Users\\THINKPAD\\AppData\\Roaming\\Python\\Python36\\site-packages\\sklearn\\pipeline.py:451: DataConversionWarning: Data with input dtype int64, float64 were all converted to float64 by StandardScaler.\n",
      "  Xt = transform.transform(Xt)\n",
      "C:\\Users\\THINKPAD\\AppData\\Roaming\\Python\\Python36\\site-packages\\sklearn\\preprocessing\\data.py:617: DataConversionWarning: Data with input dtype int64, float64 were all converted to float64 by StandardScaler.\n",
      "  return self.partial_fit(X, y)\n",
      "C:\\Users\\THINKPAD\\AppData\\Roaming\\Python\\Python36\\site-packages\\sklearn\\base.py:465: DataConversionWarning: Data with input dtype int64, float64 were all converted to float64 by StandardScaler.\n",
      "  return self.fit(X, y, **fit_params).transform(X)\n"
     ]
    },
    {
     "name": "stdout",
     "output_type": "stream",
     "text": [
      "3.7500610849647456\n",
      "alpha: 0.05\n"
     ]
    },
    {
     "name": "stderr",
     "output_type": "stream",
     "text": [
      "C:\\Users\\THINKPAD\\AppData\\Roaming\\Python\\Python36\\site-packages\\sklearn\\pipeline.py:451: DataConversionWarning: Data with input dtype int64, float64 were all converted to float64 by StandardScaler.\n",
      "  Xt = transform.transform(Xt)\n",
      "C:\\Users\\THINKPAD\\AppData\\Roaming\\Python\\Python36\\site-packages\\sklearn\\preprocessing\\data.py:617: DataConversionWarning: Data with input dtype int64, float64 were all converted to float64 by StandardScaler.\n",
      "  return self.partial_fit(X, y)\n",
      "C:\\Users\\THINKPAD\\AppData\\Roaming\\Python\\Python36\\site-packages\\sklearn\\base.py:465: DataConversionWarning: Data with input dtype int64, float64 were all converted to float64 by StandardScaler.\n",
      "  return self.fit(X, y, **fit_params).transform(X)\n"
     ]
    },
    {
     "name": "stdout",
     "output_type": "stream",
     "text": [
      "3.8414556965284348\n",
      "alpha: 0.1\n"
     ]
    },
    {
     "name": "stderr",
     "output_type": "stream",
     "text": [
      "C:\\Users\\THINKPAD\\AppData\\Roaming\\Python\\Python36\\site-packages\\sklearn\\pipeline.py:451: DataConversionWarning: Data with input dtype int64, float64 were all converted to float64 by StandardScaler.\n",
      "  Xt = transform.transform(Xt)\n",
      "C:\\Users\\THINKPAD\\AppData\\Roaming\\Python\\Python36\\site-packages\\sklearn\\preprocessing\\data.py:617: DataConversionWarning: Data with input dtype int64, float64 were all converted to float64 by StandardScaler.\n",
      "  return self.partial_fit(X, y)\n",
      "C:\\Users\\THINKPAD\\AppData\\Roaming\\Python\\Python36\\site-packages\\sklearn\\base.py:465: DataConversionWarning: Data with input dtype int64, float64 were all converted to float64 by StandardScaler.\n",
      "  return self.fit(X, y, **fit_params).transform(X)\n"
     ]
    },
    {
     "name": "stdout",
     "output_type": "stream",
     "text": [
      "3.9041104714255614\n",
      "alpha: 0.2\n",
      "3.9346327177956177\n"
     ]
    },
    {
     "name": "stderr",
     "output_type": "stream",
     "text": [
      "C:\\Users\\THINKPAD\\AppData\\Roaming\\Python\\Python36\\site-packages\\sklearn\\pipeline.py:451: DataConversionWarning: Data with input dtype int64, float64 were all converted to float64 by StandardScaler.\n",
      "  Xt = transform.transform(Xt)\n"
     ]
    }
   ],
   "source": [
    "from sklearn.linear_model import Lasso\n",
    "alphas = [0.01,0.05,0.1,0.2]\n",
    "for a in alphas:\n",
    "    print('alpha: {}'.format(a))\n",
    "    lasso = Pipeline(steps=[('preprocessor', preprocessor),\n",
    "                      ('regressor',  Lasso(alpha = a))])\n",
    "    lasso.fit(train_X_reg, train_y_reg)\n",
    "    print(np.sqrt(metrics.mean_squared_error(val_y_reg, lasso.predict(val_X_reg))))\n",
    "    \n"
   ]
  },
  {
   "cell_type": "markdown",
   "metadata": {},
   "source": [
    "### Ridge"
   ]
  },
  {
   "cell_type": "code",
   "execution_count": 20,
   "metadata": {},
   "outputs": [
    {
     "name": "stdout",
     "output_type": "stream",
     "text": [
      "alpha: 0.01\n"
     ]
    },
    {
     "name": "stderr",
     "output_type": "stream",
     "text": [
      "C:\\Users\\THINKPAD\\AppData\\Roaming\\Python\\Python36\\site-packages\\sklearn\\preprocessing\\data.py:617: DataConversionWarning: Data with input dtype int64, float64 were all converted to float64 by StandardScaler.\n",
      "  return self.partial_fit(X, y)\n",
      "C:\\Users\\THINKPAD\\AppData\\Roaming\\Python\\Python36\\site-packages\\sklearn\\base.py:465: DataConversionWarning: Data with input dtype int64, float64 were all converted to float64 by StandardScaler.\n",
      "  return self.fit(X, y, **fit_params).transform(X)\n",
      "C:\\Users\\THINKPAD\\AppData\\Roaming\\Python\\Python36\\site-packages\\sklearn\\pipeline.py:451: DataConversionWarning: Data with input dtype int64, float64 were all converted to float64 by StandardScaler.\n",
      "  Xt = transform.transform(Xt)\n",
      "C:\\Users\\THINKPAD\\AppData\\Roaming\\Python\\Python36\\site-packages\\sklearn\\preprocessing\\data.py:617: DataConversionWarning: Data with input dtype int64, float64 were all converted to float64 by StandardScaler.\n",
      "  return self.partial_fit(X, y)\n",
      "C:\\Users\\THINKPAD\\AppData\\Roaming\\Python\\Python36\\site-packages\\sklearn\\base.py:465: DataConversionWarning: Data with input dtype int64, float64 were all converted to float64 by StandardScaler.\n",
      "  return self.fit(X, y, **fit_params).transform(X)\n"
     ]
    },
    {
     "name": "stdout",
     "output_type": "stream",
     "text": [
      "4.086878903645437\n",
      "alpha: 0.1\n"
     ]
    },
    {
     "name": "stderr",
     "output_type": "stream",
     "text": [
      "C:\\Users\\THINKPAD\\AppData\\Roaming\\Python\\Python36\\site-packages\\sklearn\\pipeline.py:451: DataConversionWarning: Data with input dtype int64, float64 were all converted to float64 by StandardScaler.\n",
      "  Xt = transform.transform(Xt)\n",
      "C:\\Users\\THINKPAD\\AppData\\Roaming\\Python\\Python36\\site-packages\\sklearn\\preprocessing\\data.py:617: DataConversionWarning: Data with input dtype int64, float64 were all converted to float64 by StandardScaler.\n",
      "  return self.partial_fit(X, y)\n",
      "C:\\Users\\THINKPAD\\AppData\\Roaming\\Python\\Python36\\site-packages\\sklearn\\base.py:465: DataConversionWarning: Data with input dtype int64, float64 were all converted to float64 by StandardScaler.\n",
      "  return self.fit(X, y, **fit_params).transform(X)\n"
     ]
    },
    {
     "name": "stdout",
     "output_type": "stream",
     "text": [
      "4.0698949872938694\n",
      "alpha: 0.2\n"
     ]
    },
    {
     "name": "stderr",
     "output_type": "stream",
     "text": [
      "C:\\Users\\THINKPAD\\AppData\\Roaming\\Python\\Python36\\site-packages\\sklearn\\pipeline.py:451: DataConversionWarning: Data with input dtype int64, float64 were all converted to float64 by StandardScaler.\n",
      "  Xt = transform.transform(Xt)\n",
      "C:\\Users\\THINKPAD\\AppData\\Roaming\\Python\\Python36\\site-packages\\sklearn\\preprocessing\\data.py:617: DataConversionWarning: Data with input dtype int64, float64 were all converted to float64 by StandardScaler.\n",
      "  return self.partial_fit(X, y)\n",
      "C:\\Users\\THINKPAD\\AppData\\Roaming\\Python\\Python36\\site-packages\\sklearn\\base.py:465: DataConversionWarning: Data with input dtype int64, float64 were all converted to float64 by StandardScaler.\n",
      "  return self.fit(X, y, **fit_params).transform(X)\n"
     ]
    },
    {
     "name": "stdout",
     "output_type": "stream",
     "text": [
      "4.051964376875495\n",
      "alpha: 0.5\n",
      "4.010343173538338\n"
     ]
    },
    {
     "name": "stderr",
     "output_type": "stream",
     "text": [
      "C:\\Users\\THINKPAD\\AppData\\Roaming\\Python\\Python36\\site-packages\\sklearn\\pipeline.py:451: DataConversionWarning: Data with input dtype int64, float64 were all converted to float64 by StandardScaler.\n",
      "  Xt = transform.transform(Xt)\n"
     ]
    }
   ],
   "source": [
    "alphas = [0.01,0.1,0.2,0.5]\n",
    "for a in alphas:\n",
    "    print('alpha: {}'.format(a))\n",
    "    ridge = Pipeline(steps=[('preprocessor', preprocessor),\n",
    "                      ('regressor',  Ridge(alpha = a))])\n",
    "    ridge.fit(train_X_reg, train_y_reg)\n",
    "    print(np.sqrt(metrics.mean_squared_error(val_y_reg, ridge.predict(val_X_reg))))"
   ]
  },
  {
   "cell_type": "markdown",
   "metadata": {},
   "source": [
    "### Elastic Net"
   ]
  },
  {
   "cell_type": "code",
   "execution_count": 21,
   "metadata": {},
   "outputs": [
    {
     "name": "stdout",
     "output_type": "stream",
     "text": [
      "alpha: 0.01\n",
      "l1 ratio: 0.1\n"
     ]
    },
    {
     "name": "stderr",
     "output_type": "stream",
     "text": [
      "C:\\Users\\THINKPAD\\AppData\\Roaming\\Python\\Python36\\site-packages\\sklearn\\preprocessing\\data.py:617: DataConversionWarning: Data with input dtype int64, float64 were all converted to float64 by StandardScaler.\n",
      "  return self.partial_fit(X, y)\n",
      "C:\\Users\\THINKPAD\\AppData\\Roaming\\Python\\Python36\\site-packages\\sklearn\\base.py:465: DataConversionWarning: Data with input dtype int64, float64 were all converted to float64 by StandardScaler.\n",
      "  return self.fit(X, y, **fit_params).transform(X)\n",
      "C:\\Users\\THINKPAD\\AppData\\Roaming\\Python\\Python36\\site-packages\\sklearn\\pipeline.py:451: DataConversionWarning: Data with input dtype int64, float64 were all converted to float64 by StandardScaler.\n",
      "  Xt = transform.transform(Xt)\n",
      "C:\\Users\\THINKPAD\\AppData\\Roaming\\Python\\Python36\\site-packages\\sklearn\\preprocessing\\data.py:617: DataConversionWarning: Data with input dtype int64, float64 were all converted to float64 by StandardScaler.\n",
      "  return self.partial_fit(X, y)\n",
      "C:\\Users\\THINKPAD\\AppData\\Roaming\\Python\\Python36\\site-packages\\sklearn\\base.py:465: DataConversionWarning: Data with input dtype int64, float64 were all converted to float64 by StandardScaler.\n",
      "  return self.fit(X, y, **fit_params).transform(X)\n"
     ]
    },
    {
     "name": "stdout",
     "output_type": "stream",
     "text": [
      "3.7414271179243483\n",
      "alpha: 0.01\n",
      "l1 ratio: 0.3\n"
     ]
    },
    {
     "name": "stderr",
     "output_type": "stream",
     "text": [
      "C:\\Users\\THINKPAD\\AppData\\Roaming\\Python\\Python36\\site-packages\\sklearn\\pipeline.py:451: DataConversionWarning: Data with input dtype int64, float64 were all converted to float64 by StandardScaler.\n",
      "  Xt = transform.transform(Xt)\n",
      "C:\\Users\\THINKPAD\\AppData\\Roaming\\Python\\Python36\\site-packages\\sklearn\\preprocessing\\data.py:617: DataConversionWarning: Data with input dtype int64, float64 were all converted to float64 by StandardScaler.\n",
      "  return self.partial_fit(X, y)\n",
      "C:\\Users\\THINKPAD\\AppData\\Roaming\\Python\\Python36\\site-packages\\sklearn\\base.py:465: DataConversionWarning: Data with input dtype int64, float64 were all converted to float64 by StandardScaler.\n",
      "  return self.fit(X, y, **fit_params).transform(X)\n"
     ]
    },
    {
     "name": "stdout",
     "output_type": "stream",
     "text": [
      "3.741285881945697\n",
      "alpha: 0.01\n",
      "l1 ratio: 0.5\n"
     ]
    },
    {
     "name": "stderr",
     "output_type": "stream",
     "text": [
      "C:\\Users\\THINKPAD\\AppData\\Roaming\\Python\\Python36\\site-packages\\sklearn\\pipeline.py:451: DataConversionWarning: Data with input dtype int64, float64 were all converted to float64 by StandardScaler.\n",
      "  Xt = transform.transform(Xt)\n",
      "C:\\Users\\THINKPAD\\AppData\\Roaming\\Python\\Python36\\site-packages\\sklearn\\preprocessing\\data.py:617: DataConversionWarning: Data with input dtype int64, float64 were all converted to float64 by StandardScaler.\n",
      "  return self.partial_fit(X, y)\n",
      "C:\\Users\\THINKPAD\\AppData\\Roaming\\Python\\Python36\\site-packages\\sklearn\\base.py:465: DataConversionWarning: Data with input dtype int64, float64 were all converted to float64 by StandardScaler.\n",
      "  return self.fit(X, y, **fit_params).transform(X)\n"
     ]
    },
    {
     "name": "stdout",
     "output_type": "stream",
     "text": [
      "3.7471807791978526\n",
      "alpha: 0.01\n",
      "l1 ratio: 0.7\n"
     ]
    },
    {
     "name": "stderr",
     "output_type": "stream",
     "text": [
      "C:\\Users\\THINKPAD\\AppData\\Roaming\\Python\\Python36\\site-packages\\sklearn\\pipeline.py:451: DataConversionWarning: Data with input dtype int64, float64 were all converted to float64 by StandardScaler.\n",
      "  Xt = transform.transform(Xt)\n",
      "C:\\Users\\THINKPAD\\AppData\\Roaming\\Python\\Python36\\site-packages\\sklearn\\preprocessing\\data.py:617: DataConversionWarning: Data with input dtype int64, float64 were all converted to float64 by StandardScaler.\n",
      "  return self.partial_fit(X, y)\n",
      "C:\\Users\\THINKPAD\\AppData\\Roaming\\Python\\Python36\\site-packages\\sklearn\\base.py:465: DataConversionWarning: Data with input dtype int64, float64 were all converted to float64 by StandardScaler.\n",
      "  return self.fit(X, y, **fit_params).transform(X)\n"
     ]
    },
    {
     "name": "stdout",
     "output_type": "stream",
     "text": [
      "3.7487810636541403\n",
      "alpha: 0.01\n",
      "l1 ratio: 0.9\n"
     ]
    },
    {
     "name": "stderr",
     "output_type": "stream",
     "text": [
      "C:\\Users\\THINKPAD\\AppData\\Roaming\\Python\\Python36\\site-packages\\sklearn\\pipeline.py:451: DataConversionWarning: Data with input dtype int64, float64 were all converted to float64 by StandardScaler.\n",
      "  Xt = transform.transform(Xt)\n",
      "C:\\Users\\THINKPAD\\AppData\\Roaming\\Python\\Python36\\site-packages\\sklearn\\preprocessing\\data.py:617: DataConversionWarning: Data with input dtype int64, float64 were all converted to float64 by StandardScaler.\n",
      "  return self.partial_fit(X, y)\n",
      "C:\\Users\\THINKPAD\\AppData\\Roaming\\Python\\Python36\\site-packages\\sklearn\\base.py:465: DataConversionWarning: Data with input dtype int64, float64 were all converted to float64 by StandardScaler.\n",
      "  return self.fit(X, y, **fit_params).transform(X)\n"
     ]
    },
    {
     "name": "stdout",
     "output_type": "stream",
     "text": [
      "3.749168130769555\n",
      "alpha: 0.05\n",
      "l1 ratio: 0.1\n"
     ]
    },
    {
     "name": "stderr",
     "output_type": "stream",
     "text": [
      "C:\\Users\\THINKPAD\\AppData\\Roaming\\Python\\Python36\\site-packages\\sklearn\\pipeline.py:451: DataConversionWarning: Data with input dtype int64, float64 were all converted to float64 by StandardScaler.\n",
      "  Xt = transform.transform(Xt)\n",
      "C:\\Users\\THINKPAD\\AppData\\Roaming\\Python\\Python36\\site-packages\\sklearn\\preprocessing\\data.py:617: DataConversionWarning: Data with input dtype int64, float64 were all converted to float64 by StandardScaler.\n",
      "  return self.partial_fit(X, y)\n",
      "C:\\Users\\THINKPAD\\AppData\\Roaming\\Python\\Python36\\site-packages\\sklearn\\base.py:465: DataConversionWarning: Data with input dtype int64, float64 were all converted to float64 by StandardScaler.\n",
      "  return self.fit(X, y, **fit_params).transform(X)\n"
     ]
    },
    {
     "name": "stdout",
     "output_type": "stream",
     "text": [
      "3.7950175078509245\n",
      "alpha: 0.05\n",
      "l1 ratio: 0.3\n"
     ]
    },
    {
     "name": "stderr",
     "output_type": "stream",
     "text": [
      "C:\\Users\\THINKPAD\\AppData\\Roaming\\Python\\Python36\\site-packages\\sklearn\\pipeline.py:451: DataConversionWarning: Data with input dtype int64, float64 were all converted to float64 by StandardScaler.\n",
      "  Xt = transform.transform(Xt)\n",
      "C:\\Users\\THINKPAD\\AppData\\Roaming\\Python\\Python36\\site-packages\\sklearn\\preprocessing\\data.py:617: DataConversionWarning: Data with input dtype int64, float64 were all converted to float64 by StandardScaler.\n",
      "  return self.partial_fit(X, y)\n",
      "C:\\Users\\THINKPAD\\AppData\\Roaming\\Python\\Python36\\site-packages\\sklearn\\base.py:465: DataConversionWarning: Data with input dtype int64, float64 were all converted to float64 by StandardScaler.\n",
      "  return self.fit(X, y, **fit_params).transform(X)\n"
     ]
    },
    {
     "name": "stdout",
     "output_type": "stream",
     "text": [
      "3.809850079734908\n",
      "alpha: 0.05\n",
      "l1 ratio: 0.5\n"
     ]
    },
    {
     "name": "stderr",
     "output_type": "stream",
     "text": [
      "C:\\Users\\THINKPAD\\AppData\\Roaming\\Python\\Python36\\site-packages\\sklearn\\pipeline.py:451: DataConversionWarning: Data with input dtype int64, float64 were all converted to float64 by StandardScaler.\n",
      "  Xt = transform.transform(Xt)\n",
      "C:\\Users\\THINKPAD\\AppData\\Roaming\\Python\\Python36\\site-packages\\sklearn\\preprocessing\\data.py:617: DataConversionWarning: Data with input dtype int64, float64 were all converted to float64 by StandardScaler.\n",
      "  return self.partial_fit(X, y)\n",
      "C:\\Users\\THINKPAD\\AppData\\Roaming\\Python\\Python36\\site-packages\\sklearn\\base.py:465: DataConversionWarning: Data with input dtype int64, float64 were all converted to float64 by StandardScaler.\n",
      "  return self.fit(X, y, **fit_params).transform(X)\n"
     ]
    },
    {
     "name": "stdout",
     "output_type": "stream",
     "text": [
      "3.822195123765558\n",
      "alpha: 0.05\n",
      "l1 ratio: 0.7\n"
     ]
    },
    {
     "name": "stderr",
     "output_type": "stream",
     "text": [
      "C:\\Users\\THINKPAD\\AppData\\Roaming\\Python\\Python36\\site-packages\\sklearn\\pipeline.py:451: DataConversionWarning: Data with input dtype int64, float64 were all converted to float64 by StandardScaler.\n",
      "  Xt = transform.transform(Xt)\n",
      "C:\\Users\\THINKPAD\\AppData\\Roaming\\Python\\Python36\\site-packages\\sklearn\\preprocessing\\data.py:617: DataConversionWarning: Data with input dtype int64, float64 were all converted to float64 by StandardScaler.\n",
      "  return self.partial_fit(X, y)\n",
      "C:\\Users\\THINKPAD\\AppData\\Roaming\\Python\\Python36\\site-packages\\sklearn\\base.py:465: DataConversionWarning: Data with input dtype int64, float64 were all converted to float64 by StandardScaler.\n",
      "  return self.fit(X, y, **fit_params).transform(X)\n"
     ]
    },
    {
     "name": "stdout",
     "output_type": "stream",
     "text": [
      "3.834184712647974\n",
      "alpha: 0.05\n",
      "l1 ratio: 0.9\n"
     ]
    },
    {
     "name": "stderr",
     "output_type": "stream",
     "text": [
      "C:\\Users\\THINKPAD\\AppData\\Roaming\\Python\\Python36\\site-packages\\sklearn\\pipeline.py:451: DataConversionWarning: Data with input dtype int64, float64 were all converted to float64 by StandardScaler.\n",
      "  Xt = transform.transform(Xt)\n",
      "C:\\Users\\THINKPAD\\AppData\\Roaming\\Python\\Python36\\site-packages\\sklearn\\preprocessing\\data.py:617: DataConversionWarning: Data with input dtype int64, float64 were all converted to float64 by StandardScaler.\n",
      "  return self.partial_fit(X, y)\n",
      "C:\\Users\\THINKPAD\\AppData\\Roaming\\Python\\Python36\\site-packages\\sklearn\\base.py:465: DataConversionWarning: Data with input dtype int64, float64 were all converted to float64 by StandardScaler.\n",
      "  return self.fit(X, y, **fit_params).transform(X)\n"
     ]
    },
    {
     "name": "stdout",
     "output_type": "stream",
     "text": [
      "3.8391624628361716\n",
      "alpha: 0.1\n",
      "l1 ratio: 0.1\n"
     ]
    },
    {
     "name": "stderr",
     "output_type": "stream",
     "text": [
      "C:\\Users\\THINKPAD\\AppData\\Roaming\\Python\\Python36\\site-packages\\sklearn\\pipeline.py:451: DataConversionWarning: Data with input dtype int64, float64 were all converted to float64 by StandardScaler.\n",
      "  Xt = transform.transform(Xt)\n",
      "C:\\Users\\THINKPAD\\AppData\\Roaming\\Python\\Python36\\site-packages\\sklearn\\preprocessing\\data.py:617: DataConversionWarning: Data with input dtype int64, float64 were all converted to float64 by StandardScaler.\n",
      "  return self.partial_fit(X, y)\n",
      "C:\\Users\\THINKPAD\\AppData\\Roaming\\Python\\Python36\\site-packages\\sklearn\\base.py:465: DataConversionWarning: Data with input dtype int64, float64 were all converted to float64 by StandardScaler.\n",
      "  return self.fit(X, y, **fit_params).transform(X)\n"
     ]
    },
    {
     "name": "stdout",
     "output_type": "stream",
     "text": [
      "3.831637201526958\n",
      "alpha: 0.1\n",
      "l1 ratio: 0.3\n"
     ]
    },
    {
     "name": "stderr",
     "output_type": "stream",
     "text": [
      "C:\\Users\\THINKPAD\\AppData\\Roaming\\Python\\Python36\\site-packages\\sklearn\\pipeline.py:451: DataConversionWarning: Data with input dtype int64, float64 were all converted to float64 by StandardScaler.\n",
      "  Xt = transform.transform(Xt)\n",
      "C:\\Users\\THINKPAD\\AppData\\Roaming\\Python\\Python36\\site-packages\\sklearn\\preprocessing\\data.py:617: DataConversionWarning: Data with input dtype int64, float64 were all converted to float64 by StandardScaler.\n",
      "  return self.partial_fit(X, y)\n",
      "C:\\Users\\THINKPAD\\AppData\\Roaming\\Python\\Python36\\site-packages\\sklearn\\base.py:465: DataConversionWarning: Data with input dtype int64, float64 were all converted to float64 by StandardScaler.\n",
      "  return self.fit(X, y, **fit_params).transform(X)\n"
     ]
    },
    {
     "name": "stdout",
     "output_type": "stream",
     "text": [
      "3.8557644254846424\n",
      "alpha: 0.1\n",
      "l1 ratio: 0.5\n"
     ]
    },
    {
     "name": "stderr",
     "output_type": "stream",
     "text": [
      "C:\\Users\\THINKPAD\\AppData\\Roaming\\Python\\Python36\\site-packages\\sklearn\\pipeline.py:451: DataConversionWarning: Data with input dtype int64, float64 were all converted to float64 by StandardScaler.\n",
      "  Xt = transform.transform(Xt)\n",
      "C:\\Users\\THINKPAD\\AppData\\Roaming\\Python\\Python36\\site-packages\\sklearn\\preprocessing\\data.py:617: DataConversionWarning: Data with input dtype int64, float64 were all converted to float64 by StandardScaler.\n",
      "  return self.partial_fit(X, y)\n",
      "C:\\Users\\THINKPAD\\AppData\\Roaming\\Python\\Python36\\site-packages\\sklearn\\base.py:465: DataConversionWarning: Data with input dtype int64, float64 were all converted to float64 by StandardScaler.\n",
      "  return self.fit(X, y, **fit_params).transform(X)\n"
     ]
    },
    {
     "name": "stdout",
     "output_type": "stream",
     "text": [
      "3.872685596068382\n",
      "alpha: 0.1\n",
      "l1 ratio: 0.7\n"
     ]
    },
    {
     "name": "stderr",
     "output_type": "stream",
     "text": [
      "C:\\Users\\THINKPAD\\AppData\\Roaming\\Python\\Python36\\site-packages\\sklearn\\pipeline.py:451: DataConversionWarning: Data with input dtype int64, float64 were all converted to float64 by StandardScaler.\n",
      "  Xt = transform.transform(Xt)\n",
      "C:\\Users\\THINKPAD\\AppData\\Roaming\\Python\\Python36\\site-packages\\sklearn\\preprocessing\\data.py:617: DataConversionWarning: Data with input dtype int64, float64 were all converted to float64 by StandardScaler.\n",
      "  return self.partial_fit(X, y)\n",
      "C:\\Users\\THINKPAD\\AppData\\Roaming\\Python\\Python36\\site-packages\\sklearn\\base.py:465: DataConversionWarning: Data with input dtype int64, float64 were all converted to float64 by StandardScaler.\n",
      "  return self.fit(X, y, **fit_params).transform(X)\n"
     ]
    },
    {
     "name": "stdout",
     "output_type": "stream",
     "text": [
      "3.887736789290831\n",
      "alpha: 0.1\n",
      "l1 ratio: 0.9\n"
     ]
    },
    {
     "name": "stderr",
     "output_type": "stream",
     "text": [
      "C:\\Users\\THINKPAD\\AppData\\Roaming\\Python\\Python36\\site-packages\\sklearn\\pipeline.py:451: DataConversionWarning: Data with input dtype int64, float64 were all converted to float64 by StandardScaler.\n",
      "  Xt = transform.transform(Xt)\n",
      "C:\\Users\\THINKPAD\\AppData\\Roaming\\Python\\Python36\\site-packages\\sklearn\\preprocessing\\data.py:617: DataConversionWarning: Data with input dtype int64, float64 were all converted to float64 by StandardScaler.\n",
      "  return self.partial_fit(X, y)\n",
      "C:\\Users\\THINKPAD\\AppData\\Roaming\\Python\\Python36\\site-packages\\sklearn\\base.py:465: DataConversionWarning: Data with input dtype int64, float64 were all converted to float64 by StandardScaler.\n",
      "  return self.fit(X, y, **fit_params).transform(X)\n"
     ]
    },
    {
     "name": "stdout",
     "output_type": "stream",
     "text": [
      "3.901569297914125\n",
      "alpha: 0.2\n",
      "l1 ratio: 0.1\n"
     ]
    },
    {
     "name": "stderr",
     "output_type": "stream",
     "text": [
      "C:\\Users\\THINKPAD\\AppData\\Roaming\\Python\\Python36\\site-packages\\sklearn\\pipeline.py:451: DataConversionWarning: Data with input dtype int64, float64 were all converted to float64 by StandardScaler.\n",
      "  Xt = transform.transform(Xt)\n",
      "C:\\Users\\THINKPAD\\AppData\\Roaming\\Python\\Python36\\site-packages\\sklearn\\preprocessing\\data.py:617: DataConversionWarning: Data with input dtype int64, float64 were all converted to float64 by StandardScaler.\n",
      "  return self.partial_fit(X, y)\n",
      "C:\\Users\\THINKPAD\\AppData\\Roaming\\Python\\Python36\\site-packages\\sklearn\\base.py:465: DataConversionWarning: Data with input dtype int64, float64 were all converted to float64 by StandardScaler.\n",
      "  return self.fit(X, y, **fit_params).transform(X)\n"
     ]
    },
    {
     "name": "stdout",
     "output_type": "stream",
     "text": [
      "3.8731845699316736\n",
      "alpha: 0.2\n",
      "l1 ratio: 0.3\n"
     ]
    },
    {
     "name": "stderr",
     "output_type": "stream",
     "text": [
      "C:\\Users\\THINKPAD\\AppData\\Roaming\\Python\\Python36\\site-packages\\sklearn\\pipeline.py:451: DataConversionWarning: Data with input dtype int64, float64 were all converted to float64 by StandardScaler.\n",
      "  Xt = transform.transform(Xt)\n",
      "C:\\Users\\THINKPAD\\AppData\\Roaming\\Python\\Python36\\site-packages\\sklearn\\preprocessing\\data.py:617: DataConversionWarning: Data with input dtype int64, float64 were all converted to float64 by StandardScaler.\n",
      "  return self.partial_fit(X, y)\n",
      "C:\\Users\\THINKPAD\\AppData\\Roaming\\Python\\Python36\\site-packages\\sklearn\\base.py:465: DataConversionWarning: Data with input dtype int64, float64 were all converted to float64 by StandardScaler.\n",
      "  return self.fit(X, y, **fit_params).transform(X)\n"
     ]
    },
    {
     "name": "stdout",
     "output_type": "stream",
     "text": [
      "3.9008854487298072\n",
      "alpha: 0.2\n",
      "l1 ratio: 0.5\n"
     ]
    },
    {
     "name": "stderr",
     "output_type": "stream",
     "text": [
      "C:\\Users\\THINKPAD\\AppData\\Roaming\\Python\\Python36\\site-packages\\sklearn\\pipeline.py:451: DataConversionWarning: Data with input dtype int64, float64 were all converted to float64 by StandardScaler.\n",
      "  Xt = transform.transform(Xt)\n",
      "C:\\Users\\THINKPAD\\AppData\\Roaming\\Python\\Python36\\site-packages\\sklearn\\preprocessing\\data.py:617: DataConversionWarning: Data with input dtype int64, float64 were all converted to float64 by StandardScaler.\n",
      "  return self.partial_fit(X, y)\n",
      "C:\\Users\\THINKPAD\\AppData\\Roaming\\Python\\Python36\\site-packages\\sklearn\\base.py:465: DataConversionWarning: Data with input dtype int64, float64 were all converted to float64 by StandardScaler.\n",
      "  return self.fit(X, y, **fit_params).transform(X)\n"
     ]
    },
    {
     "name": "stdout",
     "output_type": "stream",
     "text": [
      "3.9155463030018947\n",
      "alpha: 0.2\n",
      "l1 ratio: 0.7\n"
     ]
    },
    {
     "name": "stderr",
     "output_type": "stream",
     "text": [
      "C:\\Users\\THINKPAD\\AppData\\Roaming\\Python\\Python36\\site-packages\\sklearn\\pipeline.py:451: DataConversionWarning: Data with input dtype int64, float64 were all converted to float64 by StandardScaler.\n",
      "  Xt = transform.transform(Xt)\n",
      "C:\\Users\\THINKPAD\\AppData\\Roaming\\Python\\Python36\\site-packages\\sklearn\\preprocessing\\data.py:617: DataConversionWarning: Data with input dtype int64, float64 were all converted to float64 by StandardScaler.\n",
      "  return self.partial_fit(X, y)\n",
      "C:\\Users\\THINKPAD\\AppData\\Roaming\\Python\\Python36\\site-packages\\sklearn\\base.py:465: DataConversionWarning: Data with input dtype int64, float64 were all converted to float64 by StandardScaler.\n",
      "  return self.fit(X, y, **fit_params).transform(X)\n"
     ]
    },
    {
     "name": "stdout",
     "output_type": "stream",
     "text": [
      "3.925564179899209\n",
      "alpha: 0.2\n",
      "l1 ratio: 0.9\n",
      "3.9328961747054962\n"
     ]
    },
    {
     "name": "stderr",
     "output_type": "stream",
     "text": [
      "C:\\Users\\THINKPAD\\AppData\\Roaming\\Python\\Python36\\site-packages\\sklearn\\pipeline.py:451: DataConversionWarning: Data with input dtype int64, float64 were all converted to float64 by StandardScaler.\n",
      "  Xt = transform.transform(Xt)\n"
     ]
    }
   ],
   "source": [
    "from sklearn.linear_model import ElasticNet\n",
    "alphas = [0.01,0.05,0.1,0.2]\n",
    "ratios = [0.1,0.3,0.5,0.7,0.9]\n",
    "for a in alphas:\n",
    "    for r in ratios:\n",
    "        print('alpha: {}'.format(a))\n",
    "        print('l1 ratio: {}'.format(r))\n",
    "        elastic = Pipeline(steps=[('preprocessor', preprocessor),\n",
    "                          ('regressor',  ElasticNet(alpha = a,l1_ratio = r))])\n",
    "        elastic.fit(train_X_reg, train_y_reg)\n",
    "        print(np.sqrt(metrics.mean_squared_error(val_y_reg, elastic.predict(val_X_reg))))"
   ]
  },
  {
   "cell_type": "markdown",
   "metadata": {},
   "source": [
    "### LightGBM"
   ]
  },
  {
   "cell_type": "code",
   "execution_count": 129,
   "metadata": {},
   "outputs": [],
   "source": [
    "def run_lgb(train_X, train_y, val_X, val_y):\n",
    "    params = {\n",
    "        \"objective\" : \"regression\",\n",
    "        \"metric\" : \"rmse\", \n",
    "        \"num_leaves\" : 10,\n",
    "        \"min_child_samples\" : 100,\n",
    "        \"learning_rate\" : 0.1,\n",
    "        \"bagging_fraction\" : 0.7,\n",
    "        \"feature_fraction\" : 0.5,\n",
    "        \"bagging_frequency\" : 5,\n",
    "        \"bagging_seed\" : 2018,\n",
    "    }\n",
    "    \n",
    "    lgtrain = lgb.Dataset(train_X, label=train_y)\n",
    "    lgval = lgb.Dataset(val_X, label=val_y)\n",
    "    model = lgb.train(params, lgtrain, 1000, valid_sets=[lgval], early_stopping_rounds=100, verbose_eval=100)\n",
    "    lgb.plot_importance(model)\n",
    "    pred_val_y = model.predict(val_X, num_iteration=model.best_iteration)\n",
    "    return model, pred_val_y\n"
   ]
  },
  {
   "cell_type": "code",
   "execution_count": 132,
   "metadata": {},
   "outputs": [
    {
     "name": "stdout",
     "output_type": "stream",
     "text": [
      "Training until validation scores don't improve for 100 rounds.\n",
      "[100]\tvalid_0's rmse: 2.88639\n",
      "Early stopping, best iteration is:\n",
      "[88]\tvalid_0's rmse: 2.88288\n",
      "time: 0.4996652603149414\n",
      "2.8828768435874177\n"
     ]
    },
    {
     "data": {
      "image/png": "[encoded data removed]",
      "text/plain": [
       "<Figure size 432x288 with 1 Axes>"
      ]
     },
     "metadata": {
      "image/png": {
       "height": 277,
       "width": 493
      },
      "needs_background": "light"
     },
     "output_type": "display_data"
    }
   ],
   "source": [
    "starttime = time.time()\n",
    "modelR, pred_val_y = run_lgb(train_X_reg, train_y_reg, val_X_reg, val_y_reg)\n",
    "print('time: {}'.format(time.time()-starttime))\n",
    "print(np.sqrt(metrics.mean_squared_error(val_y_reg, pred_val_y)))"
   ]
  },
  {
   "cell_type": "code",
   "execution_count": 24,
   "metadata": {},
   "outputs": [
    {
     "name": "stderr",
     "output_type": "stream",
     "text": [
      "C:\\Users\\THINKPAD\\AppData\\Roaming\\Python\\Python36\\site-packages\\sklearn\\preprocessing\\data.py:617: DataConversionWarning: Data with input dtype int64, float64 were all converted to float64 by StandardScaler.\n",
      "  return self.partial_fit(X, y)\n",
      "C:\\Users\\THINKPAD\\AppData\\Roaming\\Python\\Python36\\site-packages\\sklearn\\base.py:465: DataConversionWarning: Data with input dtype int64, float64 were all converted to float64 by StandardScaler.\n",
      "  return self.fit(X, y, **fit_params).transform(X)\n",
      "C:\\Users\\THINKPAD\\AppData\\Roaming\\Python\\Python36\\site-packages\\sklearn\\preprocessing\\data.py:617: DataConversionWarning: Data with input dtype int64, float64 were all converted to float64 by StandardScaler.\n",
      "  return self.partial_fit(X, y)\n",
      "C:\\Users\\THINKPAD\\AppData\\Roaming\\Python\\Python36\\site-packages\\sklearn\\base.py:465: DataConversionWarning: Data with input dtype int64, float64 were all converted to float64 by StandardScaler.\n",
      "  return self.fit(X, y, **fit_params).transform(X)\n"
     ]
    },
    {
     "name": "stdout",
     "output_type": "stream",
     "text": [
      "Training until validation scores don't improve for 100 rounds.\n",
      "[100]\tvalid_0's rmse: 3.89982\n",
      "[200]\tvalid_0's rmse: 3.89179\n",
      "Early stopping, best iteration is:\n",
      "[117]\tvalid_0's rmse: 3.89138\n",
      "3.8913808992771632\n"
     ]
    }
   ],
   "source": [
    "# try to implement with pipeline\n",
    "\n",
    "class LGBM_Regressor:\n",
    "    def fit(self, train_X, train_y):\n",
    "        self.train_X = train_X\n",
    "        self.train_y = train_y\n",
    "        return self\n",
    "    def fit_predict(self,val_X,val_y):\n",
    "        params = {\n",
    "            \"objective\" : \"regression\",\n",
    "            \"metric\" : \"rmse\", \n",
    "            \"num_leaves\" : 10,\n",
    "            \"min_child_samples\" : 100,\n",
    "            \"learning_rate\" : 0.1,\n",
    "            \"bagging_fraction\" : 0.7,\n",
    "            \"feature_fraction\" : 0.5,\n",
    "            \"bagging_frequency\" : 5,\n",
    "            \"bagging_seed\" : 2018,\n",
    "        }\n",
    "\n",
    "        lgtrain = lgb.Dataset(self.train_X, label=self.train_y)\n",
    "        lgval = lgb.Dataset(val_X, label=val_y)\n",
    "        model = lgb.train(params, lgtrain, 1000, valid_sets=[lgval], early_stopping_rounds=100, verbose_eval=100)\n",
    "        pred_val_y = model.predict(val_X, num_iteration=model.best_iteration)\n",
    "        return model, pred_val_y\n",
    "lgbr = Pipeline(steps=[('preprocessor', preprocessor),\n",
    "                  ('regressor',  LGBM_Regressor())])\n",
    "lgbr.fit(train_X_reg,train_y_reg)\n",
    "modelR, pred_val_y = lgbr.fit_predict(val_X_reg, val_y_reg)\n",
    "print(np.sqrt(metrics.mean_squared_error(val_y_reg, pred_val_y)))"
   ]
  },
  {
   "cell_type": "markdown",
   "metadata": {},
   "source": [
    "### Loss Prediction on the Best Model"
   ]
  },
  {
   "cell_type": "code",
   "execution_count": 133,
   "metadata": {},
   "outputs": [],
   "source": [
    "# 1 year\n",
    "samples['age'] = samples['age1']\n",
    "pred_X1 = samples[numCols+['age']+catCols]\n",
    "pred_loss1 = modelR.predict(pred_X1)"
   ]
  },
  {
   "cell_type": "code",
   "execution_count": 135,
   "metadata": {},
   "outputs": [],
   "source": [
    "# 5 year\n",
    "samples['age'] = samples['age5']\n",
    "pred_X5 = samples[numCols+['age']+catCols]\n",
    "pred_loss5 = modelR.predict(pred_X5)"
   ]
  },
  {
   "cell_type": "markdown",
   "metadata": {},
   "source": [
    "### XGboost"
   ]
  },
  {
   "cell_type": "code",
   "execution_count": 25,
   "metadata": {},
   "outputs": [],
   "source": [
    "def run_xgb(X_train, y_train, X_val, y_val):\n",
    "    params = {'objective': 'reg:linear',\n",
    "              'eval_metric': 'rmse',\n",
    "              'eta': 0.001,\n",
    "              'max_depth': 10,\n",
    "              'subsample': 0.6,\n",
    "              'colsample_bytree': 0.6,\n",
    "              'alpha':0.001,\n",
    "              'random_state': 42,\n",
    "              'silent': True}\n",
    "\n",
    "    xgb_train_data = xgb.DMatrix(X_train.values, y_train.values)\n",
    "    xgb_val_data = xgb.DMatrix(X_val.values, y_val.values)\n",
    "    #xgb_submit_data = xgb.DMatrix(X_test)\n",
    "    model = xgb.train(params, xgb_train_data, \n",
    "                      num_boost_round=2000, \n",
    "                      evals= [(xgb_train_data, 'train'), (xgb_val_data, 'valid')],\n",
    "                      early_stopping_rounds=100, \n",
    "                      verbose_eval=500\n",
    "                     )\n",
    "\n",
    "    y_pred_train = model.predict(xgb_train_data, ntree_limit=model.best_ntree_limit)\n",
    "    y_pred_val = model.predict(xgb_val_data, ntree_limit=model.best_ntree_limit)\n",
    "    #y_pred_submit = model.predict(xgb_submit_data, ntree_limit=model.best_ntree_limit)\n",
    "\n",
    "    return model, y_pred_val "
   ]
  },
  {
   "cell_type": "code",
   "execution_count": 26,
   "metadata": {},
   "outputs": [
    {
     "name": "stdout",
     "output_type": "stream",
     "text": [
      "[0]\ttrain-rmse:11.2945\tvalid-rmse:11.1632\n",
      "Multiple eval metrics have been passed: 'valid-rmse' will be used for early stopping.\n",
      "\n",
      "Will train until valid-rmse hasn't improved in 100 rounds.\n",
      "[500]\ttrain-rmse:7.19178\tvalid-rmse:7.2408\n",
      "[1000]\ttrain-rmse:4.74754\tvalid-rmse:5.02485\n",
      "[1500]\ttrain-rmse:3.31761\tvalid-rmse:3.86285\n",
      "[1999]\ttrain-rmse:2.49558\tvalid-rmse:3.30737\n",
      "time: 37.16539120674133\n",
      "3.307369622661809\n"
     ]
    }
   ],
   "source": [
    "starttime = time.time()\n",
    "xgb_model, xgb_preds = run_xgb(train_X_reg, pd.DataFrame(train_y_reg), val_X_reg, pd.DataFrame(val_y_reg))\n",
    "print('time: {}'.format(time.time()-starttime))\n",
    "print(np.sqrt(metrics.mean_squared_error(val_y_reg, xgb_preds)))"
   ]
  },
  {
   "cell_type": "markdown",
   "metadata": {},
   "source": [
    "### DNN Regressor"
   ]
  },
  {
   "cell_type": "code",
   "execution_count": 99,
   "metadata": {},
   "outputs": [
    {
     "name": "stderr",
     "output_type": "stream",
     "text": [
      "C:\\Users\\THINKPAD\\AppData\\Roaming\\Python\\Python36\\site-packages\\sklearn\\preprocessing\\data.py:617: DataConversionWarning: Data with input dtype int64, float64 were all converted to float64 by StandardScaler.\n",
      "  return self.partial_fit(X, y)\n",
      "C:\\Users\\THINKPAD\\AppData\\Local\\Continuum\\Anaconda3\\envs\\Tensor\\lib\\site-packages\\ipykernel_launcher.py:4: DataConversionWarning: Data with input dtype int64, float64 were all converted to float64 by StandardScaler.\n",
      "  after removing the cwd from sys.path.\n",
      "C:\\Users\\THINKPAD\\AppData\\Local\\Continuum\\Anaconda3\\envs\\Tensor\\lib\\site-packages\\ipykernel_launcher.py:5: DataConversionWarning: Data with input dtype int64, float64 were all converted to float64 by StandardScaler.\n",
      "  \"\"\"\n",
      "C:\\Users\\THINKPAD\\AppData\\Local\\Continuum\\Anaconda3\\envs\\Tensor\\lib\\site-packages\\ipykernel_launcher.py:6: DataConversionWarning: Data with input dtype int64, float64 were all converted to float64 by StandardScaler.\n",
      "  \n"
     ]
    }
   ],
   "source": [
    "data_scaler = StandardScaler()\n",
    "train_num_r = train_X_reg[numCols]\n",
    "data_scaler.fit(train_num_r)\n",
    "train_num_r = data_scaler.transform(train_num_r)\n",
    "val_num_r = data_scaler.transform(val_X_reg[numCols])\n",
    "test_num_r = data_scaler.transform(test_X_reg[numCols])\n",
    "train_num_r_df = pd.DataFrame(train_num_r,columns = numCols)\n",
    "train_num_r_df.reset_index(inplace=True)\n",
    "val_num_r_df = pd.DataFrame(val_num_r,columns = numCols)\n",
    "val_num_r_df.reset_index(inplace=True)\n",
    "test_num_r_df = pd.DataFrame(test_num_r,columns = numCols)\n",
    "test_num_r_df.reset_index(inplace=True)"
   ]
  },
  {
   "cell_type": "code",
   "execution_count": 102,
   "metadata": {},
   "outputs": [],
   "source": [
    "one_hot = OneHotEncoder(handle_unknown='ignore')\n",
    "train_cat_r = one_hot.fit_transform(train_X_reg[catCols]).toarray()\n",
    "val_cat_r = one_hot.transform(val_X_reg[catCols]).toarray()\n",
    "test_cat_r = one_hot.transform(test_X_reg[catCols]).toarray()\n",
    "feature_names = [str(i) for i in list(one_hot.get_feature_names())]\n",
    "train_cat_r_df = pd.DataFrame(train_cat_r,columns = feature_names)\n",
    "train_cat_r_df.reset_index(inplace=True)\n",
    "val_cat_r_df = pd.DataFrame(val_cat_r,columns = feature_names)\n",
    "val_cat_r_df.reset_index(inplace=True)\n",
    "test_cat_r_df = pd.DataFrame(test_cat_r,columns = feature_names)\n",
    "test_cat_r_df.reset_index(inplace=True)\n",
    "newcatCols = list(train_cat_r_df.columns)\n",
    "feature_cols = [tf.contrib.layers.real_valued_column(k) for k in numCols+newcatCols]"
   ]
  },
  {
   "cell_type": "code",
   "execution_count": 103,
   "metadata": {},
   "outputs": [],
   "source": [
    "train_dnn_r = pd.concat([train_num_r_df,train_cat_r_df],axis = 1)\n",
    "val_dnn_r = pd.concat([val_num_r_df,val_cat_r_df],axis = 1)\n",
    "test_dnn_r = pd.concat([test_num_r_df,test_cat_r_df],axis = 1)"
   ]
  },
  {
   "cell_type": "code",
   "execution_count": 104,
   "metadata": {},
   "outputs": [
    {
     "data": {
      "text/plain": [
       "(5748, 13309)"
      ]
     },
     "execution_count": 104,
     "metadata": {},
     "output_type": "execute_result"
    }
   ],
   "source": [
    "train_dnn_r.shape"
   ]
  },
  {
   "cell_type": "code",
   "execution_count": 105,
   "metadata": {},
   "outputs": [],
   "source": [
    "train_dnn_r_columns = list(train_dnn_r.columns)\n",
    "train_input_fn = tf.estimator.inputs.numpy_input_fn(\n",
    "    x = {k: train_dnn_r[k].values for k in train_dnn_r_columns},\n",
    "    y = train_y_reg,\n",
    "    batch_size=512,\n",
    "    num_epochs=500,\n",
    "    shuffle=False,\n",
    ")\n",
    "test_input_fn = tf.estimator.inputs.numpy_input_fn(\n",
    "    x = {k: val_dnn_r[k].values for k in train_dnn_r_columns},\n",
    "    y = val_y_reg,\n",
    "    batch_size=512,\n",
    "    num_epochs=500,\n",
    "    shuffle=False\n",
    ")"
   ]
  },
  {
   "cell_type": "code",
   "execution_count": 106,
   "metadata": {},
   "outputs": [
    {
     "name": "stdout",
     "output_type": "stream",
     "text": [
      "INFO:tensorflow:Using default config.\n",
      "WARNING:tensorflow:Using temporary folder as model directory: C:\\Users\\THINKPAD\\AppData\\Local\\Temp\\tmpqo_av6ng\n",
      "INFO:tensorflow:Using config: {'_model_dir': 'C:\\\\Users\\\\THINKPAD\\\\AppData\\\\Local\\\\Temp\\\\tmpqo_av6ng', '_tf_random_seed': None, '_save_summary_steps': 100, '_save_checkpoints_steps': None, '_save_checkpoints_secs': 600, '_session_config': None, '_keep_checkpoint_max': 5, '_keep_checkpoint_every_n_hours': 10000, '_log_step_count_steps': 100, '_service': None, '_cluster_spec': <tensorflow.python.training.server_lib.ClusterSpec object at 0x000001C8EA14F208>, '_task_type': 'worker', '_task_id': 0, '_global_id_in_cluster': 0, '_master': '', '_evaluation_master': '', '_is_chief': True, '_num_ps_replicas': 0, '_num_worker_replicas': 1}\n"
     ]
    }
   ],
   "source": [
    "\n",
    "regressor = tf.estimator.DNNRegressor(feature_columns=feature_cols, \n",
    "                                          hidden_units=[256, 128], \n",
    "                                          #model_dir='./models/dnnregressor'\n",
    "                                     )"
   ]
  },
  {
   "cell_type": "code",
   "execution_count": null,
   "metadata": {},
   "outputs": [
    {
     "name": "stdout",
     "output_type": "stream",
     "text": [
      "INFO:tensorflow:Calling model_fn.\n",
      "INFO:tensorflow:Done calling model_fn.\n",
      "INFO:tensorflow:Create CheckpointSaverHook.\n",
      "INFO:tensorflow:Graph was finalized.\n",
      "INFO:tensorflow:Running local_init_op.\n",
      "INFO:tensorflow:Done running local_init_op.\n"
     ]
    }
   ],
   "source": [
    "regressor.train(input_fn=train_input_fn, steps=10000)"
   ]
  },
  {
   "cell_type": "code",
   "execution_count": null,
   "metadata": {},
   "outputs": [],
   "source": []
  },
  {
   "cell_type": "markdown",
   "metadata": {},
   "source": [
    "## Simulation"
   ]
  },
  {
   "cell_type": "code",
   "execution_count": 139,
   "metadata": {},
   "outputs": [],
   "source": [
    "import random\n",
    "random.seed(0)\n",
    "# year 1\n",
    "allloss1 = []\n",
    "for i in range(1000):\n",
    "    simloss = []\n",
    "    for j in range(500):\n",
    "        rand =random.random()\n",
    "        if rand <= pred_prob1[j]:\n",
    "            simloss.append(pred_loss1[j])\n",
    "        else:\n",
    "            simloss.append(0)\n",
    "    allloss1.append(simloss)\n",
    "sumloss1 = [sum(i) for i in allloss1]"
   ]
  },
  {
   "cell_type": "code",
   "execution_count": 159,
   "metadata": {},
   "outputs": [
    {
     "data": {
      "text/plain": [
       "<matplotlib.axes._subplots.AxesSubplot at 0x2b8181fb5c0>"
      ]
     },
     "execution_count": 159,
     "metadata": {},
     "output_type": "execute_result"
    },
    {
     "data": {
      "image/png": "[encoded data removed]",
      "text/plain": [
       "<Figure size 432x288 with 1 Axes>"
      ]
     },
     "metadata": {
      "image/png": {
       "height": 265,
       "width": 386
      },
      "needs_background": "light"
     },
     "output_type": "display_data"
    }
   ],
   "source": [
    "sns.distplot(sumloss1,bins = 50,axlabel = 'Simulated 1 Year Loss')"
   ]
  },
  {
   "cell_type": "code",
   "execution_count": 161,
   "metadata": {},
   "outputs": [],
   "source": [
    "# year 5\n",
    "allloss5 = []\n",
    "for i in range(1000):\n",
    "    simloss = []\n",
    "    for j in range(500):\n",
    "        rand =random.random()\n",
    "        if rand <= pred_prob5[j]:\n",
    "            simloss.append(pred_loss5[j])\n",
    "        else:\n",
    "            simloss.append(0)\n",
    "    allloss5.append(simloss)\n",
    "sumloss5 = [sum(i) for i in allloss5]"
   ]
  },
  {
   "cell_type": "code",
   "execution_count": 162,
   "metadata": {},
   "outputs": [
    {
     "data": {
      "text/plain": [
       "<matplotlib.axes._subplots.AxesSubplot at 0x2b817b0ba20>"
      ]
     },
     "execution_count": 162,
     "metadata": {},
     "output_type": "execute_result"
    },
    {
     "data": {
      "image/png": "[encoded data removed]",
      "text/plain": [
       "<Figure size 432x288 with 1 Axes>"
      ]
     },
     "metadata": {
      "image/png": {
       "height": 263,
       "width": 386
      },
      "needs_background": "light"
     },
     "output_type": "display_data"
    }
   ],
   "source": [
    "sns.distplot(sumloss5,bins = 50,axlabel = 'Simulated 5 Year Loss')"
   ]
  },
  {
   "cell_type": "code",
   "execution_count": null,
   "metadata": {},
   "outputs": [],
   "source": []
  }
 ],
 "metadata": {
  "kernelspec": {
   "display_name": "Python 3",
   "language": "python",
   "name": "python3"
  },
  "language_info": {
   "codemirror_mode": {
    "name": "ipython",
    "version": 3
   },
   "file_extension": ".py",
   "mimetype": "text/x-python",
   "name": "python",
   "nbconvert_exporter": "python",
   "pygments_lexer": "ipython3",
   "version": "3.6.7"
  }
 },
 "nbformat": 4,
 "nbformat_minor": 2
}
