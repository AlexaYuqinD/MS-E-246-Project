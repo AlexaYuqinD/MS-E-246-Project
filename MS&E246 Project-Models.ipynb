{
 "cells": [
  {
   "cell_type": "code",
   "execution_count": 1,
   "metadata": {},
   "outputs": [],
   "source": [
    "import math\n",
    "import numpy as np\n",
    "import h5py\n",
    "import matplotlib.pyplot as plt\n",
    "import tensorflow as tf\n",
    "import pandas as pd\n",
    "import scipy.io\n",
    "from sklearn import preprocessing\n",
    "from sklearn.preprocessing import StandardScaler, OneHotEncoder\n",
    "from sklearn.model_selection import train_test_split\n",
    "from sklearn.model_selection import RandomizedSearchCV\n",
    "from sklearn import metrics\n",
    "from sklearn.pipeline import Pipeline\n",
    "from sklearn.compose import ColumnTransformer\n",
    "from sklearn.linear_model import LogisticRegression\n",
    "from sklearn.linear_model import LinearRegression\n",
    "from sklearn.linear_model import Lasso\n",
    "from sklearn.linear_model import Ridge\n",
    "from sklearn.linear_model import ElasticNet\n",
    "from sklearn.metrics import classification_report\n",
    "from sklearn.metrics import roc_auc_score\n",
    "from sklearn.ensemble import RandomForestClassifier\n",
    "import lightgbm as lgb\n",
    "import xgboost as xgb\n",
    "import sklearn.datasets\n",
    "import re\n",
    "import seaborn as sns\n",
    "import datetime as dt\n",
    "import time\n",
    "import copy\n",
    "from tensorflow.python.framework import ops\n",
    "from imblearn.over_sampling import RandomOverSampler\n",
    "from imblearn.over_sampling import SMOTE\n",
    "\n",
    "#from DNN_utils import *\n",
    "%matplotlib inline\n",
    "%config InlineBackend.figure_format = 'retina'"
   ]
  },
  {
   "cell_type": "code",
   "execution_count": 2,
   "metadata": {},
   "outputs": [],
   "source": [
    "# read the preprocessed data\n",
    "rawdata = pd.read_csv('raw_data.csv')"
   ]
  },
  {
   "cell_type": "code",
   "execution_count": 3,
   "metadata": {},
   "outputs": [],
   "source": [
    "# split the data\n",
    "#y = list(rawdata['target'])\n",
    "#X = rawdata[numCols+catCols]\n",
    "#train_X, test_X, train_y, test_y = train_test_split(X,y,test_size=0.2,random_state=1)\n",
    "#train_X, val_X, train_y, val_y = train_test_split(train_X,train_y,test_size=0.2,random_state=1)\n"
   ]
  },
  {
   "cell_type": "code",
   "execution_count": 4,
   "metadata": {},
   "outputs": [],
   "source": [
    "# split the data\n",
    "y = list(rawdata['target'])\n",
    "X = rawdata\n",
    "train_X, test_X, train_y, test_y = train_test_split(X,y,test_size=0.2,random_state=1)\n",
    "train_X, val_X, train_y, val_y = train_test_split(train_X,train_y,test_size=0.2,random_state=1)\n",
    "#testdata.to_csv('test.csv')\n"
   ]
  },
  {
   "cell_type": "code",
   "execution_count": 5,
   "metadata": {},
   "outputs": [],
   "source": [
    "catCols = ['BorrName', 'BorrCity', 'BorrState','CDC_Name', 'CDC_Street', 'CDC_City', 'CDC_State', 'ThirdPartyLender_Name', 'ThirdPartyLender_City',\n",
    "       'ThirdPartyLender_State', 'ApprovalFiscalYear', 'DeliveryMethod', 'subpgmdesc','NaicsCode', 'NaicsDescription',\n",
    "       'ProjectCounty', 'ProjectState', 'BusinessType'\n",
    "       ]\n",
    "numCols = ['BorrZip','CDC_Zip','ThirdPartyDollars', 'GrossApproval','InitialInterestRate', 'TermInMonths','Borrgsp','unemploy_bow','unemploy_pro','SP500','borrthird','borrpro','borrCDC','total','termint']\n",
    "\n",
    "train_X = train_X[numCols+catCols]\n",
    "val_X = val_X[numCols+catCols]\n",
    "test_X = test_X[numCols+catCols]"
   ]
  },
  {
   "cell_type": "code",
   "execution_count": 109,
   "metadata": {},
   "outputs": [],
   "source": [
    "# achieved DNN auc 0.81\n",
    "catCols1 = ['BorrCity', 'BorrState','CDC_Name', 'CDC_Street', 'CDC_City', 'CDC_State', 'ThirdPartyLender_Name', 'ThirdPartyLender_City',\n",
    "       'ThirdPartyLender_State', 'ApprovalFiscalYear', 'NaicsCode', 'NaicsDescription',\n",
    "       'ProjectCounty', 'ProjectState', 'BusinessType'\n",
    "       ]\n",
    "numCols1 = ['BorrZip','ThirdPartyDollars', 'GrossApproval','InitialInterestRate', 'TermInMonths','Borrgsp','unemploy_bow','unemploy_pro','SP500','borrCDC','total','termint']\n",
    "\n",
    "train_X1 = train_X[numCols1+catCols1]\n",
    "val_X1 = val_X[numCols1+catCols1]\n",
    "test_X1 = test_X[numCols1+catCols1]\n",
    "\n",
    "train_y1 = copy.deepcopy(train_y)\n",
    "val_y1 = copy.deepcopy(val_y)\n",
    "test_y1 = copy.deepcopy(test_y)\n"
   ]
  },
  {
   "cell_type": "code",
   "execution_count": 51,
   "metadata": {},
   "outputs": [],
   "source": [
    "# still 0.81\n",
    "catCols1 = ['BorrCity', 'BorrState','CDC_Name', 'CDC_Street', 'CDC_City', 'CDC_State', 'ThirdPartyLender_Name', 'ThirdPartyLender_City',\n",
    "       'ThirdPartyLender_State', 'ApprovalFiscalYear', 'NaicsCode', 'NaicsDescription',\n",
    "       'ProjectCounty', 'ProjectState'\n",
    "       ]\n",
    "numCols1 = ['BorrZip','ThirdPartyDollars', 'GrossApproval','InitialInterestRate', 'TermInMonths','Borrgsp','unemploy_bow','unemploy_pro','SP500','borrCDC','total']\n",
    "\n",
    "train_X1 = train_X[numCols1+catCols1]\n",
    "val_X1 = val_X[numCols1+catCols1]\n",
    "test_X1 = test_X[numCols1+catCols1]\n",
    "\n",
    "train_y1 = copy.deepcopy(train_y)\n",
    "val_y1 = copy.deepcopy(val_y)\n",
    "test_y1 = copy.deepcopy(test_y)\n"
   ]
  },
  {
   "cell_type": "code",
   "execution_count": 6,
   "metadata": {},
   "outputs": [],
   "source": [
    "# try to drop features\n",
    "catCols1 = ['BorrCity', 'BorrState','CDC_Name', 'CDC_Street', 'CDC_City', 'CDC_State', 'ThirdPartyLender_Name', 'ThirdPartyLender_City',\n",
    "       'ThirdPartyLender_State', 'ApprovalFiscalYear', 'NaicsCode', 'NaicsDescription',\n",
    "       'ProjectCounty', 'ProjectState'\n",
    "       ]\n",
    "numCols1 = ['BorrZip','ThirdPartyDollars', 'GrossApproval', 'InitialInterestRate','TermInMonths','Borrgsp','unemploy_bow','unemploy_pro','SP500','borrCDC','total']\n",
    "\n",
    "train_X1 = train_X[numCols1+catCols1]\n",
    "val_X1 = val_X[numCols1+catCols1]\n",
    "test_X1 = test_X[numCols1+catCols1]\n",
    "\n",
    "train_y1 = copy.deepcopy(train_y)\n",
    "val_y1 = copy.deepcopy(val_y)\n",
    "test_y1 = copy.deepcopy(test_y)\n"
   ]
  },
  {
   "cell_type": "markdown",
   "metadata": {},
   "source": [
    "## Baseline: Logistic Regression"
   ]
  },
  {
   "cell_type": "code",
   "execution_count": 29,
   "metadata": {},
   "outputs": [
    {
     "name": "stderr",
     "output_type": "stream",
     "text": [
      "C:\\Users\\THINKPAD\\AppData\\Roaming\\Python\\Python36\\site-packages\\sklearn\\preprocessing\\data.py:617: DataConversionWarning: Data with input dtype int64, float64 were all converted to float64 by StandardScaler.\n",
      "  return self.partial_fit(X, y)\n",
      "C:\\Users\\THINKPAD\\AppData\\Roaming\\Python\\Python36\\site-packages\\sklearn\\base.py:465: DataConversionWarning: Data with input dtype int64, float64 were all converted to float64 by StandardScaler.\n",
      "  return self.fit(X, y, **fit_params).transform(X)\n",
      "C:\\Users\\THINKPAD\\AppData\\Roaming\\Python\\Python36\\site-packages\\sklearn\\linear_model\\logistic.py:432: FutureWarning: Default solver will be changed to 'lbfgs' in 0.22. Specify a solver to silence this warning.\n",
      "  FutureWarning)\n",
      "C:\\Users\\THINKPAD\\AppData\\Roaming\\Python\\Python36\\site-packages\\sklearn\\pipeline.py:451: DataConversionWarning: Data with input dtype int64, float64 were all converted to float64 by StandardScaler.\n",
      "  Xt = transform.transform(Xt)\n",
      "C:\\Users\\THINKPAD\\AppData\\Roaming\\Python\\Python36\\site-packages\\sklearn\\pipeline.py:451: DataConversionWarning: Data with input dtype int64, float64 were all converted to float64 by StandardScaler.\n",
      "  Xt = transform.transform(Xt)\n"
     ]
    },
    {
     "name": "stdout",
     "output_type": "stream",
     "text": [
      "model score: 0.872\n",
      "              precision    recall  f1-score   support\n",
      "\n",
      "           0       0.90      0.96      0.93      7361\n",
      "           1       0.66      0.42      0.51      1408\n",
      "\n",
      "   micro avg       0.87      0.87      0.87      8769\n",
      "   macro avg       0.78      0.69      0.72      8769\n",
      "weighted avg       0.86      0.87      0.86      8769\n",
      "\n",
      "0.8471537070370873"
     ]
    },
    {
     "name": "stderr",
     "output_type": "stream",
     "text": [
      "C:\\Users\\THINKPAD\\AppData\\Roaming\\Python\\Python36\\site-packages\\sklearn\\pipeline.py:451: DataConversionWarning: Data with input dtype int64, float64 were all converted to float64 by StandardScaler.\n",
      "  Xt = transform.transform(Xt)\n"
     ]
    },
    {
     "name": "stdout",
     "output_type": "stream",
     "text": [
      "\n"
     ]
    }
   ],
   "source": [
    "# standardization and one-hot encoding\n",
    "numeric_transformer = Pipeline(steps=[('scaler', StandardScaler())])\n",
    "categorical_transformer = Pipeline(steps=[('onehot', OneHotEncoder(handle_unknown='ignore'))])\n",
    "preprocessor = ColumnTransformer(transformers=[('num', numeric_transformer, numCols),\n",
    "                                               ('cat', categorical_transformer, catCols)])\n",
    "clf = Pipeline(steps=[('preprocessor', preprocessor),\n",
    "                      ('classifier', LogisticRegression())])\n",
    "\n",
    "clf.fit(train_X, train_y)\n",
    "print(\"model score: %.3f\" % clf.score(val_X, val_y))\n",
    "print(classification_report(val_y, clf.predict(val_X)))\n",
    "print(roc_auc_score(val_y, clf.predict_proba(val_X)[:,1]))"
   ]
  },
  {
   "cell_type": "code",
   "execution_count": null,
   "metadata": {},
   "outputs": [],
   "source": [
    "print(\"model score: %.3f\" % clf.score(test_X, test_y))\n",
    "print(classification_report(test_y, clf.predict(test_X)))"
   ]
  },
  {
   "cell_type": "code",
   "execution_count": 30,
   "metadata": {},
   "outputs": [
    {
     "name": "stderr",
     "output_type": "stream",
     "text": [
      "C:\\Users\\THINKPAD\\AppData\\Roaming\\Python\\Python36\\site-packages\\sklearn\\pipeline.py:451: DataConversionWarning: Data with input dtype int64, float64 were all converted to float64 by StandardScaler.\n",
      "  Xt = transform.transform(Xt)\n"
     ]
    },
    {
     "name": "stdout",
     "output_type": "stream",
     "text": [
      "0.8471537070370873\n"
     ]
    },
    {
     "data": {
      "image/png": "[encoded data removed]",
      "text/plain": [
       "<Figure size 432x288 with 1 Axes>"
      ]
     },
     "metadata": {
      "image/png": {
       "height": 277,
       "width": 393
      },
      "needs_background": "light"
     },
     "output_type": "display_data"
    }
   ],
   "source": [
    "# ROC_AUC curve for logistic regression\n",
    "probs = clf.predict_proba(val_X)\n",
    "preds = probs[:,1]\n",
    "fpr, tpr, threshold = metrics.roc_curve(val_y, preds)\n",
    "roc_auc = metrics.auc(fpr, tpr)\n",
    "print(roc_auc)\n",
    "\n",
    "plt.title('Receiver Operating Characteristic')\n",
    "plt.plot(fpr, tpr, 'b', label = 'AUC = %0.2f' % roc_auc)\n",
    "plt.legend(loc = 'lower right')\n",
    "plt.plot([0, 1], [0, 1],'r--')\n",
    "plt.xlim([0, 1])\n",
    "plt.ylim([0, 1])\n",
    "plt.ylabel('True Positive Rate')\n",
    "plt.xlabel('False Positive Rate')\n",
    "plt.show()"
   ]
  },
  {
   "cell_type": "markdown",
   "metadata": {},
   "source": [
    "### Logistic Regression with Regularization"
   ]
  },
  {
   "cell_type": "markdown",
   "metadata": {},
   "source": [
    "#### L1"
   ]
  },
  {
   "cell_type": "code",
   "execution_count": 28,
   "metadata": {},
   "outputs": [
    {
     "name": "stderr",
     "output_type": "stream",
     "text": [
      "C:\\Users\\THINKPAD\\AppData\\Roaming\\Python\\Python36\\site-packages\\sklearn\\preprocessing\\data.py:617: DataConversionWarning: Data with input dtype int64, float64 were all converted to float64 by StandardScaler.\n",
      "  return self.partial_fit(X, y)\n",
      "C:\\Users\\THINKPAD\\AppData\\Roaming\\Python\\Python36\\site-packages\\sklearn\\base.py:465: DataConversionWarning: Data with input dtype int64, float64 were all converted to float64 by StandardScaler.\n",
      "  return self.fit(X, y, **fit_params).transform(X)\n",
      "C:\\Users\\THINKPAD\\AppData\\Roaming\\Python\\Python36\\site-packages\\sklearn\\linear_model\\logistic.py:432: FutureWarning: Default solver will be changed to 'lbfgs' in 0.22. Specify a solver to silence this warning.\n",
      "  FutureWarning)\n",
      "C:\\Users\\THINKPAD\\AppData\\Roaming\\Python\\Python36\\site-packages\\sklearn\\pipeline.py:451: DataConversionWarning: Data with input dtype int64, float64 were all converted to float64 by StandardScaler.\n",
      "  Xt = transform.transform(Xt)\n",
      "C:\\Users\\THINKPAD\\AppData\\Roaming\\Python\\Python36\\site-packages\\sklearn\\pipeline.py:451: DataConversionWarning: Data with input dtype int64, float64 were all converted to float64 by StandardScaler.\n",
      "  Xt = transform.transform(Xt)\n"
     ]
    },
    {
     "name": "stdout",
     "output_type": "stream",
     "text": [
      "model score: 0.872\n",
      "              precision    recall  f1-score   support\n",
      "\n",
      "           0       0.90      0.96      0.93      7361\n",
      "           1       0.66      0.41      0.51      1408\n",
      "\n",
      "   micro avg       0.87      0.87      0.87      8769\n",
      "   macro avg       0.78      0.69      0.72      8769\n",
      "weighted avg       0.86      0.87      0.86      8769\n",
      "\n",
      "0.8458228872065306\n"
     ]
    },
    {
     "name": "stderr",
     "output_type": "stream",
     "text": [
      "C:\\Users\\THINKPAD\\AppData\\Roaming\\Python\\Python36\\site-packages\\sklearn\\pipeline.py:451: DataConversionWarning: Data with input dtype int64, float64 were all converted to float64 by StandardScaler.\n",
      "  Xt = transform.transform(Xt)\n"
     ]
    }
   ],
   "source": [
    "from sklearn.feature_selection import SelectKBest\n",
    "numeric_transformer = Pipeline(steps=[('scaler', StandardScaler())])\n",
    "categorical_transformer = Pipeline(steps=[('onehot', OneHotEncoder(handle_unknown='ignore'))])\n",
    "preprocessor = ColumnTransformer(transformers=[('num', numeric_transformer, numCols),\n",
    "                                               ('cat', categorical_transformer, catCols)])\n",
    "clf = Pipeline(steps=[('preprocessor', preprocessor),\n",
    "                      ('classifier', LogisticRegression(penalty='l1'))])\n",
    "\n",
    "clf.fit(train_X, train_y)\n",
    "print(\"model score: %.3f\" % clf.score(val_X, val_y))\n",
    "print(classification_report(val_y, clf.predict(val_X)))\n",
    "print(roc_auc_score(val_y, clf.predict_proba(val_X)[:,1]))"
   ]
  },
  {
   "cell_type": "code",
   "execution_count": null,
   "metadata": {},
   "outputs": [],
   "source": [
    "print(\"model score: %.3f\" % clf.score(test_X, test_y))\n",
    "print(classification_report(test_y, clf.predict(test_X)))"
   ]
  },
  {
   "cell_type": "markdown",
   "metadata": {},
   "source": [
    "### Select Features after One-Hot"
   ]
  },
  {
   "cell_type": "code",
   "execution_count": 29,
   "metadata": {},
   "outputs": [],
   "source": [
    "def get_column_names_from_ColumnTransformer(column_transformer):    \n",
    "    col_name = []\n",
    "    for transformer_in_columns in column_transformer.transformers_[:]:#the last transformer is ColumnTransformer's 'remainder'\n",
    "        raw_col_name = transformer_in_columns[2]\n",
    "        if isinstance(transformer_in_columns[1],Pipeline): \n",
    "            transformer = transformer_in_columns[1].steps[-1][1]\n",
    "        else:\n",
    "            transformer = transformer_in_columns[1]\n",
    "        try:\n",
    "            names = transformer.get_feature_names()\n",
    "        except AttributeError: # if no 'get_feature_names' function, use raw column name\n",
    "            names = raw_col_name\n",
    "        if isinstance(names,np.ndarray): # eg.\n",
    "            col_name += names.tolist()\n",
    "        elif isinstance(names,list):\n",
    "            col_name += names    \n",
    "        elif isinstance(names,str):\n",
    "            col_name.append(names)\n",
    "    return col_name\n"
   ]
  },
  {
   "cell_type": "code",
   "execution_count": 30,
   "metadata": {},
   "outputs": [
    {
     "data": {
      "text/plain": [
       "2380"
      ]
     },
     "execution_count": 30,
     "metadata": {},
     "output_type": "execute_result"
    }
   ],
   "source": [
    "coef = clf.named_steps['classifier'].coef_\n",
    "feature_names = get_column_names_from_ColumnTransformer(clf.named_steps['preprocessor'])\n",
    "for i in range(len(feature_names)):\n",
    "    if feature_names[i][0] == 'x':\n",
    "        flag = i\n",
    "        break\n",
    "cat_names = feature_names[flag:]\n",
    "select = []\n",
    "for i in range(coef.shape[1]):\n",
    "    if coef[0,i] != 0:\n",
    "        select.append(i)\n",
    "select_features = [feature_names[i] for i in select]\n",
    "len(select_features)"
   ]
  },
  {
   "cell_type": "code",
   "execution_count": 31,
   "metadata": {},
   "outputs": [],
   "source": [
    "#clf.named_steps['preprocessor'].named_transformers_['cat'].named_steps['onehot'].get_feature_names()"
   ]
  },
  {
   "cell_type": "code",
   "execution_count": 32,
   "metadata": {},
   "outputs": [],
   "source": [
    "for i in range(len(select_features)):\n",
    "    if select_features[i][0] == 'x':\n",
    "        flag = i\n",
    "        break"
   ]
  },
  {
   "cell_type": "code",
   "execution_count": 33,
   "metadata": {},
   "outputs": [],
   "source": [
    "num_select = select_features[:flag]\n",
    "cat_select = select_features[flag:]\n",
    "inds = []\n",
    "for i in range(len(cat_select)):\n",
    "    inds.append(cat_names.index(cat_select[i]))"
   ]
  },
  {
   "cell_type": "markdown",
   "metadata": {},
   "source": [
    "#### L2"
   ]
  },
  {
   "cell_type": "code",
   "execution_count": 151,
   "metadata": {},
   "outputs": [
    {
     "name": "stderr",
     "output_type": "stream",
     "text": [
      "C:\\Users\\THINKPAD\\AppData\\Roaming\\Python\\Python36\\site-packages\\sklearn\\preprocessing\\data.py:617: DataConversionWarning: Data with input dtype int64, float64 were all converted to float64 by StandardScaler.\n",
      "  return self.partial_fit(X, y)\n",
      "C:\\Users\\THINKPAD\\AppData\\Roaming\\Python\\Python36\\site-packages\\sklearn\\base.py:465: DataConversionWarning: Data with input dtype int64, float64 were all converted to float64 by StandardScaler.\n",
      "  return self.fit(X, y, **fit_params).transform(X)\n",
      "C:\\Users\\THINKPAD\\AppData\\Roaming\\Python\\Python36\\site-packages\\sklearn\\linear_model\\logistic.py:432: FutureWarning: Default solver will be changed to 'lbfgs' in 0.22. Specify a solver to silence this warning.\n",
      "  FutureWarning)\n",
      "C:\\Users\\THINKPAD\\AppData\\Roaming\\Python\\Python36\\site-packages\\sklearn\\pipeline.py:451: DataConversionWarning: Data with input dtype int64, float64 were all converted to float64 by StandardScaler.\n",
      "  Xt = transform.transform(Xt)\n",
      "C:\\Users\\THINKPAD\\AppData\\Roaming\\Python\\Python36\\site-packages\\sklearn\\pipeline.py:451: DataConversionWarning: Data with input dtype int64, float64 were all converted to float64 by StandardScaler.\n",
      "  Xt = transform.transform(Xt)\n",
      "C:\\Users\\THINKPAD\\AppData\\Roaming\\Python\\Python36\\site-packages\\sklearn\\pipeline.py:451: DataConversionWarning: Data with input dtype int64, float64 were all converted to float64 by StandardScaler.\n",
      "  Xt = transform.transform(Xt)\n"
     ]
    },
    {
     "name": "stdout",
     "output_type": "stream",
     "text": [
      "model score: 0.872\n",
      "              precision    recall  f1-score   support\n",
      "\n",
      "           0       0.90      0.96      0.93      7361\n",
      "           1       0.66      0.42      0.51      1408\n",
      "\n",
      "   micro avg       0.87      0.87      0.87      8769\n",
      "   macro avg       0.78      0.69      0.72      8769\n",
      "weighted avg       0.86      0.87      0.86      8769\n",
      "\n",
      "0.8475466910992825\n"
     ]
    }
   ],
   "source": [
    "clf = Pipeline(steps=[('preprocessor', preprocessor),\n",
    "                      ('classifier', LogisticRegression(penalty='l2'))])\n",
    "\n",
    "clf.fit(train_X, train_y)\n",
    "print(\"model score: %.3f\" % clf.score(val_X, val_y))\n",
    "print(classification_report(val_y, clf.predict(val_X)))\n",
    "print(roc_auc_score(val_y, clf.predict_proba(val_X)[:,1]))"
   ]
  },
  {
   "cell_type": "markdown",
   "metadata": {},
   "source": [
    "## Tree Models"
   ]
  },
  {
   "cell_type": "markdown",
   "metadata": {},
   "source": [
    "### Gradient Boosting"
   ]
  },
  {
   "cell_type": "code",
   "execution_count": 12,
   "metadata": {},
   "outputs": [],
   "source": [
    "def run_lgbc(train_X, train_y, val_X, val_y):\n",
    "    params = {\n",
    "        \"objective\" : \"binary\",\n",
    "        \"metric\" : \"binary_logloss\", \n",
    "        \"num_leaves\" : 30,\n",
    "        \"min_child_samples\" : 100,\n",
    "        \"learning_rate\" : 0.1,\n",
    "        \"bagging_fraction\" : 0.7,\n",
    "        \"feature_fraction\" : 0.5,\n",
    "        \"bagging_frequency\" : 5,\n",
    "        \"bagging_seed\" : 2018,\n",
    "    }\n",
    "    \n",
    "    lgtrain = lgb.Dataset(train_X, label=train_y)\n",
    "    lgval = lgb.Dataset(val_X, label=val_y)\n",
    "    model = lgb.train(params, lgtrain, 1000, valid_sets=[lgval], early_stopping_rounds=100, verbose_eval=100)\n",
    "\n",
    "    pred_val_y = model.predict(val_X, num_iteration=model.best_iteration)\n",
    "    return model, pred_val_y\n"
   ]
  },
  {
   "cell_type": "code",
   "execution_count": 13,
   "metadata": {},
   "outputs": [
    {
     "name": "stdout",
     "output_type": "stream",
     "text": [
      "Training until validation scores don't improve for 100 rounds.\n",
      "[100]\tvalid_0's binary_logloss: 0.314329\n",
      "[200]\tvalid_0's binary_logloss: 0.314977\n",
      "Early stopping, best iteration is:\n",
      "[101]\tvalid_0's binary_logloss: 0.314247\n",
      "              precision    recall  f1-score   support\n",
      "\n",
      "           0       0.90      0.96      0.93      7344\n",
      "           1       0.66      0.42      0.51      1411\n",
      "\n",
      "   micro avg       0.87      0.87      0.87      8755\n",
      "   macro avg       0.78      0.69      0.72      8755\n",
      "weighted avg       0.86      0.87      0.86      8755\n",
      "\n",
      "0.8529489932046526\n"
     ]
    }
   ],
   "source": [
    "modelC, pred_val_y = run_lgbc(train_X, train_y, val_X, val_y)\n",
    "print(classification_report(val_y, modelC.predict(val_X)>0.5))\n",
    "print(roc_auc_score(val_y, modelC.predict(val_X)))"
   ]
  },
  {
   "cell_type": "code",
   "execution_count": 14,
   "metadata": {},
   "outputs": [
    {
     "name": "stdout",
     "output_type": "stream",
     "text": [
      "              precision    recall  f1-score   support\n",
      "\n",
      "           0       0.89      0.96      0.93      9160\n",
      "           1       0.68      0.40      0.50      1783\n",
      "\n",
      "   micro avg       0.87      0.87      0.87     10943\n",
      "   macro avg       0.78      0.68      0.71     10943\n",
      "weighted avg       0.86      0.87      0.86     10943\n",
      "\n",
      "0.8554091651624881\n"
     ]
    }
   ],
   "source": [
    "print(classification_report(test_y, modelC.predict(test_X)>0.5))\n",
    "print(roc_auc_score(test_y, modelC.predict(test_X)))"
   ]
  },
  {
   "cell_type": "code",
   "execution_count": 15,
   "metadata": {},
   "outputs": [
    {
     "data": {
      "text/plain": [
       "<matplotlib.axes._subplots.AxesSubplot at 0x2bd3f8607b8>"
      ]
     },
     "execution_count": 15,
     "metadata": {},
     "output_type": "execute_result"
    },
    {
     "data": {
      "image/png": "[encoded data removed]",
      "text/plain": [
       "<Figure size 432x288 with 1 Axes>"
      ]
     },
     "metadata": {
      "image/png": {
       "height": 277,
       "width": 493
      },
      "needs_background": "light"
     },
     "output_type": "display_data"
    }
   ],
   "source": [
    "lgb.plot_importance(modelC)"
   ]
  },
  {
   "cell_type": "code",
   "execution_count": 16,
   "metadata": {},
   "outputs": [
    {
     "name": "stdout",
     "output_type": "stream",
     "text": [
      "BorrZip 212\n",
      "CDC_Zip 138\n",
      "ThirdPartyDollars 64\n",
      "GrossApproval 151\n",
      "InitialInterestRate 10\n",
      "TermInMonths 24\n",
      "Borrgsp 136\n",
      "unemploy_bow 108\n",
      "unemploy_pro 74\n",
      "SP500 182\n",
      "borrthird 5\n",
      "borrpro 0\n",
      "borrCDC 13\n",
      "total 101\n",
      "termint 0\n",
      "BorrName 153\n",
      "BorrCity 147\n",
      "BorrState 71\n",
      "CDC_Name 111\n",
      "CDC_Street 100\n",
      "CDC_City 112\n",
      "CDC_State 63\n",
      "ThirdPartyLender_Name 61\n",
      "ThirdPartyLender_City 74\n",
      "ThirdPartyLender_State 40\n",
      "ApprovalFiscalYear 124\n",
      "DeliveryMethod 27\n",
      "subpgmdesc 4\n",
      "NaicsCode 234\n",
      "NaicsDescription 160\n",
      "ProjectCounty 148\n",
      "ProjectState 51\n",
      "BusinessType 31\n"
     ]
    }
   ],
   "source": [
    "fn = modelC.feature_name()\n",
    "fi = list(modelC.feature_importance())\n",
    "for i in range(len(fn)):\n",
    "    print(fn[i],fi[i])"
   ]
  },
  {
   "cell_type": "markdown",
   "metadata": {},
   "source": [
    "### Default Rate Prediction on the Best Model"
   ]
  },
  {
   "cell_type": "code",
   "execution_count": 17,
   "metadata": {},
   "outputs": [
    {
     "name": "stdout",
     "output_type": "stream",
     "text": [
      "              precision    recall  f1-score   support\n",
      "\n",
      "           0       0.98      0.95      0.96       489\n",
      "           1       0.00      0.00      0.00        11\n",
      "\n",
      "   micro avg       0.93      0.93      0.93       500\n",
      "   macro avg       0.49      0.48      0.48       500\n",
      "weighted avg       0.96      0.93      0.94       500\n",
      "\n",
      "0.5318832496746607\n"
     ]
    }
   ],
   "source": [
    "samples = pd.read_csv('samples.csv')\n",
    "pred_X = samples[numCols+catCols]\n",
    "# 1 year\n",
    "pred_y = samples['target1']\n",
    "pred_prob1 = modelC.predict(pred_X)\n",
    "print(classification_report(pred_y, modelC.predict(pred_X)>0.5))\n",
    "print(roc_auc_score(pred_y, modelC.predict(pred_X)))\n"
   ]
  },
  {
   "cell_type": "code",
   "execution_count": 18,
   "metadata": {},
   "outputs": [
    {
     "name": "stdout",
     "output_type": "stream",
     "text": [
      "              precision    recall  f1-score   support\n",
      "\n",
      "           0       0.94      0.97      0.96       461\n",
      "           1       0.48      0.28      0.35        39\n",
      "\n",
      "   micro avg       0.92      0.92      0.92       500\n",
      "   macro avg       0.71      0.63      0.66       500\n",
      "weighted avg       0.91      0.92      0.91       500\n",
      "\n",
      "0.7978752989598976\n"
     ]
    }
   ],
   "source": [
    "# 5 year\n",
    "pred_y = samples['target5']\n",
    "pred_prob5 = modelC.predict(pred_X)\n",
    "print(classification_report(pred_y, modelC.predict(pred_X)>0.5))\n",
    "print(roc_auc_score(pred_y, modelC.predict(pred_X)))\n"
   ]
  },
  {
   "cell_type": "markdown",
   "metadata": {},
   "source": [
    "### Select features2"
   ]
  },
  {
   "cell_type": "code",
   "execution_count": 34,
   "metadata": {},
   "outputs": [
    {
     "name": "stderr",
     "output_type": "stream",
     "text": [
      "C:\\Users\\THINKPAD\\AppData\\Roaming\\Python\\Python36\\site-packages\\sklearn\\preprocessing\\data.py:617: DataConversionWarning: Data with input dtype int64, float64 were all converted to float64 by StandardScaler.\n",
      "  return self.partial_fit(X, y)\n",
      "C:\\Users\\THINKPAD\\AppData\\Roaming\\Python\\Python36\\site-packages\\sklearn\\base.py:462: DataConversionWarning: Data with input dtype int64, float64 were all converted to float64 by StandardScaler.\n",
      "  return self.fit(X, **fit_params).transform(X)\n",
      "C:\\Users\\THINKPAD\\AppData\\Local\\Continuum\\Anaconda3\\envs\\Tensor\\lib\\site-packages\\ipykernel_launcher.py:3: DataConversionWarning: Data with input dtype int64, float64 were all converted to float64 by StandardScaler.\n",
      "  This is separate from the ipykernel package so we can avoid doing imports until\n",
      "C:\\Users\\THINKPAD\\AppData\\Local\\Continuum\\Anaconda3\\envs\\Tensor\\lib\\site-packages\\ipykernel_launcher.py:4: DataConversionWarning: Data with input dtype int64, float64 were all converted to float64 by StandardScaler.\n",
      "  after removing the cwd from sys.path.\n"
     ]
    }
   ],
   "source": [
    "data_scaler = StandardScaler()\n",
    "train_num = data_scaler.fit_transform(train_X[numCols])\n",
    "val_num = data_scaler.transform(val_X[numCols])\n",
    "test_num = data_scaler.transform(test_X[numCols])\n",
    "train_num_df = pd.DataFrame(train_num,columns = numCols)[num_select]\n",
    "train_num_df = train_num_df.reset_index(drop=True)\n",
    "val_num_df = pd.DataFrame(val_num,columns = numCols)[num_select]\n",
    "val_num_df = val_num_df.reset_index(drop=True)\n",
    "test_num_df = pd.DataFrame(test_num,columns = numCols)[num_select]\n",
    "test_num_df = test_num_df.reset_index(drop=True)"
   ]
  },
  {
   "cell_type": "code",
   "execution_count": 35,
   "metadata": {},
   "outputs": [],
   "source": [
    "train_cat = train_X[catCols]\n",
    "one_hot = OneHotEncoder(handle_unknown='ignore')\n",
    "one_hot.fit(train_cat)\n",
    "feature_names = [str(i) for i in list(one_hot.get_feature_names())]\n",
    "for i in range(4):\n",
    "    if i == 0:\n",
    "        train_piece = one_hot.transform(train_cat[i*10000:(i+1)*10000]).toarray()[:,inds]\n",
    "        val_piece = one_hot.transform(val_X[catCols]).toarray()[:,inds]\n",
    "        test_piece = one_hot.transform(test_X[catCols]).toarray()[:,inds]    \n",
    "    elif i == 3:\n",
    "        train_piece = np.vstack((train_piece,one_hot.transform(train_cat[30000:]).toarray()[:,inds]))      \n",
    "    else:\n",
    "        train_piece = np.vstack((train_piece,one_hot.transform(train_cat[i*10000:(i+1)*10000]).toarray()[:,inds]))\n",
    "\n",
    "train_cat_df = pd.DataFrame(train_piece,columns = cat_select)\n",
    "val_cat_df = pd.DataFrame(val_piece,columns = cat_select)\n",
    "test_cat_df = pd.DataFrame(test_piece,columns = cat_select)\n",
    "newcatCols = list(train_cat_df.columns)"
   ]
  },
  {
   "cell_type": "code",
   "execution_count": 36,
   "metadata": {},
   "outputs": [],
   "source": [
    "gbtrain_X = pd.concat([train_num_df,train_cat_df],axis = 1)\n",
    "gbval_X = pd.concat([val_num_df,val_cat_df],axis = 1)\n",
    "gbtest_X = pd.concat([test_num_df,test_cat_df],axis = 1)"
   ]
  },
  {
   "cell_type": "code",
   "execution_count": 37,
   "metadata": {},
   "outputs": [
    {
     "name": "stdout",
     "output_type": "stream",
     "text": [
      "Training until validation scores don't improve for 100 rounds.\n",
      "[100]\tvalid_0's binary_logloss: 0.308664\n",
      "[200]\tvalid_0's binary_logloss: 0.30858\n",
      "Early stopping, best iteration is:\n",
      "[128]\tvalid_0's binary_logloss: 0.307974\n",
      "              precision    recall  f1-score   support\n",
      "\n",
      "           0       0.90      0.97      0.93      7361\n",
      "           1       0.71      0.42      0.53      1408\n",
      "\n",
      "   micro avg       0.88      0.88      0.88      8769\n",
      "   macro avg       0.80      0.69      0.73      8769\n",
      "weighted avg       0.87      0.88      0.87      8769\n",
      "\n",
      "0.8574726985587432\n"
     ]
    }
   ],
   "source": [
    "modelS, pred_val_y = run_lgbc(gbtrain_X, train_y, gbval_X, val_y)\n",
    "print(classification_report(val_y, modelS.predict(gbval_X)>0.5))\n",
    "print(roc_auc_score(val_y, modelS.predict(gbval_X)))"
   ]
  },
  {
   "cell_type": "code",
   "execution_count": 38,
   "metadata": {},
   "outputs": [
    {
     "name": "stdout",
     "output_type": "stream",
     "text": [
      "              precision    recall  f1-score   support\n",
      "\n",
      "           0       0.89      0.96      0.92      9119\n",
      "           1       0.68      0.39      0.49      1843\n",
      "\n",
      "   micro avg       0.87      0.87      0.87     10962\n",
      "   macro avg       0.78      0.68      0.71     10962\n",
      "weighted avg       0.85      0.87      0.85     10962\n",
      "\n",
      "0.8496369549616374\n"
     ]
    }
   ],
   "source": [
    "print(classification_report(test_y, modelS.predict(gbtest_X)>0.5))\n",
    "print(roc_auc_score(test_y, modelS.predict(gbtest_X)))"
   ]
  },
  {
   "cell_type": "code",
   "execution_count": 20,
   "metadata": {},
   "outputs": [
    {
     "name": "stdout",
     "output_type": "stream",
     "text": [
      "BorrZip 456\n",
      "CDC_Zip 249\n",
      "ThirdPartyDollars 194\n",
      "GrossApproval 397\n",
      "InitialInterestRate 23\n",
      "TermInMonths 43\n",
      "Borrgsp 424\n",
      "unemploy_bow 341\n",
      "SP500 493\n",
      "borrthird 17\n",
      "borrCDC 16\n",
      "x1_133 8\n",
      "x1_520 8\n",
      "x1_587 11\n",
      "x1_1068 1\n",
      "x1_1283 2\n",
      "x1_1607 13\n",
      "x1_2251 5\n",
      "x1_2939 4\n",
      "x1_3071 7\n",
      "x1_3484 1\n",
      "x1_3686 8\n",
      "x1_4074 3\n",
      "x1_5272 9\n",
      "x1_5729 10\n",
      "x1_5737 11\n",
      "x1_5744 1\n",
      "x1_6172 9\n",
      "x1_6668 6\n",
      "x2_4 5\n",
      "x2_5 4\n",
      "x2_6 2\n",
      "x2_10 14\n",
      "x2_13 4\n",
      "x2_14 2\n",
      "x2_15 1\n",
      "x2_16 4\n",
      "x2_17 1\n",
      "x2_19 11\n",
      "x2_23 18\n",
      "x2_26 5\n",
      "x2_29 1\n",
      "x2_30 2\n",
      "x2_31 2\n",
      "x2_34 6\n",
      "x2_37 6\n",
      "x2_39 2\n",
      "x2_41 3\n",
      "x2_46 5\n",
      "x2_47 4\n",
      "x2_50 3\n",
      "x2_51 10\n",
      "x3_5 5\n",
      "x3_8 1\n",
      "x3_33 5\n",
      "x3_34 3\n",
      "x3_35 10\n",
      "x3_38 7\n",
      "x3_39 6\n",
      "x3_41 4\n",
      "x3_45 4\n",
      "x3_46 9\n",
      "x3_47 2\n",
      "x3_62 5\n",
      "x3_74 3\n",
      "x3_86 5\n",
      "x3_93 10\n",
      "x3_105 4\n",
      "x3_112 15\n",
      "x3_113 10\n",
      "x3_133 5\n",
      "x3_134 3\n",
      "x3_141 8\n",
      "x3_150 7\n",
      "x3_159 2\n",
      "x3_161 5\n",
      "x3_173 2\n",
      "x3_178 5\n",
      "x3_179 3\n",
      "x3_188 2\n",
      "x3_192 1\n",
      "x3_212 1\n",
      "x3_230 8\n",
      "x3_232 6\n",
      "x3_235 7\n",
      "x3_240 1\n",
      "x3_241 8\n",
      "x3_242 7\n",
      "x3_245 8\n",
      "x3_247 3\n",
      "x3_261 4\n",
      "x3_266 2\n",
      "x3_294 4\n",
      "x4_6 7\n",
      "x4_27 1\n",
      "x4_45 1\n",
      "x4_46 3\n",
      "x4_65 4\n",
      "x4_70 7\n",
      "x4_83 2\n",
      "x4_101 1\n",
      "x4_112 3\n",
      "x4_132 5\n",
      "x4_137 1\n",
      "x4_141 6\n",
      "x4_145 3\n",
      "x4_146 5\n",
      "x4_150 4\n",
      "x4_166 3\n",
      "x4_182 14\n",
      "x4_197 4\n",
      "x4_198 2\n",
      "x4_203 3\n",
      "x4_216 2\n",
      "x4_218 2\n",
      "x4_221 4\n",
      "x4_222 2\n",
      "x4_228 3\n",
      "x4_245 2\n",
      "x4_262 2\n",
      "x4_267 1\n",
      "x4_269 1\n",
      "x4_272 1\n",
      "x4_273 1\n",
      "x4_291 2\n",
      "x4_293 6\n",
      "x4_306 2\n",
      "x5_6 1\n",
      "x5_15 3\n",
      "x5_18 1\n",
      "x5_19 4\n",
      "x5_30 2\n",
      "x5_43 4\n",
      "x5_54 1\n",
      "x5_55 7\n",
      "x5_61 1\n",
      "x5_79 2\n",
      "x5_91 1\n",
      "x5_105 1\n",
      "x5_122 5\n",
      "x5_125 1\n",
      "x5_136 1\n",
      "x5_154 2\n",
      "x5_190 1\n",
      "x5_199 4\n",
      "x5_208 2\n",
      "x5_210 2\n",
      "x5_211 1\n",
      "x5_212 1\n",
      "x5_215 1\n",
      "x5_229 3\n",
      "x5_241 1\n",
      "x5_252 4\n",
      "x5_254 4\n",
      "x6_2 14\n",
      "x6_4 7\n",
      "x6_6 6\n",
      "x6_11 2\n",
      "x6_14 7\n",
      "x6_15 1\n",
      "x6_16 1\n",
      "x6_18 3\n",
      "x6_21 3\n",
      "x6_22 5\n",
      "x6_25 3\n",
      "x6_31 7\n",
      "x6_35 5\n",
      "x6_36 6\n",
      "x6_46 2\n",
      "x6_49 8\n",
      "x6_52 2\n",
      "x7_0 17\n",
      "x7_140 9\n",
      "x7_371 1\n",
      "x7_960 4\n",
      "x7_1030 2\n",
      "x7_2316 2\n",
      "x7_2383 9\n",
      "x8_0 13\n",
      "x8_126 4\n",
      "x8_251 18\n",
      "x8_298 12\n",
      "x8_339 4\n",
      "x8_792 3\n",
      "x8_809 2\n",
      "x8_1243 5\n",
      "x8_1248 7\n",
      "x8_1303 12\n",
      "x8_1538 10\n",
      "x9_9 2\n",
      "x9_11 3\n",
      "x9_15 6\n",
      "x9_19 10\n",
      "x9_21 1\n",
      "x9_26 2\n",
      "x9_30 5\n",
      "x9_31 8\n",
      "x9_41 7\n",
      "x9_42 8\n",
      "x9_50 1\n",
      "x9_53 7\n",
      "x9_54 1\n",
      "x9_57 8\n",
      "x10_0 7\n",
      "x10_3 10\n",
      "x10_4 3\n",
      "x10_5 2\n",
      "x10_6 7\n",
      "x10_7 20\n",
      "x10_8 25\n",
      "x10_9 17\n",
      "x10_10 7\n",
      "x10_11 4\n",
      "x10_13 14\n",
      "x10_14 15\n",
      "x10_15 5\n",
      "x10_16 7\n",
      "x10_17 14\n",
      "x10_18 11\n",
      "x10_19 11\n",
      "x10_20 3\n",
      "x10_21 16\n",
      "x11_2 50\n",
      "x11_3 25\n",
      "x12_3 9\n",
      "x13_0 46\n",
      "x13_61 1\n",
      "x13_222 2\n",
      "x13_348 8\n",
      "x13_481 6\n",
      "x13_543 6\n",
      "x13_654 6\n",
      "x13_655 11\n",
      "x13_657 13\n",
      "x13_662 2\n",
      "x13_677 7\n",
      "x13_691 12\n",
      "x13_817 11\n",
      "x13_845 15\n",
      "x13_865 15\n",
      "x13_910 15\n",
      "x13_939 2\n",
      "x13_969 13\n",
      "x13_971 21\n",
      "x13_973 18\n",
      "x13_1002 5\n",
      "x13_1019 8\n",
      "x13_1020 11\n",
      "x13_1022 19\n",
      "x13_1029 40\n",
      "x13_1030 7\n",
      "x13_1036 10\n",
      "x13_1038 2\n",
      "x13_1042 2\n",
      "x13_1045 16\n",
      "x14_122 5\n",
      "x14_142 10\n",
      "x14_160 4\n",
      "x14_187 5\n",
      "x14_274 6\n",
      "x14_335 3\n",
      "x14_338 3\n",
      "x14_370 14\n",
      "x14_378 5\n",
      "x14_426 9\n",
      "x14_442 3\n",
      "x14_483 1\n",
      "x14_493 4\n",
      "x14_505 5\n",
      "x14_556 9\n",
      "x14_573 2\n",
      "x14_584 3\n",
      "x14_615 19\n",
      "x14_616 3\n",
      "x14_618 6\n",
      "x14_621 13\n",
      "x14_624 6\n",
      "x14_950 4\n",
      "x14_1012 2\n",
      "x14_1016 9\n",
      "x14_1049 3\n",
      "x15_47 5\n",
      "x15_120 10\n",
      "x15_123 10\n",
      "x15_169 11\n",
      "x15_230 17\n",
      "x15_294 15\n",
      "x15_335 13\n",
      "x15_338 6\n",
      "x15_374 10\n",
      "x15_377 1\n",
      "x15_387 11\n",
      "x15_404 4\n",
      "x15_429 1\n",
      "x15_436 11\n",
      "x15_440 6\n",
      "x15_466 7\n",
      "x15_470 1\n",
      "x15_498 4\n",
      "x15_602 8\n",
      "x15_618 15\n",
      "x15_630 4\n",
      "x15_688 14\n",
      "x15_709 6\n",
      "x15_721 11\n",
      "x15_730 1\n",
      "x15_755 11\n",
      "x15_758 8\n",
      "x15_814 27\n",
      "x15_848 7\n",
      "x15_899 10\n",
      "x15_900 10\n",
      "x15_924 5\n",
      "x15_928 13\n",
      "x15_955 1\n",
      "x15_991 9\n",
      "x15_1014 5\n",
      "x15_1075 13\n",
      "x15_1086 9\n",
      "x15_1126 8\n",
      "x15_1156 7\n",
      "x15_1167 2\n",
      "x15_1188 5\n",
      "x15_1202 9\n",
      "x15_1214 9\n",
      "x15_1218 8\n",
      "x15_1219 3\n",
      "x15_1220 12\n",
      "x15_1222 8\n",
      "x15_1223 8\n",
      "x15_1226 8\n",
      "x15_1238 8\n",
      "x15_1322 9\n",
      "x15_1448 2\n",
      "x16_2 14\n",
      "x16_4 12\n",
      "x16_21 1\n",
      "x16_23 1\n",
      "x16_30 4\n",
      "x16_37 7\n",
      "x16_39 2\n",
      "x16_41 6\n",
      "x16_46 5\n",
      "x16_47 2\n",
      "x16_48 1\n",
      "x17_1 24\n",
      "x17_2 30\n",
      "x17_3 17\n"
     ]
    }
   ],
   "source": [
    "select2 = []\n",
    "fn = modelS.feature_name()\n",
    "fi = list(modelS.feature_importance())\n",
    "for i in range(len(fn)):\n",
    "    if fi[i] != 0:\n",
    "        select2.append(fn[i])\n",
    "        print(fn[i],fi[i])"
   ]
  },
  {
   "cell_type": "code",
   "execution_count": 21,
   "metadata": {},
   "outputs": [
    {
     "data": {
      "text/plain": [
       "348"
      ]
     },
     "execution_count": 21,
     "metadata": {},
     "output_type": "execute_result"
    }
   ],
   "source": [
    "len(select2)"
   ]
  },
  {
   "cell_type": "code",
   "execution_count": 39,
   "metadata": {},
   "outputs": [],
   "source": [
    "for i in range(len(feature_names)):\n",
    "    if feature_names[i][0] == 'x':\n",
    "        flag = i\n",
    "        break\n",
    "cat_names2 = fn[flag:]\n",
    "for i in range(len(select_features)):\n",
    "    if select_features[i][0] == 'x':\n",
    "        flag = i\n",
    "        break\n",
    "num_select2 = select2[:flag]\n",
    "cat_select2 = select2[flag:]\n",
    "inds2 = []\n",
    "for i in range(len(cat_select2)):\n",
    "    inds2.append(cat_names2.index(cat_select2[i]))"
   ]
  },
  {
   "cell_type": "markdown",
   "metadata": {},
   "source": [
    "#### Oversampling"
   ]
  },
  {
   "cell_type": "markdown",
   "metadata": {},
   "source": [
    "##### 1. Random Oversampling"
   ]
  },
  {
   "cell_type": "code",
   "execution_count": 36,
   "metadata": {},
   "outputs": [],
   "source": [
    "ros = RandomOverSampler(random_state=0, sampling_strategy = 0.3)\n",
    "X_resampled, y_resampled = ros.fit_resample(train_X, train_y)\n",
    "#X_resampled = pd.DataFrame(X_resampled, columns=train_X.columns)\n"
   ]
  },
  {
   "cell_type": "code",
   "execution_count": 176,
   "metadata": {},
   "outputs": [
    {
     "name": "stdout",
     "output_type": "stream",
     "text": [
      "Training until validation scores don't improve for 100 rounds.\n",
      "[100]\tvalid_0's binary_logloss: 0.316449\n",
      "[200]\tvalid_0's binary_logloss: 0.314093\n",
      "[300]\tvalid_0's binary_logloss: 0.314576\n",
      "Early stopping, best iteration is:\n",
      "[209]\tvalid_0's binary_logloss: 0.313893\n",
      "              precision    recall  f1-score   support\n",
      "\n",
      "           0       0.91      0.94      0.93      7361\n",
      "           1       0.63      0.51      0.56      1408\n",
      "\n",
      "   micro avg       0.87      0.87      0.87      8769\n",
      "   macro avg       0.77      0.73      0.75      8769\n",
      "weighted avg       0.86      0.87      0.87      8769\n",
      "\n",
      "0.8577258756221363\n"
     ]
    }
   ],
   "source": [
    "modelC, pred_val_y = run_lgbc(X_resampled, y_resampled, val_X, val_y)\n",
    "print(classification_report(val_y, modelC.predict(val_X)>0.5))\n",
    "print(roc_auc_score(val_y, modelC.predict(val_X)))"
   ]
  },
  {
   "cell_type": "markdown",
   "metadata": {},
   "source": [
    "##### 2. SMOTE"
   ]
  },
  {
   "cell_type": "code",
   "execution_count": 53,
   "metadata": {},
   "outputs": [],
   "source": [
    "sm = SMOTE(random_state=0, sampling_strategy = 0.3)\n",
    "X_smote, y_smote = sm.fit_resample(train_X, train_y)\n",
    "#X_smote = pd.DataFrame(X_smote, columns=train_X.columns)\n",
    "#print('Original dataset shape %s' % Counter(train_y))\n",
    "#print('SMOTE dataset shape %s' % Counter(y_smote))"
   ]
  },
  {
   "cell_type": "code",
   "execution_count": 189,
   "metadata": {},
   "outputs": [
    {
     "name": "stdout",
     "output_type": "stream",
     "text": [
      "Training until validation scores don't improve for 100 rounds.\n",
      "[100]\tvalid_0's binary_logloss: 0.313906\n",
      "[200]\tvalid_0's binary_logloss: 0.314102\n",
      "Early stopping, best iteration is:\n",
      "[149]\tvalid_0's binary_logloss: 0.312691\n",
      "              precision    recall  f1-score   support\n",
      "\n",
      "           0       0.90      0.96      0.93      7361\n",
      "           1       0.68      0.44      0.53      1408\n",
      "\n",
      "   micro avg       0.88      0.88      0.88      8769\n",
      "   macro avg       0.79      0.70      0.73      8769\n",
      "weighted avg       0.86      0.88      0.87      8769\n",
      "\n",
      "0.853484484414173\n"
     ]
    }
   ],
   "source": [
    "modelC, pred_val_y = run_lgbc(X_smote, y_smote, val_X, val_y)\n",
    "print(classification_report(val_y, modelC.predict(val_X)>0.5))\n",
    "print(roc_auc_score(val_y, modelC.predict(val_X)))"
   ]
  },
  {
   "cell_type": "markdown",
   "metadata": {},
   "source": [
    "### Decision Tree"
   ]
  },
  {
   "cell_type": "code",
   "execution_count": 28,
   "metadata": {},
   "outputs": [
    {
     "name": "stdout",
     "output_type": "stream",
     "text": [
      "{'decisiontreeclassifier__min_samples_split': 8, 'decisiontreeclassifier__min_samples_leaf': 1, 'decisiontreeclassifier__max_features': 7, 'decisiontreeclassifier__max_depth': 6}\n"
     ]
    }
   ],
   "source": [
    "from sklearn.pipeline import make_pipeline\n",
    "from sklearn.tree import DecisionTreeClassifier\n",
    "from sklearn.model_selection import cross_validate\n",
    "pipelines = {\n",
    "    \"dtclass\": make_pipeline(DecisionTreeClassifier(random_state=0))\n",
    "}\n",
    "decisiontree_hyperparameters = {\n",
    "    'decisiontreeclassifier__max_depth' : np.arange(3, 10),\n",
    "    'decisiontreeclassifier__max_features' : np.arange(3, 8),\n",
    "    'decisiontreeclassifier__min_samples_split' : np.arange(2, 15),\n",
    "    \"decisiontreeclassifier__min_samples_leaf\" : np.arange(1,3)\n",
    "}\n",
    "dtclass_model = RandomizedSearchCV(pipelines['dtclass'],decisiontree_hyperparameters,n_iter = 100,cv=3)\n",
    "dtclass_model.fit(train_X, train_y)\n",
    "print(dtclass_model.best_params_)"
   ]
  },
  {
   "cell_type": "code",
   "execution_count": 29,
   "metadata": {},
   "outputs": [
    {
     "name": "stdout",
     "output_type": "stream",
     "text": [
      "              precision    recall  f1-score   support\n",
      "\n",
      "           0       0.89      0.96      0.92      7361\n",
      "           1       0.61      0.36      0.45      1408\n",
      "\n",
      "   micro avg       0.86      0.86      0.86      8769\n",
      "   macro avg       0.75      0.66      0.69      8769\n",
      "weighted avg       0.84      0.86      0.84      8769\n",
      "\n",
      "0.656666719411888\n"
     ]
    }
   ],
   "source": [
    "dtclass_best_model = dtclass_model.best_estimator_.named_steps['decisiontreeclassifier']\n",
    "print(classification_report(val_y, dtclass_best_model.predict(val_X)>0.5))\n",
    "print(roc_auc_score(val_y, dtclass_best_model.predict(val_X)))"
   ]
  },
  {
   "cell_type": "code",
   "execution_count": 30,
   "metadata": {},
   "outputs": [
    {
     "ename": "InvocationException",
     "evalue": "GraphViz's executables not found",
     "output_type": "error",
     "traceback": [
      "\u001b[1;31m---------------------------------------------------------------------------\u001b[0m",
      "\u001b[1;31mInvocationException\u001b[0m                       Traceback (most recent call last)",
      "\u001b[1;32m<ipython-input-30-a7282e58839b>\u001b[0m in \u001b[0;36m<module>\u001b[1;34m\u001b[0m\n\u001b[0;32m     10\u001b[0m \u001b[1;31m#make a graph from dot file\u001b[0m\u001b[1;33m\u001b[0m\u001b[1;33m\u001b[0m\u001b[1;33m\u001b[0m\u001b[0m\n\u001b[0;32m     11\u001b[0m \u001b[0mgraph\u001b[0m \u001b[1;33m=\u001b[0m \u001b[0mpdot\u001b[0m\u001b[1;33m.\u001b[0m\u001b[0mgraph_from_dot_data\u001b[0m\u001b[1;33m(\u001b[0m\u001b[0mdot_data\u001b[0m\u001b[1;33m.\u001b[0m\u001b[0mgetvalue\u001b[0m\u001b[1;33m(\u001b[0m\u001b[1;33m)\u001b[0m\u001b[1;33m)\u001b[0m\u001b[1;33m\u001b[0m\u001b[1;33m\u001b[0m\u001b[0m\n\u001b[1;32m---> 12\u001b[1;33m \u001b[0mImage\u001b[0m\u001b[1;33m(\u001b[0m\u001b[0mgraph\u001b[0m\u001b[1;33m.\u001b[0m\u001b[0mcreate_png\u001b[0m\u001b[1;33m(\u001b[0m\u001b[1;33m)\u001b[0m\u001b[1;33m)\u001b[0m\u001b[1;33m\u001b[0m\u001b[1;33m\u001b[0m\u001b[0m\n\u001b[0m",
      "\u001b[1;32m~\\AppData\\Local\\Continuum\\Anaconda3\\envs\\Tensor\\lib\\site-packages\\pydotplus\\graphviz.py\u001b[0m in \u001b[0;36m<lambda>\u001b[1;34m(f, prog)\u001b[0m\n\u001b[0;32m   1795\u001b[0m             self.__setattr__(\n\u001b[0;32m   1796\u001b[0m                 \u001b[1;34m'create_'\u001b[0m \u001b[1;33m+\u001b[0m \u001b[0mfrmt\u001b[0m\u001b[1;33m,\u001b[0m\u001b[1;33m\u001b[0m\u001b[1;33m\u001b[0m\u001b[0m\n\u001b[1;32m-> 1797\u001b[1;33m                 \u001b[1;32mlambda\u001b[0m \u001b[0mf\u001b[0m\u001b[1;33m=\u001b[0m\u001b[0mfrmt\u001b[0m\u001b[1;33m,\u001b[0m \u001b[0mprog\u001b[0m\u001b[1;33m=\u001b[0m\u001b[0mself\u001b[0m\u001b[1;33m.\u001b[0m\u001b[0mprog\u001b[0m\u001b[1;33m:\u001b[0m \u001b[0mself\u001b[0m\u001b[1;33m.\u001b[0m\u001b[0mcreate\u001b[0m\u001b[1;33m(\u001b[0m\u001b[0mformat\u001b[0m\u001b[1;33m=\u001b[0m\u001b[0mf\u001b[0m\u001b[1;33m,\u001b[0m \u001b[0mprog\u001b[0m\u001b[1;33m=\u001b[0m\u001b[0mprog\u001b[0m\u001b[1;33m)\u001b[0m\u001b[1;33m\u001b[0m\u001b[1;33m\u001b[0m\u001b[0m\n\u001b[0m\u001b[0;32m   1798\u001b[0m             )\n\u001b[0;32m   1799\u001b[0m             \u001b[0mf\u001b[0m \u001b[1;33m=\u001b[0m \u001b[0mself\u001b[0m\u001b[1;33m.\u001b[0m\u001b[0m__dict__\u001b[0m\u001b[1;33m[\u001b[0m\u001b[1;34m'create_'\u001b[0m \u001b[1;33m+\u001b[0m \u001b[0mfrmt\u001b[0m\u001b[1;33m]\u001b[0m\u001b[1;33m\u001b[0m\u001b[1;33m\u001b[0m\u001b[0m\n",
      "\u001b[1;32m~\\AppData\\Local\\Continuum\\Anaconda3\\envs\\Tensor\\lib\\site-packages\\pydotplus\\graphviz.py\u001b[0m in \u001b[0;36mcreate\u001b[1;34m(self, prog, format)\u001b[0m\n\u001b[0;32m   1958\u001b[0m             \u001b[1;32mif\u001b[0m \u001b[0mself\u001b[0m\u001b[1;33m.\u001b[0m\u001b[0mprogs\u001b[0m \u001b[1;32mis\u001b[0m \u001b[1;32mNone\u001b[0m\u001b[1;33m:\u001b[0m\u001b[1;33m\u001b[0m\u001b[1;33m\u001b[0m\u001b[0m\n\u001b[0;32m   1959\u001b[0m                 raise InvocationException(\n\u001b[1;32m-> 1960\u001b[1;33m                     'GraphViz\\'s executables not found')\n\u001b[0m\u001b[0;32m   1961\u001b[0m \u001b[1;33m\u001b[0m\u001b[0m\n\u001b[0;32m   1962\u001b[0m         \u001b[1;32mif\u001b[0m \u001b[0mprog\u001b[0m \u001b[1;32mnot\u001b[0m \u001b[1;32min\u001b[0m \u001b[0mself\u001b[0m\u001b[1;33m.\u001b[0m\u001b[0mprogs\u001b[0m\u001b[1;33m:\u001b[0m\u001b[1;33m\u001b[0m\u001b[1;33m\u001b[0m\u001b[0m\n",
      "\u001b[1;31mInvocationException\u001b[0m: GraphViz's executables not found"
     ]
    }
   ],
   "source": [
    "from sklearn.externals.six import StringIO\n",
    "from IPython.display import Image\n",
    "from sklearn.tree import export_graphviz\n",
    "import pydotplus as pdot\n",
    "#writing the dot data\n",
    "dot_data = StringIO()\n",
    "#export the decision tree along with the feature names into a dot file format\n",
    "export_graphviz(dtclass_best_model,out_file=dot_data,filled=True,special_characters=True,rounded=True,\n",
    "                feature_names=train_X.columns.values,class_names = [\"No\",\"Yes\"])\n",
    "#make a graph from dot file\n",
    "graph = pdot.graph_from_dot_data(dot_data.getvalue())\n",
    "Image(graph.create_png())"
   ]
  },
  {
   "cell_type": "markdown",
   "metadata": {},
   "source": [
    "### Random Forest"
   ]
  },
  {
   "cell_type": "code",
   "execution_count": 51,
   "metadata": {},
   "outputs": [],
   "source": [
    "# Number of trees in random forest\n",
    "n_estimators = [int(x) for x in np.linspace(start = 20, stop = 500, num = 10)]\n",
    "# Number of features to consider at every split\n",
    "max_features = ['auto', 'sqrt']\n",
    "# Maximum number of levels in tree\n",
    "max_depth = [int(x) for x in np.linspace(10, 110, num = 11)]\n",
    "max_depth.append(None)\n",
    "# Minimum number of samples required to split a node\n",
    "min_samples_split = [2, 5, 10]\n",
    "# Minimum number of samples required at each leaf node\n",
    "min_samples_leaf = [1, 2, 4]\n",
    "# Method of selecting samples for training each tree\n",
    "bootstrap = [True, False]\n",
    "# Create the random grid\n",
    "random_grid = {'n_estimators': n_estimators,\n",
    "               'max_features': max_features,\n",
    "               'max_depth': max_depth,\n",
    "               'min_samples_split': min_samples_split,\n",
    "               'min_samples_leaf': min_samples_leaf,\n",
    "               'bootstrap': bootstrap}\n",
    "rf_random = RandomizedSearchCV(estimator = RandomForestClassifier(random_state=0), param_distributions = random_grid, n_iter = 20, cv = 3, verbose=1, random_state=0)\n",
    "rf_random.fit(train_X, train_y)"
   ]
  },
  {
   "cell_type": "code",
   "execution_count": 80,
   "metadata": {},
   "outputs": [
    {
     "name": "stdout",
     "output_type": "stream",
     "text": [
      "{'n_estimators': 446, 'min_samples_split': 10, 'min_samples_leaf': 1, 'max_features': 'auto', 'max_depth': None, 'bootstrap': True}\n"
     ]
    }
   ],
   "source": [
    "print(rf_random.best_params_)"
   ]
  },
  {
   "cell_type": "code",
   "execution_count": 79,
   "metadata": {
    "scrolled": true
   },
   "outputs": [
    {
     "name": "stdout",
     "output_type": "stream",
     "text": [
      "              precision    recall  f1-score   support\n",
      "\n",
      "           0       0.89      0.97      0.93      7361\n",
      "           1       0.69      0.38      0.49      1408\n",
      "\n",
      "   micro avg       0.87      0.87      0.87      8769\n",
      "   macro avg       0.79      0.68      0.71      8769\n",
      "weighted avg       0.86      0.87      0.86      8769\n",
      "\n",
      "0.6755581280643688\n"
     ]
    }
   ],
   "source": [
    "clf = RandomForestClassifier(n_estimators=500,random_state=0)\n",
    "clf.fit(train_X, train_y)\n",
    "print(classification_report(val_y, clf.predict(val_X)>0.5))\n",
    "print(roc_auc_score(val_y, clf.predict(val_X)))"
   ]
  },
  {
   "cell_type": "markdown",
   "metadata": {},
   "source": [
    "## DNN"
   ]
  },
  {
   "cell_type": "code",
   "execution_count": 54,
   "metadata": {},
   "outputs": [
    {
     "data": {
      "text/plain": [
       "<Figure size 432x288 with 0 Axes>"
      ]
     },
     "metadata": {},
     "output_type": "display_data"
    }
   ],
   "source": [
    "%run DNN_utils.py"
   ]
  },
  {
   "cell_type": "raw",
   "metadata": {},
   "source": [
    "# try to drop features \n",
    "preprocessor = ColumnTransformer(transformers=[('num', StandardScaler(), numCols1)])\n",
    "DNNtrain_X = preprocessor.fit_transform(train_X1)\n",
    "DNNval_X = preprocessor.transform(val_X1)\n",
    "DNNtest_X = preprocessor.transform(test_X1)"
   ]
  },
  {
   "cell_type": "raw",
   "metadata": {},
   "source": [
    "#read your data in, remeber to use one_hot_encoding for your Y, otherwise TF will not work\n",
    "#DNNtrain_X = DNNtrain_X.T.as_matrix()\n",
    "#DNNval_X = DNNval_X.T.as_matrix()\n",
    "DNNtrain_X = DNNtrain_X.T\n",
    "DNNval_X = DNNval_X.T\n",
    "DNNtest_X = DNNtest_X.T\n",
    "DNNtrain_y = np.array(train_y).reshape(1,-1)\n",
    "DNNval_y = np.array(val_y).reshape(1,-1)\n",
    "DNNtest_y = np.array(test_y).reshape(1,-1)\n",
    "DNNtrain_y = convert_to_one_hot(DNNtrain_y, 2)\n",
    "DNNval_y = convert_to_one_hot(DNNval_y, 2)\n",
    "DNNtest_y = convert_to_one_hot(DNNtest_y, 2)"
   ]
  },
  {
   "cell_type": "raw",
   "metadata": {},
   "source": [
    "# drop after one hot \n",
    "DNNtrain_X = gbtrain_X.T.as_matrix()\n",
    "DNNval_X = gbval_X.T.as_matrix()\n",
    "DNNtest_X = gbtest_X.T.as_matrix()\n",
    "DNNtrain_y = np.array(train_y).reshape(1,-1)\n",
    "DNNval_y = np.array(val_y).reshape(1,-1)\n",
    "DNNtest_y = np.array(test_y).reshape(1,-1)\n",
    "DNNtrain_y = convert_to_one_hot(DNNtrain_y, 2)\n",
    "DNNval_y = convert_to_one_hot(DNNval_y, 2)\n",
    "DNNtest_y = convert_to_one_hot(DNNtest_y, 2)"
   ]
  },
  {
   "cell_type": "code",
   "execution_count": 111,
   "metadata": {},
   "outputs": [
    {
     "name": "stderr",
     "output_type": "stream",
     "text": [
      "C:\\Users\\THINKPAD\\AppData\\Roaming\\Python\\Python36\\site-packages\\sklearn\\preprocessing\\data.py:617: DataConversionWarning: Data with input dtype int64, float64 were all converted to float64 by StandardScaler.\n",
      "  return self.partial_fit(X, y)\n",
      "C:\\Users\\THINKPAD\\AppData\\Roaming\\Python\\Python36\\site-packages\\sklearn\\base.py:462: DataConversionWarning: Data with input dtype int64, float64 were all converted to float64 by StandardScaler.\n",
      "  return self.fit(X, **fit_params).transform(X)\n",
      "C:\\Users\\THINKPAD\\AppData\\Local\\Continuum\\Anaconda3\\envs\\Tensor\\lib\\site-packages\\ipykernel_launcher.py:4: DataConversionWarning: Data with input dtype int64, float64 were all converted to float64 by StandardScaler.\n",
      "  after removing the cwd from sys.path.\n",
      "C:\\Users\\THINKPAD\\AppData\\Local\\Continuum\\Anaconda3\\envs\\Tensor\\lib\\site-packages\\ipykernel_launcher.py:5: DataConversionWarning: Data with input dtype int64, float64 were all converted to float64 by StandardScaler.\n",
      "  \"\"\"\n",
      "C:\\Users\\THINKPAD\\AppData\\Local\\Continuum\\Anaconda3\\envs\\Tensor\\lib\\site-packages\\ipykernel_launcher.py:32: FutureWarning: Method .as_matrix will be removed in a future version. Use .values instead.\n",
      "C:\\Users\\THINKPAD\\AppData\\Local\\Continuum\\Anaconda3\\envs\\Tensor\\lib\\site-packages\\ipykernel_launcher.py:33: FutureWarning: Method .as_matrix will be removed in a future version. Use .values instead.\n",
      "C:\\Users\\THINKPAD\\AppData\\Local\\Continuum\\Anaconda3\\envs\\Tensor\\lib\\site-packages\\ipykernel_launcher.py:34: FutureWarning: Method .as_matrix will be removed in a future version. Use .values instead.\n"
     ]
    }
   ],
   "source": [
    "# drop twice after one hot\n",
    "data_scaler = StandardScaler()\n",
    "train_num = data_scaler.fit_transform(train_X[numCols])\n",
    "val_num = data_scaler.transform(val_X[numCols])\n",
    "test_num = data_scaler.transform(test_X[numCols])\n",
    "train_num_df = pd.DataFrame(train_num,columns = numCols)[num_select2]\n",
    "train_num_df = train_num_df.reset_index(drop=True)\n",
    "val_num_df = pd.DataFrame(val_num,columns = numCols)[num_select2]\n",
    "val_num_df = val_num_df.reset_index(drop=True)\n",
    "test_num_df = pd.DataFrame(test_num,columns = numCols)[num_select2]\n",
    "test_num_df = test_num_df.reset_index(drop=True)\n",
    "\n",
    "train_cat = train_X[catCols]\n",
    "one_hot = OneHotEncoder(handle_unknown='ignore')\n",
    "one_hot.fit(train_cat)\n",
    "feature_names = [str(i) for i in list(one_hot.get_feature_names())]\n",
    "for i in range(4):\n",
    "    if i == 0:\n",
    "        train_piece = one_hot.transform(train_cat[i*10000:(i+1)*10000]).toarray()[:,inds2]\n",
    "        val_piece = one_hot.transform(val_X[catCols]).toarray()[:,inds2]\n",
    "        test_piece = one_hot.transform(test_X[catCols]).toarray()[:,inds2]    \n",
    "    elif i == 3:\n",
    "        train_piece = np.vstack((train_piece,one_hot.transform(train_cat[30000:]).toarray()[:,inds2]))      \n",
    "    else:\n",
    "        train_piece = np.vstack((train_piece,one_hot.transform(train_cat[i*10000:(i+1)*10000]).toarray()[:,inds2]))\n",
    "\n",
    "train_cat_df = pd.DataFrame(train_piece,columns = cat_select2)\n",
    "val_cat_df = pd.DataFrame(val_piece,columns = cat_select2)\n",
    "test_cat_df = pd.DataFrame(test_piece,columns = cat_select2)\n",
    "newcatCols = list(train_cat_df.columns)\n",
    "\n",
    "DNNtrain_X = pd.concat([train_num_df,train_cat_df],axis = 1).T.as_matrix()\n",
    "DNNval_X = pd.concat([val_num_df,val_cat_df],axis = 1).T.as_matrix()\n",
    "DNNtest_X = pd.concat([test_num_df,test_cat_df],axis = 1).T.as_matrix()\n",
    "\n",
    "DNNtrain_y = np.array(train_y).reshape(1,-1)\n",
    "DNNval_y = np.array(val_y).reshape(1,-1)\n",
    "DNNtest_y = np.array(test_y).reshape(1,-1)\n",
    "DNNtrain_y = convert_to_one_hot(DNNtrain_y, 2)\n",
    "DNNval_y = convert_to_one_hot(DNNval_y, 2)\n",
    "DNNtest_y = convert_to_one_hot(DNNtest_y, 2)"
   ]
  },
  {
   "cell_type": "raw",
   "metadata": {},
   "source": [
    "data_scaler = StandardScaler()\n",
    "train_num = data_scaler.fit_transform(train_X1[numCols1])\n",
    "val_num = data_scaler.transform(val_X1[numCols1])\n",
    "test_num = data_scaler.transform(test_X1[numCols1])\n",
    "train_num_df = pd.DataFrame(train_num,columns = numCols1)\n",
    "train_num_df.reset_index(inplace=True)\n",
    "val_num_df = pd.DataFrame(val_num,columns = numCols1)\n",
    "val_num_df.reset_index(inplace=True)\n",
    "test_num_df = pd.DataFrame(test_num,columns = numCols1)\n",
    "test_num_df.reset_index(inplace=True)\n",
    "\n",
    "one_hot = OneHotEncoder(handle_unknown='ignore')\n",
    "train_cat = one_hot.fit_transform(train_X1[catCols1]).toarray()\n",
    "train_cat_df.reset_index(inplace=True)\n",
    "val_cat = one_hot.transform(val_X1[catCols1]).toarray()\n",
    "val_cat_df.reset_index(inplace=True)\n",
    "test_cat = one_hot.transform(test_X1[catCols1]).toarray()\n",
    "test_cat_df.reset_index(inplace=True)\n",
    "feature_names = [str(i) for i in list(one_hot.get_feature_names())]\n",
    "train_cat_df = pd.DataFrame(train_cat,columns = feature_names)\n",
    "val_cat_df = pd.DataFrame(val_cat,columns = feature_names)\n",
    "test_cat_df = pd.DataFrame(test_cat,columns = feature_names)\n",
    "newcatCols = list(train_cat_df.columns)\n",
    "\n",
    "DNNtrain_X = pd.concat([train_num_df,train_cat_df],axis = 1)\n",
    "DNNval_X = pd.concat([val_num_df,val_cat_df],axis = 1)\n",
    "DNNtest_X = pd.concat([test_num_df,test_cat_df],axis = 1)"
   ]
  },
  {
   "cell_type": "code",
   "execution_count": 9,
   "metadata": {},
   "outputs": [],
   "source": [
    "# try to drop features \n",
    "#DNNtrain_X = train_X1.T.as_matrix()\n",
    "#DNNval_X = val_X1.T.as_matrix()\n",
    "#DNNtrain_y = np.array(train_y1).reshape(1,-1)\n",
    "#DNNval_y = np.array(val_y1).reshape(1,-1)\n",
    "#DNNtrain_y = convert_to_one_hot(DNNtrain_y, 2)\n",
    "#DNNval_y = convert_to_one_hot(DNNval_y, 2)"
   ]
  },
  {
   "cell_type": "code",
   "execution_count": 112,
   "metadata": {},
   "outputs": [
    {
     "name": "stdout",
     "output_type": "stream",
     "text": [
      "Cost after epoch 0: 2.734376\n",
      "Cost after epoch 100: 0.376210\n",
      "Cost after epoch 200: 0.374670\n",
      "Cost after epoch 300: 0.374188\n",
      "Cost after epoch 400: 0.374704\n"
     ]
    },
    {
     "data": {
      "image/png": "[encoded data removed]",
      "text/plain": [
       "<Figure size 432x288 with 1 Axes>"
      ]
     },
     "metadata": {
      "image/png": {
       "height": 277,
       "width": 387
      },
      "needs_background": "light"
     },
     "output_type": "display_data"
    },
    {
     "name": "stdout",
     "output_type": "stream",
     "text": [
      "Parameters have been trained!\n",
      "Train Accuracy: 0.85257304\n",
      "Test Accuracy: 0.8565401\n"
     ]
    }
   ],
   "source": [
    "num1 = DNNtrain_X.shape[0]\n",
    "parameters = model(DNNtrain_X, DNNtrain_y, DNNval_X, DNNval_y,num=num1,learning_rate = 0.0001, keep_prob=0.9,lamb=0.01,num_epochs = 500, minibatch_size=512, params = [256,128,2])"
   ]
  },
  {
   "cell_type": "code",
   "execution_count": 113,
   "metadata": {},
   "outputs": [
    {
     "data": {
      "text/plain": [
       "0.8175628658717319"
      ]
     },
     "execution_count": 113,
     "metadata": {},
     "output_type": "execute_result"
    }
   ],
   "source": [
    "default_prob = get_probability(parameters, DNNval_X)[1,:]\n",
    "roc_auc_score(DNNval_y[1,:], default_prob)"
   ]
  },
  {
   "cell_type": "code",
   "execution_count": 114,
   "metadata": {},
   "outputs": [
    {
     "data": {
      "text/plain": [
       "0.8119817982726376"
      ]
     },
     "execution_count": 114,
     "metadata": {},
     "output_type": "execute_result"
    }
   ],
   "source": [
    "default_prob = get_probability(parameters, DNNtest_X)[1,:]\n",
    "roc_auc_score(DNNtest_y[1,:], default_prob)"
   ]
  },
  {
   "cell_type": "code",
   "execution_count": 115,
   "metadata": {},
   "outputs": [
    {
     "name": "stdout",
     "output_type": "stream",
     "text": [
      "              precision    recall  f1-score   support\n",
      "\n",
      "         0.0       0.87      0.97      0.92      9119\n",
      "         1.0       0.63      0.26      0.36      1843\n",
      "\n",
      "   micro avg       0.85      0.85      0.85     10962\n",
      "   macro avg       0.75      0.61      0.64     10962\n",
      "weighted avg       0.83      0.85      0.82     10962\n",
      "\n"
     ]
    }
   ],
   "source": [
    "print(classification_report(DNNtest_y[1,:], default_prob>0.5))"
   ]
  },
  {
   "cell_type": "code",
   "execution_count": 175,
   "metadata": {},
   "outputs": [
    {
     "name": "stderr",
     "output_type": "stream",
     "text": [
      "C:\\Users\\THINKPAD\\AppData\\Local\\Continuum\\Anaconda3\\envs\\Tensor\\lib\\site-packages\\ipykernel_launcher.py:3: FutureWarning: Method .as_matrix will be removed in a future version. Use .values instead.\n",
      "  This is separate from the ipykernel package so we can avoid doing imports until\n",
      "C:\\Users\\THINKPAD\\AppData\\Local\\Continuum\\Anaconda3\\envs\\Tensor\\lib\\site-packages\\ipykernel_launcher.py:4: FutureWarning: Method .as_matrix will be removed in a future version. Use .values instead.\n",
      "  after removing the cwd from sys.path.\n"
     ]
    },
    {
     "name": "stdout",
     "output_type": "stream",
     "text": [
      "Cost after epoch 0: 17504.457699\n",
      "Cost after epoch 100: 109.061628\n",
      "Cost after epoch 200: 93.162514\n",
      "Cost after epoch 300: 90.435052\n",
      "Cost after epoch 400: 67.341103\n"
     ]
    },
    {
     "data": {
      "image/png": "[encoded data removed]",
      "text/plain": [
       "<Figure size 432x288 with 1 Axes>"
      ]
     },
     "metadata": {
      "image/png": {
       "height": 277,
       "width": 403
      },
      "needs_background": "light"
     },
     "output_type": "display_data"
    },
    {
     "name": "stdout",
     "output_type": "stream",
     "text": [
      "Parameters have been trained!\n",
      "Train Accuracy: 0.8087812\n",
      "Test Accuracy: 0.8065914\n"
     ]
    }
   ],
   "source": [
    "# cross validation\n",
    "num1 = DNNtrain_X.shape[0]\n",
    "learning_rates = [0.00001,0.0001,0.01,0.1]\n",
    "params_all = [[100,50,2],[128,64,2],[64,32,2],[256,128,2],[256,64,2],[512,256,2],[512,128,2]]\n",
    "keep_probs = [1,0.9,0.8]\n",
    "lambs = [0.01,0.1,1,10]\n",
    "minibatch_sizes = [256,512,1024]\n",
    "epochs = [400,500,600]\n",
    "\n",
    "aucl = []\n",
    "for l in learning_rates:\n",
    "    print('choose learning rate')\n",
    "    print(l)\n",
    "    parameters = model(DNNtrain_X, DNNtrain_y, DNNval_X, DNNval_y,num=num1,learning_rate=l)\n",
    "    default_prob = get_probability(parameters, DNNval_X)[1,:]\n",
    "    auc = roc_auc_score(DNNval_y[1,:], default_prob)\n",
    "    aucl.append(auc)\n",
    "    print(auc)\n",
    "    print('----------------------------')\n",
    "maxaucl = max(aucl)\n",
    "bestl = learning_rates[aucl.index(maxaucl)]\n",
    "print('Best learning rate: {}'.format(bestl))\n",
    "print('Best AUC: {}'.format(maxaucl))\n",
    "\n",
    "auck = []\n",
    "for k in keep_probs:\n",
    "    print('choose dropout prob')\n",
    "    print(k)\n",
    "    parameters = model(DNNtrain_X, DNNtrain_y, DNNval_X, DNNval_y,num=num1,learning_rate = bestl, keep_prob = k)\n",
    "    default_prob = get_probability(parameters, DNNval_X)[1,:]\n",
    "    auc = roc_auc_score(DNNval_y[1,:], default_prob)\n",
    "    auck.append(auc)    \n",
    "    print(auc)\n",
    "    print('----------------------------')\n",
    "maxauck = max(auck)\n",
    "bestk = keep_probs[auck.index(maxauck)]\n",
    "print('Best dropout prob: {}'.format(bestk))\n",
    "print('Best AUC: {}'.format(maxauck))\n",
    "\n",
    "\n",
    "aucp = []\n",
    "for p in params_all:\n",
    "    print('choose # nodes')\n",
    "    print(p)\n",
    "    parameters = model(DNNtrain_X, DNNtrain_y, DNNval_X, DNNval_y,num=num1,learning_rate = bestl, keep_prob = bestk, params = p)\n",
    "    default_prob = get_probability(parameters, DNNval_X)[1,:]\n",
    "    auc = roc_auc_score(DNNval_y[1,:], default_prob)\n",
    "    aucp.append(auc)    \n",
    "    print(auc)\n",
    "    print('----------------------------')    \n",
    "maxaucp = max(aucp)\n",
    "bestp = params_all[aucp.index(maxaucp)]\n",
    "print('Best # nodes: {}'.format(bestp))\n",
    "print('Best AUC: {}'.format(maxaucp))\n",
    "\n",
    "\n",
    "aucla = []    \n",
    "for la in lambs:\n",
    "    print('choose regularization param')\n",
    "    print(la)\n",
    "    parameters = model(DNNtrain_X, DNNtrain_y, DNNval_X, DNNval_y,num=num1,learning_rate = bestl, keep_prob = bestk, lamb = la, params = bestp)\n",
    "    default_prob = get_probability(parameters, DNNval_X)[1,:]\n",
    "    auc = roc_auc_score(DNNval_y[1,:], default_prob)\n",
    "    aucla.append(auc)    \n",
    "    print(auc)\n",
    "    print('----------------------------')\n",
    "maxaucla = max(aucla)\n",
    "bestla = lambs[aucla.index(maxaucla)]\n",
    "print('Best regularization param: {}'.format(bestla))\n",
    "print('Best AUC: {}'.format(maxaucla))\n",
    "\n",
    "aucmi = []\n",
    "for mi in minibatch_sizes:\n",
    "    print('choose minibatch size')\n",
    "    print(mi)\n",
    "    parameters = model(DNNtrain_X, DNNtrain_y, DNNval_X, DNNval_y,num=num1,learning_rate = bestl, keep_prob = bestk, lamb = bestla,minibatch_size = mi, params = bestp)\n",
    "    default_prob = get_probability(parameters, DNNval_X)[1,:]\n",
    "    auc = roc_auc_score(DNNval_y[1,:], default_prob)\n",
    "    aucmi.append(auc)  \n",
    "    print(auc)\n",
    "    print('----------------------------')\n",
    "maxaucmi = max(aucmi)\n",
    "bestmi = minibatch_sizes[aucmi.index(maxaucmi)]\n",
    "print('Best minibatch sizes: {}'.format(bestmi))\n",
    "print('Best AUC: {}'.format(maxaucmi))\n",
    "\n",
    "auce = []\n",
    "for e in epochs:\n",
    "    print('choose # epochs')\n",
    "    print(e)\n",
    "    parameters = model(DNNtrain_X, DNNtrain_y, DNNval_X, DNNval_y,num=num1,learning_rate = bestl, keep_prob = bestk, lamb = bestla,num_epochs = e,minibatch_size = mi, params = bestp)\n",
    "    default_prob = get_probability(parameters, DNNval_X)[1,:]\n",
    "    auc = roc_auc_score(DNNval_y[1,:], default_prob)\n",
    "    auce.append(auc)  \n",
    "    print(auc)\n",
    "    print('----------------------------')\n",
    "maxauce = max(auce)\n",
    "beste = minibatch_sizes[auce.index(maxauce)]\n",
    "print('Best # epochs: {}'.format(beste))\n",
    "print('Best AUC: {}'.format(maxauce))   \n"
   ]
  },
  {
   "cell_type": "code",
   "execution_count": 202,
   "metadata": {},
   "outputs": [
    {
     "data": {
      "text/plain": [
       "[<matplotlib.lines.Line2D at 0x11c78b61ba8>]"
      ]
     },
     "execution_count": 202,
     "metadata": {},
     "output_type": "execute_result"
    },
    {
     "data": {
      "image/png": "[encoded data removed]",
      "text/plain": [
       "<Figure size 360x360 with 1 Axes>"
      ]
     },
     "metadata": {
      "image/png": {
       "height": 304,
       "width": 319
      },
      "needs_background": "light"
     },
     "output_type": "display_data"
    }
   ],
   "source": [
    "default_prob = get_probability(parameters, DNNval_X)[1,:]\n",
    "n = 200\n",
    "TPR = np.zeros((n,1))\n",
    "FPR = np.zeros((n,1))\n",
    "t = np.linspace(0.0, 1.0, n)\n",
    "for i in range(n):\n",
    "    TPR[i,0], FPR[i,0] = get_ROC(default_prob,t[i],DNNval_y[1,:])\n",
    "plt.figure(figsize=(5,5))\n",
    "plt.plot(FPR, TPR)"
   ]
  },
  {
   "cell_type": "code",
   "execution_count": 204,
   "metadata": {},
   "outputs": [
    {
     "data": {
      "text/plain": [
       "0.6163920763297972"
      ]
     },
     "execution_count": 204,
     "metadata": {},
     "output_type": "execute_result"
    }
   ],
   "source": [
    "roc_auc_score(DNNval_y[1,:], default_prob)"
   ]
  },
  {
   "cell_type": "code",
   "execution_count": 200,
   "metadata": {},
   "outputs": [],
   "source": []
  },
  {
   "cell_type": "markdown",
   "metadata": {},
   "source": [
    "## Regression"
   ]
  },
  {
   "cell_type": "code",
   "execution_count": 75,
   "metadata": {},
   "outputs": [],
   "source": [
    "regdata = rawdata[rawdata['target'] == 1]\n",
    "# split the data\n",
    "#y_reg = np.log(regdata['GrossChargeOffAmount'].values + 1)\n",
    "# predict percentage\n",
    "y_reg = regdata['severity'].values\n",
    "X_reg = regdata[numCols+['age']+catCols]\n",
    "train_X_reg, test_X_reg, train_y_reg, test_y_reg = train_test_split(X_reg,y_reg,test_size=0.2,random_state=1)\n",
    "train_X_reg, val_X_reg, train_y_reg, val_y_reg = train_test_split(train_X_reg,train_y_reg,test_size=0.2,random_state=1)\n"
   ]
  },
  {
   "cell_type": "markdown",
   "metadata": {},
   "source": [
    "### Linear Regression"
   ]
  },
  {
   "cell_type": "code",
   "execution_count": 7,
   "metadata": {},
   "outputs": [
    {
     "name": "stderr",
     "output_type": "stream",
     "text": [
      "C:\\Users\\THINKPAD\\AppData\\Roaming\\Python\\Python36\\site-packages\\sklearn\\preprocessing\\data.py:617: DataConversionWarning: Data with input dtype int64, float64 were all converted to float64 by StandardScaler.\n",
      "  return self.partial_fit(X, y)\n",
      "C:\\Users\\THINKPAD\\AppData\\Roaming\\Python\\Python36\\site-packages\\sklearn\\base.py:465: DataConversionWarning: Data with input dtype int64, float64 were all converted to float64 by StandardScaler.\n",
      "  return self.fit(X, y, **fit_params).transform(X)\n"
     ]
    },
    {
     "name": "stdout",
     "output_type": "stream",
     "text": [
      "time: 8.82875943183899\n",
      "0.6684901359647913\n"
     ]
    },
    {
     "name": "stderr",
     "output_type": "stream",
     "text": [
      "C:\\Users\\THINKPAD\\AppData\\Roaming\\Python\\Python36\\site-packages\\sklearn\\pipeline.py:451: DataConversionWarning: Data with input dtype int64, float64 were all converted to float64 by StandardScaler.\n",
      "  Xt = transform.transform(Xt)\n"
     ]
    }
   ],
   "source": [
    "starttime = time.time()\n",
    "numeric_transformer = Pipeline(steps=[('scaler', StandardScaler())])\n",
    "categorical_transformer = Pipeline(steps=[('onehot', OneHotEncoder(handle_unknown='ignore'))])\n",
    "preprocessor = ColumnTransformer(transformers=[('num', numeric_transformer, numCols),\n",
    "                                               ('cat', categorical_transformer, catCols)])\n",
    "lr = Pipeline(steps=[('preprocessor', preprocessor),\n",
    "                      ('regressor', LinearRegression())])\n",
    "lr.fit(train_X_reg, train_y_reg)\n",
    "print('time: {}'.format(time.time()-starttime))\n",
    "print(np.sqrt(metrics.mean_squared_error(val_y_reg, lr.predict(val_X_reg))))\n"
   ]
  },
  {
   "cell_type": "markdown",
   "metadata": {},
   "source": [
    "### Lasso"
   ]
  },
  {
   "cell_type": "code",
   "execution_count": 11,
   "metadata": {},
   "outputs": [
    {
     "name": "stdout",
     "output_type": "stream",
     "text": [
      "alpha: 0.01\n"
     ]
    },
    {
     "name": "stderr",
     "output_type": "stream",
     "text": [
      "C:\\Users\\THINKPAD\\AppData\\Roaming\\Python\\Python36\\site-packages\\sklearn\\preprocessing\\data.py:617: DataConversionWarning: Data with input dtype int64, float64 were all converted to float64 by StandardScaler.\n",
      "  return self.partial_fit(X, y)\n",
      "C:\\Users\\THINKPAD\\AppData\\Roaming\\Python\\Python36\\site-packages\\sklearn\\base.py:465: DataConversionWarning: Data with input dtype int64, float64 were all converted to float64 by StandardScaler.\n",
      "  return self.fit(X, y, **fit_params).transform(X)\n",
      "C:\\Users\\THINKPAD\\AppData\\Roaming\\Python\\Python36\\site-packages\\sklearn\\pipeline.py:451: DataConversionWarning: Data with input dtype int64, float64 were all converted to float64 by StandardScaler.\n",
      "  Xt = transform.transform(Xt)\n",
      "C:\\Users\\THINKPAD\\AppData\\Roaming\\Python\\Python36\\site-packages\\sklearn\\preprocessing\\data.py:617: DataConversionWarning: Data with input dtype int64, float64 were all converted to float64 by StandardScaler.\n",
      "  return self.partial_fit(X, y)\n",
      "C:\\Users\\THINKPAD\\AppData\\Roaming\\Python\\Python36\\site-packages\\sklearn\\base.py:465: DataConversionWarning: Data with input dtype int64, float64 were all converted to float64 by StandardScaler.\n",
      "  return self.fit(X, y, **fit_params).transform(X)\n"
     ]
    },
    {
     "name": "stdout",
     "output_type": "stream",
     "text": [
      "0.21338058838862148\n",
      "alpha: 0.05\n"
     ]
    },
    {
     "name": "stderr",
     "output_type": "stream",
     "text": [
      "C:\\Users\\THINKPAD\\AppData\\Roaming\\Python\\Python36\\site-packages\\sklearn\\pipeline.py:451: DataConversionWarning: Data with input dtype int64, float64 were all converted to float64 by StandardScaler.\n",
      "  Xt = transform.transform(Xt)\n",
      "C:\\Users\\THINKPAD\\AppData\\Roaming\\Python\\Python36\\site-packages\\sklearn\\preprocessing\\data.py:617: DataConversionWarning: Data with input dtype int64, float64 were all converted to float64 by StandardScaler.\n",
      "  return self.partial_fit(X, y)\n",
      "C:\\Users\\THINKPAD\\AppData\\Roaming\\Python\\Python36\\site-packages\\sklearn\\base.py:465: DataConversionWarning: Data with input dtype int64, float64 were all converted to float64 by StandardScaler.\n",
      "  return self.fit(X, y, **fit_params).transform(X)\n"
     ]
    },
    {
     "name": "stdout",
     "output_type": "stream",
     "text": [
      "0.22812562276596624\n",
      "alpha: 0.1\n"
     ]
    },
    {
     "name": "stderr",
     "output_type": "stream",
     "text": [
      "C:\\Users\\THINKPAD\\AppData\\Roaming\\Python\\Python36\\site-packages\\sklearn\\pipeline.py:451: DataConversionWarning: Data with input dtype int64, float64 were all converted to float64 by StandardScaler.\n",
      "  Xt = transform.transform(Xt)\n",
      "C:\\Users\\THINKPAD\\AppData\\Roaming\\Python\\Python36\\site-packages\\sklearn\\preprocessing\\data.py:617: DataConversionWarning: Data with input dtype int64, float64 were all converted to float64 by StandardScaler.\n",
      "  return self.partial_fit(X, y)\n",
      "C:\\Users\\THINKPAD\\AppData\\Roaming\\Python\\Python36\\site-packages\\sklearn\\base.py:465: DataConversionWarning: Data with input dtype int64, float64 were all converted to float64 by StandardScaler.\n",
      "  return self.fit(X, y, **fit_params).transform(X)\n"
     ]
    },
    {
     "name": "stdout",
     "output_type": "stream",
     "text": [
      "0.2309741424196447\n",
      "alpha: 0.2\n",
      "0.2309741424196447\n"
     ]
    },
    {
     "name": "stderr",
     "output_type": "stream",
     "text": [
      "C:\\Users\\THINKPAD\\AppData\\Roaming\\Python\\Python36\\site-packages\\sklearn\\pipeline.py:451: DataConversionWarning: Data with input dtype int64, float64 were all converted to float64 by StandardScaler.\n",
      "  Xt = transform.transform(Xt)\n"
     ]
    }
   ],
   "source": [
    "from sklearn.linear_model import Lasso\n",
    "alphas = [0.01,0.05,0.1,0.2]\n",
    "for a in alphas:\n",
    "    print('alpha: {}'.format(a))\n",
    "    lasso = Pipeline(steps=[('preprocessor', preprocessor),\n",
    "                      ('regressor',  Lasso(alpha = a))])\n",
    "    lasso.fit(train_X_reg, train_y_reg)\n",
    "    print(np.sqrt(metrics.mean_squared_error(val_y_reg, lasso.predict(val_X_reg))))\n",
    "    \n"
   ]
  },
  {
   "cell_type": "markdown",
   "metadata": {},
   "source": [
    "### Ridge"
   ]
  },
  {
   "cell_type": "code",
   "execution_count": 12,
   "metadata": {},
   "outputs": [
    {
     "name": "stdout",
     "output_type": "stream",
     "text": [
      "alpha: 0.01\n"
     ]
    },
    {
     "name": "stderr",
     "output_type": "stream",
     "text": [
      "C:\\Users\\THINKPAD\\AppData\\Roaming\\Python\\Python36\\site-packages\\sklearn\\preprocessing\\data.py:617: DataConversionWarning: Data with input dtype int64, float64 were all converted to float64 by StandardScaler.\n",
      "  return self.partial_fit(X, y)\n",
      "C:\\Users\\THINKPAD\\AppData\\Roaming\\Python\\Python36\\site-packages\\sklearn\\base.py:465: DataConversionWarning: Data with input dtype int64, float64 were all converted to float64 by StandardScaler.\n",
      "  return self.fit(X, y, **fit_params).transform(X)\n",
      "C:\\Users\\THINKPAD\\AppData\\Roaming\\Python\\Python36\\site-packages\\sklearn\\pipeline.py:451: DataConversionWarning: Data with input dtype int64, float64 were all converted to float64 by StandardScaler.\n",
      "  Xt = transform.transform(Xt)\n",
      "C:\\Users\\THINKPAD\\AppData\\Roaming\\Python\\Python36\\site-packages\\sklearn\\preprocessing\\data.py:617: DataConversionWarning: Data with input dtype int64, float64 were all converted to float64 by StandardScaler.\n",
      "  return self.partial_fit(X, y)\n",
      "C:\\Users\\THINKPAD\\AppData\\Roaming\\Python\\Python36\\site-packages\\sklearn\\base.py:465: DataConversionWarning: Data with input dtype int64, float64 were all converted to float64 by StandardScaler.\n",
      "  return self.fit(X, y, **fit_params).transform(X)\n"
     ]
    },
    {
     "name": "stdout",
     "output_type": "stream",
     "text": [
      "0.22012850619524946\n",
      "alpha: 0.1\n"
     ]
    },
    {
     "name": "stderr",
     "output_type": "stream",
     "text": [
      "C:\\Users\\THINKPAD\\AppData\\Roaming\\Python\\Python36\\site-packages\\sklearn\\pipeline.py:451: DataConversionWarning: Data with input dtype int64, float64 were all converted to float64 by StandardScaler.\n",
      "  Xt = transform.transform(Xt)\n",
      "C:\\Users\\THINKPAD\\AppData\\Roaming\\Python\\Python36\\site-packages\\sklearn\\preprocessing\\data.py:617: DataConversionWarning: Data with input dtype int64, float64 were all converted to float64 by StandardScaler.\n",
      "  return self.partial_fit(X, y)\n",
      "C:\\Users\\THINKPAD\\AppData\\Roaming\\Python\\Python36\\site-packages\\sklearn\\base.py:465: DataConversionWarning: Data with input dtype int64, float64 were all converted to float64 by StandardScaler.\n",
      "  return self.fit(X, y, **fit_params).transform(X)\n"
     ]
    },
    {
     "name": "stdout",
     "output_type": "stream",
     "text": [
      "0.21926511380080366\n",
      "alpha: 0.2\n"
     ]
    },
    {
     "name": "stderr",
     "output_type": "stream",
     "text": [
      "C:\\Users\\THINKPAD\\AppData\\Roaming\\Python\\Python36\\site-packages\\sklearn\\pipeline.py:451: DataConversionWarning: Data with input dtype int64, float64 were all converted to float64 by StandardScaler.\n",
      "  Xt = transform.transform(Xt)\n",
      "C:\\Users\\THINKPAD\\AppData\\Roaming\\Python\\Python36\\site-packages\\sklearn\\preprocessing\\data.py:617: DataConversionWarning: Data with input dtype int64, float64 were all converted to float64 by StandardScaler.\n",
      "  return self.partial_fit(X, y)\n",
      "C:\\Users\\THINKPAD\\AppData\\Roaming\\Python\\Python36\\site-packages\\sklearn\\base.py:465: DataConversionWarning: Data with input dtype int64, float64 were all converted to float64 by StandardScaler.\n",
      "  return self.fit(X, y, **fit_params).transform(X)\n"
     ]
    },
    {
     "name": "stdout",
     "output_type": "stream",
     "text": [
      "0.21837529883791307\n",
      "alpha: 0.5\n",
      "0.2161683411253842\n"
     ]
    },
    {
     "name": "stderr",
     "output_type": "stream",
     "text": [
      "C:\\Users\\THINKPAD\\AppData\\Roaming\\Python\\Python36\\site-packages\\sklearn\\pipeline.py:451: DataConversionWarning: Data with input dtype int64, float64 were all converted to float64 by StandardScaler.\n",
      "  Xt = transform.transform(Xt)\n"
     ]
    }
   ],
   "source": [
    "alphas = [0.01,0.1,0.2,0.5]\n",
    "for a in alphas:\n",
    "    print('alpha: {}'.format(a))\n",
    "    ridge = Pipeline(steps=[('preprocessor', preprocessor),\n",
    "                      ('regressor',  Ridge(alpha = a))])\n",
    "    ridge.fit(train_X_reg, train_y_reg)\n",
    "    print(np.sqrt(metrics.mean_squared_error(val_y_reg, ridge.predict(val_X_reg))))"
   ]
  },
  {
   "cell_type": "markdown",
   "metadata": {},
   "source": [
    "### Elastic Net"
   ]
  },
  {
   "cell_type": "code",
   "execution_count": 8,
   "metadata": {},
   "outputs": [
    {
     "name": "stdout",
     "output_type": "stream",
     "text": [
      "alpha: 0.01\n",
      "l1 ratio: 0.1\n"
     ]
    },
    {
     "name": "stderr",
     "output_type": "stream",
     "text": [
      "C:\\Users\\THINKPAD\\AppData\\Roaming\\Python\\Python36\\site-packages\\sklearn\\preprocessing\\data.py:617: DataConversionWarning: Data with input dtype int64, float64 were all converted to float64 by StandardScaler.\n",
      "  return self.partial_fit(X, y)\n",
      "C:\\Users\\THINKPAD\\AppData\\Roaming\\Python\\Python36\\site-packages\\sklearn\\base.py:465: DataConversionWarning: Data with input dtype int64, float64 were all converted to float64 by StandardScaler.\n",
      "  return self.fit(X, y, **fit_params).transform(X)\n",
      "C:\\Users\\THINKPAD\\AppData\\Roaming\\Python\\Python36\\site-packages\\sklearn\\pipeline.py:451: DataConversionWarning: Data with input dtype int64, float64 were all converted to float64 by StandardScaler.\n",
      "  Xt = transform.transform(Xt)\n",
      "C:\\Users\\THINKPAD\\AppData\\Roaming\\Python\\Python36\\site-packages\\sklearn\\preprocessing\\data.py:617: DataConversionWarning: Data with input dtype int64, float64 were all converted to float64 by StandardScaler.\n",
      "  return self.partial_fit(X, y)\n",
      "C:\\Users\\THINKPAD\\AppData\\Roaming\\Python\\Python36\\site-packages\\sklearn\\base.py:465: DataConversionWarning: Data with input dtype int64, float64 were all converted to float64 by StandardScaler.\n",
      "  return self.fit(X, y, **fit_params).transform(X)\n"
     ]
    },
    {
     "name": "stdout",
     "output_type": "stream",
     "text": [
      "0.2049552925861022\n",
      "alpha: 0.01\n",
      "l1 ratio: 0.3\n"
     ]
    },
    {
     "name": "stderr",
     "output_type": "stream",
     "text": [
      "C:\\Users\\THINKPAD\\AppData\\Roaming\\Python\\Python36\\site-packages\\sklearn\\pipeline.py:451: DataConversionWarning: Data with input dtype int64, float64 were all converted to float64 by StandardScaler.\n",
      "  Xt = transform.transform(Xt)\n",
      "C:\\Users\\THINKPAD\\AppData\\Roaming\\Python\\Python36\\site-packages\\sklearn\\preprocessing\\data.py:617: DataConversionWarning: Data with input dtype int64, float64 were all converted to float64 by StandardScaler.\n",
      "  return self.partial_fit(X, y)\n",
      "C:\\Users\\THINKPAD\\AppData\\Roaming\\Python\\Python36\\site-packages\\sklearn\\base.py:465: DataConversionWarning: Data with input dtype int64, float64 were all converted to float64 by StandardScaler.\n",
      "  return self.fit(X, y, **fit_params).transform(X)\n"
     ]
    },
    {
     "name": "stdout",
     "output_type": "stream",
     "text": [
      "0.20801827632621087\n",
      "alpha: 0.01\n",
      "l1 ratio: 0.5\n"
     ]
    },
    {
     "name": "stderr",
     "output_type": "stream",
     "text": [
      "C:\\Users\\THINKPAD\\AppData\\Roaming\\Python\\Python36\\site-packages\\sklearn\\pipeline.py:451: DataConversionWarning: Data with input dtype int64, float64 were all converted to float64 by StandardScaler.\n",
      "  Xt = transform.transform(Xt)\n",
      "C:\\Users\\THINKPAD\\AppData\\Roaming\\Python\\Python36\\site-packages\\sklearn\\preprocessing\\data.py:617: DataConversionWarning: Data with input dtype int64, float64 were all converted to float64 by StandardScaler.\n",
      "  return self.partial_fit(X, y)\n",
      "C:\\Users\\THINKPAD\\AppData\\Roaming\\Python\\Python36\\site-packages\\sklearn\\base.py:465: DataConversionWarning: Data with input dtype int64, float64 were all converted to float64 by StandardScaler.\n",
      "  return self.fit(X, y, **fit_params).transform(X)\n"
     ]
    },
    {
     "name": "stdout",
     "output_type": "stream",
     "text": [
      "0.20990089638380519\n",
      "alpha: 0.01\n",
      "l1 ratio: 0.7\n"
     ]
    },
    {
     "name": "stderr",
     "output_type": "stream",
     "text": [
      "C:\\Users\\THINKPAD\\AppData\\Roaming\\Python\\Python36\\site-packages\\sklearn\\pipeline.py:451: DataConversionWarning: Data with input dtype int64, float64 were all converted to float64 by StandardScaler.\n",
      "  Xt = transform.transform(Xt)\n",
      "C:\\Users\\THINKPAD\\AppData\\Roaming\\Python\\Python36\\site-packages\\sklearn\\preprocessing\\data.py:617: DataConversionWarning: Data with input dtype int64, float64 were all converted to float64 by StandardScaler.\n",
      "  return self.partial_fit(X, y)\n",
      "C:\\Users\\THINKPAD\\AppData\\Roaming\\Python\\Python36\\site-packages\\sklearn\\base.py:465: DataConversionWarning: Data with input dtype int64, float64 were all converted to float64 by StandardScaler.\n",
      "  return self.fit(X, y, **fit_params).transform(X)\n"
     ]
    },
    {
     "name": "stdout",
     "output_type": "stream",
     "text": [
      "0.2117467988377672\n",
      "alpha: 0.01\n",
      "l1 ratio: 0.9\n"
     ]
    },
    {
     "name": "stderr",
     "output_type": "stream",
     "text": [
      "C:\\Users\\THINKPAD\\AppData\\Roaming\\Python\\Python36\\site-packages\\sklearn\\pipeline.py:451: DataConversionWarning: Data with input dtype int64, float64 were all converted to float64 by StandardScaler.\n",
      "  Xt = transform.transform(Xt)\n",
      "C:\\Users\\THINKPAD\\AppData\\Roaming\\Python\\Python36\\site-packages\\sklearn\\preprocessing\\data.py:617: DataConversionWarning: Data with input dtype int64, float64 were all converted to float64 by StandardScaler.\n",
      "  return self.partial_fit(X, y)\n",
      "C:\\Users\\THINKPAD\\AppData\\Roaming\\Python\\Python36\\site-packages\\sklearn\\base.py:465: DataConversionWarning: Data with input dtype int64, float64 were all converted to float64 by StandardScaler.\n",
      "  return self.fit(X, y, **fit_params).transform(X)\n"
     ]
    },
    {
     "name": "stdout",
     "output_type": "stream",
     "text": [
      "0.21298806817039642\n",
      "alpha: 0.05\n",
      "l1 ratio: 0.1\n"
     ]
    },
    {
     "name": "stderr",
     "output_type": "stream",
     "text": [
      "C:\\Users\\THINKPAD\\AppData\\Roaming\\Python\\Python36\\site-packages\\sklearn\\pipeline.py:451: DataConversionWarning: Data with input dtype int64, float64 were all converted to float64 by StandardScaler.\n",
      "  Xt = transform.transform(Xt)\n",
      "C:\\Users\\THINKPAD\\AppData\\Roaming\\Python\\Python36\\site-packages\\sklearn\\preprocessing\\data.py:617: DataConversionWarning: Data with input dtype int64, float64 were all converted to float64 by StandardScaler.\n",
      "  return self.partial_fit(X, y)\n",
      "C:\\Users\\THINKPAD\\AppData\\Roaming\\Python\\Python36\\site-packages\\sklearn\\base.py:465: DataConversionWarning: Data with input dtype int64, float64 were all converted to float64 by StandardScaler.\n",
      "  return self.fit(X, y, **fit_params).transform(X)\n"
     ]
    },
    {
     "name": "stdout",
     "output_type": "stream",
     "text": [
      "0.21075888057735298\n",
      "alpha: 0.05\n",
      "l1 ratio: 0.3\n"
     ]
    },
    {
     "name": "stderr",
     "output_type": "stream",
     "text": [
      "C:\\Users\\THINKPAD\\AppData\\Roaming\\Python\\Python36\\site-packages\\sklearn\\pipeline.py:451: DataConversionWarning: Data with input dtype int64, float64 were all converted to float64 by StandardScaler.\n",
      "  Xt = transform.transform(Xt)\n",
      "C:\\Users\\THINKPAD\\AppData\\Roaming\\Python\\Python36\\site-packages\\sklearn\\preprocessing\\data.py:617: DataConversionWarning: Data with input dtype int64, float64 were all converted to float64 by StandardScaler.\n",
      "  return self.partial_fit(X, y)\n",
      "C:\\Users\\THINKPAD\\AppData\\Roaming\\Python\\Python36\\site-packages\\sklearn\\base.py:465: DataConversionWarning: Data with input dtype int64, float64 were all converted to float64 by StandardScaler.\n",
      "  return self.fit(X, y, **fit_params).transform(X)\n"
     ]
    },
    {
     "name": "stdout",
     "output_type": "stream",
     "text": [
      "0.2160495275632121\n",
      "alpha: 0.05\n",
      "l1 ratio: 0.5\n"
     ]
    },
    {
     "name": "stderr",
     "output_type": "stream",
     "text": [
      "C:\\Users\\THINKPAD\\AppData\\Roaming\\Python\\Python36\\site-packages\\sklearn\\pipeline.py:451: DataConversionWarning: Data with input dtype int64, float64 were all converted to float64 by StandardScaler.\n",
      "  Xt = transform.transform(Xt)\n",
      "C:\\Users\\THINKPAD\\AppData\\Roaming\\Python\\Python36\\site-packages\\sklearn\\preprocessing\\data.py:617: DataConversionWarning: Data with input dtype int64, float64 were all converted to float64 by StandardScaler.\n",
      "  return self.partial_fit(X, y)\n",
      "C:\\Users\\THINKPAD\\AppData\\Roaming\\Python\\Python36\\site-packages\\sklearn\\base.py:465: DataConversionWarning: Data with input dtype int64, float64 were all converted to float64 by StandardScaler.\n",
      "  return self.fit(X, y, **fit_params).transform(X)\n"
     ]
    },
    {
     "name": "stdout",
     "output_type": "stream",
     "text": [
      "0.2198261278140094\n",
      "alpha: 0.05\n",
      "l1 ratio: 0.7\n"
     ]
    },
    {
     "name": "stderr",
     "output_type": "stream",
     "text": [
      "C:\\Users\\THINKPAD\\AppData\\Roaming\\Python\\Python36\\site-packages\\sklearn\\pipeline.py:451: DataConversionWarning: Data with input dtype int64, float64 were all converted to float64 by StandardScaler.\n",
      "  Xt = transform.transform(Xt)\n",
      "C:\\Users\\THINKPAD\\AppData\\Roaming\\Python\\Python36\\site-packages\\sklearn\\preprocessing\\data.py:617: DataConversionWarning: Data with input dtype int64, float64 were all converted to float64 by StandardScaler.\n",
      "  return self.partial_fit(X, y)\n",
      "C:\\Users\\THINKPAD\\AppData\\Roaming\\Python\\Python36\\site-packages\\sklearn\\base.py:465: DataConversionWarning: Data with input dtype int64, float64 were all converted to float64 by StandardScaler.\n",
      "  return self.fit(X, y, **fit_params).transform(X)\n"
     ]
    },
    {
     "name": "stdout",
     "output_type": "stream",
     "text": [
      "0.22523488041937667\n",
      "alpha: 0.05\n",
      "l1 ratio: 0.9\n"
     ]
    },
    {
     "name": "stderr",
     "output_type": "stream",
     "text": [
      "C:\\Users\\THINKPAD\\AppData\\Roaming\\Python\\Python36\\site-packages\\sklearn\\pipeline.py:451: DataConversionWarning: Data with input dtype int64, float64 were all converted to float64 by StandardScaler.\n",
      "  Xt = transform.transform(Xt)\n",
      "C:\\Users\\THINKPAD\\AppData\\Roaming\\Python\\Python36\\site-packages\\sklearn\\preprocessing\\data.py:617: DataConversionWarning: Data with input dtype int64, float64 were all converted to float64 by StandardScaler.\n",
      "  return self.partial_fit(X, y)\n",
      "C:\\Users\\THINKPAD\\AppData\\Roaming\\Python\\Python36\\site-packages\\sklearn\\base.py:465: DataConversionWarning: Data with input dtype int64, float64 were all converted to float64 by StandardScaler.\n",
      "  return self.fit(X, y, **fit_params).transform(X)\n"
     ]
    },
    {
     "name": "stdout",
     "output_type": "stream",
     "text": [
      "0.22713767579627195\n",
      "alpha: 0.1\n",
      "l1 ratio: 0.1\n"
     ]
    },
    {
     "name": "stderr",
     "output_type": "stream",
     "text": [
      "C:\\Users\\THINKPAD\\AppData\\Roaming\\Python\\Python36\\site-packages\\sklearn\\pipeline.py:451: DataConversionWarning: Data with input dtype int64, float64 were all converted to float64 by StandardScaler.\n",
      "  Xt = transform.transform(Xt)\n",
      "C:\\Users\\THINKPAD\\AppData\\Roaming\\Python\\Python36\\site-packages\\sklearn\\preprocessing\\data.py:617: DataConversionWarning: Data with input dtype int64, float64 were all converted to float64 by StandardScaler.\n",
      "  return self.partial_fit(X, y)\n",
      "C:\\Users\\THINKPAD\\AppData\\Roaming\\Python\\Python36\\site-packages\\sklearn\\base.py:465: DataConversionWarning: Data with input dtype int64, float64 were all converted to float64 by StandardScaler.\n",
      "  return self.fit(X, y, **fit_params).transform(X)\n"
     ]
    },
    {
     "name": "stdout",
     "output_type": "stream",
     "text": [
      "0.2149161689175363\n",
      "alpha: 0.1\n",
      "l1 ratio: 0.3\n"
     ]
    },
    {
     "name": "stderr",
     "output_type": "stream",
     "text": [
      "C:\\Users\\THINKPAD\\AppData\\Roaming\\Python\\Python36\\site-packages\\sklearn\\pipeline.py:451: DataConversionWarning: Data with input dtype int64, float64 were all converted to float64 by StandardScaler.\n",
      "  Xt = transform.transform(Xt)\n",
      "C:\\Users\\THINKPAD\\AppData\\Roaming\\Python\\Python36\\site-packages\\sklearn\\preprocessing\\data.py:617: DataConversionWarning: Data with input dtype int64, float64 were all converted to float64 by StandardScaler.\n",
      "  return self.partial_fit(X, y)\n",
      "C:\\Users\\THINKPAD\\AppData\\Roaming\\Python\\Python36\\site-packages\\sklearn\\base.py:465: DataConversionWarning: Data with input dtype int64, float64 were all converted to float64 by StandardScaler.\n",
      "  return self.fit(X, y, **fit_params).transform(X)\n"
     ]
    },
    {
     "name": "stdout",
     "output_type": "stream",
     "text": [
      "0.22291639203379413\n",
      "alpha: 0.1\n",
      "l1 ratio: 0.5\n"
     ]
    },
    {
     "name": "stderr",
     "output_type": "stream",
     "text": [
      "C:\\Users\\THINKPAD\\AppData\\Roaming\\Python\\Python36\\site-packages\\sklearn\\pipeline.py:451: DataConversionWarning: Data with input dtype int64, float64 were all converted to float64 by StandardScaler.\n",
      "  Xt = transform.transform(Xt)\n",
      "C:\\Users\\THINKPAD\\AppData\\Roaming\\Python\\Python36\\site-packages\\sklearn\\preprocessing\\data.py:617: DataConversionWarning: Data with input dtype int64, float64 were all converted to float64 by StandardScaler.\n",
      "  return self.partial_fit(X, y)\n",
      "C:\\Users\\THINKPAD\\AppData\\Roaming\\Python\\Python36\\site-packages\\sklearn\\base.py:465: DataConversionWarning: Data with input dtype int64, float64 were all converted to float64 by StandardScaler.\n",
      "  return self.fit(X, y, **fit_params).transform(X)\n"
     ]
    },
    {
     "name": "stdout",
     "output_type": "stream",
     "text": [
      "0.2282474633550291\n",
      "alpha: 0.1\n",
      "l1 ratio: 0.7\n"
     ]
    },
    {
     "name": "stderr",
     "output_type": "stream",
     "text": [
      "C:\\Users\\THINKPAD\\AppData\\Roaming\\Python\\Python36\\site-packages\\sklearn\\pipeline.py:451: DataConversionWarning: Data with input dtype int64, float64 were all converted to float64 by StandardScaler.\n",
      "  Xt = transform.transform(Xt)\n",
      "C:\\Users\\THINKPAD\\AppData\\Roaming\\Python\\Python36\\site-packages\\sklearn\\preprocessing\\data.py:617: DataConversionWarning: Data with input dtype int64, float64 were all converted to float64 by StandardScaler.\n",
      "  return self.partial_fit(X, y)\n",
      "C:\\Users\\THINKPAD\\AppData\\Roaming\\Python\\Python36\\site-packages\\sklearn\\base.py:465: DataConversionWarning: Data with input dtype int64, float64 were all converted to float64 by StandardScaler.\n",
      "  return self.fit(X, y, **fit_params).transform(X)\n"
     ]
    },
    {
     "name": "stdout",
     "output_type": "stream",
     "text": [
      "0.2309741424196447\n",
      "alpha: 0.1\n",
      "l1 ratio: 0.9\n"
     ]
    },
    {
     "name": "stderr",
     "output_type": "stream",
     "text": [
      "C:\\Users\\THINKPAD\\AppData\\Roaming\\Python\\Python36\\site-packages\\sklearn\\pipeline.py:451: DataConversionWarning: Data with input dtype int64, float64 were all converted to float64 by StandardScaler.\n",
      "  Xt = transform.transform(Xt)\n",
      "C:\\Users\\THINKPAD\\AppData\\Roaming\\Python\\Python36\\site-packages\\sklearn\\preprocessing\\data.py:617: DataConversionWarning: Data with input dtype int64, float64 were all converted to float64 by StandardScaler.\n",
      "  return self.partial_fit(X, y)\n",
      "C:\\Users\\THINKPAD\\AppData\\Roaming\\Python\\Python36\\site-packages\\sklearn\\base.py:465: DataConversionWarning: Data with input dtype int64, float64 were all converted to float64 by StandardScaler.\n",
      "  return self.fit(X, y, **fit_params).transform(X)\n"
     ]
    },
    {
     "name": "stdout",
     "output_type": "stream",
     "text": [
      "0.2309741424196447\n",
      "alpha: 0.2\n",
      "l1 ratio: 0.1\n"
     ]
    },
    {
     "name": "stderr",
     "output_type": "stream",
     "text": [
      "C:\\Users\\THINKPAD\\AppData\\Roaming\\Python\\Python36\\site-packages\\sklearn\\pipeline.py:451: DataConversionWarning: Data with input dtype int64, float64 were all converted to float64 by StandardScaler.\n",
      "  Xt = transform.transform(Xt)\n",
      "C:\\Users\\THINKPAD\\AppData\\Roaming\\Python\\Python36\\site-packages\\sklearn\\preprocessing\\data.py:617: DataConversionWarning: Data with input dtype int64, float64 were all converted to float64 by StandardScaler.\n",
      "  return self.partial_fit(X, y)\n",
      "C:\\Users\\THINKPAD\\AppData\\Roaming\\Python\\Python36\\site-packages\\sklearn\\base.py:465: DataConversionWarning: Data with input dtype int64, float64 were all converted to float64 by StandardScaler.\n",
      "  return self.fit(X, y, **fit_params).transform(X)\n"
     ]
    },
    {
     "name": "stdout",
     "output_type": "stream",
     "text": [
      "0.21973477659773274\n",
      "alpha: 0.2\n",
      "l1 ratio: 0.3\n"
     ]
    },
    {
     "name": "stderr",
     "output_type": "stream",
     "text": [
      "C:\\Users\\THINKPAD\\AppData\\Roaming\\Python\\Python36\\site-packages\\sklearn\\pipeline.py:451: DataConversionWarning: Data with input dtype int64, float64 were all converted to float64 by StandardScaler.\n",
      "  Xt = transform.transform(Xt)\n",
      "C:\\Users\\THINKPAD\\AppData\\Roaming\\Python\\Python36\\site-packages\\sklearn\\preprocessing\\data.py:617: DataConversionWarning: Data with input dtype int64, float64 were all converted to float64 by StandardScaler.\n",
      "  return self.partial_fit(X, y)\n",
      "C:\\Users\\THINKPAD\\AppData\\Roaming\\Python\\Python36\\site-packages\\sklearn\\base.py:465: DataConversionWarning: Data with input dtype int64, float64 were all converted to float64 by StandardScaler.\n",
      "  return self.fit(X, y, **fit_params).transform(X)\n"
     ]
    },
    {
     "name": "stdout",
     "output_type": "stream",
     "text": [
      "0.23051492525741088\n",
      "alpha: 0.2\n",
      "l1 ratio: 0.5\n"
     ]
    },
    {
     "name": "stderr",
     "output_type": "stream",
     "text": [
      "C:\\Users\\THINKPAD\\AppData\\Roaming\\Python\\Python36\\site-packages\\sklearn\\pipeline.py:451: DataConversionWarning: Data with input dtype int64, float64 were all converted to float64 by StandardScaler.\n",
      "  Xt = transform.transform(Xt)\n",
      "C:\\Users\\THINKPAD\\AppData\\Roaming\\Python\\Python36\\site-packages\\sklearn\\preprocessing\\data.py:617: DataConversionWarning: Data with input dtype int64, float64 were all converted to float64 by StandardScaler.\n",
      "  return self.partial_fit(X, y)\n",
      "C:\\Users\\THINKPAD\\AppData\\Roaming\\Python\\Python36\\site-packages\\sklearn\\base.py:465: DataConversionWarning: Data with input dtype int64, float64 were all converted to float64 by StandardScaler.\n",
      "  return self.fit(X, y, **fit_params).transform(X)\n"
     ]
    },
    {
     "name": "stdout",
     "output_type": "stream",
     "text": [
      "0.2309741424196447\n",
      "alpha: 0.2\n",
      "l1 ratio: 0.7\n"
     ]
    },
    {
     "name": "stderr",
     "output_type": "stream",
     "text": [
      "C:\\Users\\THINKPAD\\AppData\\Roaming\\Python\\Python36\\site-packages\\sklearn\\pipeline.py:451: DataConversionWarning: Data with input dtype int64, float64 were all converted to float64 by StandardScaler.\n",
      "  Xt = transform.transform(Xt)\n",
      "C:\\Users\\THINKPAD\\AppData\\Roaming\\Python\\Python36\\site-packages\\sklearn\\preprocessing\\data.py:617: DataConversionWarning: Data with input dtype int64, float64 were all converted to float64 by StandardScaler.\n",
      "  return self.partial_fit(X, y)\n",
      "C:\\Users\\THINKPAD\\AppData\\Roaming\\Python\\Python36\\site-packages\\sklearn\\base.py:465: DataConversionWarning: Data with input dtype int64, float64 were all converted to float64 by StandardScaler.\n",
      "  return self.fit(X, y, **fit_params).transform(X)\n"
     ]
    },
    {
     "name": "stdout",
     "output_type": "stream",
     "text": [
      "0.2309741424196447\n",
      "alpha: 0.2\n",
      "l1 ratio: 0.9\n",
      "0.2309741424196447\n"
     ]
    },
    {
     "name": "stderr",
     "output_type": "stream",
     "text": [
      "C:\\Users\\THINKPAD\\AppData\\Roaming\\Python\\Python36\\site-packages\\sklearn\\pipeline.py:451: DataConversionWarning: Data with input dtype int64, float64 were all converted to float64 by StandardScaler.\n",
      "  Xt = transform.transform(Xt)\n"
     ]
    }
   ],
   "source": [
    "from sklearn.linear_model import ElasticNet\n",
    "alphas = [0.01,0.05,0.1,0.2]\n",
    "ratios = [0.1,0.3,0.5,0.7,0.9]\n",
    "for a in alphas:\n",
    "    for r in ratios:\n",
    "        print('alpha: {}'.format(a))\n",
    "        print('l1 ratio: {}'.format(r))\n",
    "        elastic = Pipeline(steps=[('preprocessor', preprocessor),\n",
    "                          ('regressor',  ElasticNet(alpha = a,l1_ratio = r))])\n",
    "        elastic.fit(train_X_reg, train_y_reg)\n",
    "        print(np.sqrt(metrics.mean_squared_error(val_y_reg, elastic.predict(val_X_reg))))"
   ]
  },
  {
   "cell_type": "markdown",
   "metadata": {},
   "source": [
    "### LightGBM"
   ]
  },
  {
   "cell_type": "code",
   "execution_count": 76,
   "metadata": {},
   "outputs": [],
   "source": [
    "def run_lgb(train_X, train_y, val_X, val_y):\n",
    "    params = {\n",
    "        \"objective\" : \"regression\",\n",
    "        \"metric\" : \"rmse\", \n",
    "        \"num_leaves\" : 10,\n",
    "        \"min_child_samples\" : 100,\n",
    "        \"learning_rate\" : 0.1,\n",
    "        \"bagging_fraction\" : 0.7,\n",
    "        \"feature_fraction\" : 0.5,\n",
    "        \"bagging_frequency\" : 5,\n",
    "        \"bagging_seed\" : 2018,\n",
    "    }\n",
    "    \n",
    "    lgtrain = lgb.Dataset(train_X, label=train_y)\n",
    "    lgval = lgb.Dataset(val_X, label=val_y)\n",
    "    model = lgb.train(params, lgtrain, 1000, valid_sets=[lgval], early_stopping_rounds=100, verbose_eval=100)\n",
    "    lgb.plot_importance(model)\n",
    "    pred_val_y = model.predict(val_X, num_iteration=model.best_iteration)\n",
    "    return model, pred_val_y\n"
   ]
  },
  {
   "cell_type": "code",
   "execution_count": 77,
   "metadata": {},
   "outputs": [
    {
     "name": "stdout",
     "output_type": "stream",
     "text": [
      "Training until validation scores don't improve for 100 rounds.\n",
      "[100]\tvalid_0's rmse: 0.173612\n",
      "[200]\tvalid_0's rmse: 0.173001\n",
      "Early stopping, best iteration is:\n",
      "[184]\tvalid_0's rmse: 0.172804\n",
      "time: 0.7052254676818848\n",
      "0.17280353193539463\n"
     ]
    },
    {
     "data": {
      "image/png": "[encoded data removed]",
      "text/plain": [
       "<Figure size 432x288 with 1 Axes>"
      ]
     },
     "metadata": {
      "image/png": {
       "height": 277,
       "width": 493
      },
      "needs_background": "light"
     },
     "output_type": "display_data"
    }
   ],
   "source": [
    "starttime = time.time()\n",
    "modelR, pred_val_y = run_lgb(train_X_reg, train_y_reg, val_X_reg, val_y_reg)\n",
    "print('time: {}'.format(time.time()-starttime))\n",
    "print(np.sqrt(metrics.mean_squared_error(val_y_reg, pred_val_y)))"
   ]
  },
  {
   "cell_type": "code",
   "execution_count": 24,
   "metadata": {},
   "outputs": [
    {
     "name": "stderr",
     "output_type": "stream",
     "text": [
      "C:\\Users\\THINKPAD\\AppData\\Roaming\\Python\\Python36\\site-packages\\sklearn\\preprocessing\\data.py:617: DataConversionWarning: Data with input dtype int64, float64 were all converted to float64 by StandardScaler.\n",
      "  return self.partial_fit(X, y)\n",
      "C:\\Users\\THINKPAD\\AppData\\Roaming\\Python\\Python36\\site-packages\\sklearn\\base.py:465: DataConversionWarning: Data with input dtype int64, float64 were all converted to float64 by StandardScaler.\n",
      "  return self.fit(X, y, **fit_params).transform(X)\n",
      "C:\\Users\\THINKPAD\\AppData\\Roaming\\Python\\Python36\\site-packages\\sklearn\\preprocessing\\data.py:617: DataConversionWarning: Data with input dtype int64, float64 were all converted to float64 by StandardScaler.\n",
      "  return self.partial_fit(X, y)\n",
      "C:\\Users\\THINKPAD\\AppData\\Roaming\\Python\\Python36\\site-packages\\sklearn\\base.py:465: DataConversionWarning: Data with input dtype int64, float64 were all converted to float64 by StandardScaler.\n",
      "  return self.fit(X, y, **fit_params).transform(X)\n"
     ]
    },
    {
     "name": "stdout",
     "output_type": "stream",
     "text": [
      "Training until validation scores don't improve for 100 rounds.\n",
      "[100]\tvalid_0's rmse: 3.89982\n",
      "[200]\tvalid_0's rmse: 3.89179\n",
      "Early stopping, best iteration is:\n",
      "[117]\tvalid_0's rmse: 3.89138\n",
      "3.8913808992771632\n"
     ]
    }
   ],
   "source": [
    "# try to implement with pipeline\n",
    "\n",
    "class LGBM_Regressor:\n",
    "    def fit(self, train_X, train_y):\n",
    "        self.train_X = train_X\n",
    "        self.train_y = train_y\n",
    "        return self\n",
    "    def fit_predict(self,val_X,val_y):\n",
    "        params = {\n",
    "            \"objective\" : \"regression\",\n",
    "            \"metric\" : \"rmse\", \n",
    "            \"num_leaves\" : 10,\n",
    "            \"min_child_samples\" : 100,\n",
    "            \"learning_rate\" : 0.1,\n",
    "            \"bagging_fraction\" : 0.7,\n",
    "            \"feature_fraction\" : 0.5,\n",
    "            \"bagging_frequency\" : 5,\n",
    "            \"bagging_seed\" : 2018,\n",
    "        }\n",
    "\n",
    "        lgtrain = lgb.Dataset(self.train_X, label=self.train_y)\n",
    "        lgval = lgb.Dataset(val_X, label=val_y)\n",
    "        model = lgb.train(params, lgtrain, 1000, valid_sets=[lgval], early_stopping_rounds=100, verbose_eval=100)\n",
    "        pred_val_y = model.predict(val_X, num_iteration=model.best_iteration)\n",
    "        return model, pred_val_y\n",
    "lgbr = Pipeline(steps=[('preprocessor', preprocessor),\n",
    "                  ('regressor',  LGBM_Regressor())])\n",
    "lgbr.fit(train_X_reg,train_y_reg)\n",
    "modelR, pred_val_y = lgbr.fit_predict(val_X_reg, val_y_reg)\n",
    "print(np.sqrt(metrics.mean_squared_error(val_y_reg, pred_val_y)))"
   ]
  },
  {
   "cell_type": "markdown",
   "metadata": {},
   "source": [
    "### Loss Prediction on the Best Model"
   ]
  },
  {
   "cell_type": "code",
   "execution_count": 87,
   "metadata": {},
   "outputs": [],
   "source": [
    "# 1 year\n",
    "samples['age'] = samples['age1']\n",
    "pred_X1 = samples[numCols+['age']+catCols]\n",
    "pred_loss1 = modelR.predict(pred_X1)"
   ]
  },
  {
   "cell_type": "code",
   "execution_count": 88,
   "metadata": {},
   "outputs": [],
   "source": [
    "# 5 year\n",
    "samples['age'] = samples['age5']\n",
    "pred_X5 = samples[numCols+['age']+catCols]\n",
    "pred_loss5 = modelR.predict(pred_X5)"
   ]
  },
  {
   "cell_type": "markdown",
   "metadata": {},
   "source": [
    "### XGboost"
   ]
  },
  {
   "cell_type": "code",
   "execution_count": 21,
   "metadata": {},
   "outputs": [],
   "source": [
    "def run_xgb(X_train, y_train, X_val, y_val):\n",
    "    params = {'objective': 'reg:linear',\n",
    "              'eval_metric': 'rmse',\n",
    "              'eta': 0.001,\n",
    "              'max_depth': 10,\n",
    "              'subsample': 0.6,\n",
    "              'colsample_bytree': 0.6,\n",
    "              'alpha':0.001,\n",
    "              'random_state': 42,\n",
    "              'silent': True}\n",
    "\n",
    "    xgb_train_data = xgb.DMatrix(X_train.values, y_train.values)\n",
    "    xgb_val_data = xgb.DMatrix(X_val.values, y_val.values)\n",
    "    #xgb_submit_data = xgb.DMatrix(X_test)\n",
    "    model = xgb.train(params, xgb_train_data, \n",
    "                      num_boost_round=2000, \n",
    "                      evals= [(xgb_train_data, 'train'), (xgb_val_data, 'valid')],\n",
    "                      early_stopping_rounds=100, \n",
    "                      verbose_eval=500\n",
    "                     )\n",
    "\n",
    "    y_pred_train = model.predict(xgb_train_data, ntree_limit=model.best_ntree_limit)\n",
    "    y_pred_val = model.predict(xgb_val_data, ntree_limit=model.best_ntree_limit)\n",
    "    #y_pred_submit = model.predict(xgb_submit_data, ntree_limit=model.best_ntree_limit)\n",
    "\n",
    "    return model, y_pred_val "
   ]
  },
  {
   "cell_type": "code",
   "execution_count": 22,
   "metadata": {},
   "outputs": [
    {
     "name": "stdout",
     "output_type": "stream",
     "text": [
      "[0]\ttrain-rmse:0.271663\tvalid-rmse:0.266664\n",
      "Multiple eval metrics have been passed: 'valid-rmse' will be used for early stopping.\n",
      "\n",
      "Will train until valid-rmse hasn't improved in 100 rounds.\n",
      "[500]\ttrain-rmse:0.201799\tvalid-rmse:0.216351\n",
      "[1000]\ttrain-rmse:0.158865\tvalid-rmse:0.191542\n",
      "[1500]\ttrain-rmse:0.132325\tvalid-rmse:0.179971\n",
      "[1999]\ttrain-rmse:0.114847\tvalid-rmse:0.174588\n",
      "time: 56.76472330093384\n",
      "0.17458794135121491\n"
     ]
    }
   ],
   "source": [
    "starttime = time.time()\n",
    "xgb_model, xgb_preds = run_xgb(train_X_reg, pd.DataFrame(train_y_reg), val_X_reg, pd.DataFrame(val_y_reg))\n",
    "print('time: {}'.format(time.time()-starttime))\n",
    "print(np.sqrt(metrics.mean_squared_error(val_y_reg, xgb_preds)))"
   ]
  },
  {
   "cell_type": "markdown",
   "metadata": {},
   "source": [
    "### DNN Regressor"
   ]
  },
  {
   "cell_type": "code",
   "execution_count": 99,
   "metadata": {},
   "outputs": [
    {
     "name": "stderr",
     "output_type": "stream",
     "text": [
      "C:\\Users\\THINKPAD\\AppData\\Roaming\\Python\\Python36\\site-packages\\sklearn\\preprocessing\\data.py:617: DataConversionWarning: Data with input dtype int64, float64 were all converted to float64 by StandardScaler.\n",
      "  return self.partial_fit(X, y)\n",
      "C:\\Users\\THINKPAD\\AppData\\Local\\Continuum\\Anaconda3\\envs\\Tensor\\lib\\site-packages\\ipykernel_launcher.py:4: DataConversionWarning: Data with input dtype int64, float64 were all converted to float64 by StandardScaler.\n",
      "  after removing the cwd from sys.path.\n",
      "C:\\Users\\THINKPAD\\AppData\\Local\\Continuum\\Anaconda3\\envs\\Tensor\\lib\\site-packages\\ipykernel_launcher.py:5: DataConversionWarning: Data with input dtype int64, float64 were all converted to float64 by StandardScaler.\n",
      "  \"\"\"\n",
      "C:\\Users\\THINKPAD\\AppData\\Local\\Continuum\\Anaconda3\\envs\\Tensor\\lib\\site-packages\\ipykernel_launcher.py:6: DataConversionWarning: Data with input dtype int64, float64 were all converted to float64 by StandardScaler.\n",
      "  \n"
     ]
    }
   ],
   "source": [
    "data_scaler = StandardScaler()\n",
    "train_num_r = train_X_reg[numCols]\n",
    "data_scaler.fit(train_num_r)\n",
    "train_num_r = data_scaler.transform(train_num_r)\n",
    "val_num_r = data_scaler.transform(val_X_reg[numCols])\n",
    "test_num_r = data_scaler.transform(test_X_reg[numCols])\n",
    "train_num_r_df = pd.DataFrame(train_num_r,columns = numCols)\n",
    "train_num_r_df.reset_index(inplace=True)\n",
    "val_num_r_df = pd.DataFrame(val_num_r,columns = numCols)\n",
    "val_num_r_df.reset_index(inplace=True)\n",
    "test_num_r_df = pd.DataFrame(test_num_r,columns = numCols)\n",
    "test_num_r_df.reset_index(inplace=True)"
   ]
  },
  {
   "cell_type": "code",
   "execution_count": 102,
   "metadata": {},
   "outputs": [],
   "source": [
    "one_hot = OneHotEncoder(handle_unknown='ignore')\n",
    "train_cat_r = one_hot.fit_transform(train_X_reg[catCols]).toarray()\n",
    "val_cat_r = one_hot.transform(val_X_reg[catCols]).toarray()\n",
    "test_cat_r = one_hot.transform(test_X_reg[catCols]).toarray()\n",
    "feature_names = [str(i) for i in list(one_hot.get_feature_names())]\n",
    "train_cat_r_df = pd.DataFrame(train_cat_r,columns = feature_names)\n",
    "train_cat_r_df.reset_index(inplace=True)\n",
    "val_cat_r_df = pd.DataFrame(val_cat_r,columns = feature_names)\n",
    "val_cat_r_df.reset_index(inplace=True)\n",
    "test_cat_r_df = pd.DataFrame(test_cat_r,columns = feature_names)\n",
    "test_cat_r_df.reset_index(inplace=True)\n",
    "newcatCols = list(train_cat_r_df.columns)\n",
    "feature_cols = [tf.contrib.layers.real_valued_column(k) for k in numCols+newcatCols]"
   ]
  },
  {
   "cell_type": "code",
   "execution_count": 103,
   "metadata": {},
   "outputs": [],
   "source": [
    "train_dnn_r = pd.concat([train_num_r_df,train_cat_r_df],axis = 1)\n",
    "val_dnn_r = pd.concat([val_num_r_df,val_cat_r_df],axis = 1)\n",
    "test_dnn_r = pd.concat([test_num_r_df,test_cat_r_df],axis = 1)"
   ]
  },
  {
   "cell_type": "code",
   "execution_count": 104,
   "metadata": {},
   "outputs": [
    {
     "data": {
      "text/plain": [
       "(5748, 13309)"
      ]
     },
     "execution_count": 104,
     "metadata": {},
     "output_type": "execute_result"
    }
   ],
   "source": [
    "train_dnn_r.shape"
   ]
  },
  {
   "cell_type": "code",
   "execution_count": 105,
   "metadata": {},
   "outputs": [],
   "source": [
    "train_dnn_r_columns = list(train_dnn_r.columns)\n",
    "train_input_fn = tf.estimator.inputs.numpy_input_fn(\n",
    "    x = {k: train_dnn_r[k].values for k in train_dnn_r_columns},\n",
    "    y = train_y_reg,\n",
    "    batch_size=512,\n",
    "    num_epochs=500,\n",
    "    shuffle=False,\n",
    ")\n",
    "test_input_fn = tf.estimator.inputs.numpy_input_fn(\n",
    "    x = {k: val_dnn_r[k].values for k in train_dnn_r_columns},\n",
    "    y = val_y_reg,\n",
    "    batch_size=512,\n",
    "    num_epochs=500,\n",
    "    shuffle=False\n",
    ")"
   ]
  },
  {
   "cell_type": "code",
   "execution_count": 106,
   "metadata": {},
   "outputs": [
    {
     "name": "stdout",
     "output_type": "stream",
     "text": [
      "INFO:tensorflow:Using default config.\n",
      "WARNING:tensorflow:Using temporary folder as model directory: C:\\Users\\THINKPAD\\AppData\\Local\\Temp\\tmpqo_av6ng\n",
      "INFO:tensorflow:Using config: {'_model_dir': 'C:\\\\Users\\\\THINKPAD\\\\AppData\\\\Local\\\\Temp\\\\tmpqo_av6ng', '_tf_random_seed': None, '_save_summary_steps': 100, '_save_checkpoints_steps': None, '_save_checkpoints_secs': 600, '_session_config': None, '_keep_checkpoint_max': 5, '_keep_checkpoint_every_n_hours': 10000, '_log_step_count_steps': 100, '_service': None, '_cluster_spec': <tensorflow.python.training.server_lib.ClusterSpec object at 0x000001C8EA14F208>, '_task_type': 'worker', '_task_id': 0, '_global_id_in_cluster': 0, '_master': '', '_evaluation_master': '', '_is_chief': True, '_num_ps_replicas': 0, '_num_worker_replicas': 1}\n"
     ]
    }
   ],
   "source": [
    "\n",
    "regressor = tf.estimator.DNNRegressor(feature_columns=feature_cols, \n",
    "                                          hidden_units=[256, 128], \n",
    "                                          #model_dir='./models/dnnregressor'\n",
    "                                     )"
   ]
  },
  {
   "cell_type": "code",
   "execution_count": null,
   "metadata": {},
   "outputs": [
    {
     "name": "stdout",
     "output_type": "stream",
     "text": [
      "INFO:tensorflow:Calling model_fn.\n",
      "INFO:tensorflow:Done calling model_fn.\n",
      "INFO:tensorflow:Create CheckpointSaverHook.\n",
      "INFO:tensorflow:Graph was finalized.\n",
      "INFO:tensorflow:Running local_init_op.\n",
      "INFO:tensorflow:Done running local_init_op.\n"
     ]
    }
   ],
   "source": [
    "regressor.train(input_fn=train_input_fn, steps=10000)"
   ]
  },
  {
   "cell_type": "code",
   "execution_count": null,
   "metadata": {},
   "outputs": [],
   "source": []
  },
  {
   "cell_type": "markdown",
   "metadata": {},
   "source": [
    "## Simulation"
   ]
  },
  {
   "cell_type": "code",
   "execution_count": 67,
   "metadata": {},
   "outputs": [],
   "source": [
    "total = list(samples['total'])\n",
    "alltotal = sum(total)"
   ]
  },
  {
   "cell_type": "code",
   "execution_count": 90,
   "metadata": {},
   "outputs": [],
   "source": [
    "import random\n",
    "random.seed(0)\n",
    "# year 1\n",
    "allloss1 = []\n",
    "\n",
    "for i in range(1000):\n",
    "    simloss = []\n",
    "    for j in range(500):\n",
    "        rand =random.random()\n",
    "        if rand <= pred_prob1[j]:\n",
    "            simloss.append(pred_loss1[j]*total[j])\n",
    "        else:\n",
    "            simloss.append(0)\n",
    "    allloss1.append(simloss)\n",
    "sumloss1 = [sum(i)/alltotal*100 for i in allloss1]"
   ]
  },
  {
   "cell_type": "code",
   "execution_count": 103,
   "metadata": {},
   "outputs": [
    {
     "data": {
      "text/plain": [
       "Text(0.5, 1.0, 'distribution of 1 year % loss of loans of one simulation')"
      ]
     },
     "execution_count": 103,
     "metadata": {},
     "output_type": "execute_result"
    },
    {
     "data": {
      "image/png": "[encoded data removed]",
      "text/plain": [
       "<Figure size 432x288 with 1 Axes>"
      ]
     },
     "metadata": {
      "image/png": {
       "height": 263,
       "width": 377
      },
      "needs_background": "light"
     },
     "output_type": "display_data"
    }
   ],
   "source": [
    "# distribution of 500 loans of one simulation\n",
    "_,__,___ = plt.hist([allloss1[6][i]/total[i]*100 for i in range(500)],bins = 50)\n",
    "plt.title('distribution of 1 year % loss of loans of one simulation')"
   ]
  },
  {
   "cell_type": "code",
   "execution_count": 95,
   "metadata": {},
   "outputs": [
    {
     "data": {
      "text/plain": [
       "<matplotlib.axes._subplots.AxesSubplot at 0x2bd4fc33f28>"
      ]
     },
     "execution_count": 95,
     "metadata": {},
     "output_type": "execute_result"
    },
    {
     "data": {
      "image/png": "[encoded data removed]",
      "text/plain": [
       "<Figure size 432x288 with 1 Axes>"
      ]
     },
     "metadata": {
      "image/png": {
       "height": 263,
       "width": 374
      },
      "needs_background": "light"
     },
     "output_type": "display_data"
    }
   ],
   "source": [
    "sns.distplot(sumloss1,bins = 50,axlabel = 'Distribution of 1 Year Portfolio %Loss')"
   ]
  },
  {
   "cell_type": "code",
   "execution_count": 96,
   "metadata": {},
   "outputs": [],
   "source": [
    "# year 5\n",
    "allloss5 = []\n",
    "for i in range(1000):\n",
    "    simloss = []\n",
    "    for j in range(500):\n",
    "        rand =random.random()\n",
    "        if rand <= pred_prob5[j]:\n",
    "            simloss.append(pred_loss5[j]*total[j])\n",
    "        else:\n",
    "            simloss.append(0)\n",
    "    allloss5.append(simloss)\n",
    "sumloss5 = [sum(i)/alltotal*100 for i in allloss5]"
   ]
  },
  {
   "cell_type": "code",
   "execution_count": 107,
   "metadata": {},
   "outputs": [
    {
     "data": {
      "text/plain": [
       "Text(0.5, 1.0, 'distribution of 5 year % loss of loans of one simulation')"
      ]
     },
     "execution_count": 107,
     "metadata": {},
     "output_type": "execute_result"
    },
    {
     "data": {
      "image/png": "[encoded data removed]",
      "text/plain": [
       "<Figure size 432x288 with 1 Axes>"
      ]
     },
     "metadata": {
      "image/png": {
       "height": 263,
       "width": 377
      },
      "needs_background": "light"
     },
     "output_type": "display_data"
    }
   ],
   "source": [
    "# distribution of 500 loans of one simulation\n",
    "_,__,___ = plt.hist([allloss5[7][i]/total[i]*100 for i in range(500)],bins = 50)\n",
    "plt.title('distribution of 5 year % loss of loans of one simulation')"
   ]
  },
  {
   "cell_type": "code",
   "execution_count": 97,
   "metadata": {},
   "outputs": [
    {
     "data": {
      "text/plain": [
       "<matplotlib.axes._subplots.AxesSubplot at 0x2bd3f42b6d8>"
      ]
     },
     "execution_count": 97,
     "metadata": {},
     "output_type": "execute_result"
    },
    {
     "data": {
      "image/png": "[encoded data removed]",
      "text/plain": [
       "<Figure size 432x288 with 1 Axes>"
      ]
     },
     "metadata": {
      "image/png": {
       "height": 263,
       "width": 373
      },
      "needs_background": "light"
     },
     "output_type": "display_data"
    }
   ],
   "source": [
    "sns.distplot(sumloss5,bins = 50,axlabel = 'Distribution of 5 Year Portfolio %Loss')"
   ]
  },
  {
   "cell_type": "markdown",
   "metadata": {},
   "source": [
    "## VaR"
   ]
  },
  {
   "cell_type": "code",
   "execution_count": 44,
   "metadata": {},
   "outputs": [
    {
     "name": "stdout",
     "output_type": "stream",
     "text": [
      "95% VaR: 6.082324893041458\n",
      "90% VaR: 5.887289171130403\n"
     ]
    }
   ],
   "source": [
    "# year 1\n",
    "sumloss1 = sorted(sumloss1)\n",
    "# 95% VaR\n",
    "var195 = sumloss1[950-1]\n",
    "print('95% VaR: {}'.format(var195))\n",
    "# 90% VaR\n",
    "var190 = sumloss1[900-1]\n",
    "print('90% VaR: {}'.format(var190))"
   ]
  },
  {
   "cell_type": "code",
   "execution_count": 45,
   "metadata": {},
   "outputs": [
    {
     "name": "stdout",
     "output_type": "stream",
     "text": [
      "95% VaR: 6.812208193005478\n",
      "90% VaR: 6.571126996063757\n"
     ]
    }
   ],
   "source": [
    "# year 5\n",
    "sumloss5 = sorted(sumloss5)\n",
    "# 95% VaR\n",
    "var595 = sumloss5[950-1]\n",
    "print('95% VaR: {}'.format(var595))\n",
    "# 90% VaR\n",
    "var590 = sumloss5[900-1]\n",
    "print('90% VaR: {}'.format(var590))"
   ]
  },
  {
   "cell_type": "code",
   "execution_count": 46,
   "metadata": {},
   "outputs": [
    {
     "name": "stdout",
     "output_type": "stream",
     "text": [
      "95% Average VaR: 1.6346815426383992\n",
      "90% Average VaR: 6.2690851864256985\n"
     ]
    }
   ],
   "source": [
    "# Average VaR\n",
    "# year 1\n",
    "sumloss1 = sorted(sumloss1)\n",
    "# 95% Average VaR\n",
    "avar195 = 0\n",
    "for i in range(0,50,10):\n",
    "    avar195 += sumloss1[1000-i-1]\n",
    "avar195 = avar195/(1/0.05)\n",
    "print('95% Average VaR: {}'.format(avar195))\n",
    "# 90% Average VaR\n",
    "avar190 = 0\n",
    "for i in range(0,100,10):\n",
    "    avar190 += sumloss1[1000-i-1]\n",
    "avar190 = avar190/(1/0.1)\n",
    "print('90% Average VaR: {}'.format(avar190))"
   ]
  },
  {
   "cell_type": "code",
   "execution_count": 47,
   "metadata": {},
   "outputs": [
    {
     "name": "stdout",
     "output_type": "stream",
     "text": [
      "95% Average VaR: 1.823555452669914\n",
      "90% Average VaR: 6.996535799470867\n"
     ]
    }
   ],
   "source": [
    "# Average VaR\n",
    "# year 5\n",
    "sumloss5 = sorted(sumloss5)\n",
    "# 95% Average VaR\n",
    "avar595 = 0\n",
    "for i in range(0,50,10):\n",
    "    avar595 += sumloss5[1000-i-1]\n",
    "avar595 = avar595/(1/0.05)\n",
    "print('95% Average VaR: {}'.format(avar595))\n",
    "# 90% Average VaR\n",
    "avar590 = 0\n",
    "for i in range(0,100,10):\n",
    "    avar590 += sumloss5[1000-i-1]\n",
    "avar590 = avar590/(1/0.1)\n",
    "print('90% Average VaR: {}'.format(avar590))"
   ]
  },
  {
   "cell_type": "markdown",
   "metadata": {},
   "source": [
    "## Tranche"
   ]
  },
  {
   "cell_type": "code",
   "execution_count": 58,
   "metadata": {},
   "outputs": [
    {
     "data": {
      "text/plain": [
       "Text(0.5, 1.0, 'Distribution of 1 Year 5% - 15% Tranche Loss')"
      ]
     },
     "execution_count": 58,
     "metadata": {},
     "output_type": "execute_result"
    },
    {
     "data": {
      "image/png": "[encoded data removed]",
      "text/plain": [
       "<Figure size 432x288 with 1 Axes>"
      ]
     },
     "metadata": {
      "image/png": {
       "height": 263,
       "width": 377
      },
      "needs_background": "light"
     },
     "output_type": "display_data"
    }
   ],
   "source": [
    "# 5% - 15%\n",
    "# year 1\n",
    "investor1 = []\n",
    "for i in range(1000):\n",
    "    if sumloss1[i] >= 5 and sumloss1[i] <= 15:\n",
    "        investor1.append(sumloss1[i])\n",
    "    else:\n",
    "        investor1.append(0)\n",
    "#sns.distplot(investor1,bins = 50,axlabel = 'Distribution of 1 Year 5% - 15% Tranche Loss')\n",
    "_,__,___ = plt.hist(investor1,bins = 80)\n",
    "plt.title('Distribution of 1 Year 5% - 15% Tranche Loss')"
   ]
  },
  {
   "cell_type": "code",
   "execution_count": 59,
   "metadata": {},
   "outputs": [
    {
     "data": {
      "text/plain": [
       "Text(0.5, 1.0, 'Distribution of 5 Year 5% - 15% Tranche Loss')"
      ]
     },
     "execution_count": 59,
     "metadata": {},
     "output_type": "execute_result"
    },
    {
     "data": {
      "image/png": "[encoded data removed]",
      "text/plain": [
       "<Figure size 432x288 with 1 Axes>"
      ]
     },
     "metadata": {
      "image/png": {
       "height": 263,
       "width": 377
      },
      "needs_background": "light"
     },
     "output_type": "display_data"
    }
   ],
   "source": [
    "# year 5\n",
    "investor5 = []\n",
    "for i in range(1000):\n",
    "    if sumloss5[i] >= 5 and sumloss5[i] <= 15:\n",
    "        investor5.append(sumloss5[i])\n",
    "    else:\n",
    "        investor5.append(0)\n",
    "#sns.distplot(investor5,bins = 50,axlabel = 'Distribution of 5 Year 5% - 15% Tranche Loss')\n",
    "_,__,___ = plt.hist(investor5,bins = 80)\n",
    "plt.title('Distribution of 5 Year 5% - 15% Tranche Loss')"
   ]
  },
  {
   "cell_type": "code",
   "execution_count": 54,
   "metadata": {},
   "outputs": [
    {
     "data": {
      "text/plain": [
       "Text(0.5, 1.0, 'Distribution of 1 Year 15% - 100% Tranche Loss')"
      ]
     },
     "execution_count": 54,
     "metadata": {},
     "output_type": "execute_result"
    },
    {
     "data": {
      "image/png": "[encoded data removed]",
      "text/plain": [
       "<Figure size 432x288 with 1 Axes>"
      ]
     },
     "metadata": {
      "image/png": {
       "height": 263,
       "width": 383
      },
      "needs_background": "light"
     },
     "output_type": "display_data"
    }
   ],
   "source": [
    "# 15% - 100%\n",
    "# year 1\n",
    "investor1 = []\n",
    "for i in range(1000):\n",
    "    if sumloss1[i] >= 15 and sumloss1[i] <= 100:\n",
    "        investor1.append(sumloss1[i])\n",
    "    else:\n",
    "        investor1.append(0)\n",
    "_,__,___ = plt.hist(investor1,bins = 50)\n",
    "plt.title('Distribution of 1 Year 15% - 100% Tranche Loss')"
   ]
  },
  {
   "cell_type": "code",
   "execution_count": 53,
   "metadata": {},
   "outputs": [
    {
     "data": {
      "text/plain": [
       "Text(0.5, 1.0, 'Distribution of 5 Year 15% - 100% Tranche Loss')"
      ]
     },
     "execution_count": 53,
     "metadata": {},
     "output_type": "execute_result"
    },
    {
     "data": {
      "image/png": "[encoded data removed]",
      "text/plain": [
       "<Figure size 432x288 with 1 Axes>"
      ]
     },
     "metadata": {
      "image/png": {
       "height": 263,
       "width": 383
      },
      "needs_background": "light"
     },
     "output_type": "display_data"
    }
   ],
   "source": [
    "# year 5\n",
    "investor5 = []\n",
    "for i in range(1000):\n",
    "    if sumloss5[i] >= 15 and sumloss5[i] <= 100:\n",
    "        investor5.append(sumloss5[i])\n",
    "    else:\n",
    "        investor5.append(0)\n",
    "\n",
    "_,__,___ = plt.hist(investor5,bins = 50)\n",
    "plt.title('Distribution of 5 Year 15% - 100% Tranche Loss')"
   ]
  },
  {
   "cell_type": "code",
   "execution_count": null,
   "metadata": {},
   "outputs": [],
   "source": []
  }
 ],
 "metadata": {
  "kernelspec": {
   "display_name": "Python 3",
   "language": "python",
   "name": "python3"
  },
  "language_info": {
   "codemirror_mode": {
    "name": "ipython",
    "version": 3
   },
   "file_extension": ".py",
   "mimetype": "text/x-python",
   "name": "python",
   "nbconvert_exporter": "python",
   "pygments_lexer": "ipython3",
   "version": "3.6.7"
  }
 },
 "nbformat": 4,
 "nbformat_minor": 2
}
