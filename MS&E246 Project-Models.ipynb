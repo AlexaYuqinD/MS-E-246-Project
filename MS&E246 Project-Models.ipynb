{
 "cells": [
  {
   "cell_type": "code",
   "execution_count": 1,
   "metadata": {},
   "outputs": [],
   "source": [
    "import math\n",
    "import numpy as np\n",
    "import h5py\n",
    "import matplotlib.pyplot as plt\n",
    "import tensorflow as tf\n",
    "import pandas as pd\n",
    "import scipy.io\n",
    "from sklearn import preprocessing\n",
    "from sklearn.preprocessing import StandardScaler, OneHotEncoder\n",
    "from sklearn.model_selection import train_test_split\n",
    "from sklearn.model_selection import RandomizedSearchCV\n",
    "from sklearn import metrics\n",
    "from sklearn.pipeline import Pipeline\n",
    "from sklearn.compose import ColumnTransformer\n",
    "from sklearn.linear_model import LogisticRegression\n",
    "from sklearn.linear_model import LinearRegression\n",
    "from sklearn.linear_model import Lasso\n",
    "from sklearn.linear_model import Ridge\n",
    "from sklearn.linear_model import ElasticNet\n",
    "from sklearn.metrics import classification_report\n",
    "from sklearn.metrics import roc_auc_score\n",
    "from sklearn.ensemble import RandomForestClassifier\n",
    "import lightgbm as lgb\n",
    "import xgboost as xgb\n",
    "import sklearn.datasets\n",
    "import re\n",
    "import seaborn as sns\n",
    "import datetime as dt\n",
    "import time\n",
    "import copy\n",
    "from tensorflow.python.framework import ops\n",
    "from imblearn.over_sampling import RandomOverSampler\n",
    "from imblearn.over_sampling import SMOTE\n",
    "\n",
    "#from DNN_utils import *\n",
    "%matplotlib inline\n",
    "%config InlineBackend.figure_format = 'retina'"
   ]
  },
  {
   "cell_type": "code",
   "execution_count": 2,
   "metadata": {},
   "outputs": [],
   "source": [
    "# read the preprocessed data\n",
    "rawdata = pd.read_csv('raw_data.csv')"
   ]
  },
  {
   "cell_type": "code",
   "execution_count": 3,
   "metadata": {},
   "outputs": [],
   "source": [
    "# split the data\n",
    "#y = list(rawdata['target'])\n",
    "#X = rawdata[numCols+catCols]\n",
    "#train_X, test_X, train_y, test_y = train_test_split(X,y,test_size=0.2,random_state=1)\n",
    "#train_X, val_X, train_y, val_y = train_test_split(train_X,train_y,test_size=0.2,random_state=1)\n"
   ]
  },
  {
   "cell_type": "code",
   "execution_count": 4,
   "metadata": {},
   "outputs": [],
   "source": [
    "# split the data\n",
    "y = list(rawdata['target'])\n",
    "X = rawdata\n",
    "train_X, test_X, train_y, test_y = train_test_split(X,y,test_size=0.2,random_state=1)\n",
    "train_X, val_X, train_y, val_y = train_test_split(train_X,train_y,test_size=0.2,random_state=1)\n",
    "#testdata.to_csv('test.csv')\n"
   ]
  },
  {
   "cell_type": "code",
   "execution_count": 5,
   "metadata": {},
   "outputs": [],
   "source": [
    "catCols = ['BorrName', 'BorrCity', 'BorrState','CDC_Name', 'CDC_Street', 'CDC_City', 'CDC_State', 'ThirdPartyLender_Name', 'ThirdPartyLender_City',\n",
    "       'ThirdPartyLender_State', 'ApprovalFiscalYear', 'DeliveryMethod', 'subpgmdesc','NaicsCode', 'NaicsDescription',\n",
    "       'ProjectCounty', 'ProjectState', 'BusinessType'\n",
    "       ]\n",
    "numCols = ['BorrZip','CDC_Zip','ThirdPartyDollars', 'GrossApproval','InitialInterestRate', 'TermInMonths','Borrgsp','unemploy_bow','unemploy_pro','SP500','borrthird','borrpro','borrCDC','total','termint']\n",
    "\n",
    "train_X = train_X[numCols+catCols]\n",
    "val_X = val_X[numCols+catCols]\n",
    "test_X = test_X[numCols+catCols]"
   ]
  },
  {
   "cell_type": "code",
   "execution_count": 135,
   "metadata": {},
   "outputs": [],
   "source": [
    "# achieved DNN auc 0.81\n",
    "catCols1 = ['BorrCity', 'BorrState','CDC_Name', 'CDC_Street', 'CDC_City', 'CDC_State', 'ThirdPartyLender_Name', 'ThirdPartyLender_City',\n",
    "       'ThirdPartyLender_State', 'ApprovalFiscalYear', 'NaicsCode', 'NaicsDescription',\n",
    "       'ProjectCounty', 'ProjectState', 'BusinessType'\n",
    "       ]\n",
    "numCols1 = ['BorrZip','ThirdPartyDollars', 'GrossApproval','InitialInterestRate', 'TermInMonths','Borrgsp','unemploy_bow','unemploy_pro','SP500','borrCDC','total','termint']\n",
    "\n",
    "train_X1 = train_X[numCols1+catCols1]\n",
    "val_X1 = val_X[numCols1+catCols1]\n",
    "test_X1 = test_X[numCols1+catCols1]\n",
    "\n",
    "train_y1 = copy.deepcopy(train_y)\n",
    "val_y1 = copy.deepcopy(val_y)\n",
    "test_y1 = copy.deepcopy(test_y)\n"
   ]
  },
  {
   "cell_type": "code",
   "execution_count": 134,
   "metadata": {},
   "outputs": [],
   "source": [
    "# still 0.81\n",
    "catCols1 = ['BorrCity', 'BorrState','CDC_Name', 'CDC_Street', 'CDC_City', 'CDC_State', 'ThirdPartyLender_Name', 'ThirdPartyLender_City',\n",
    "       'ThirdPartyLender_State', 'ApprovalFiscalYear', 'NaicsCode', 'NaicsDescription',\n",
    "       'ProjectCounty', 'ProjectState'\n",
    "       ]\n",
    "numCols1 = ['BorrZip','ThirdPartyDollars', 'GrossApproval','InitialInterestRate', 'TermInMonths','Borrgsp','unemploy_bow','unemploy_pro','SP500','borrCDC','total']\n",
    "\n",
    "train_X1 = train_X[numCols1+catCols1]\n",
    "val_X1 = val_X[numCols1+catCols1]\n",
    "test_X1 = test_X[numCols1+catCols1]\n",
    "\n",
    "train_y1 = copy.deepcopy(train_y)\n",
    "val_y1 = copy.deepcopy(val_y)\n",
    "test_y1 = copy.deepcopy(test_y)\n"
   ]
  },
  {
   "cell_type": "code",
   "execution_count": 6,
   "metadata": {},
   "outputs": [],
   "source": [
    "# try to drop features\n",
    "catCols1 = ['BorrCity', 'BorrState','CDC_Name', 'CDC_Street', 'CDC_City', 'CDC_State', 'ThirdPartyLender_Name', 'ThirdPartyLender_City',\n",
    "       'ThirdPartyLender_State', 'ApprovalFiscalYear', 'NaicsCode', 'NaicsDescription',\n",
    "       'ProjectCounty', 'ProjectState'\n",
    "       ]\n",
    "numCols1 = ['BorrZip','ThirdPartyDollars', 'GrossApproval', 'InitialInterestRate','TermInMonths','Borrgsp','unemploy_bow','unemploy_pro','SP500','borrCDC','total']\n",
    "\n",
    "train_X1 = train_X[numCols1+catCols1]\n",
    "val_X1 = val_X[numCols1+catCols1]\n",
    "test_X1 = test_X[numCols1+catCols1]\n",
    "\n",
    "train_y1 = copy.deepcopy(train_y)\n",
    "val_y1 = copy.deepcopy(val_y)\n",
    "test_y1 = copy.deepcopy(test_y)\n"
   ]
  },
  {
   "cell_type": "markdown",
   "metadata": {},
   "source": [
    "## Baseline: Logistic Regression"
   ]
  },
  {
   "cell_type": "code",
   "execution_count": 108,
   "metadata": {},
   "outputs": [
    {
     "name": "stderr",
     "output_type": "stream",
     "text": [
      "C:\\Users\\THINKPAD\\AppData\\Roaming\\Python\\Python36\\site-packages\\sklearn\\preprocessing\\data.py:617: DataConversionWarning: Data with input dtype int64, float64 were all converted to float64 by StandardScaler.\n",
      "  return self.partial_fit(X, y)\n",
      "C:\\Users\\THINKPAD\\AppData\\Roaming\\Python\\Python36\\site-packages\\sklearn\\base.py:465: DataConversionWarning: Data with input dtype int64, float64 were all converted to float64 by StandardScaler.\n",
      "  return self.fit(X, y, **fit_params).transform(X)\n",
      "C:\\Users\\THINKPAD\\AppData\\Roaming\\Python\\Python36\\site-packages\\sklearn\\linear_model\\logistic.py:432: FutureWarning: Default solver will be changed to 'lbfgs' in 0.22. Specify a solver to silence this warning.\n",
      "  FutureWarning)\n",
      "C:\\Users\\THINKPAD\\AppData\\Roaming\\Python\\Python36\\site-packages\\sklearn\\pipeline.py:451: DataConversionWarning: Data with input dtype int64, float64 were all converted to float64 by StandardScaler.\n",
      "  Xt = transform.transform(Xt)\n"
     ]
    },
    {
     "name": "stdout",
     "output_type": "stream",
     "text": [
      "model score: 0.864\n"
     ]
    },
    {
     "name": "stderr",
     "output_type": "stream",
     "text": [
      "C:\\Users\\THINKPAD\\AppData\\Roaming\\Python\\Python36\\site-packages\\sklearn\\pipeline.py:451: DataConversionWarning: Data with input dtype int64, float64 were all converted to float64 by StandardScaler.\n",
      "  Xt = transform.transform(Xt)\n",
      "C:\\Users\\THINKPAD\\AppData\\Roaming\\Python\\Python36\\site-packages\\sklearn\\pipeline.py:451: DataConversionWarning: Data with input dtype int64, float64 were all converted to float64 by StandardScaler.\n",
      "  Xt = transform.transform(Xt)\n"
     ]
    },
    {
     "name": "stdout",
     "output_type": "stream",
     "text": [
      "              precision    recall  f1-score   support\n",
      "\n",
      "           0       0.89      0.95      0.92      7344\n",
      "           1       0.62      0.42      0.50      1411\n",
      "\n",
      "   micro avg       0.86      0.86      0.86      8755\n",
      "   macro avg       0.76      0.68      0.71      8755\n",
      "weighted avg       0.85      0.86      0.85      8755\n",
      "\n",
      "0.8398791243404993\n"
     ]
    }
   ],
   "source": [
    "# standardization and one-hot encoding\n",
    "numeric_transformer = Pipeline(steps=[('scaler', StandardScaler())])\n",
    "categorical_transformer = Pipeline(steps=[('onehot', OneHotEncoder(handle_unknown='ignore'))])\n",
    "preprocessor = ColumnTransformer(transformers=[('num', numeric_transformer, numCols),\n",
    "                                               ('cat', categorical_transformer, catCols)])\n",
    "clf = Pipeline(steps=[('preprocessor', preprocessor),\n",
    "                      ('classifier', LogisticRegression())])\n",
    "\n",
    "clf.fit(train_X, train_y)\n",
    "print(\"model score: %.3f\" % clf.score(val_X, val_y))\n",
    "print(classification_report(val_y, clf.predict(val_X)))\n",
    "print(roc_auc_score(val_y, clf.predict_proba(val_X)[:,1]))"
   ]
  },
  {
   "cell_type": "code",
   "execution_count": 110,
   "metadata": {},
   "outputs": [
    {
     "name": "stderr",
     "output_type": "stream",
     "text": [
      "C:\\Users\\THINKPAD\\AppData\\Roaming\\Python\\Python36\\site-packages\\sklearn\\pipeline.py:451: DataConversionWarning: Data with input dtype int64, float64 were all converted to float64 by StandardScaler.\n",
      "  Xt = transform.transform(Xt)\n",
      "C:\\Users\\THINKPAD\\AppData\\Roaming\\Python\\Python36\\site-packages\\sklearn\\pipeline.py:451: DataConversionWarning: Data with input dtype int64, float64 were all converted to float64 by StandardScaler.\n",
      "  Xt = transform.transform(Xt)\n",
      "C:\\Users\\THINKPAD\\AppData\\Roaming\\Python\\Python36\\site-packages\\sklearn\\pipeline.py:451: DataConversionWarning: Data with input dtype int64, float64 were all converted to float64 by StandardScaler.\n",
      "  Xt = transform.transform(Xt)\n"
     ]
    },
    {
     "name": "stdout",
     "output_type": "stream",
     "text": [
      "model score: 0.869\n",
      "              precision    recall  f1-score   support\n",
      "\n",
      "           0       0.89      0.96      0.92      9160\n",
      "           1       0.65      0.42      0.51      1783\n",
      "\n",
      "   micro avg       0.87      0.87      0.87     10943\n",
      "   macro avg       0.77      0.69      0.72     10943\n",
      "weighted avg       0.85      0.87      0.86     10943\n",
      "\n",
      "0.8421619026859692\n"
     ]
    }
   ],
   "source": [
    "print(\"model score: %.3f\" % clf.score(test_X, test_y))\n",
    "print(classification_report(test_y, clf.predict(test_X)))\n",
    "print(roc_auc_score(test_y, clf.predict_proba(test_X)[:,1]))"
   ]
  },
  {
   "cell_type": "code",
   "execution_count": 112,
   "metadata": {},
   "outputs": [
    {
     "name": "stderr",
     "output_type": "stream",
     "text": [
      "C:\\Users\\THINKPAD\\AppData\\Roaming\\Python\\Python36\\site-packages\\sklearn\\pipeline.py:451: DataConversionWarning: Data with input dtype int64, float64 were all converted to float64 by StandardScaler.\n",
      "  Xt = transform.transform(Xt)\n"
     ]
    },
    {
     "name": "stdout",
     "output_type": "stream",
     "text": [
      "0.8421619026859692\n"
     ]
    },
    {
     "data": {
      "image/png": "[encoded data removed]",
      "text/plain": [
       "<Figure size 432x288 with 1 Axes>"
      ]
     },
     "metadata": {
      "image/png": {
       "height": 277,
       "width": 393
      },
      "needs_background": "light"
     },
     "output_type": "display_data"
    }
   ],
   "source": [
    "# ROC_AUC curve for logistic regression\n",
    "probs = clf.predict_proba(test_X)\n",
    "preds_log = probs[:,1]\n",
    "fpr, tpr, threshold = metrics.roc_curve(test_y, preds_log)\n",
    "roc_auc = metrics.auc(fpr, tpr)\n",
    "print(roc_auc)\n",
    "\n",
    "plt.title('Receiver Operating Characteristic')\n",
    "plt.plot(fpr, tpr, 'b', label = 'AUC = %0.2f' % roc_auc)\n",
    "plt.legend(loc = 'lower right')\n",
    "plt.plot([0, 1], [0, 1],'r--')\n",
    "plt.xlim([0, 1])\n",
    "plt.ylim([0, 1])\n",
    "plt.ylabel('True Positive Rate')\n",
    "plt.xlabel('False Positive Rate')\n",
    "plt.show()"
   ]
  },
  {
   "cell_type": "markdown",
   "metadata": {},
   "source": [
    "### Logistic Regression with Regularization"
   ]
  },
  {
   "cell_type": "markdown",
   "metadata": {},
   "source": [
    "#### L1"
   ]
  },
  {
   "cell_type": "code",
   "execution_count": 150,
   "metadata": {},
   "outputs": [
    {
     "name": "stderr",
     "output_type": "stream",
     "text": [
      "C:\\Users\\THINKPAD\\AppData\\Roaming\\Python\\Python36\\site-packages\\sklearn\\preprocessing\\data.py:617: DataConversionWarning: Data with input dtype int64, float64 were all converted to float64 by StandardScaler.\n",
      "  return self.partial_fit(X, y)\n",
      "C:\\Users\\THINKPAD\\AppData\\Roaming\\Python\\Python36\\site-packages\\sklearn\\base.py:465: DataConversionWarning: Data with input dtype int64, float64 were all converted to float64 by StandardScaler.\n",
      "  return self.fit(X, y, **fit_params).transform(X)\n",
      "C:\\Users\\THINKPAD\\AppData\\Roaming\\Python\\Python36\\site-packages\\sklearn\\linear_model\\logistic.py:432: FutureWarning: Default solver will be changed to 'lbfgs' in 0.22. Specify a solver to silence this warning.\n",
      "  FutureWarning)\n",
      "C:\\Users\\THINKPAD\\AppData\\Roaming\\Python\\Python36\\site-packages\\sklearn\\pipeline.py:451: DataConversionWarning: Data with input dtype int64, float64 were all converted to float64 by StandardScaler.\n",
      "  Xt = transform.transform(Xt)\n",
      "C:\\Users\\THINKPAD\\AppData\\Roaming\\Python\\Python36\\site-packages\\sklearn\\pipeline.py:451: DataConversionWarning: Data with input dtype int64, float64 were all converted to float64 by StandardScaler.\n",
      "  Xt = transform.transform(Xt)\n",
      "C:\\Users\\THINKPAD\\AppData\\Roaming\\Python\\Python36\\site-packages\\sklearn\\pipeline.py:451: DataConversionWarning: Data with input dtype int64, float64 were all converted to float64 by StandardScaler.\n",
      "  Xt = transform.transform(Xt)\n"
     ]
    },
    {
     "name": "stdout",
     "output_type": "stream",
     "text": [
      "model score: 0.865\n",
      "              precision    recall  f1-score   support\n",
      "\n",
      "           0       0.90      0.95      0.92      7344\n",
      "           1       0.62      0.43      0.50      1411\n",
      "\n",
      "   micro avg       0.87      0.87      0.87      8755\n",
      "   macro avg       0.76      0.69      0.71      8755\n",
      "weighted avg       0.85      0.87      0.85      8755\n",
      "\n",
      "0.8427877214355306\n"
     ]
    }
   ],
   "source": [
    "from sklearn.feature_selection import SelectKBest\n",
    "numeric_transformer = Pipeline(steps=[('scaler', StandardScaler())])\n",
    "categorical_transformer = Pipeline(steps=[('onehot', OneHotEncoder(handle_unknown='ignore'))])\n",
    "preprocessor = ColumnTransformer(transformers=[('num', numeric_transformer, numCols),\n",
    "                                               ('cat', categorical_transformer, catCols)])\n",
    "clf = Pipeline(steps=[('preprocessor', preprocessor),\n",
    "                      ('classifier', LogisticRegression(penalty='l1'))])\n",
    "\n",
    "clf.fit(train_X, train_y)\n",
    "print(\"model score: %.3f\" % clf.score(val_X, val_y))\n",
    "print(classification_report(val_y, clf.predict(val_X)))\n",
    "print(roc_auc_score(val_y, clf.predict_proba(val_X)[:,1]))"
   ]
  },
  {
   "cell_type": "code",
   "execution_count": 151,
   "metadata": {},
   "outputs": [
    {
     "name": "stderr",
     "output_type": "stream",
     "text": [
      "C:\\Users\\THINKPAD\\AppData\\Roaming\\Python\\Python36\\site-packages\\sklearn\\pipeline.py:451: DataConversionWarning: Data with input dtype int64, float64 were all converted to float64 by StandardScaler.\n",
      "  Xt = transform.transform(Xt)\n",
      "C:\\Users\\THINKPAD\\AppData\\Roaming\\Python\\Python36\\site-packages\\sklearn\\pipeline.py:451: DataConversionWarning: Data with input dtype int64, float64 were all converted to float64 by StandardScaler.\n",
      "  Xt = transform.transform(Xt)\n",
      "C:\\Users\\THINKPAD\\AppData\\Roaming\\Python\\Python36\\site-packages\\sklearn\\pipeline.py:451: DataConversionWarning: Data with input dtype int64, float64 were all converted to float64 by StandardScaler.\n",
      "  Xt = transform.transform(Xt)\n"
     ]
    },
    {
     "name": "stdout",
     "output_type": "stream",
     "text": [
      "model score: 0.868\n",
      "              precision    recall  f1-score   support\n",
      "\n",
      "           0       0.89      0.96      0.92      9160\n",
      "           1       0.65      0.42      0.51      1783\n",
      "\n",
      "   micro avg       0.87      0.87      0.87     10943\n",
      "   macro avg       0.77      0.69      0.71     10943\n",
      "weighted avg       0.85      0.87      0.86     10943\n",
      "\n",
      "0.8457192443431045\n"
     ]
    }
   ],
   "source": [
    "print(\"model score: %.3f\" % clf.score(test_X, test_y))\n",
    "print(classification_report(test_y, clf.predict(test_X)))\n",
    "print(roc_auc_score(test_y, clf.predict_proba(test_X)[:,1]))"
   ]
  },
  {
   "cell_type": "code",
   "execution_count": 115,
   "metadata": {},
   "outputs": [
    {
     "name": "stderr",
     "output_type": "stream",
     "text": [
      "C:\\Users\\THINKPAD\\AppData\\Roaming\\Python\\Python36\\site-packages\\sklearn\\pipeline.py:451: DataConversionWarning: Data with input dtype int64, float64 were all converted to float64 by StandardScaler.\n",
      "  Xt = transform.transform(Xt)\n"
     ]
    }
   ],
   "source": [
    "probs = clf.predict_proba(test_X)\n",
    "preds_log_l1 = probs[:,1]"
   ]
  },
  {
   "cell_type": "markdown",
   "metadata": {},
   "source": [
    "### Select Features after One-Hot"
   ]
  },
  {
   "cell_type": "code",
   "execution_count": 152,
   "metadata": {},
   "outputs": [],
   "source": [
    "def get_column_names_from_ColumnTransformer(column_transformer):    \n",
    "    col_name = []\n",
    "    for transformer_in_columns in column_transformer.transformers_[:]:#the last transformer is ColumnTransformer's 'remainder'\n",
    "        raw_col_name = transformer_in_columns[2]\n",
    "        if isinstance(transformer_in_columns[1],Pipeline): \n",
    "            transformer = transformer_in_columns[1].steps[-1][1]\n",
    "        else:\n",
    "            transformer = transformer_in_columns[1]\n",
    "        try:\n",
    "            names = transformer.get_feature_names()\n",
    "        except AttributeError: # if no 'get_feature_names' function, use raw column name\n",
    "            names = raw_col_name\n",
    "        if isinstance(names,np.ndarray): # eg.\n",
    "            col_name += names.tolist()\n",
    "        elif isinstance(names,list):\n",
    "            col_name += names    \n",
    "        elif isinstance(names,str):\n",
    "            col_name.append(names)\n",
    "    return col_name\n"
   ]
  },
  {
   "cell_type": "code",
   "execution_count": 153,
   "metadata": {},
   "outputs": [
    {
     "data": {
      "text/plain": [
       "2330"
      ]
     },
     "execution_count": 153,
     "metadata": {},
     "output_type": "execute_result"
    }
   ],
   "source": [
    "coef = clf.named_steps['classifier'].coef_\n",
    "feature_names = get_column_names_from_ColumnTransformer(clf.named_steps['preprocessor'])\n",
    "for i in range(len(feature_names)):\n",
    "    if feature_names[i][0] == 'x':\n",
    "        flag = i\n",
    "        break\n",
    "cat_names = feature_names[flag:]\n",
    "select = []\n",
    "for i in range(coef.shape[1]):\n",
    "    if coef[0,i] != 0:\n",
    "        select.append(i)\n",
    "select_features = [feature_names[i] for i in select]\n",
    "len(select_features)"
   ]
  },
  {
   "cell_type": "code",
   "execution_count": 31,
   "metadata": {},
   "outputs": [],
   "source": [
    "#clf.named_steps['preprocessor'].named_transformers_['cat'].named_steps['onehot'].get_feature_names()"
   ]
  },
  {
   "cell_type": "code",
   "execution_count": 154,
   "metadata": {},
   "outputs": [],
   "source": [
    "for i in range(len(select_features)):\n",
    "    if select_features[i][0] == 'x':\n",
    "        flag = i\n",
    "        break"
   ]
  },
  {
   "cell_type": "code",
   "execution_count": 155,
   "metadata": {},
   "outputs": [],
   "source": [
    "num_select = select_features[:flag]\n",
    "cat_select = select_features[flag:]\n",
    "inds = []\n",
    "for i in range(len(cat_select)):\n",
    "    inds.append(cat_names.index(cat_select[i]))"
   ]
  },
  {
   "cell_type": "markdown",
   "metadata": {},
   "source": [
    "#### L2"
   ]
  },
  {
   "cell_type": "code",
   "execution_count": 116,
   "metadata": {},
   "outputs": [
    {
     "name": "stderr",
     "output_type": "stream",
     "text": [
      "C:\\Users\\THINKPAD\\AppData\\Roaming\\Python\\Python36\\site-packages\\sklearn\\preprocessing\\data.py:617: DataConversionWarning: Data with input dtype int64, float64 were all converted to float64 by StandardScaler.\n",
      "  return self.partial_fit(X, y)\n",
      "C:\\Users\\THINKPAD\\AppData\\Roaming\\Python\\Python36\\site-packages\\sklearn\\base.py:465: DataConversionWarning: Data with input dtype int64, float64 were all converted to float64 by StandardScaler.\n",
      "  return self.fit(X, y, **fit_params).transform(X)\n",
      "C:\\Users\\THINKPAD\\AppData\\Roaming\\Python\\Python36\\site-packages\\sklearn\\linear_model\\logistic.py:432: FutureWarning: Default solver will be changed to 'lbfgs' in 0.22. Specify a solver to silence this warning.\n",
      "  FutureWarning)\n",
      "C:\\Users\\THINKPAD\\AppData\\Roaming\\Python\\Python36\\site-packages\\sklearn\\pipeline.py:451: DataConversionWarning: Data with input dtype int64, float64 were all converted to float64 by StandardScaler.\n",
      "  Xt = transform.transform(Xt)\n",
      "C:\\Users\\THINKPAD\\AppData\\Roaming\\Python\\Python36\\site-packages\\sklearn\\pipeline.py:451: DataConversionWarning: Data with input dtype int64, float64 were all converted to float64 by StandardScaler.\n",
      "  Xt = transform.transform(Xt)\n"
     ]
    },
    {
     "name": "stdout",
     "output_type": "stream",
     "text": [
      "model score: 0.864\n",
      "              precision    recall  f1-score   support\n",
      "\n",
      "           0       0.89      0.95      0.92      7344\n",
      "           1       0.62      0.42      0.50      1411\n",
      "\n",
      "   micro avg       0.86      0.86      0.86      8755\n",
      "   macro avg       0.76      0.68      0.71      8755\n",
      "weighted avg       0.85      0.86      0.85      8755\n",
      "\n",
      "0.8398791243404993\n"
     ]
    },
    {
     "name": "stderr",
     "output_type": "stream",
     "text": [
      "C:\\Users\\THINKPAD\\AppData\\Roaming\\Python\\Python36\\site-packages\\sklearn\\pipeline.py:451: DataConversionWarning: Data with input dtype int64, float64 were all converted to float64 by StandardScaler.\n",
      "  Xt = transform.transform(Xt)\n"
     ]
    }
   ],
   "source": [
    "clf = Pipeline(steps=[('preprocessor', preprocessor),\n",
    "                      ('classifier', LogisticRegression(penalty='l2'))])\n",
    "\n",
    "clf.fit(train_X, train_y)\n",
    "print(\"model score: %.3f\" % clf.score(val_X, val_y))\n",
    "print(classification_report(val_y, clf.predict(val_X)))\n",
    "print(roc_auc_score(val_y, clf.predict_proba(val_X)[:,1]))"
   ]
  },
  {
   "cell_type": "code",
   "execution_count": 117,
   "metadata": {},
   "outputs": [
    {
     "name": "stderr",
     "output_type": "stream",
     "text": [
      "C:\\Users\\THINKPAD\\AppData\\Roaming\\Python\\Python36\\site-packages\\sklearn\\pipeline.py:451: DataConversionWarning: Data with input dtype int64, float64 were all converted to float64 by StandardScaler.\n",
      "  Xt = transform.transform(Xt)\n",
      "C:\\Users\\THINKPAD\\AppData\\Roaming\\Python\\Python36\\site-packages\\sklearn\\pipeline.py:451: DataConversionWarning: Data with input dtype int64, float64 were all converted to float64 by StandardScaler.\n",
      "  Xt = transform.transform(Xt)\n"
     ]
    },
    {
     "name": "stdout",
     "output_type": "stream",
     "text": [
      "model score: 0.869\n",
      "              precision    recall  f1-score   support\n",
      "\n",
      "           0       0.89      0.96      0.92      9160\n",
      "           1       0.65      0.42      0.51      1783\n",
      "\n",
      "   micro avg       0.87      0.87      0.87     10943\n",
      "   macro avg       0.77      0.69      0.72     10943\n",
      "weighted avg       0.85      0.87      0.86     10943\n",
      "\n",
      "0.8421619026859692\n"
     ]
    },
    {
     "name": "stderr",
     "output_type": "stream",
     "text": [
      "C:\\Users\\THINKPAD\\AppData\\Roaming\\Python\\Python36\\site-packages\\sklearn\\pipeline.py:451: DataConversionWarning: Data with input dtype int64, float64 were all converted to float64 by StandardScaler.\n",
      "  Xt = transform.transform(Xt)\n"
     ]
    }
   ],
   "source": [
    "print(\"model score: %.3f\" % clf.score(test_X, test_y))\n",
    "print(classification_report(test_y, clf.predict(test_X)))\n",
    "print(roc_auc_score(test_y, clf.predict_proba(test_X)[:,1]))"
   ]
  },
  {
   "cell_type": "code",
   "execution_count": 118,
   "metadata": {},
   "outputs": [
    {
     "name": "stderr",
     "output_type": "stream",
     "text": [
      "C:\\Users\\THINKPAD\\AppData\\Roaming\\Python\\Python36\\site-packages\\sklearn\\pipeline.py:451: DataConversionWarning: Data with input dtype int64, float64 were all converted to float64 by StandardScaler.\n",
      "  Xt = transform.transform(Xt)\n"
     ]
    }
   ],
   "source": [
    "probs = clf.predict_proba(test_X)\n",
    "preds_log_l2 = probs[:,1]"
   ]
  },
  {
   "cell_type": "markdown",
   "metadata": {},
   "source": [
    "## Tree Models"
   ]
  },
  {
   "cell_type": "markdown",
   "metadata": {},
   "source": [
    "### Gradient Boosting"
   ]
  },
  {
   "cell_type": "code",
   "execution_count": 119,
   "metadata": {},
   "outputs": [],
   "source": [
    "def run_lgbc(train_X, train_y, val_X, val_y):\n",
    "    params = {\n",
    "        \"objective\" : \"binary\",\n",
    "        \"metric\" : \"binary_logloss\", \n",
    "        \"num_leaves\" : 30,\n",
    "        \"min_child_samples\" : 100,\n",
    "        \"learning_rate\" : 0.1,\n",
    "        \"bagging_fraction\" : 0.7,\n",
    "        \"feature_fraction\" : 0.5,\n",
    "        \"bagging_frequency\" : 5,\n",
    "        \"bagging_seed\" : 2018,\n",
    "    }\n",
    "    \n",
    "    lgtrain = lgb.Dataset(train_X, label=train_y)\n",
    "    lgval = lgb.Dataset(val_X, label=val_y)\n",
    "    model = lgb.train(params, lgtrain, 1000, valid_sets=[lgval], early_stopping_rounds=100, verbose_eval=100)\n",
    "\n",
    "    pred_val_y = model.predict(val_X, num_iteration=model.best_iteration)\n",
    "    return model, pred_val_y\n"
   ]
  },
  {
   "cell_type": "code",
   "execution_count": 120,
   "metadata": {},
   "outputs": [
    {
     "name": "stdout",
     "output_type": "stream",
     "text": [
      "Training until validation scores don't improve for 100 rounds.\n",
      "[100]\tvalid_0's binary_logloss: 0.314329\n",
      "[200]\tvalid_0's binary_logloss: 0.314977\n",
      "Early stopping, best iteration is:\n",
      "[101]\tvalid_0's binary_logloss: 0.314247\n",
      "              precision    recall  f1-score   support\n",
      "\n",
      "           0       0.90      0.96      0.93      7344\n",
      "           1       0.66      0.42      0.51      1411\n",
      "\n",
      "   micro avg       0.87      0.87      0.87      8755\n",
      "   macro avg       0.78      0.69      0.72      8755\n",
      "weighted avg       0.86      0.87      0.86      8755\n",
      "\n",
      "0.8529489932046526\n"
     ]
    }
   ],
   "source": [
    "modelC, pred_val_y = run_lgbc(train_X, train_y, val_X, val_y)\n",
    "print(classification_report(val_y, modelC.predict(val_X)>0.5))\n",
    "print(roc_auc_score(val_y, modelC.predict(val_X)))"
   ]
  },
  {
   "cell_type": "code",
   "execution_count": 121,
   "metadata": {},
   "outputs": [
    {
     "name": "stdout",
     "output_type": "stream",
     "text": [
      "              precision    recall  f1-score   support\n",
      "\n",
      "           0       0.89      0.96      0.93      9160\n",
      "           1       0.68      0.40      0.50      1783\n",
      "\n",
      "   micro avg       0.87      0.87      0.87     10943\n",
      "   macro avg       0.78      0.68      0.71     10943\n",
      "weighted avg       0.86      0.87      0.86     10943\n",
      "\n",
      "0.8554091651624881\n"
     ]
    }
   ],
   "source": [
    "print(classification_report(test_y, modelC.predict(test_X)>0.5))\n",
    "print(roc_auc_score(test_y, modelC.predict(test_X)))"
   ]
  },
  {
   "cell_type": "code",
   "execution_count": 127,
   "metadata": {},
   "outputs": [],
   "source": [
    "preds_lgbm = modelC.predict(test_X)"
   ]
  },
  {
   "cell_type": "code",
   "execution_count": 122,
   "metadata": {},
   "outputs": [
    {
     "data": {
      "text/plain": [
       "<matplotlib.axes._subplots.AxesSubplot at 0x2bd541174e0>"
      ]
     },
     "execution_count": 122,
     "metadata": {},
     "output_type": "execute_result"
    },
    {
     "data": {
      "image/png": "[encoded data removed]",
      "text/plain": [
       "<Figure size 432x288 with 1 Axes>"
      ]
     },
     "metadata": {
      "image/png": {
       "height": 277,
       "width": 493
      },
      "needs_background": "light"
     },
     "output_type": "display_data"
    }
   ],
   "source": [
    "lgb.plot_importance(modelC)"
   ]
  },
  {
   "cell_type": "code",
   "execution_count": 123,
   "metadata": {},
   "outputs": [
    {
     "name": "stdout",
     "output_type": "stream",
     "text": [
      "BorrZip 212\n",
      "CDC_Zip 138\n",
      "ThirdPartyDollars 64\n",
      "GrossApproval 151\n",
      "InitialInterestRate 10\n",
      "TermInMonths 24\n",
      "Borrgsp 136\n",
      "unemploy_bow 108\n",
      "unemploy_pro 74\n",
      "SP500 182\n",
      "borrthird 5\n",
      "borrpro 0\n",
      "borrCDC 13\n",
      "total 101\n",
      "termint 0\n",
      "BorrName 153\n",
      "BorrCity 147\n",
      "BorrState 71\n",
      "CDC_Name 111\n",
      "CDC_Street 100\n",
      "CDC_City 112\n",
      "CDC_State 63\n",
      "ThirdPartyLender_Name 61\n",
      "ThirdPartyLender_City 74\n",
      "ThirdPartyLender_State 40\n",
      "ApprovalFiscalYear 124\n",
      "DeliveryMethod 27\n",
      "subpgmdesc 4\n",
      "NaicsCode 234\n",
      "NaicsDescription 160\n",
      "ProjectCounty 148\n",
      "ProjectState 51\n",
      "BusinessType 31\n"
     ]
    }
   ],
   "source": [
    "fn = modelC.feature_name()\n",
    "fi = list(modelC.feature_importance())\n",
    "for i in range(len(fn)):\n",
    "    print(fn[i],fi[i])"
   ]
  },
  {
   "cell_type": "markdown",
   "metadata": {},
   "source": [
    "### Default Rate Prediction on the Best Model"
   ]
  },
  {
   "cell_type": "code",
   "execution_count": 17,
   "metadata": {},
   "outputs": [
    {
     "name": "stdout",
     "output_type": "stream",
     "text": [
      "              precision    recall  f1-score   support\n",
      "\n",
      "           0       0.98      0.95      0.96       489\n",
      "           1       0.00      0.00      0.00        11\n",
      "\n",
      "   micro avg       0.93      0.93      0.93       500\n",
      "   macro avg       0.49      0.48      0.48       500\n",
      "weighted avg       0.96      0.93      0.94       500\n",
      "\n",
      "0.5318832496746607\n"
     ]
    }
   ],
   "source": [
    "samples = pd.read_csv('samples.csv')\n",
    "pred_X = samples[numCols+catCols]\n",
    "# 1 year\n",
    "pred_y = samples['target1']\n",
    "pred_prob1 = modelC.predict(pred_X)\n",
    "print(classification_report(pred_y, modelC.predict(pred_X)>0.5))\n",
    "print(roc_auc_score(pred_y, modelC.predict(pred_X)))\n"
   ]
  },
  {
   "cell_type": "code",
   "execution_count": 18,
   "metadata": {},
   "outputs": [
    {
     "name": "stdout",
     "output_type": "stream",
     "text": [
      "              precision    recall  f1-score   support\n",
      "\n",
      "           0       0.94      0.97      0.96       461\n",
      "           1       0.48      0.28      0.35        39\n",
      "\n",
      "   micro avg       0.92      0.92      0.92       500\n",
      "   macro avg       0.71      0.63      0.66       500\n",
      "weighted avg       0.91      0.92      0.91       500\n",
      "\n",
      "0.7978752989598976\n"
     ]
    }
   ],
   "source": [
    "# 5 year\n",
    "pred_y = samples['target5']\n",
    "pred_prob5 = modelC.predict(pred_X)\n",
    "print(classification_report(pred_y, modelC.predict(pred_X)>0.5))\n",
    "print(roc_auc_score(pred_y, modelC.predict(pred_X)))\n"
   ]
  },
  {
   "cell_type": "markdown",
   "metadata": {},
   "source": [
    "### Select features2"
   ]
  },
  {
   "cell_type": "code",
   "execution_count": 156,
   "metadata": {},
   "outputs": [
    {
     "name": "stderr",
     "output_type": "stream",
     "text": [
      "C:\\Users\\THINKPAD\\AppData\\Roaming\\Python\\Python36\\site-packages\\sklearn\\preprocessing\\data.py:617: DataConversionWarning: Data with input dtype int64, float64 were all converted to float64 by StandardScaler.\n",
      "  return self.partial_fit(X, y)\n",
      "C:\\Users\\THINKPAD\\AppData\\Roaming\\Python\\Python36\\site-packages\\sklearn\\base.py:462: DataConversionWarning: Data with input dtype int64, float64 were all converted to float64 by StandardScaler.\n",
      "  return self.fit(X, **fit_params).transform(X)\n",
      "C:\\Users\\THINKPAD\\AppData\\Local\\Continuum\\Anaconda3\\envs\\Tensor\\lib\\site-packages\\ipykernel_launcher.py:3: DataConversionWarning: Data with input dtype int64, float64 were all converted to float64 by StandardScaler.\n",
      "  This is separate from the ipykernel package so we can avoid doing imports until\n",
      "C:\\Users\\THINKPAD\\AppData\\Local\\Continuum\\Anaconda3\\envs\\Tensor\\lib\\site-packages\\ipykernel_launcher.py:4: DataConversionWarning: Data with input dtype int64, float64 were all converted to float64 by StandardScaler.\n",
      "  after removing the cwd from sys.path.\n"
     ]
    }
   ],
   "source": [
    "data_scaler = StandardScaler()\n",
    "train_num = data_scaler.fit_transform(train_X[numCols])\n",
    "val_num = data_scaler.transform(val_X[numCols])\n",
    "test_num = data_scaler.transform(test_X[numCols])\n",
    "train_num_df = pd.DataFrame(train_num,columns = numCols)[num_select]\n",
    "train_num_df = train_num_df.reset_index(drop=True)\n",
    "val_num_df = pd.DataFrame(val_num,columns = numCols)[num_select]\n",
    "val_num_df = val_num_df.reset_index(drop=True)\n",
    "test_num_df = pd.DataFrame(test_num,columns = numCols)[num_select]\n",
    "test_num_df = test_num_df.reset_index(drop=True)"
   ]
  },
  {
   "cell_type": "code",
   "execution_count": 157,
   "metadata": {},
   "outputs": [],
   "source": [
    "train_cat = train_X[catCols]\n",
    "one_hot = OneHotEncoder(handle_unknown='ignore')\n",
    "one_hot.fit(train_cat)\n",
    "feature_names = [str(i) for i in list(one_hot.get_feature_names())]\n",
    "for i in range(4):\n",
    "    if i == 0:\n",
    "        train_piece = one_hot.transform(train_cat[i*10000:(i+1)*10000]).toarray()[:,inds]\n",
    "        val_piece = one_hot.transform(val_X[catCols]).toarray()[:,inds]\n",
    "        test_piece = one_hot.transform(test_X[catCols]).toarray()[:,inds]    \n",
    "    elif i == 3:\n",
    "        train_piece = np.vstack((train_piece,one_hot.transform(train_cat[30000:]).toarray()[:,inds]))      \n",
    "    else:\n",
    "        train_piece = np.vstack((train_piece,one_hot.transform(train_cat[i*10000:(i+1)*10000]).toarray()[:,inds]))\n",
    "\n",
    "train_cat_df = pd.DataFrame(train_piece,columns = cat_select)\n",
    "val_cat_df = pd.DataFrame(val_piece,columns = cat_select)\n",
    "test_cat_df = pd.DataFrame(test_piece,columns = cat_select)\n",
    "newcatCols = list(train_cat_df.columns)"
   ]
  },
  {
   "cell_type": "code",
   "execution_count": 158,
   "metadata": {},
   "outputs": [],
   "source": [
    "gbtrain_X = pd.concat([train_num_df,train_cat_df],axis = 1)\n",
    "gbval_X = pd.concat([val_num_df,val_cat_df],axis = 1)\n",
    "gbtest_X = pd.concat([test_num_df,test_cat_df],axis = 1)"
   ]
  },
  {
   "cell_type": "code",
   "execution_count": 159,
   "metadata": {},
   "outputs": [
    {
     "name": "stdout",
     "output_type": "stream",
     "text": [
      "Training until validation scores don't improve for 100 rounds.\n",
      "[100]\tvalid_0's binary_logloss: 0.314634\n",
      "[200]\tvalid_0's binary_logloss: 0.315839\n",
      "Early stopping, best iteration is:\n",
      "[117]\tvalid_0's binary_logloss: 0.314393\n",
      "              precision    recall  f1-score   support\n",
      "\n",
      "           0       0.89      0.96      0.93      7344\n",
      "           1       0.66      0.41      0.51      1411\n",
      "\n",
      "   micro avg       0.87      0.87      0.87      8755\n",
      "   macro avg       0.78      0.69      0.72      8755\n",
      "weighted avg       0.86      0.87      0.86      8755\n",
      "\n",
      "0.8526010037844572\n"
     ]
    }
   ],
   "source": [
    "modelS, pred_val_y = run_lgbc(gbtrain_X, train_y, gbval_X, val_y)\n",
    "print(classification_report(val_y, modelS.predict(gbval_X)>0.5))\n",
    "print(roc_auc_score(val_y, modelS.predict(gbval_X)))"
   ]
  },
  {
   "cell_type": "code",
   "execution_count": 160,
   "metadata": {},
   "outputs": [
    {
     "name": "stdout",
     "output_type": "stream",
     "text": [
      "              precision    recall  f1-score   support\n",
      "\n",
      "           0       0.89      0.96      0.93      9160\n",
      "           1       0.67      0.40      0.50      1783\n",
      "\n",
      "   micro avg       0.87      0.87      0.87     10943\n",
      "   macro avg       0.78      0.68      0.71     10943\n",
      "weighted avg       0.86      0.87      0.86     10943\n",
      "\n",
      "0.8557352984396545\n"
     ]
    }
   ],
   "source": [
    "print(classification_report(test_y, modelS.predict(gbtest_X)>0.5))\n",
    "print(roc_auc_score(test_y, modelS.predict(gbtest_X)))"
   ]
  },
  {
   "cell_type": "code",
   "execution_count": 161,
   "metadata": {},
   "outputs": [
    {
     "name": "stdout",
     "output_type": "stream",
     "text": [
      "BorrZip 229\n",
      "CDC_Zip 220\n",
      "GrossApproval 259\n",
      "InitialInterestRate 23\n",
      "TermInMonths 33\n",
      "Borrgsp 249\n",
      "unemploy_pro 177\n",
      "SP500 243\n",
      "borrthird 28\n",
      "borrCDC 16\n",
      "total 203\n",
      "x1_311 14\n",
      "x1_520 4\n",
      "x1_1271 1\n",
      "x1_1607 8\n",
      "x1_2936 4\n",
      "x1_3369 4\n",
      "x1_3681 1\n",
      "x1_4069 9\n",
      "x1_5721 7\n",
      "x1_5736 1\n",
      "x1_5780 1\n",
      "x1_6659 3\n",
      "x2_1 5\n",
      "x2_2 5\n",
      "x2_4 12\n",
      "x2_10 11\n",
      "x2_14 1\n",
      "x2_15 2\n",
      "x2_16 3\n",
      "x2_19 8\n",
      "x2_20 4\n",
      "x2_21 1\n",
      "x2_23 13\n",
      "x2_28 4\n",
      "x2_45 4\n",
      "x2_50 1\n",
      "x2_51 9\n",
      "x3_5 7\n",
      "x3_21 1\n",
      "x3_22 3\n",
      "x3_33 3\n",
      "x3_35 6\n",
      "x3_38 6\n",
      "x3_41 2\n",
      "x3_45 2\n",
      "x3_47 2\n",
      "x3_72 3\n",
      "x3_74 5\n",
      "x3_77 1\n",
      "x3_112 13\n",
      "x3_113 1\n",
      "x3_119 12\n",
      "x3_125 1\n",
      "x3_130 1\n",
      "x3_132 1\n",
      "x3_133 2\n",
      "x3_141 9\n",
      "x3_150 2\n",
      "x3_161 1\n",
      "x3_173 1\n",
      "x3_184 7\n",
      "x3_230 5\n",
      "x3_232 4\n",
      "x3_235 5\n",
      "x3_242 6\n",
      "x3_258 1\n",
      "x3_261 1\n",
      "x3_263 2\n",
      "x3_266 3\n",
      "x3_271 1\n",
      "x4_27 2\n",
      "x4_42 1\n",
      "x4_45 4\n",
      "x4_46 6\n",
      "x4_55 2\n",
      "x4_70 2\n",
      "x4_88 3\n",
      "x4_101 1\n",
      "x4_132 1\n",
      "x4_145 4\n",
      "x4_146 3\n",
      "x4_162 1\n",
      "x4_178 1\n",
      "x4_182 20\n",
      "x4_197 3\n",
      "x4_198 2\n",
      "x4_216 2\n",
      "x4_218 3\n",
      "x4_221 1\n",
      "x4_222 1\n",
      "x4_228 4\n",
      "x4_233 2\n",
      "x4_235 2\n",
      "x4_236 7\n",
      "x4_245 1\n",
      "x4_253 2\n",
      "x4_259 1\n",
      "x4_267 1\n",
      "x4_272 2\n",
      "x4_275 3\n",
      "x4_284 3\n",
      "x4_306 1\n",
      "x4_321 3\n",
      "x4_325 1\n",
      "x5_5 1\n",
      "x5_15 2\n",
      "x5_27 2\n",
      "x5_30 6\n",
      "x5_43 4\n",
      "x5_77 1\n",
      "x5_79 4\n",
      "x5_80 2\n",
      "x5_88 13\n",
      "x5_93 1\n",
      "x5_120 1\n",
      "x5_125 2\n",
      "x5_165 2\n",
      "x5_182 2\n",
      "x5_212 1\n",
      "x5_213 8\n",
      "x5_215 1\n",
      "x5_261 1\n",
      "x6_4 6\n",
      "x6_10 12\n",
      "x6_11 9\n",
      "x6_13 1\n",
      "x6_14 3\n",
      "x6_15 1\n",
      "x6_21 6\n",
      "x6_22 5\n",
      "x6_24 3\n",
      "x6_31 1\n",
      "x6_32 2\n",
      "x6_35 2\n",
      "x6_36 1\n",
      "x6_37 9\n",
      "x6_46 3\n",
      "x6_47 6\n",
      "x6_49 2\n",
      "x6_50 9\n",
      "x6_52 5\n",
      "x7_194 12\n",
      "x7_260 1\n",
      "x7_2316 2\n",
      "x7_2383 6\n",
      "x8_0 15\n",
      "x8_52 7\n",
      "x8_126 1\n",
      "x8_251 8\n",
      "x8_298 12\n",
      "x8_651 2\n",
      "x8_809 4\n",
      "x8_1158 6\n",
      "x8_1247 8\n",
      "x8_1248 8\n",
      "x8_1303 17\n",
      "x8_1538 10\n",
      "x9_4 1\n",
      "x9_9 6\n",
      "x9_10 3\n",
      "x9_11 2\n",
      "x9_15 3\n",
      "x9_16 2\n",
      "x9_19 6\n",
      "x9_26 1\n",
      "x9_30 9\n",
      "x9_31 1\n",
      "x9_41 2\n",
      "x9_50 1\n",
      "x9_53 3\n",
      "x9_54 6\n",
      "x9_57 5\n",
      "x9_58 3\n",
      "x10_0 8\n",
      "x10_2 3\n",
      "x10_3 10\n",
      "x10_4 4\n",
      "x10_5 6\n",
      "x10_6 5\n",
      "x10_7 9\n",
      "x10_8 12\n",
      "x10_9 7\n",
      "x10_10 10\n",
      "x10_11 5\n",
      "x10_13 13\n",
      "x10_14 14\n",
      "x10_15 6\n",
      "x10_16 8\n",
      "x10_17 16\n",
      "x10_18 13\n",
      "x10_19 12\n",
      "x10_20 4\n",
      "x11_2 20\n",
      "x12_2 20\n",
      "x13_0 23\n",
      "x13_61 2\n",
      "x13_105 6\n",
      "x13_335 4\n",
      "x13_348 5\n",
      "x13_481 3\n",
      "x13_655 7\n",
      "x13_657 1\n",
      "x13_662 1\n",
      "x13_663 2\n",
      "x13_677 6\n",
      "x13_691 15\n",
      "x13_817 10\n",
      "x13_845 12\n",
      "x13_865 12\n",
      "x13_872 6\n",
      "x13_874 6\n",
      "x13_910 18\n",
      "x13_969 15\n",
      "x13_971 26\n",
      "x13_1002 2\n",
      "x13_1019 9\n",
      "x13_1020 10\n",
      "x13_1022 14\n",
      "x13_1029 20\n",
      "x13_1030 8\n",
      "x13_1036 8\n",
      "x13_1038 6\n",
      "x13_1042 4\n",
      "x13_1045 21\n",
      "x14_81 4\n",
      "x14_92 1\n",
      "x14_122 6\n",
      "x14_142 6\n",
      "x14_160 1\n",
      "x14_187 8\n",
      "x14_274 8\n",
      "x14_288 1\n",
      "x14_306 2\n",
      "x14_315 1\n",
      "x14_335 7\n",
      "x14_338 2\n",
      "x14_370 23\n",
      "x14_373 1\n",
      "x14_378 6\n",
      "x14_426 16\n",
      "x14_493 5\n",
      "x14_505 4\n",
      "x14_556 5\n",
      "x14_615 19\n",
      "x14_616 2\n",
      "x14_621 4\n",
      "x14_624 6\n",
      "x14_785 2\n",
      "x14_950 2\n",
      "x14_1012 8\n",
      "x14_1016 8\n",
      "x14_1049 3\n",
      "x15_47 2\n",
      "x15_120 9\n",
      "x15_123 7\n",
      "x15_169 5\n",
      "x15_230 3\n",
      "x15_293 15\n",
      "x15_334 13\n",
      "x15_373 2\n",
      "x15_386 7\n",
      "x15_428 2\n",
      "x15_435 9\n",
      "x15_439 10\n",
      "x15_465 10\n",
      "x15_469 6\n",
      "x15_497 2\n",
      "x15_503 1\n",
      "x15_505 7\n",
      "x15_577 3\n",
      "x15_583 1\n",
      "x15_601 9\n",
      "x15_617 11\n",
      "x15_683 3\n",
      "x15_687 3\n",
      "x15_696 2\n",
      "x15_720 2\n",
      "x15_729 8\n",
      "x15_754 5\n",
      "x15_757 3\n",
      "x15_813 20\n",
      "x15_847 6\n",
      "x15_898 11\n",
      "x15_899 9\n",
      "x15_927 4\n",
      "x15_990 5\n",
      "x15_1013 14\n",
      "x15_1035 3\n",
      "x15_1074 9\n",
      "x15_1155 10\n",
      "x15_1166 5\n",
      "x15_1187 4\n",
      "x15_1201 1\n",
      "x15_1213 10\n",
      "x15_1217 5\n",
      "x15_1218 2\n",
      "x15_1219 13\n",
      "x15_1221 6\n",
      "x15_1225 6\n",
      "x15_1237 7\n",
      "x15_1321 5\n",
      "x15_1401 1\n",
      "x16_2 7\n",
      "x16_3 1\n",
      "x16_6 2\n",
      "x16_10 9\n",
      "x16_22 1\n",
      "x16_24 5\n",
      "x16_27 2\n",
      "x16_31 1\n",
      "x16_39 1\n",
      "x16_41 1\n",
      "x16_47 1\n",
      "x16_48 1\n",
      "x17_1 30\n",
      "x17_3 18\n"
     ]
    }
   ],
   "source": [
    "select2 = []\n",
    "fn = modelS.feature_name()\n",
    "fi = list(modelS.feature_importance())\n",
    "for i in range(len(fn)):\n",
    "    if fi[i] != 0:\n",
    "        select2.append(fn[i])\n",
    "        print(fn[i],fi[i])"
   ]
  },
  {
   "cell_type": "code",
   "execution_count": 162,
   "metadata": {},
   "outputs": [
    {
     "data": {
      "text/plain": [
       "317"
      ]
     },
     "execution_count": 162,
     "metadata": {},
     "output_type": "execute_result"
    }
   ],
   "source": [
    "len(select2)"
   ]
  },
  {
   "cell_type": "code",
   "execution_count": 170,
   "metadata": {},
   "outputs": [],
   "source": [
    "for i in range(len(fn)):\n",
    "    if feature_names[i][0] == 'x':\n",
    "        flag = i\n",
    "        break\n",
    "cat_names2 = fn[flag:]\n",
    "for i in range(len(select2)):\n",
    "    if select2[i][0] == 'x':\n",
    "        flag = i\n",
    "        break\n",
    "num_select2 = select2[:flag]\n",
    "cat_select2 = select2[flag:]\n",
    "inds2 = []\n",
    "for i in range(len(cat_select2)):\n",
    "    inds2.append(cat_names2.index(cat_select2[i]))"
   ]
  },
  {
   "cell_type": "markdown",
   "metadata": {},
   "source": [
    "#### Oversampling"
   ]
  },
  {
   "cell_type": "markdown",
   "metadata": {},
   "source": [
    "##### 1. Random Oversampling"
   ]
  },
  {
   "cell_type": "code",
   "execution_count": 128,
   "metadata": {},
   "outputs": [],
   "source": [
    "ros = RandomOverSampler(random_state=0, sampling_strategy = 0.3)\n",
    "X_resampled, y_resampled = ros.fit_resample(train_X, train_y)\n",
    "#X_resampled = pd.DataFrame(X_resampled, columns=train_X.columns)\n"
   ]
  },
  {
   "cell_type": "code",
   "execution_count": 129,
   "metadata": {},
   "outputs": [
    {
     "name": "stdout",
     "output_type": "stream",
     "text": [
      "Training until validation scores don't improve for 100 rounds.\n",
      "[100]\tvalid_0's binary_logloss: 0.323148\n",
      "[200]\tvalid_0's binary_logloss: 0.322857\n",
      "Early stopping, best iteration is:\n",
      "[129]\tvalid_0's binary_logloss: 0.322222\n",
      "              precision    recall  f1-score   support\n",
      "\n",
      "           0       0.91      0.94      0.92      7344\n",
      "           1       0.61      0.52      0.56      1411\n",
      "\n",
      "   micro avg       0.87      0.87      0.87      8755\n",
      "   macro avg       0.76      0.73      0.74      8755\n",
      "weighted avg       0.86      0.87      0.86      8755\n",
      "\n",
      "0.8534970331151596\n"
     ]
    }
   ],
   "source": [
    "modelC, pred_val_y = run_lgbc(X_resampled, y_resampled, val_X, val_y)\n",
    "print(classification_report(val_y, modelC.predict(val_X)>0.5))\n",
    "print(roc_auc_score(val_y, modelC.predict(val_X)))"
   ]
  },
  {
   "cell_type": "code",
   "execution_count": 130,
   "metadata": {},
   "outputs": [
    {
     "name": "stdout",
     "output_type": "stream",
     "text": [
      "              precision    recall  f1-score   support\n",
      "\n",
      "           0       0.90      0.94      0.92      9160\n",
      "           1       0.61      0.49      0.54      1783\n",
      "\n",
      "   micro avg       0.87      0.87      0.87     10943\n",
      "   macro avg       0.76      0.71      0.73     10943\n",
      "weighted avg       0.86      0.87      0.86     10943\n",
      "\n",
      "0.8555101308574184\n"
     ]
    }
   ],
   "source": [
    "print(classification_report(test_y, modelC.predict(test_X)>0.5))\n",
    "print(roc_auc_score(test_y, modelC.predict(test_X)))"
   ]
  },
  {
   "cell_type": "markdown",
   "metadata": {},
   "source": [
    "##### 2. SMOTE"
   ]
  },
  {
   "cell_type": "code",
   "execution_count": 131,
   "metadata": {},
   "outputs": [],
   "source": [
    "sm = SMOTE(random_state=0, sampling_strategy = 0.3)\n",
    "X_smote, y_smote = sm.fit_resample(train_X, train_y)\n",
    "#X_smote = pd.DataFrame(X_smote, columns=train_X.columns)\n",
    "#print('Original dataset shape %s' % Counter(train_y))\n",
    "#print('SMOTE dataset shape %s' % Counter(y_smote))"
   ]
  },
  {
   "cell_type": "code",
   "execution_count": 132,
   "metadata": {},
   "outputs": [
    {
     "name": "stdout",
     "output_type": "stream",
     "text": [
      "Training until validation scores don't improve for 100 rounds.\n",
      "[100]\tvalid_0's binary_logloss: 0.315087\n",
      "[200]\tvalid_0's binary_logloss: 0.31608\n",
      "Early stopping, best iteration is:\n",
      "[133]\tvalid_0's binary_logloss: 0.31446\n",
      "              precision    recall  f1-score   support\n",
      "\n",
      "           0       0.90      0.95      0.93      7344\n",
      "           1       0.65      0.45      0.53      1411\n",
      "\n",
      "   micro avg       0.87      0.87      0.87      8755\n",
      "   macro avg       0.78      0.70      0.73      8755\n",
      "weighted avg       0.86      0.87      0.86      8755\n",
      "\n",
      "0.8534055966271854\n"
     ]
    }
   ],
   "source": [
    "modelC, pred_val_y = run_lgbc(X_smote, y_smote, val_X, val_y)\n",
    "print(classification_report(val_y, modelC.predict(val_X)>0.5))\n",
    "print(roc_auc_score(val_y, modelC.predict(val_X)))"
   ]
  },
  {
   "cell_type": "code",
   "execution_count": 133,
   "metadata": {},
   "outputs": [
    {
     "name": "stdout",
     "output_type": "stream",
     "text": [
      "              precision    recall  f1-score   support\n",
      "\n",
      "           0       0.90      0.96      0.93      9160\n",
      "           1       0.66      0.43      0.52      1783\n",
      "\n",
      "   micro avg       0.87      0.87      0.87     10943\n",
      "   macro avg       0.78      0.69      0.72     10943\n",
      "weighted avg       0.86      0.87      0.86     10943\n",
      "\n",
      "0.8571170099949303\n"
     ]
    }
   ],
   "source": [
    "print(classification_report(test_y, modelC.predict(test_X)>0.5))\n",
    "print(roc_auc_score(test_y, modelC.predict(test_X)))"
   ]
  },
  {
   "cell_type": "markdown",
   "metadata": {},
   "source": [
    "### Decision Tree"
   ]
  },
  {
   "cell_type": "code",
   "execution_count": 28,
   "metadata": {},
   "outputs": [
    {
     "name": "stdout",
     "output_type": "stream",
     "text": [
      "{'decisiontreeclassifier__min_samples_split': 8, 'decisiontreeclassifier__min_samples_leaf': 1, 'decisiontreeclassifier__max_features': 7, 'decisiontreeclassifier__max_depth': 6}\n"
     ]
    }
   ],
   "source": [
    "from sklearn.pipeline import make_pipeline\n",
    "from sklearn.tree import DecisionTreeClassifier\n",
    "from sklearn.model_selection import cross_validate\n",
    "pipelines = {\n",
    "    \"dtclass\": make_pipeline(DecisionTreeClassifier(random_state=0))\n",
    "}\n",
    "decisiontree_hyperparameters = {\n",
    "    'decisiontreeclassifier__max_depth' : np.arange(3, 10),\n",
    "    'decisiontreeclassifier__max_features' : np.arange(3, 8),\n",
    "    'decisiontreeclassifier__min_samples_split' : np.arange(2, 15),\n",
    "    \"decisiontreeclassifier__min_samples_leaf\" : np.arange(1,3)\n",
    "}\n",
    "dtclass_model = RandomizedSearchCV(pipelines['dtclass'],decisiontree_hyperparameters,n_iter = 100,cv=3)\n",
    "dtclass_model.fit(train_X, train_y)\n",
    "print(dtclass_model.best_params_)"
   ]
  },
  {
   "cell_type": "code",
   "execution_count": 29,
   "metadata": {},
   "outputs": [
    {
     "name": "stdout",
     "output_type": "stream",
     "text": [
      "              precision    recall  f1-score   support\n",
      "\n",
      "           0       0.89      0.96      0.92      7361\n",
      "           1       0.61      0.36      0.45      1408\n",
      "\n",
      "   micro avg       0.86      0.86      0.86      8769\n",
      "   macro avg       0.75      0.66      0.69      8769\n",
      "weighted avg       0.84      0.86      0.84      8769\n",
      "\n",
      "0.656666719411888\n"
     ]
    }
   ],
   "source": [
    "dtclass_best_model = dtclass_model.best_estimator_.named_steps['decisiontreeclassifier']\n",
    "print(classification_report(val_y, dtclass_best_model.predict(val_X)>0.5))\n",
    "print(roc_auc_score(val_y, dtclass_best_model.predict(val_X)))"
   ]
  },
  {
   "cell_type": "code",
   "execution_count": 30,
   "metadata": {},
   "outputs": [
    {
     "ename": "InvocationException",
     "evalue": "GraphViz's executables not found",
     "output_type": "error",
     "traceback": [
      "\u001b[1;31m---------------------------------------------------------------------------\u001b[0m",
      "\u001b[1;31mInvocationException\u001b[0m                       Traceback (most recent call last)",
      "\u001b[1;32m<ipython-input-30-a7282e58839b>\u001b[0m in \u001b[0;36m<module>\u001b[1;34m\u001b[0m\n\u001b[0;32m     10\u001b[0m \u001b[1;31m#make a graph from dot file\u001b[0m\u001b[1;33m\u001b[0m\u001b[1;33m\u001b[0m\u001b[1;33m\u001b[0m\u001b[0m\n\u001b[0;32m     11\u001b[0m \u001b[0mgraph\u001b[0m \u001b[1;33m=\u001b[0m \u001b[0mpdot\u001b[0m\u001b[1;33m.\u001b[0m\u001b[0mgraph_from_dot_data\u001b[0m\u001b[1;33m(\u001b[0m\u001b[0mdot_data\u001b[0m\u001b[1;33m.\u001b[0m\u001b[0mgetvalue\u001b[0m\u001b[1;33m(\u001b[0m\u001b[1;33m)\u001b[0m\u001b[1;33m)\u001b[0m\u001b[1;33m\u001b[0m\u001b[1;33m\u001b[0m\u001b[0m\n\u001b[1;32m---> 12\u001b[1;33m \u001b[0mImage\u001b[0m\u001b[1;33m(\u001b[0m\u001b[0mgraph\u001b[0m\u001b[1;33m.\u001b[0m\u001b[0mcreate_png\u001b[0m\u001b[1;33m(\u001b[0m\u001b[1;33m)\u001b[0m\u001b[1;33m)\u001b[0m\u001b[1;33m\u001b[0m\u001b[1;33m\u001b[0m\u001b[0m\n\u001b[0m",
      "\u001b[1;32m~\\AppData\\Local\\Continuum\\Anaconda3\\envs\\Tensor\\lib\\site-packages\\pydotplus\\graphviz.py\u001b[0m in \u001b[0;36m<lambda>\u001b[1;34m(f, prog)\u001b[0m\n\u001b[0;32m   1795\u001b[0m             self.__setattr__(\n\u001b[0;32m   1796\u001b[0m                 \u001b[1;34m'create_'\u001b[0m \u001b[1;33m+\u001b[0m \u001b[0mfrmt\u001b[0m\u001b[1;33m,\u001b[0m\u001b[1;33m\u001b[0m\u001b[1;33m\u001b[0m\u001b[0m\n\u001b[1;32m-> 1797\u001b[1;33m                 \u001b[1;32mlambda\u001b[0m \u001b[0mf\u001b[0m\u001b[1;33m=\u001b[0m\u001b[0mfrmt\u001b[0m\u001b[1;33m,\u001b[0m \u001b[0mprog\u001b[0m\u001b[1;33m=\u001b[0m\u001b[0mself\u001b[0m\u001b[1;33m.\u001b[0m\u001b[0mprog\u001b[0m\u001b[1;33m:\u001b[0m \u001b[0mself\u001b[0m\u001b[1;33m.\u001b[0m\u001b[0mcreate\u001b[0m\u001b[1;33m(\u001b[0m\u001b[0mformat\u001b[0m\u001b[1;33m=\u001b[0m\u001b[0mf\u001b[0m\u001b[1;33m,\u001b[0m \u001b[0mprog\u001b[0m\u001b[1;33m=\u001b[0m\u001b[0mprog\u001b[0m\u001b[1;33m)\u001b[0m\u001b[1;33m\u001b[0m\u001b[1;33m\u001b[0m\u001b[0m\n\u001b[0m\u001b[0;32m   1798\u001b[0m             )\n\u001b[0;32m   1799\u001b[0m             \u001b[0mf\u001b[0m \u001b[1;33m=\u001b[0m \u001b[0mself\u001b[0m\u001b[1;33m.\u001b[0m\u001b[0m__dict__\u001b[0m\u001b[1;33m[\u001b[0m\u001b[1;34m'create_'\u001b[0m \u001b[1;33m+\u001b[0m \u001b[0mfrmt\u001b[0m\u001b[1;33m]\u001b[0m\u001b[1;33m\u001b[0m\u001b[1;33m\u001b[0m\u001b[0m\n",
      "\u001b[1;32m~\\AppData\\Local\\Continuum\\Anaconda3\\envs\\Tensor\\lib\\site-packages\\pydotplus\\graphviz.py\u001b[0m in \u001b[0;36mcreate\u001b[1;34m(self, prog, format)\u001b[0m\n\u001b[0;32m   1958\u001b[0m             \u001b[1;32mif\u001b[0m \u001b[0mself\u001b[0m\u001b[1;33m.\u001b[0m\u001b[0mprogs\u001b[0m \u001b[1;32mis\u001b[0m \u001b[1;32mNone\u001b[0m\u001b[1;33m:\u001b[0m\u001b[1;33m\u001b[0m\u001b[1;33m\u001b[0m\u001b[0m\n\u001b[0;32m   1959\u001b[0m                 raise InvocationException(\n\u001b[1;32m-> 1960\u001b[1;33m                     'GraphViz\\'s executables not found')\n\u001b[0m\u001b[0;32m   1961\u001b[0m \u001b[1;33m\u001b[0m\u001b[0m\n\u001b[0;32m   1962\u001b[0m         \u001b[1;32mif\u001b[0m \u001b[0mprog\u001b[0m \u001b[1;32mnot\u001b[0m \u001b[1;32min\u001b[0m \u001b[0mself\u001b[0m\u001b[1;33m.\u001b[0m\u001b[0mprogs\u001b[0m\u001b[1;33m:\u001b[0m\u001b[1;33m\u001b[0m\u001b[1;33m\u001b[0m\u001b[0m\n",
      "\u001b[1;31mInvocationException\u001b[0m: GraphViz's executables not found"
     ]
    }
   ],
   "source": [
    "from sklearn.externals.six import StringIO\n",
    "from IPython.display import Image\n",
    "from sklearn.tree import export_graphviz\n",
    "import pydotplus as pdot\n",
    "#writing the dot data\n",
    "dot_data = StringIO()\n",
    "#export the decision tree along with the feature names into a dot file format\n",
    "export_graphviz(dtclass_best_model,out_file=dot_data,filled=True,special_characters=True,rounded=True,\n",
    "                feature_names=train_X.columns.values,class_names = [\"No\",\"Yes\"])\n",
    "#make a graph from dot file\n",
    "graph = pdot.graph_from_dot_data(dot_data.getvalue())\n",
    "Image(graph.create_png())"
   ]
  },
  {
   "cell_type": "markdown",
   "metadata": {},
   "source": [
    "### Random Forest"
   ]
  },
  {
   "cell_type": "code",
   "execution_count": 172,
   "metadata": {},
   "outputs": [
    {
     "name": "stderr",
     "output_type": "stream",
     "text": [
      "C:\\Users\\THINKPAD\\AppData\\Roaming\\Python\\Python36\\site-packages\\sklearn\\preprocessing\\data.py:617: DataConversionWarning: Data with input dtype int64, float64 were all converted to float64 by StandardScaler.\n",
      "  return self.partial_fit(X, y)\n",
      "C:\\Users\\THINKPAD\\AppData\\Roaming\\Python\\Python36\\site-packages\\sklearn\\base.py:462: DataConversionWarning: Data with input dtype int64, float64 were all converted to float64 by StandardScaler.\n",
      "  return self.fit(X, **fit_params).transform(X)\n",
      "C:\\Users\\THINKPAD\\AppData\\Local\\Continuum\\Anaconda3\\envs\\Tensor\\lib\\site-packages\\ipykernel_launcher.py:3: DataConversionWarning: Data with input dtype int64, float64 were all converted to float64 by StandardScaler.\n",
      "  This is separate from the ipykernel package so we can avoid doing imports until\n",
      "C:\\Users\\THINKPAD\\AppData\\Local\\Continuum\\Anaconda3\\envs\\Tensor\\lib\\site-packages\\ipykernel_launcher.py:4: DataConversionWarning: Data with input dtype int64, float64 were all converted to float64 by StandardScaler.\n",
      "  after removing the cwd from sys.path.\n"
     ]
    }
   ],
   "source": [
    "data_scaler = StandardScaler()\n",
    "train_num = data_scaler.fit_transform(train_X[numCols])\n",
    "val_num = data_scaler.transform(val_X[numCols])\n",
    "test_num = data_scaler.transform(test_X[numCols])\n",
    "train_num_df = pd.DataFrame(train_num,columns = numCols)[num_select2]\n",
    "train_num_df = train_num_df.reset_index(drop=True)\n",
    "val_num_df = pd.DataFrame(val_num,columns = numCols)[num_select2]\n",
    "val_num_df = val_num_df.reset_index(drop=True)\n",
    "test_num_df = pd.DataFrame(test_num,columns = numCols)[num_select2]\n",
    "test_num_df = test_num_df.reset_index(drop=True)\n",
    "\n",
    "train_cat = train_X[catCols]\n",
    "one_hot = OneHotEncoder(handle_unknown='ignore')\n",
    "one_hot.fit(train_cat)\n",
    "feature_names = [str(i) for i in list(one_hot.get_feature_names())]\n",
    "for i in range(4):\n",
    "    if i == 0:\n",
    "        train_piece = one_hot.transform(train_cat[i*10000:(i+1)*10000]).toarray()[:,inds2]\n",
    "        val_piece = one_hot.transform(val_X[catCols]).toarray()[:,inds2]\n",
    "        test_piece = one_hot.transform(test_X[catCols]).toarray()[:,inds2]    \n",
    "    elif i == 3:\n",
    "        train_piece = np.vstack((train_piece,one_hot.transform(train_cat[30000:]).toarray()[:,inds2]))      \n",
    "    else:\n",
    "        train_piece = np.vstack((train_piece,one_hot.transform(train_cat[i*10000:(i+1)*10000]).toarray()[:,inds2]))\n",
    "\n",
    "train_cat_df = pd.DataFrame(train_piece,columns = cat_select2)\n",
    "val_cat_df = pd.DataFrame(val_piece,columns = cat_select2)\n",
    "test_cat_df = pd.DataFrame(test_piece,columns = cat_select2)\n",
    "newcatCols = list(train_cat_df.columns)\n",
    "\n",
    "DNNtrain_X = pd.concat([train_num_df,train_cat_df],axis = 1)\n",
    "DNNval_X = pd.concat([val_num_df,val_cat_df],axis = 1)\n",
    "DNNtest_X = pd.concat([test_num_df,test_cat_df],axis = 1)"
   ]
  },
  {
   "cell_type": "code",
   "execution_count": 173,
   "metadata": {},
   "outputs": [
    {
     "name": "stdout",
     "output_type": "stream",
     "text": [
      "Fitting 3 folds for each of 20 candidates, totalling 60 fits\n"
     ]
    },
    {
     "name": "stderr",
     "output_type": "stream",
     "text": [
      "[Parallel(n_jobs=1)]: Using backend SequentialBackend with 1 concurrent workers.\n",
      "[Parallel(n_jobs=1)]: Done  60 out of  60 | elapsed:  8.4min finished\n"
     ]
    },
    {
     "data": {
      "text/plain": [
       "RandomizedSearchCV(cv=3, error_score='raise-deprecating',\n",
       "          estimator=RandomForestClassifier(bootstrap=True, class_weight=None, criterion='gini',\n",
       "            max_depth=None, max_features='auto', max_leaf_nodes=None,\n",
       "            min_impurity_decrease=0.0, min_impurity_split=None,\n",
       "            min_samples_leaf=1, min_samples_split=2,\n",
       "            min_weight_fraction_leaf=0.0, n_estimators='warn', n_jobs=None,\n",
       "            oob_score=False, random_state=0, verbose=0, warm_start=False),\n",
       "          fit_params=None, iid='warn', n_iter=20, n_jobs=None,\n",
       "          param_distributions={'n_estimators': [20, 73, 126, 180, 233, 286, 340, 393, 446, 500], 'max_features': ['auto', 'sqrt'], 'max_depth': [10, 20, 30, 40, 50, 60, 70, 80, 90, 100, 110, None], 'min_samples_split': [2, 5, 10], 'min_samples_leaf': [1, 2, 4], 'bootstrap': [True, False]},\n",
       "          pre_dispatch='2*n_jobs', random_state=0, refit=True,\n",
       "          return_train_score='warn', scoring=None, verbose=1)"
      ]
     },
     "execution_count": 173,
     "metadata": {},
     "output_type": "execute_result"
    }
   ],
   "source": [
    "# Number of trees in random forest\n",
    "n_estimators = [int(x) for x in np.linspace(start = 20, stop = 500, num = 10)]\n",
    "# Number of features to consider at every split\n",
    "max_features = ['auto', 'sqrt']\n",
    "# Maximum number of levels in tree\n",
    "max_depth = [int(x) for x in np.linspace(10, 110, num = 11)]\n",
    "max_depth.append(None)\n",
    "# Minimum number of samples required to split a node\n",
    "min_samples_split = [2, 5, 10]\n",
    "# Minimum number of samples required at each leaf node\n",
    "min_samples_leaf = [1, 2, 4]\n",
    "# Method of selecting samples for training each tree\n",
    "bootstrap = [True, False]\n",
    "# Create the random grid\n",
    "random_grid = {'n_estimators': n_estimators,\n",
    "               'max_features': max_features,\n",
    "               'max_depth': max_depth,\n",
    "               'min_samples_split': min_samples_split,\n",
    "               'min_samples_leaf': min_samples_leaf,\n",
    "               'bootstrap': bootstrap}\n",
    "rf_random = RandomizedSearchCV(estimator = RandomForestClassifier(random_state=0), param_distributions = random_grid, n_iter = 20, cv = 3, verbose=1, random_state=0)\n",
    "rf_random.fit(DNNtrain_X, train_y)"
   ]
  },
  {
   "cell_type": "code",
   "execution_count": 174,
   "metadata": {},
   "outputs": [
    {
     "name": "stdout",
     "output_type": "stream",
     "text": [
      "{'n_estimators': 446, 'min_samples_split': 10, 'min_samples_leaf': 1, 'max_features': 'auto', 'max_depth': None, 'bootstrap': True}\n"
     ]
    }
   ],
   "source": [
    "print(rf_random.best_params_)"
   ]
  },
  {
   "cell_type": "code",
   "execution_count": 175,
   "metadata": {
    "scrolled": true
   },
   "outputs": [
    {
     "name": "stdout",
     "output_type": "stream",
     "text": [
      "              precision    recall  f1-score   support\n",
      "\n",
      "           0       0.89      0.95      0.92      7344\n",
      "           1       0.59      0.37      0.46      1411\n",
      "\n",
      "   micro avg       0.86      0.86      0.86      8755\n",
      "   macro avg       0.74      0.66      0.69      8755\n",
      "weighted avg       0.84      0.86      0.84      8755\n",
      "\n",
      "0.6621149631204557\n"
     ]
    }
   ],
   "source": [
    "clf = RandomForestClassifier(n_estimators=500,random_state=0)\n",
    "clf.fit(DNNtrain_X, train_y)\n",
    "print(classification_report(val_y, clf.predict(DNNval_X)>0.5))\n",
    "print(roc_auc_score(val_y, clf.predict(DNNval_X)))"
   ]
  },
  {
   "cell_type": "markdown",
   "metadata": {},
   "source": [
    "## DNN"
   ]
  },
  {
   "cell_type": "code",
   "execution_count": 136,
   "metadata": {},
   "outputs": [
    {
     "data": {
      "text/plain": [
       "<Figure size 432x288 with 0 Axes>"
      ]
     },
     "metadata": {},
     "output_type": "display_data"
    }
   ],
   "source": [
    "%run DNN_utils.py"
   ]
  },
  {
   "cell_type": "code",
   "execution_count": 137,
   "metadata": {},
   "outputs": [
    {
     "name": "stderr",
     "output_type": "stream",
     "text": [
      "C:\\Users\\THINKPAD\\AppData\\Roaming\\Python\\Python36\\site-packages\\sklearn\\preprocessing\\data.py:617: DataConversionWarning: Data with input dtype int64, float64 were all converted to float64 by StandardScaler.\n",
      "  return self.partial_fit(X, y)\n",
      "C:\\Users\\THINKPAD\\AppData\\Roaming\\Python\\Python36\\site-packages\\sklearn\\base.py:462: DataConversionWarning: Data with input dtype int64, float64 were all converted to float64 by StandardScaler.\n",
      "  return self.fit(X, **fit_params).transform(X)\n",
      "C:\\Users\\THINKPAD\\AppData\\Roaming\\Python\\Python36\\site-packages\\sklearn\\pipeline.py:605: DataConversionWarning: Data with input dtype int64, float64 were all converted to float64 by StandardScaler.\n",
      "  res = transformer.transform(X)\n",
      "C:\\Users\\THINKPAD\\AppData\\Roaming\\Python\\Python36\\site-packages\\sklearn\\pipeline.py:605: DataConversionWarning: Data with input dtype int64, float64 were all converted to float64 by StandardScaler.\n",
      "  res = transformer.transform(X)\n"
     ]
    }
   ],
   "source": [
    "# try to drop features \n",
    "preprocessor = ColumnTransformer(transformers=[('num', StandardScaler(), numCols1)])\n",
    "DNNtrain_X = preprocessor.fit_transform(train_X1)\n",
    "DNNval_X = preprocessor.transform(val_X1)\n",
    "DNNtest_X = preprocessor.transform(test_X1)"
   ]
  },
  {
   "cell_type": "code",
   "execution_count": 139,
   "metadata": {},
   "outputs": [],
   "source": [
    "#read your data in, remeber to use one_hot_encoding for your Y, otherwise TF will not work\n",
    "#DNNtrain_X = DNNtrain_X.T.as_matrix()\n",
    "#DNNval_X = DNNval_X.T.as_matrix()\n",
    "DNNtrain_X = DNNtrain_X.T\n",
    "DNNval_X = DNNval_X.T\n",
    "DNNtest_X = DNNtest_X.T\n",
    "DNNtrain_y = np.array(train_y).reshape(1,-1)\n",
    "DNNval_y = np.array(val_y).reshape(1,-1)\n",
    "DNNtest_y = np.array(test_y).reshape(1,-1)\n",
    "DNNtrain_y = convert_to_one_hot(DNNtrain_y, 2)\n",
    "DNNval_y = convert_to_one_hot(DNNval_y, 2)\n",
    "DNNtest_y = convert_to_one_hot(DNNtest_y, 2)"
   ]
  },
  {
   "cell_type": "raw",
   "metadata": {},
   "source": [
    "# drop after one hot \n",
    "DNNtrain_X = gbtrain_X.T.as_matrix()\n",
    "DNNval_X = gbval_X.T.as_matrix()\n",
    "DNNtest_X = gbtest_X.T.as_matrix()\n",
    "DNNtrain_y = np.array(train_y).reshape(1,-1)\n",
    "DNNval_y = np.array(val_y).reshape(1,-1)\n",
    "DNNtest_y = np.array(test_y).reshape(1,-1)\n",
    "DNNtrain_y = convert_to_one_hot(DNNtrain_y, 2)\n",
    "DNNval_y = convert_to_one_hot(DNNval_y, 2)\n",
    "DNNtest_y = convert_to_one_hot(DNNtest_y, 2)"
   ]
  },
  {
   "cell_type": "code",
   "execution_count": 111,
   "metadata": {},
   "outputs": [
    {
     "name": "stderr",
     "output_type": "stream",
     "text": [
      "C:\\Users\\THINKPAD\\AppData\\Roaming\\Python\\Python36\\site-packages\\sklearn\\preprocessing\\data.py:617: DataConversionWarning: Data with input dtype int64, float64 were all converted to float64 by StandardScaler.\n",
      "  return self.partial_fit(X, y)\n",
      "C:\\Users\\THINKPAD\\AppData\\Roaming\\Python\\Python36\\site-packages\\sklearn\\base.py:462: DataConversionWarning: Data with input dtype int64, float64 were all converted to float64 by StandardScaler.\n",
      "  return self.fit(X, **fit_params).transform(X)\n",
      "C:\\Users\\THINKPAD\\AppData\\Local\\Continuum\\Anaconda3\\envs\\Tensor\\lib\\site-packages\\ipykernel_launcher.py:4: DataConversionWarning: Data with input dtype int64, float64 were all converted to float64 by StandardScaler.\n",
      "  after removing the cwd from sys.path.\n",
      "C:\\Users\\THINKPAD\\AppData\\Local\\Continuum\\Anaconda3\\envs\\Tensor\\lib\\site-packages\\ipykernel_launcher.py:5: DataConversionWarning: Data with input dtype int64, float64 were all converted to float64 by StandardScaler.\n",
      "  \"\"\"\n",
      "C:\\Users\\THINKPAD\\AppData\\Local\\Continuum\\Anaconda3\\envs\\Tensor\\lib\\site-packages\\ipykernel_launcher.py:32: FutureWarning: Method .as_matrix will be removed in a future version. Use .values instead.\n",
      "C:\\Users\\THINKPAD\\AppData\\Local\\Continuum\\Anaconda3\\envs\\Tensor\\lib\\site-packages\\ipykernel_launcher.py:33: FutureWarning: Method .as_matrix will be removed in a future version. Use .values instead.\n",
      "C:\\Users\\THINKPAD\\AppData\\Local\\Continuum\\Anaconda3\\envs\\Tensor\\lib\\site-packages\\ipykernel_launcher.py:34: FutureWarning: Method .as_matrix will be removed in a future version. Use .values instead.\n"
     ]
    }
   ],
   "source": [
    "# drop twice after one hot\n",
    "data_scaler = StandardScaler()\n",
    "train_num = data_scaler.fit_transform(train_X[numCols])\n",
    "val_num = data_scaler.transform(val_X[numCols])\n",
    "test_num = data_scaler.transform(test_X[numCols])\n",
    "train_num_df = pd.DataFrame(train_num,columns = numCols)[num_select2]\n",
    "train_num_df = train_num_df.reset_index(drop=True)\n",
    "val_num_df = pd.DataFrame(val_num,columns = numCols)[num_select2]\n",
    "val_num_df = val_num_df.reset_index(drop=True)\n",
    "test_num_df = pd.DataFrame(test_num,columns = numCols)[num_select2]\n",
    "test_num_df = test_num_df.reset_index(drop=True)\n",
    "\n",
    "train_cat = train_X[catCols]\n",
    "one_hot = OneHotEncoder(handle_unknown='ignore')\n",
    "one_hot.fit(train_cat)\n",
    "feature_names = [str(i) for i in list(one_hot.get_feature_names())]\n",
    "for i in range(4):\n",
    "    if i == 0:\n",
    "        train_piece = one_hot.transform(train_cat[i*10000:(i+1)*10000]).toarray()[:,inds2]\n",
    "        val_piece = one_hot.transform(val_X[catCols]).toarray()[:,inds2]\n",
    "        test_piece = one_hot.transform(test_X[catCols]).toarray()[:,inds2]    \n",
    "    elif i == 3:\n",
    "        train_piece = np.vstack((train_piece,one_hot.transform(train_cat[30000:]).toarray()[:,inds2]))      \n",
    "    else:\n",
    "        train_piece = np.vstack((train_piece,one_hot.transform(train_cat[i*10000:(i+1)*10000]).toarray()[:,inds2]))\n",
    "\n",
    "train_cat_df = pd.DataFrame(train_piece,columns = cat_select2)\n",
    "val_cat_df = pd.DataFrame(val_piece,columns = cat_select2)\n",
    "test_cat_df = pd.DataFrame(test_piece,columns = cat_select2)\n",
    "newcatCols = list(train_cat_df.columns)\n",
    "\n",
    "DNNtrain_X = pd.concat([train_num_df,train_cat_df],axis = 1).T.as_matrix()\n",
    "DNNval_X = pd.concat([val_num_df,val_cat_df],axis = 1).T.as_matrix()\n",
    "DNNtest_X = pd.concat([test_num_df,test_cat_df],axis = 1).T.as_matrix()\n",
    "\n",
    "DNNtrain_y = np.array(train_y).reshape(1,-1)\n",
    "DNNval_y = np.array(val_y).reshape(1,-1)\n",
    "DNNtest_y = np.array(test_y).reshape(1,-1)\n",
    "DNNtrain_y = convert_to_one_hot(DNNtrain_y, 2)\n",
    "DNNval_y = convert_to_one_hot(DNNval_y, 2)\n",
    "DNNtest_y = convert_to_one_hot(DNNtest_y, 2)"
   ]
  },
  {
   "cell_type": "raw",
   "metadata": {},
   "source": [
    "data_scaler = StandardScaler()\n",
    "train_num = data_scaler.fit_transform(train_X1[numCols1])\n",
    "val_num = data_scaler.transform(val_X1[numCols1])\n",
    "test_num = data_scaler.transform(test_X1[numCols1])\n",
    "train_num_df = pd.DataFrame(train_num,columns = numCols1)\n",
    "train_num_df.reset_index(inplace=True)\n",
    "val_num_df = pd.DataFrame(val_num,columns = numCols1)\n",
    "val_num_df.reset_index(inplace=True)\n",
    "test_num_df = pd.DataFrame(test_num,columns = numCols1)\n",
    "test_num_df.reset_index(inplace=True)\n",
    "\n",
    "one_hot = OneHotEncoder(handle_unknown='ignore')\n",
    "train_cat = one_hot.fit_transform(train_X1[catCols1]).toarray()\n",
    "train_cat_df.reset_index(inplace=True)\n",
    "val_cat = one_hot.transform(val_X1[catCols1]).toarray()\n",
    "val_cat_df.reset_index(inplace=True)\n",
    "test_cat = one_hot.transform(test_X1[catCols1]).toarray()\n",
    "test_cat_df.reset_index(inplace=True)\n",
    "feature_names = [str(i) for i in list(one_hot.get_feature_names())]\n",
    "train_cat_df = pd.DataFrame(train_cat,columns = feature_names)\n",
    "val_cat_df = pd.DataFrame(val_cat,columns = feature_names)\n",
    "test_cat_df = pd.DataFrame(test_cat,columns = feature_names)\n",
    "newcatCols = list(train_cat_df.columns)\n",
    "\n",
    "DNNtrain_X = pd.concat([train_num_df,train_cat_df],axis = 1)\n",
    "DNNval_X = pd.concat([val_num_df,val_cat_df],axis = 1)\n",
    "DNNtest_X = pd.concat([test_num_df,test_cat_df],axis = 1)"
   ]
  },
  {
   "cell_type": "code",
   "execution_count": 9,
   "metadata": {},
   "outputs": [],
   "source": [
    "# try to drop features \n",
    "#DNNtrain_X = train_X1.T.as_matrix()\n",
    "#DNNval_X = val_X1.T.as_matrix()\n",
    "#DNNtrain_y = np.array(train_y1).reshape(1,-1)\n",
    "#DNNval_y = np.array(val_y1).reshape(1,-1)\n",
    "#DNNtrain_y = convert_to_one_hot(DNNtrain_y, 2)\n",
    "#DNNval_y = convert_to_one_hot(DNNval_y, 2)"
   ]
  },
  {
   "cell_type": "code",
   "execution_count": 140,
   "metadata": {},
   "outputs": [
    {
     "name": "stdout",
     "output_type": "stream",
     "text": [
      "WARNING:tensorflow:From C:\\Users\\THINKPAD\\AppData\\Local\\Continuum\\Anaconda3\\envs\\Tensor\\lib\\site-packages\\tensorflow\\contrib\\learn\\python\\learn\\datasets\\base.py:198: retry (from tensorflow.contrib.learn.python.learn.datasets.base) is deprecated and will be removed in a future version.\n",
      "Instructions for updating:\n",
      "Use the retry module or similar alternatives.\n",
      "WARNING:tensorflow:From C:\\Users\\THINKPAD\\DNN_utils.py:112: softmax_cross_entropy_with_logits (from tensorflow.python.ops.nn_ops) is deprecated and will be removed in a future version.\n",
      "Instructions for updating:\n",
      "\n",
      "Future major versions of TensorFlow will allow gradients to flow\n",
      "into the labels input on backprop by default.\n",
      "\n",
      "See tf.nn.softmax_cross_entropy_with_logits_v2.\n",
      "\n",
      "Cost after epoch 0: 1.450038\n",
      "Cost after epoch 100: 0.374174\n",
      "Cost after epoch 200: 0.372367\n",
      "Cost after epoch 300: 0.371859\n",
      "Cost after epoch 400: 0.373172\n"
     ]
    },
    {
     "data": {
      "image/png": "[encoded data removed]",
      "text/plain": [
       "<Figure size 432x288 with 1 Axes>"
      ]
     },
     "metadata": {
      "image/png": {
       "height": 277,
       "width": 387
      },
      "needs_background": "light"
     },
     "output_type": "display_data"
    },
    {
     "name": "stdout",
     "output_type": "stream",
     "text": [
      "Parameters have been trained!\n",
      "Train Accuracy: 0.85309994\n",
      "Test Accuracy: 0.85071385\n"
     ]
    }
   ],
   "source": [
    "num1 = DNNtrain_X.shape[0]\n",
    "parameters = model(DNNtrain_X, DNNtrain_y, DNNval_X, DNNval_y,num=num1,learning_rate = 0.0001, keep_prob=0.9,lamb=0.01,num_epochs = 500, minibatch_size=512, params = [256,128,2])"
   ]
  },
  {
   "cell_type": "code",
   "execution_count": 141,
   "metadata": {},
   "outputs": [
    {
     "data": {
      "text/plain": [
       "0.8146070440933283"
      ]
     },
     "execution_count": 141,
     "metadata": {},
     "output_type": "execute_result"
    }
   ],
   "source": [
    "default_prob = get_probability(parameters, DNNval_X)[1,:]\n",
    "roc_auc_score(DNNval_y[1,:], default_prob)"
   ]
  },
  {
   "cell_type": "code",
   "execution_count": 142,
   "metadata": {},
   "outputs": [
    {
     "data": {
      "text/plain": [
       "0.8124466088017104"
      ]
     },
     "execution_count": 142,
     "metadata": {},
     "output_type": "execute_result"
    }
   ],
   "source": [
    "default_prob = get_probability(parameters, DNNtest_X)[1,:]\n",
    "roc_auc_score(DNNtest_y[1,:], default_prob)"
   ]
  },
  {
   "cell_type": "code",
   "execution_count": 143,
   "metadata": {},
   "outputs": [
    {
     "name": "stdout",
     "output_type": "stream",
     "text": [
      "              precision    recall  f1-score   support\n",
      "\n",
      "         0.0       0.87      0.97      0.92      9160\n",
      "         1.0       0.65      0.24      0.35      1783\n",
      "\n",
      "   micro avg       0.85      0.85      0.85     10943\n",
      "   macro avg       0.76      0.61      0.63     10943\n",
      "weighted avg       0.83      0.85      0.82     10943\n",
      "\n"
     ]
    }
   ],
   "source": [
    "print(classification_report(DNNtest_y[1,:], default_prob>0.5))"
   ]
  },
  {
   "cell_type": "code",
   "execution_count": 147,
   "metadata": {},
   "outputs": [
    {
     "data": {
      "image/png": "[encoded data removed]",
      "text/plain": [
       "<Figure size 432x288 with 1 Axes>"
      ]
     },
     "metadata": {
      "image/png": {
       "height": 277,
       "width": 393
      },
      "needs_background": "light"
     },
     "output_type": "display_data"
    }
   ],
   "source": [
    "# ROC of all models\n",
    "\n",
    "plt.title('ROC of classification models')\n",
    "fpr, tpr, threshold = metrics.roc_curve(test_y, preds_log)\n",
    "roc_auc1 = metrics.auc(fpr, tpr)\n",
    "plt.plot(fpr, tpr, label = 'logistic regression: %0.2f' % roc_auc1)\n",
    "\n",
    "fpr, tpr, threshold = metrics.roc_curve(test_y, preds_log_l1)\n",
    "roc_auc2 = metrics.auc(fpr, tpr)\n",
    "plt.plot(fpr, tpr, label = 'logistic regression with L1: %0.2f' % roc_auc2)\n",
    "\n",
    "fpr, tpr, threshold = metrics.roc_curve(test_y, preds_log_l2)\n",
    "roc_auc3 = metrics.auc(fpr, tpr)\n",
    "plt.plot(fpr, tpr, label = 'logistic regression with L2: %0.2f' % roc_auc3)\n",
    "\n",
    "fpr, tpr, threshold = metrics.roc_curve(test_y, preds_log_lgbm)\n",
    "roc_auc4 = metrics.auc(fpr, tpr)\n",
    "plt.plot(fpr, tpr, label = 'lightGBM: %0.2f' % roc_auc4)\n",
    "\n",
    "fpr, tpr, threshold = metrics.roc_curve(test_y, default_prob)\n",
    "roc_auc5 = metrics.auc(fpr, tpr)\n",
    "plt.plot(fpr, tpr, label = 'DNN: %0.2f' % roc_auc5)\n",
    "\n",
    "plt.legend(loc = 'best')\n",
    "plt.plot([0, 1], [0, 1],'r--')\n",
    "plt.xlim([0, 1])\n",
    "plt.ylim([0, 1])\n",
    "plt.ylabel('True Positive Rate')\n",
    "plt.xlabel('False Positive Rate')\n",
    "plt.show()\n",
    "\n"
   ]
  },
  {
   "cell_type": "code",
   "execution_count": 175,
   "metadata": {},
   "outputs": [
    {
     "name": "stderr",
     "output_type": "stream",
     "text": [
      "C:\\Users\\THINKPAD\\AppData\\Local\\Continuum\\Anaconda3\\envs\\Tensor\\lib\\site-packages\\ipykernel_launcher.py:3: FutureWarning: Method .as_matrix will be removed in a future version. Use .values instead.\n",
      "  This is separate from the ipykernel package so we can avoid doing imports until\n",
      "C:\\Users\\THINKPAD\\AppData\\Local\\Continuum\\Anaconda3\\envs\\Tensor\\lib\\site-packages\\ipykernel_launcher.py:4: FutureWarning: Method .as_matrix will be removed in a future version. Use .values instead.\n",
      "  after removing the cwd from sys.path.\n"
     ]
    },
    {
     "name": "stdout",
     "output_type": "stream",
     "text": [
      "Cost after epoch 0: 17504.457699\n",
      "Cost after epoch 100: 109.061628\n",
      "Cost after epoch 200: 93.162514\n",
      "Cost after epoch 300: 90.435052\n",
      "Cost after epoch 400: 67.341103\n"
     ]
    },
    {
     "data": {
      "image/png": "[encoded data removed]",
      "text/plain": [
       "<Figure size 432x288 with 1 Axes>"
      ]
     },
     "metadata": {
      "image/png": {
       "height": 277,
       "width": 403
      },
      "needs_background": "light"
     },
     "output_type": "display_data"
    },
    {
     "name": "stdout",
     "output_type": "stream",
     "text": [
      "Parameters have been trained!\n",
      "Train Accuracy: 0.8087812\n",
      "Test Accuracy: 0.8065914\n"
     ]
    }
   ],
   "source": [
    "# cross validation\n",
    "num1 = DNNtrain_X.shape[0]\n",
    "learning_rates = [0.00001,0.0001,0.01,0.1]\n",
    "params_all = [[100,50,2],[128,64,2],[64,32,2],[256,128,2],[256,64,2],[512,256,2],[512,128,2]]\n",
    "keep_probs = [1,0.9,0.8]\n",
    "lambs = [0.01,0.1,1,10]\n",
    "minibatch_sizes = [256,512,1024]\n",
    "epochs = [400,500,600]\n",
    "\n",
    "aucl = []\n",
    "for l in learning_rates:\n",
    "    print('choose learning rate')\n",
    "    print(l)\n",
    "    parameters = model(DNNtrain_X, DNNtrain_y, DNNval_X, DNNval_y,num=num1,learning_rate=l)\n",
    "    default_prob = get_probability(parameters, DNNval_X)[1,:]\n",
    "    auc = roc_auc_score(DNNval_y[1,:], default_prob)\n",
    "    aucl.append(auc)\n",
    "    print(auc)\n",
    "    print('----------------------------')\n",
    "maxaucl = max(aucl)\n",
    "bestl = learning_rates[aucl.index(maxaucl)]\n",
    "print('Best learning rate: {}'.format(bestl))\n",
    "print('Best AUC: {}'.format(maxaucl))\n",
    "\n",
    "auck = []\n",
    "for k in keep_probs:\n",
    "    print('choose dropout prob')\n",
    "    print(k)\n",
    "    parameters = model(DNNtrain_X, DNNtrain_y, DNNval_X, DNNval_y,num=num1,learning_rate = bestl, keep_prob = k)\n",
    "    default_prob = get_probability(parameters, DNNval_X)[1,:]\n",
    "    auc = roc_auc_score(DNNval_y[1,:], default_prob)\n",
    "    auck.append(auc)    \n",
    "    print(auc)\n",
    "    print('----------------------------')\n",
    "maxauck = max(auck)\n",
    "bestk = keep_probs[auck.index(maxauck)]\n",
    "print('Best dropout prob: {}'.format(bestk))\n",
    "print('Best AUC: {}'.format(maxauck))\n",
    "\n",
    "\n",
    "aucp = []\n",
    "for p in params_all:\n",
    "    print('choose # nodes')\n",
    "    print(p)\n",
    "    parameters = model(DNNtrain_X, DNNtrain_y, DNNval_X, DNNval_y,num=num1,learning_rate = bestl, keep_prob = bestk, params = p)\n",
    "    default_prob = get_probability(parameters, DNNval_X)[1,:]\n",
    "    auc = roc_auc_score(DNNval_y[1,:], default_prob)\n",
    "    aucp.append(auc)    \n",
    "    print(auc)\n",
    "    print('----------------------------')    \n",
    "maxaucp = max(aucp)\n",
    "bestp = params_all[aucp.index(maxaucp)]\n",
    "print('Best # nodes: {}'.format(bestp))\n",
    "print('Best AUC: {}'.format(maxaucp))\n",
    "\n",
    "\n",
    "aucla = []    \n",
    "for la in lambs:\n",
    "    print('choose regularization param')\n",
    "    print(la)\n",
    "    parameters = model(DNNtrain_X, DNNtrain_y, DNNval_X, DNNval_y,num=num1,learning_rate = bestl, keep_prob = bestk, lamb = la, params = bestp)\n",
    "    default_prob = get_probability(parameters, DNNval_X)[1,:]\n",
    "    auc = roc_auc_score(DNNval_y[1,:], default_prob)\n",
    "    aucla.append(auc)    \n",
    "    print(auc)\n",
    "    print('----------------------------')\n",
    "maxaucla = max(aucla)\n",
    "bestla = lambs[aucla.index(maxaucla)]\n",
    "print('Best regularization param: {}'.format(bestla))\n",
    "print('Best AUC: {}'.format(maxaucla))\n",
    "\n",
    "aucmi = []\n",
    "for mi in minibatch_sizes:\n",
    "    print('choose minibatch size')\n",
    "    print(mi)\n",
    "    parameters = model(DNNtrain_X, DNNtrain_y, DNNval_X, DNNval_y,num=num1,learning_rate = bestl, keep_prob = bestk, lamb = bestla,minibatch_size = mi, params = bestp)\n",
    "    default_prob = get_probability(parameters, DNNval_X)[1,:]\n",
    "    auc = roc_auc_score(DNNval_y[1,:], default_prob)\n",
    "    aucmi.append(auc)  \n",
    "    print(auc)\n",
    "    print('----------------------------')\n",
    "maxaucmi = max(aucmi)\n",
    "bestmi = minibatch_sizes[aucmi.index(maxaucmi)]\n",
    "print('Best minibatch sizes: {}'.format(bestmi))\n",
    "print('Best AUC: {}'.format(maxaucmi))\n",
    "\n",
    "auce = []\n",
    "for e in epochs:\n",
    "    print('choose # epochs')\n",
    "    print(e)\n",
    "    parameters = model(DNNtrain_X, DNNtrain_y, DNNval_X, DNNval_y,num=num1,learning_rate = bestl, keep_prob = bestk, lamb = bestla,num_epochs = e,minibatch_size = mi, params = bestp)\n",
    "    default_prob = get_probability(parameters, DNNval_X)[1,:]\n",
    "    auc = roc_auc_score(DNNval_y[1,:], default_prob)\n",
    "    auce.append(auc)  \n",
    "    print(auc)\n",
    "    print('----------------------------')\n",
    "maxauce = max(auce)\n",
    "beste = minibatch_sizes[auce.index(maxauce)]\n",
    "print('Best # epochs: {}'.format(beste))\n",
    "print('Best AUC: {}'.format(maxauce))   \n"
   ]
  },
  {
   "cell_type": "code",
   "execution_count": 202,
   "metadata": {},
   "outputs": [
    {
     "data": {
      "text/plain": [
       "[<matplotlib.lines.Line2D at 0x11c78b61ba8>]"
      ]
     },
     "execution_count": 202,
     "metadata": {},
     "output_type": "execute_result"
    },
    {
     "data": {
      "image/png": "[encoded data removed]",
      "text/plain": [
       "<Figure size 360x360 with 1 Axes>"
      ]
     },
     "metadata": {
      "image/png": {
       "height": 304,
       "width": 319
      },
      "needs_background": "light"
     },
     "output_type": "display_data"
    }
   ],
   "source": [
    "default_prob = get_probability(parameters, DNNval_X)[1,:]\n",
    "n = 200\n",
    "TPR = np.zeros((n,1))\n",
    "FPR = np.zeros((n,1))\n",
    "t = np.linspace(0.0, 1.0, n)\n",
    "for i in range(n):\n",
    "    TPR[i,0], FPR[i,0] = get_ROC(default_prob,t[i],DNNval_y[1,:])\n",
    "plt.figure(figsize=(5,5))\n",
    "plt.plot(FPR, TPR)"
   ]
  },
  {
   "cell_type": "code",
   "execution_count": 204,
   "metadata": {},
   "outputs": [
    {
     "data": {
      "text/plain": [
       "0.6163920763297972"
      ]
     },
     "execution_count": 204,
     "metadata": {},
     "output_type": "execute_result"
    }
   ],
   "source": [
    "roc_auc_score(DNNval_y[1,:], default_prob)"
   ]
  },
  {
   "cell_type": "code",
   "execution_count": 200,
   "metadata": {},
   "outputs": [],
   "source": []
  },
  {
   "cell_type": "markdown",
   "metadata": {},
   "source": [
    "## Regression"
   ]
  },
  {
   "cell_type": "code",
   "execution_count": 176,
   "metadata": {},
   "outputs": [],
   "source": [
    "regdata = rawdata[rawdata['target'] == 1]\n",
    "# split the data\n",
    "#y_reg = np.log(regdata['GrossChargeOffAmount'].values + 1)\n",
    "# predict percentage\n",
    "y_reg = regdata['severity'].values\n",
    "X_reg = regdata[numCols+['age']+catCols]\n",
    "train_X_reg, test_X_reg, train_y_reg, test_y_reg = train_test_split(X_reg,y_reg,test_size=0.2,random_state=1)\n",
    "train_X_reg, val_X_reg, train_y_reg, val_y_reg = train_test_split(train_X_reg,train_y_reg,test_size=0.2,random_state=1)\n"
   ]
  },
  {
   "cell_type": "markdown",
   "metadata": {},
   "source": [
    "### Linear Regression"
   ]
  },
  {
   "cell_type": "code",
   "execution_count": 177,
   "metadata": {},
   "outputs": [
    {
     "name": "stderr",
     "output_type": "stream",
     "text": [
      "C:\\Users\\THINKPAD\\AppData\\Roaming\\Python\\Python36\\site-packages\\sklearn\\preprocessing\\data.py:617: DataConversionWarning: Data with input dtype int64, float64 were all converted to float64 by StandardScaler.\n",
      "  return self.partial_fit(X, y)\n",
      "C:\\Users\\THINKPAD\\AppData\\Roaming\\Python\\Python36\\site-packages\\sklearn\\base.py:465: DataConversionWarning: Data with input dtype int64, float64 were all converted to float64 by StandardScaler.\n",
      "  return self.fit(X, y, **fit_params).transform(X)\n"
     ]
    },
    {
     "name": "stdout",
     "output_type": "stream",
     "text": [
      "time: 4.888794660568237\n",
      "0.6684901359647913\n"
     ]
    },
    {
     "name": "stderr",
     "output_type": "stream",
     "text": [
      "C:\\Users\\THINKPAD\\AppData\\Roaming\\Python\\Python36\\site-packages\\sklearn\\pipeline.py:451: DataConversionWarning: Data with input dtype int64, float64 were all converted to float64 by StandardScaler.\n",
      "  Xt = transform.transform(Xt)\n"
     ]
    }
   ],
   "source": [
    "starttime = time.time()\n",
    "numeric_transformer = Pipeline(steps=[('scaler', StandardScaler())])\n",
    "categorical_transformer = Pipeline(steps=[('onehot', OneHotEncoder(handle_unknown='ignore'))])\n",
    "preprocessor = ColumnTransformer(transformers=[('num', numeric_transformer, numCols),\n",
    "                                               ('cat', categorical_transformer, catCols)])\n",
    "lr = Pipeline(steps=[('preprocessor', preprocessor),\n",
    "                      ('regressor', LinearRegression())])\n",
    "lr.fit(train_X_reg, train_y_reg)\n",
    "print('time: {}'.format(time.time()-starttime))\n",
    "print(np.sqrt(metrics.mean_squared_error(val_y_reg, lr.predict(val_X_reg))))\n"
   ]
  },
  {
   "cell_type": "code",
   "execution_count": 178,
   "metadata": {},
   "outputs": [
    {
     "name": "stdout",
     "output_type": "stream",
     "text": [
      "0.6871453501151329\n"
     ]
    },
    {
     "name": "stderr",
     "output_type": "stream",
     "text": [
      "C:\\Users\\THINKPAD\\AppData\\Roaming\\Python\\Python36\\site-packages\\sklearn\\pipeline.py:451: DataConversionWarning: Data with input dtype int64, float64 were all converted to float64 by StandardScaler.\n",
      "  Xt = transform.transform(Xt)\n"
     ]
    }
   ],
   "source": [
    "print(np.sqrt(metrics.mean_squared_error(test_y_reg, lr.predict(test_X_reg))))"
   ]
  },
  {
   "cell_type": "markdown",
   "metadata": {},
   "source": [
    "### Lasso"
   ]
  },
  {
   "cell_type": "code",
   "execution_count": 11,
   "metadata": {},
   "outputs": [
    {
     "name": "stdout",
     "output_type": "stream",
     "text": [
      "alpha: 0.01\n"
     ]
    },
    {
     "name": "stderr",
     "output_type": "stream",
     "text": [
      "C:\\Users\\THINKPAD\\AppData\\Roaming\\Python\\Python36\\site-packages\\sklearn\\preprocessing\\data.py:617: DataConversionWarning: Data with input dtype int64, float64 were all converted to float64 by StandardScaler.\n",
      "  return self.partial_fit(X, y)\n",
      "C:\\Users\\THINKPAD\\AppData\\Roaming\\Python\\Python36\\site-packages\\sklearn\\base.py:465: DataConversionWarning: Data with input dtype int64, float64 were all converted to float64 by StandardScaler.\n",
      "  return self.fit(X, y, **fit_params).transform(X)\n",
      "C:\\Users\\THINKPAD\\AppData\\Roaming\\Python\\Python36\\site-packages\\sklearn\\pipeline.py:451: DataConversionWarning: Data with input dtype int64, float64 were all converted to float64 by StandardScaler.\n",
      "  Xt = transform.transform(Xt)\n",
      "C:\\Users\\THINKPAD\\AppData\\Roaming\\Python\\Python36\\site-packages\\sklearn\\preprocessing\\data.py:617: DataConversionWarning: Data with input dtype int64, float64 were all converted to float64 by StandardScaler.\n",
      "  return self.partial_fit(X, y)\n",
      "C:\\Users\\THINKPAD\\AppData\\Roaming\\Python\\Python36\\site-packages\\sklearn\\base.py:465: DataConversionWarning: Data with input dtype int64, float64 were all converted to float64 by StandardScaler.\n",
      "  return self.fit(X, y, **fit_params).transform(X)\n"
     ]
    },
    {
     "name": "stdout",
     "output_type": "stream",
     "text": [
      "0.21338058838862148\n",
      "alpha: 0.05\n"
     ]
    },
    {
     "name": "stderr",
     "output_type": "stream",
     "text": [
      "C:\\Users\\THINKPAD\\AppData\\Roaming\\Python\\Python36\\site-packages\\sklearn\\pipeline.py:451: DataConversionWarning: Data with input dtype int64, float64 were all converted to float64 by StandardScaler.\n",
      "  Xt = transform.transform(Xt)\n",
      "C:\\Users\\THINKPAD\\AppData\\Roaming\\Python\\Python36\\site-packages\\sklearn\\preprocessing\\data.py:617: DataConversionWarning: Data with input dtype int64, float64 were all converted to float64 by StandardScaler.\n",
      "  return self.partial_fit(X, y)\n",
      "C:\\Users\\THINKPAD\\AppData\\Roaming\\Python\\Python36\\site-packages\\sklearn\\base.py:465: DataConversionWarning: Data with input dtype int64, float64 were all converted to float64 by StandardScaler.\n",
      "  return self.fit(X, y, **fit_params).transform(X)\n"
     ]
    },
    {
     "name": "stdout",
     "output_type": "stream",
     "text": [
      "0.22812562276596624\n",
      "alpha: 0.1\n"
     ]
    },
    {
     "name": "stderr",
     "output_type": "stream",
     "text": [
      "C:\\Users\\THINKPAD\\AppData\\Roaming\\Python\\Python36\\site-packages\\sklearn\\pipeline.py:451: DataConversionWarning: Data with input dtype int64, float64 were all converted to float64 by StandardScaler.\n",
      "  Xt = transform.transform(Xt)\n",
      "C:\\Users\\THINKPAD\\AppData\\Roaming\\Python\\Python36\\site-packages\\sklearn\\preprocessing\\data.py:617: DataConversionWarning: Data with input dtype int64, float64 were all converted to float64 by StandardScaler.\n",
      "  return self.partial_fit(X, y)\n",
      "C:\\Users\\THINKPAD\\AppData\\Roaming\\Python\\Python36\\site-packages\\sklearn\\base.py:465: DataConversionWarning: Data with input dtype int64, float64 were all converted to float64 by StandardScaler.\n",
      "  return self.fit(X, y, **fit_params).transform(X)\n"
     ]
    },
    {
     "name": "stdout",
     "output_type": "stream",
     "text": [
      "0.2309741424196447\n",
      "alpha: 0.2\n",
      "0.2309741424196447\n"
     ]
    },
    {
     "name": "stderr",
     "output_type": "stream",
     "text": [
      "C:\\Users\\THINKPAD\\AppData\\Roaming\\Python\\Python36\\site-packages\\sklearn\\pipeline.py:451: DataConversionWarning: Data with input dtype int64, float64 were all converted to float64 by StandardScaler.\n",
      "  Xt = transform.transform(Xt)\n"
     ]
    }
   ],
   "source": [
    "from sklearn.linear_model import Lasso\n",
    "alphas = [0.01,0.05,0.1,0.2]\n",
    "for a in alphas:\n",
    "    print('alpha: {}'.format(a))\n",
    "    lasso = Pipeline(steps=[('preprocessor', preprocessor),\n",
    "                      ('regressor',  Lasso(alpha = a))])\n",
    "    lasso.fit(train_X_reg, train_y_reg)\n",
    "    print(np.sqrt(metrics.mean_squared_error(val_y_reg, lasso.predict(val_X_reg))))\n",
    "    \n"
   ]
  },
  {
   "cell_type": "code",
   "execution_count": 179,
   "metadata": {},
   "outputs": [
    {
     "name": "stderr",
     "output_type": "stream",
     "text": [
      "C:\\Users\\THINKPAD\\AppData\\Roaming\\Python\\Python36\\site-packages\\sklearn\\preprocessing\\data.py:617: DataConversionWarning: Data with input dtype int64, float64 were all converted to float64 by StandardScaler.\n",
      "  return self.partial_fit(X, y)\n",
      "C:\\Users\\THINKPAD\\AppData\\Roaming\\Python\\Python36\\site-packages\\sklearn\\base.py:465: DataConversionWarning: Data with input dtype int64, float64 were all converted to float64 by StandardScaler.\n",
      "  return self.fit(X, y, **fit_params).transform(X)\n"
     ]
    },
    {
     "name": "stdout",
     "output_type": "stream",
     "text": [
      "time: 8.688517570495605\n",
      "0.20552319526909807\n"
     ]
    },
    {
     "name": "stderr",
     "output_type": "stream",
     "text": [
      "C:\\Users\\THINKPAD\\AppData\\Roaming\\Python\\Python36\\site-packages\\sklearn\\pipeline.py:451: DataConversionWarning: Data with input dtype int64, float64 were all converted to float64 by StandardScaler.\n",
      "  Xt = transform.transform(Xt)\n"
     ]
    }
   ],
   "source": [
    "starttime = time.time()\n",
    "lasso = Pipeline(steps=[('preprocessor', preprocessor),\n",
    "                  ('regressor',  Lasso(alpha = 0.01))])\n",
    "lasso.fit(train_X_reg, train_y_reg)\n",
    "print('time: {}'.format(time.time()-starttime))\n",
    "print(np.sqrt(metrics.mean_squared_error(test_y_reg, lasso.predict(test_X_reg))))"
   ]
  },
  {
   "cell_type": "markdown",
   "metadata": {},
   "source": [
    "### Ridge"
   ]
  },
  {
   "cell_type": "code",
   "execution_count": 12,
   "metadata": {},
   "outputs": [
    {
     "name": "stdout",
     "output_type": "stream",
     "text": [
      "alpha: 0.01\n"
     ]
    },
    {
     "name": "stderr",
     "output_type": "stream",
     "text": [
      "C:\\Users\\THINKPAD\\AppData\\Roaming\\Python\\Python36\\site-packages\\sklearn\\preprocessing\\data.py:617: DataConversionWarning: Data with input dtype int64, float64 were all converted to float64 by StandardScaler.\n",
      "  return self.partial_fit(X, y)\n",
      "C:\\Users\\THINKPAD\\AppData\\Roaming\\Python\\Python36\\site-packages\\sklearn\\base.py:465: DataConversionWarning: Data with input dtype int64, float64 were all converted to float64 by StandardScaler.\n",
      "  return self.fit(X, y, **fit_params).transform(X)\n",
      "C:\\Users\\THINKPAD\\AppData\\Roaming\\Python\\Python36\\site-packages\\sklearn\\pipeline.py:451: DataConversionWarning: Data with input dtype int64, float64 were all converted to float64 by StandardScaler.\n",
      "  Xt = transform.transform(Xt)\n",
      "C:\\Users\\THINKPAD\\AppData\\Roaming\\Python\\Python36\\site-packages\\sklearn\\preprocessing\\data.py:617: DataConversionWarning: Data with input dtype int64, float64 were all converted to float64 by StandardScaler.\n",
      "  return self.partial_fit(X, y)\n",
      "C:\\Users\\THINKPAD\\AppData\\Roaming\\Python\\Python36\\site-packages\\sklearn\\base.py:465: DataConversionWarning: Data with input dtype int64, float64 were all converted to float64 by StandardScaler.\n",
      "  return self.fit(X, y, **fit_params).transform(X)\n"
     ]
    },
    {
     "name": "stdout",
     "output_type": "stream",
     "text": [
      "0.22012850619524946\n",
      "alpha: 0.1\n"
     ]
    },
    {
     "name": "stderr",
     "output_type": "stream",
     "text": [
      "C:\\Users\\THINKPAD\\AppData\\Roaming\\Python\\Python36\\site-packages\\sklearn\\pipeline.py:451: DataConversionWarning: Data with input dtype int64, float64 were all converted to float64 by StandardScaler.\n",
      "  Xt = transform.transform(Xt)\n",
      "C:\\Users\\THINKPAD\\AppData\\Roaming\\Python\\Python36\\site-packages\\sklearn\\preprocessing\\data.py:617: DataConversionWarning: Data with input dtype int64, float64 were all converted to float64 by StandardScaler.\n",
      "  return self.partial_fit(X, y)\n",
      "C:\\Users\\THINKPAD\\AppData\\Roaming\\Python\\Python36\\site-packages\\sklearn\\base.py:465: DataConversionWarning: Data with input dtype int64, float64 were all converted to float64 by StandardScaler.\n",
      "  return self.fit(X, y, **fit_params).transform(X)\n"
     ]
    },
    {
     "name": "stdout",
     "output_type": "stream",
     "text": [
      "0.21926511380080366\n",
      "alpha: 0.2\n"
     ]
    },
    {
     "name": "stderr",
     "output_type": "stream",
     "text": [
      "C:\\Users\\THINKPAD\\AppData\\Roaming\\Python\\Python36\\site-packages\\sklearn\\pipeline.py:451: DataConversionWarning: Data with input dtype int64, float64 were all converted to float64 by StandardScaler.\n",
      "  Xt = transform.transform(Xt)\n",
      "C:\\Users\\THINKPAD\\AppData\\Roaming\\Python\\Python36\\site-packages\\sklearn\\preprocessing\\data.py:617: DataConversionWarning: Data with input dtype int64, float64 were all converted to float64 by StandardScaler.\n",
      "  return self.partial_fit(X, y)\n",
      "C:\\Users\\THINKPAD\\AppData\\Roaming\\Python\\Python36\\site-packages\\sklearn\\base.py:465: DataConversionWarning: Data with input dtype int64, float64 were all converted to float64 by StandardScaler.\n",
      "  return self.fit(X, y, **fit_params).transform(X)\n"
     ]
    },
    {
     "name": "stdout",
     "output_type": "stream",
     "text": [
      "0.21837529883791307\n",
      "alpha: 0.5\n",
      "0.2161683411253842\n"
     ]
    },
    {
     "name": "stderr",
     "output_type": "stream",
     "text": [
      "C:\\Users\\THINKPAD\\AppData\\Roaming\\Python\\Python36\\site-packages\\sklearn\\pipeline.py:451: DataConversionWarning: Data with input dtype int64, float64 were all converted to float64 by StandardScaler.\n",
      "  Xt = transform.transform(Xt)\n"
     ]
    }
   ],
   "source": [
    "alphas = [0.01,0.1,0.2,0.5]\n",
    "for a in alphas:\n",
    "    print('alpha: {}'.format(a))\n",
    "    ridge = Pipeline(steps=[('preprocessor', preprocessor),\n",
    "                      ('regressor',  Ridge(alpha = a))])\n",
    "    ridge.fit(train_X_reg, train_y_reg)\n",
    "    print(np.sqrt(metrics.mean_squared_error(val_y_reg, ridge.predict(val_X_reg))))"
   ]
  },
  {
   "cell_type": "code",
   "execution_count": 180,
   "metadata": {},
   "outputs": [
    {
     "name": "stderr",
     "output_type": "stream",
     "text": [
      "C:\\Users\\THINKPAD\\AppData\\Roaming\\Python\\Python36\\site-packages\\sklearn\\preprocessing\\data.py:617: DataConversionWarning: Data with input dtype int64, float64 were all converted to float64 by StandardScaler.\n",
      "  return self.partial_fit(X, y)\n",
      "C:\\Users\\THINKPAD\\AppData\\Roaming\\Python\\Python36\\site-packages\\sklearn\\base.py:465: DataConversionWarning: Data with input dtype int64, float64 were all converted to float64 by StandardScaler.\n",
      "  return self.fit(X, y, **fit_params).transform(X)\n"
     ]
    },
    {
     "name": "stdout",
     "output_type": "stream",
     "text": [
      "time: 2.925868511199951\n",
      "0.2149112202458859\n"
     ]
    },
    {
     "name": "stderr",
     "output_type": "stream",
     "text": [
      "C:\\Users\\THINKPAD\\AppData\\Roaming\\Python\\Python36\\site-packages\\sklearn\\pipeline.py:451: DataConversionWarning: Data with input dtype int64, float64 were all converted to float64 by StandardScaler.\n",
      "  Xt = transform.transform(Xt)\n"
     ]
    }
   ],
   "source": [
    "starttime = time.time()\n",
    "ridge = Pipeline(steps=[('preprocessor', preprocessor),\n",
    "                  ('regressor',  Ridge(alpha = 0.5))])\n",
    "ridge.fit(train_X_reg, train_y_reg)\n",
    "print('time: {}'.format(time.time()-starttime))\n",
    "print(np.sqrt(metrics.mean_squared_error(test_y_reg, ridge.predict(test_X_reg))))"
   ]
  },
  {
   "cell_type": "markdown",
   "metadata": {},
   "source": [
    "### Elastic Net"
   ]
  },
  {
   "cell_type": "code",
   "execution_count": 8,
   "metadata": {},
   "outputs": [
    {
     "name": "stdout",
     "output_type": "stream",
     "text": [
      "alpha: 0.01\n",
      "l1 ratio: 0.1\n"
     ]
    },
    {
     "name": "stderr",
     "output_type": "stream",
     "text": [
      "C:\\Users\\THINKPAD\\AppData\\Roaming\\Python\\Python36\\site-packages\\sklearn\\preprocessing\\data.py:617: DataConversionWarning: Data with input dtype int64, float64 were all converted to float64 by StandardScaler.\n",
      "  return self.partial_fit(X, y)\n",
      "C:\\Users\\THINKPAD\\AppData\\Roaming\\Python\\Python36\\site-packages\\sklearn\\base.py:465: DataConversionWarning: Data with input dtype int64, float64 were all converted to float64 by StandardScaler.\n",
      "  return self.fit(X, y, **fit_params).transform(X)\n",
      "C:\\Users\\THINKPAD\\AppData\\Roaming\\Python\\Python36\\site-packages\\sklearn\\pipeline.py:451: DataConversionWarning: Data with input dtype int64, float64 were all converted to float64 by StandardScaler.\n",
      "  Xt = transform.transform(Xt)\n",
      "C:\\Users\\THINKPAD\\AppData\\Roaming\\Python\\Python36\\site-packages\\sklearn\\preprocessing\\data.py:617: DataConversionWarning: Data with input dtype int64, float64 were all converted to float64 by StandardScaler.\n",
      "  return self.partial_fit(X, y)\n",
      "C:\\Users\\THINKPAD\\AppData\\Roaming\\Python\\Python36\\site-packages\\sklearn\\base.py:465: DataConversionWarning: Data with input dtype int64, float64 were all converted to float64 by StandardScaler.\n",
      "  return self.fit(X, y, **fit_params).transform(X)\n"
     ]
    },
    {
     "name": "stdout",
     "output_type": "stream",
     "text": [
      "0.2049552925861022\n",
      "alpha: 0.01\n",
      "l1 ratio: 0.3\n"
     ]
    },
    {
     "name": "stderr",
     "output_type": "stream",
     "text": [
      "C:\\Users\\THINKPAD\\AppData\\Roaming\\Python\\Python36\\site-packages\\sklearn\\pipeline.py:451: DataConversionWarning: Data with input dtype int64, float64 were all converted to float64 by StandardScaler.\n",
      "  Xt = transform.transform(Xt)\n",
      "C:\\Users\\THINKPAD\\AppData\\Roaming\\Python\\Python36\\site-packages\\sklearn\\preprocessing\\data.py:617: DataConversionWarning: Data with input dtype int64, float64 were all converted to float64 by StandardScaler.\n",
      "  return self.partial_fit(X, y)\n",
      "C:\\Users\\THINKPAD\\AppData\\Roaming\\Python\\Python36\\site-packages\\sklearn\\base.py:465: DataConversionWarning: Data with input dtype int64, float64 were all converted to float64 by StandardScaler.\n",
      "  return self.fit(X, y, **fit_params).transform(X)\n"
     ]
    },
    {
     "name": "stdout",
     "output_type": "stream",
     "text": [
      "0.20801827632621087\n",
      "alpha: 0.01\n",
      "l1 ratio: 0.5\n"
     ]
    },
    {
     "name": "stderr",
     "output_type": "stream",
     "text": [
      "C:\\Users\\THINKPAD\\AppData\\Roaming\\Python\\Python36\\site-packages\\sklearn\\pipeline.py:451: DataConversionWarning: Data with input dtype int64, float64 were all converted to float64 by StandardScaler.\n",
      "  Xt = transform.transform(Xt)\n",
      "C:\\Users\\THINKPAD\\AppData\\Roaming\\Python\\Python36\\site-packages\\sklearn\\preprocessing\\data.py:617: DataConversionWarning: Data with input dtype int64, float64 were all converted to float64 by StandardScaler.\n",
      "  return self.partial_fit(X, y)\n",
      "C:\\Users\\THINKPAD\\AppData\\Roaming\\Python\\Python36\\site-packages\\sklearn\\base.py:465: DataConversionWarning: Data with input dtype int64, float64 were all converted to float64 by StandardScaler.\n",
      "  return self.fit(X, y, **fit_params).transform(X)\n"
     ]
    },
    {
     "name": "stdout",
     "output_type": "stream",
     "text": [
      "0.20990089638380519\n",
      "alpha: 0.01\n",
      "l1 ratio: 0.7\n"
     ]
    },
    {
     "name": "stderr",
     "output_type": "stream",
     "text": [
      "C:\\Users\\THINKPAD\\AppData\\Roaming\\Python\\Python36\\site-packages\\sklearn\\pipeline.py:451: DataConversionWarning: Data with input dtype int64, float64 were all converted to float64 by StandardScaler.\n",
      "  Xt = transform.transform(Xt)\n",
      "C:\\Users\\THINKPAD\\AppData\\Roaming\\Python\\Python36\\site-packages\\sklearn\\preprocessing\\data.py:617: DataConversionWarning: Data with input dtype int64, float64 were all converted to float64 by StandardScaler.\n",
      "  return self.partial_fit(X, y)\n",
      "C:\\Users\\THINKPAD\\AppData\\Roaming\\Python\\Python36\\site-packages\\sklearn\\base.py:465: DataConversionWarning: Data with input dtype int64, float64 were all converted to float64 by StandardScaler.\n",
      "  return self.fit(X, y, **fit_params).transform(X)\n"
     ]
    },
    {
     "name": "stdout",
     "output_type": "stream",
     "text": [
      "0.2117467988377672\n",
      "alpha: 0.01\n",
      "l1 ratio: 0.9\n"
     ]
    },
    {
     "name": "stderr",
     "output_type": "stream",
     "text": [
      "C:\\Users\\THINKPAD\\AppData\\Roaming\\Python\\Python36\\site-packages\\sklearn\\pipeline.py:451: DataConversionWarning: Data with input dtype int64, float64 were all converted to float64 by StandardScaler.\n",
      "  Xt = transform.transform(Xt)\n",
      "C:\\Users\\THINKPAD\\AppData\\Roaming\\Python\\Python36\\site-packages\\sklearn\\preprocessing\\data.py:617: DataConversionWarning: Data with input dtype int64, float64 were all converted to float64 by StandardScaler.\n",
      "  return self.partial_fit(X, y)\n",
      "C:\\Users\\THINKPAD\\AppData\\Roaming\\Python\\Python36\\site-packages\\sklearn\\base.py:465: DataConversionWarning: Data with input dtype int64, float64 were all converted to float64 by StandardScaler.\n",
      "  return self.fit(X, y, **fit_params).transform(X)\n"
     ]
    },
    {
     "name": "stdout",
     "output_type": "stream",
     "text": [
      "0.21298806817039642\n",
      "alpha: 0.05\n",
      "l1 ratio: 0.1\n"
     ]
    },
    {
     "name": "stderr",
     "output_type": "stream",
     "text": [
      "C:\\Users\\THINKPAD\\AppData\\Roaming\\Python\\Python36\\site-packages\\sklearn\\pipeline.py:451: DataConversionWarning: Data with input dtype int64, float64 were all converted to float64 by StandardScaler.\n",
      "  Xt = transform.transform(Xt)\n",
      "C:\\Users\\THINKPAD\\AppData\\Roaming\\Python\\Python36\\site-packages\\sklearn\\preprocessing\\data.py:617: DataConversionWarning: Data with input dtype int64, float64 were all converted to float64 by StandardScaler.\n",
      "  return self.partial_fit(X, y)\n",
      "C:\\Users\\THINKPAD\\AppData\\Roaming\\Python\\Python36\\site-packages\\sklearn\\base.py:465: DataConversionWarning: Data with input dtype int64, float64 were all converted to float64 by StandardScaler.\n",
      "  return self.fit(X, y, **fit_params).transform(X)\n"
     ]
    },
    {
     "name": "stdout",
     "output_type": "stream",
     "text": [
      "0.21075888057735298\n",
      "alpha: 0.05\n",
      "l1 ratio: 0.3\n"
     ]
    },
    {
     "name": "stderr",
     "output_type": "stream",
     "text": [
      "C:\\Users\\THINKPAD\\AppData\\Roaming\\Python\\Python36\\site-packages\\sklearn\\pipeline.py:451: DataConversionWarning: Data with input dtype int64, float64 were all converted to float64 by StandardScaler.\n",
      "  Xt = transform.transform(Xt)\n",
      "C:\\Users\\THINKPAD\\AppData\\Roaming\\Python\\Python36\\site-packages\\sklearn\\preprocessing\\data.py:617: DataConversionWarning: Data with input dtype int64, float64 were all converted to float64 by StandardScaler.\n",
      "  return self.partial_fit(X, y)\n",
      "C:\\Users\\THINKPAD\\AppData\\Roaming\\Python\\Python36\\site-packages\\sklearn\\base.py:465: DataConversionWarning: Data with input dtype int64, float64 were all converted to float64 by StandardScaler.\n",
      "  return self.fit(X, y, **fit_params).transform(X)\n"
     ]
    },
    {
     "name": "stdout",
     "output_type": "stream",
     "text": [
      "0.2160495275632121\n",
      "alpha: 0.05\n",
      "l1 ratio: 0.5\n"
     ]
    },
    {
     "name": "stderr",
     "output_type": "stream",
     "text": [
      "C:\\Users\\THINKPAD\\AppData\\Roaming\\Python\\Python36\\site-packages\\sklearn\\pipeline.py:451: DataConversionWarning: Data with input dtype int64, float64 were all converted to float64 by StandardScaler.\n",
      "  Xt = transform.transform(Xt)\n",
      "C:\\Users\\THINKPAD\\AppData\\Roaming\\Python\\Python36\\site-packages\\sklearn\\preprocessing\\data.py:617: DataConversionWarning: Data with input dtype int64, float64 were all converted to float64 by StandardScaler.\n",
      "  return self.partial_fit(X, y)\n",
      "C:\\Users\\THINKPAD\\AppData\\Roaming\\Python\\Python36\\site-packages\\sklearn\\base.py:465: DataConversionWarning: Data with input dtype int64, float64 were all converted to float64 by StandardScaler.\n",
      "  return self.fit(X, y, **fit_params).transform(X)\n"
     ]
    },
    {
     "name": "stdout",
     "output_type": "stream",
     "text": [
      "0.2198261278140094\n",
      "alpha: 0.05\n",
      "l1 ratio: 0.7\n"
     ]
    },
    {
     "name": "stderr",
     "output_type": "stream",
     "text": [
      "C:\\Users\\THINKPAD\\AppData\\Roaming\\Python\\Python36\\site-packages\\sklearn\\pipeline.py:451: DataConversionWarning: Data with input dtype int64, float64 were all converted to float64 by StandardScaler.\n",
      "  Xt = transform.transform(Xt)\n",
      "C:\\Users\\THINKPAD\\AppData\\Roaming\\Python\\Python36\\site-packages\\sklearn\\preprocessing\\data.py:617: DataConversionWarning: Data with input dtype int64, float64 were all converted to float64 by StandardScaler.\n",
      "  return self.partial_fit(X, y)\n",
      "C:\\Users\\THINKPAD\\AppData\\Roaming\\Python\\Python36\\site-packages\\sklearn\\base.py:465: DataConversionWarning: Data with input dtype int64, float64 were all converted to float64 by StandardScaler.\n",
      "  return self.fit(X, y, **fit_params).transform(X)\n"
     ]
    },
    {
     "name": "stdout",
     "output_type": "stream",
     "text": [
      "0.22523488041937667\n",
      "alpha: 0.05\n",
      "l1 ratio: 0.9\n"
     ]
    },
    {
     "name": "stderr",
     "output_type": "stream",
     "text": [
      "C:\\Users\\THINKPAD\\AppData\\Roaming\\Python\\Python36\\site-packages\\sklearn\\pipeline.py:451: DataConversionWarning: Data with input dtype int64, float64 were all converted to float64 by StandardScaler.\n",
      "  Xt = transform.transform(Xt)\n",
      "C:\\Users\\THINKPAD\\AppData\\Roaming\\Python\\Python36\\site-packages\\sklearn\\preprocessing\\data.py:617: DataConversionWarning: Data with input dtype int64, float64 were all converted to float64 by StandardScaler.\n",
      "  return self.partial_fit(X, y)\n",
      "C:\\Users\\THINKPAD\\AppData\\Roaming\\Python\\Python36\\site-packages\\sklearn\\base.py:465: DataConversionWarning: Data with input dtype int64, float64 were all converted to float64 by StandardScaler.\n",
      "  return self.fit(X, y, **fit_params).transform(X)\n"
     ]
    },
    {
     "name": "stdout",
     "output_type": "stream",
     "text": [
      "0.22713767579627195\n",
      "alpha: 0.1\n",
      "l1 ratio: 0.1\n"
     ]
    },
    {
     "name": "stderr",
     "output_type": "stream",
     "text": [
      "C:\\Users\\THINKPAD\\AppData\\Roaming\\Python\\Python36\\site-packages\\sklearn\\pipeline.py:451: DataConversionWarning: Data with input dtype int64, float64 were all converted to float64 by StandardScaler.\n",
      "  Xt = transform.transform(Xt)\n",
      "C:\\Users\\THINKPAD\\AppData\\Roaming\\Python\\Python36\\site-packages\\sklearn\\preprocessing\\data.py:617: DataConversionWarning: Data with input dtype int64, float64 were all converted to float64 by StandardScaler.\n",
      "  return self.partial_fit(X, y)\n",
      "C:\\Users\\THINKPAD\\AppData\\Roaming\\Python\\Python36\\site-packages\\sklearn\\base.py:465: DataConversionWarning: Data with input dtype int64, float64 were all converted to float64 by StandardScaler.\n",
      "  return self.fit(X, y, **fit_params).transform(X)\n"
     ]
    },
    {
     "name": "stdout",
     "output_type": "stream",
     "text": [
      "0.2149161689175363\n",
      "alpha: 0.1\n",
      "l1 ratio: 0.3\n"
     ]
    },
    {
     "name": "stderr",
     "output_type": "stream",
     "text": [
      "C:\\Users\\THINKPAD\\AppData\\Roaming\\Python\\Python36\\site-packages\\sklearn\\pipeline.py:451: DataConversionWarning: Data with input dtype int64, float64 were all converted to float64 by StandardScaler.\n",
      "  Xt = transform.transform(Xt)\n",
      "C:\\Users\\THINKPAD\\AppData\\Roaming\\Python\\Python36\\site-packages\\sklearn\\preprocessing\\data.py:617: DataConversionWarning: Data with input dtype int64, float64 were all converted to float64 by StandardScaler.\n",
      "  return self.partial_fit(X, y)\n",
      "C:\\Users\\THINKPAD\\AppData\\Roaming\\Python\\Python36\\site-packages\\sklearn\\base.py:465: DataConversionWarning: Data with input dtype int64, float64 were all converted to float64 by StandardScaler.\n",
      "  return self.fit(X, y, **fit_params).transform(X)\n"
     ]
    },
    {
     "name": "stdout",
     "output_type": "stream",
     "text": [
      "0.22291639203379413\n",
      "alpha: 0.1\n",
      "l1 ratio: 0.5\n"
     ]
    },
    {
     "name": "stderr",
     "output_type": "stream",
     "text": [
      "C:\\Users\\THINKPAD\\AppData\\Roaming\\Python\\Python36\\site-packages\\sklearn\\pipeline.py:451: DataConversionWarning: Data with input dtype int64, float64 were all converted to float64 by StandardScaler.\n",
      "  Xt = transform.transform(Xt)\n",
      "C:\\Users\\THINKPAD\\AppData\\Roaming\\Python\\Python36\\site-packages\\sklearn\\preprocessing\\data.py:617: DataConversionWarning: Data with input dtype int64, float64 were all converted to float64 by StandardScaler.\n",
      "  return self.partial_fit(X, y)\n",
      "C:\\Users\\THINKPAD\\AppData\\Roaming\\Python\\Python36\\site-packages\\sklearn\\base.py:465: DataConversionWarning: Data with input dtype int64, float64 were all converted to float64 by StandardScaler.\n",
      "  return self.fit(X, y, **fit_params).transform(X)\n"
     ]
    },
    {
     "name": "stdout",
     "output_type": "stream",
     "text": [
      "0.2282474633550291\n",
      "alpha: 0.1\n",
      "l1 ratio: 0.7\n"
     ]
    },
    {
     "name": "stderr",
     "output_type": "stream",
     "text": [
      "C:\\Users\\THINKPAD\\AppData\\Roaming\\Python\\Python36\\site-packages\\sklearn\\pipeline.py:451: DataConversionWarning: Data with input dtype int64, float64 were all converted to float64 by StandardScaler.\n",
      "  Xt = transform.transform(Xt)\n",
      "C:\\Users\\THINKPAD\\AppData\\Roaming\\Python\\Python36\\site-packages\\sklearn\\preprocessing\\data.py:617: DataConversionWarning: Data with input dtype int64, float64 were all converted to float64 by StandardScaler.\n",
      "  return self.partial_fit(X, y)\n",
      "C:\\Users\\THINKPAD\\AppData\\Roaming\\Python\\Python36\\site-packages\\sklearn\\base.py:465: DataConversionWarning: Data with input dtype int64, float64 were all converted to float64 by StandardScaler.\n",
      "  return self.fit(X, y, **fit_params).transform(X)\n"
     ]
    },
    {
     "name": "stdout",
     "output_type": "stream",
     "text": [
      "0.2309741424196447\n",
      "alpha: 0.1\n",
      "l1 ratio: 0.9\n"
     ]
    },
    {
     "name": "stderr",
     "output_type": "stream",
     "text": [
      "C:\\Users\\THINKPAD\\AppData\\Roaming\\Python\\Python36\\site-packages\\sklearn\\pipeline.py:451: DataConversionWarning: Data with input dtype int64, float64 were all converted to float64 by StandardScaler.\n",
      "  Xt = transform.transform(Xt)\n",
      "C:\\Users\\THINKPAD\\AppData\\Roaming\\Python\\Python36\\site-packages\\sklearn\\preprocessing\\data.py:617: DataConversionWarning: Data with input dtype int64, float64 were all converted to float64 by StandardScaler.\n",
      "  return self.partial_fit(X, y)\n",
      "C:\\Users\\THINKPAD\\AppData\\Roaming\\Python\\Python36\\site-packages\\sklearn\\base.py:465: DataConversionWarning: Data with input dtype int64, float64 were all converted to float64 by StandardScaler.\n",
      "  return self.fit(X, y, **fit_params).transform(X)\n"
     ]
    },
    {
     "name": "stdout",
     "output_type": "stream",
     "text": [
      "0.2309741424196447\n",
      "alpha: 0.2\n",
      "l1 ratio: 0.1\n"
     ]
    },
    {
     "name": "stderr",
     "output_type": "stream",
     "text": [
      "C:\\Users\\THINKPAD\\AppData\\Roaming\\Python\\Python36\\site-packages\\sklearn\\pipeline.py:451: DataConversionWarning: Data with input dtype int64, float64 were all converted to float64 by StandardScaler.\n",
      "  Xt = transform.transform(Xt)\n",
      "C:\\Users\\THINKPAD\\AppData\\Roaming\\Python\\Python36\\site-packages\\sklearn\\preprocessing\\data.py:617: DataConversionWarning: Data with input dtype int64, float64 were all converted to float64 by StandardScaler.\n",
      "  return self.partial_fit(X, y)\n",
      "C:\\Users\\THINKPAD\\AppData\\Roaming\\Python\\Python36\\site-packages\\sklearn\\base.py:465: DataConversionWarning: Data with input dtype int64, float64 were all converted to float64 by StandardScaler.\n",
      "  return self.fit(X, y, **fit_params).transform(X)\n"
     ]
    },
    {
     "name": "stdout",
     "output_type": "stream",
     "text": [
      "0.21973477659773274\n",
      "alpha: 0.2\n",
      "l1 ratio: 0.3\n"
     ]
    },
    {
     "name": "stderr",
     "output_type": "stream",
     "text": [
      "C:\\Users\\THINKPAD\\AppData\\Roaming\\Python\\Python36\\site-packages\\sklearn\\pipeline.py:451: DataConversionWarning: Data with input dtype int64, float64 were all converted to float64 by StandardScaler.\n",
      "  Xt = transform.transform(Xt)\n",
      "C:\\Users\\THINKPAD\\AppData\\Roaming\\Python\\Python36\\site-packages\\sklearn\\preprocessing\\data.py:617: DataConversionWarning: Data with input dtype int64, float64 were all converted to float64 by StandardScaler.\n",
      "  return self.partial_fit(X, y)\n",
      "C:\\Users\\THINKPAD\\AppData\\Roaming\\Python\\Python36\\site-packages\\sklearn\\base.py:465: DataConversionWarning: Data with input dtype int64, float64 were all converted to float64 by StandardScaler.\n",
      "  return self.fit(X, y, **fit_params).transform(X)\n"
     ]
    },
    {
     "name": "stdout",
     "output_type": "stream",
     "text": [
      "0.23051492525741088\n",
      "alpha: 0.2\n",
      "l1 ratio: 0.5\n"
     ]
    },
    {
     "name": "stderr",
     "output_type": "stream",
     "text": [
      "C:\\Users\\THINKPAD\\AppData\\Roaming\\Python\\Python36\\site-packages\\sklearn\\pipeline.py:451: DataConversionWarning: Data with input dtype int64, float64 were all converted to float64 by StandardScaler.\n",
      "  Xt = transform.transform(Xt)\n",
      "C:\\Users\\THINKPAD\\AppData\\Roaming\\Python\\Python36\\site-packages\\sklearn\\preprocessing\\data.py:617: DataConversionWarning: Data with input dtype int64, float64 were all converted to float64 by StandardScaler.\n",
      "  return self.partial_fit(X, y)\n",
      "C:\\Users\\THINKPAD\\AppData\\Roaming\\Python\\Python36\\site-packages\\sklearn\\base.py:465: DataConversionWarning: Data with input dtype int64, float64 were all converted to float64 by StandardScaler.\n",
      "  return self.fit(X, y, **fit_params).transform(X)\n"
     ]
    },
    {
     "name": "stdout",
     "output_type": "stream",
     "text": [
      "0.2309741424196447\n",
      "alpha: 0.2\n",
      "l1 ratio: 0.7\n"
     ]
    },
    {
     "name": "stderr",
     "output_type": "stream",
     "text": [
      "C:\\Users\\THINKPAD\\AppData\\Roaming\\Python\\Python36\\site-packages\\sklearn\\pipeline.py:451: DataConversionWarning: Data with input dtype int64, float64 were all converted to float64 by StandardScaler.\n",
      "  Xt = transform.transform(Xt)\n",
      "C:\\Users\\THINKPAD\\AppData\\Roaming\\Python\\Python36\\site-packages\\sklearn\\preprocessing\\data.py:617: DataConversionWarning: Data with input dtype int64, float64 were all converted to float64 by StandardScaler.\n",
      "  return self.partial_fit(X, y)\n",
      "C:\\Users\\THINKPAD\\AppData\\Roaming\\Python\\Python36\\site-packages\\sklearn\\base.py:465: DataConversionWarning: Data with input dtype int64, float64 were all converted to float64 by StandardScaler.\n",
      "  return self.fit(X, y, **fit_params).transform(X)\n"
     ]
    },
    {
     "name": "stdout",
     "output_type": "stream",
     "text": [
      "0.2309741424196447\n",
      "alpha: 0.2\n",
      "l1 ratio: 0.9\n",
      "0.2309741424196447\n"
     ]
    },
    {
     "name": "stderr",
     "output_type": "stream",
     "text": [
      "C:\\Users\\THINKPAD\\AppData\\Roaming\\Python\\Python36\\site-packages\\sklearn\\pipeline.py:451: DataConversionWarning: Data with input dtype int64, float64 were all converted to float64 by StandardScaler.\n",
      "  Xt = transform.transform(Xt)\n"
     ]
    }
   ],
   "source": [
    "from sklearn.linear_model import ElasticNet\n",
    "alphas = [0.01,0.05,0.1,0.2]\n",
    "ratios = [0.1,0.3,0.5,0.7,0.9]\n",
    "for a in alphas:\n",
    "    for r in ratios:\n",
    "        print('alpha: {}'.format(a))\n",
    "        print('l1 ratio: {}'.format(r))\n",
    "        elastic = Pipeline(steps=[('preprocessor', preprocessor),\n",
    "                          ('regressor',  ElasticNet(alpha = a,l1_ratio = r))])\n",
    "        elastic.fit(train_X_reg, train_y_reg)\n",
    "        print(np.sqrt(metrics.mean_squared_error(val_y_reg, elastic.predict(val_X_reg))))"
   ]
  },
  {
   "cell_type": "code",
   "execution_count": 181,
   "metadata": {},
   "outputs": [
    {
     "name": "stderr",
     "output_type": "stream",
     "text": [
      "C:\\Users\\THINKPAD\\AppData\\Roaming\\Python\\Python36\\site-packages\\sklearn\\preprocessing\\data.py:617: DataConversionWarning: Data with input dtype int64, float64 were all converted to float64 by StandardScaler.\n",
      "  return self.partial_fit(X, y)\n",
      "C:\\Users\\THINKPAD\\AppData\\Roaming\\Python\\Python36\\site-packages\\sklearn\\base.py:465: DataConversionWarning: Data with input dtype int64, float64 were all converted to float64 by StandardScaler.\n",
      "  return self.fit(X, y, **fit_params).transform(X)\n"
     ]
    },
    {
     "name": "stdout",
     "output_type": "stream",
     "text": [
      "time: 23.761442184448242\n",
      "0.19412783920688795\n"
     ]
    },
    {
     "name": "stderr",
     "output_type": "stream",
     "text": [
      "C:\\Users\\THINKPAD\\AppData\\Roaming\\Python\\Python36\\site-packages\\sklearn\\pipeline.py:451: DataConversionWarning: Data with input dtype int64, float64 were all converted to float64 by StandardScaler.\n",
      "  Xt = transform.transform(Xt)\n"
     ]
    }
   ],
   "source": [
    "starttime = time.time()\n",
    "elastic = Pipeline(steps=[('preprocessor', preprocessor),\n",
    "                  ('regressor',  ElasticNet(alpha = 0.01,l1_ratio = 0.1))])\n",
    "elastic.fit(train_X_reg, train_y_reg)\n",
    "print('time: {}'.format(time.time()-starttime))\n",
    "print(np.sqrt(metrics.mean_squared_error(test_y_reg, elastic.predict(test_X_reg))))"
   ]
  },
  {
   "cell_type": "markdown",
   "metadata": {},
   "source": [
    "### LightGBM"
   ]
  },
  {
   "cell_type": "code",
   "execution_count": 182,
   "metadata": {},
   "outputs": [],
   "source": [
    "def run_lgb(train_X, train_y, val_X, val_y):\n",
    "    params = {\n",
    "        \"objective\" : \"regression\",\n",
    "        \"metric\" : \"rmse\", \n",
    "        \"num_leaves\" : 10,\n",
    "        \"min_child_samples\" : 100,\n",
    "        \"learning_rate\" : 0.1,\n",
    "        \"bagging_fraction\" : 0.7,\n",
    "        \"feature_fraction\" : 0.5,\n",
    "        \"bagging_frequency\" : 5,\n",
    "        \"bagging_seed\" : 2018,\n",
    "    }\n",
    "    \n",
    "    lgtrain = lgb.Dataset(train_X, label=train_y)\n",
    "    lgval = lgb.Dataset(val_X, label=val_y)\n",
    "    model = lgb.train(params, lgtrain, 1000, valid_sets=[lgval], early_stopping_rounds=100, verbose_eval=100)\n",
    "    lgb.plot_importance(model)\n",
    "    pred_val_y = model.predict(val_X, num_iteration=model.best_iteration)\n",
    "    return model, pred_val_y\n"
   ]
  },
  {
   "cell_type": "code",
   "execution_count": 189,
   "metadata": {},
   "outputs": [
    {
     "name": "stdout",
     "output_type": "stream",
     "text": [
      "Training until validation scores don't improve for 100 rounds.\n",
      "[100]\tvalid_0's rmse: 0.173612\n",
      "[200]\tvalid_0's rmse: 0.173001\n",
      "Early stopping, best iteration is:\n",
      "[184]\tvalid_0's rmse: 0.172804\n",
      "time: 0.6250934600830078\n",
      "0.17280353193539463\n"
     ]
    },
    {
     "data": {
      "image/png": "[encoded data removed]",
      "text/plain": [
       "<Figure size 432x288 with 1 Axes>"
      ]
     },
     "metadata": {
      "image/png": {
       "height": 277,
       "width": 493
      },
      "needs_background": "light"
     },
     "output_type": "display_data"
    }
   ],
   "source": [
    "starttime = time.time()\n",
    "modelR, pred_val_y = run_lgb(train_X_reg, train_y_reg, val_X_reg, val_y_reg)\n",
    "print('time: {}'.format(time.time()-starttime))\n",
    "print(np.sqrt(metrics.mean_squared_error(val_y_reg, pred_val_y)))"
   ]
  },
  {
   "cell_type": "code",
   "execution_count": 190,
   "metadata": {},
   "outputs": [
    {
     "name": "stdout",
     "output_type": "stream",
     "text": [
      "0.16381690107136393\n"
     ]
    }
   ],
   "source": [
    "#modelR, pred_test_y = run_lgb(train_X_reg, train_y_reg, test_X_reg, test_y_reg)\n",
    "pred_test_y = modelR.predict(test_X_reg)\n",
    "print(np.sqrt(metrics.mean_squared_error(test_y_reg, pred_test_y)))"
   ]
  },
  {
   "cell_type": "code",
   "execution_count": 24,
   "metadata": {},
   "outputs": [
    {
     "name": "stderr",
     "output_type": "stream",
     "text": [
      "C:\\Users\\THINKPAD\\AppData\\Roaming\\Python\\Python36\\site-packages\\sklearn\\preprocessing\\data.py:617: DataConversionWarning: Data with input dtype int64, float64 were all converted to float64 by StandardScaler.\n",
      "  return self.partial_fit(X, y)\n",
      "C:\\Users\\THINKPAD\\AppData\\Roaming\\Python\\Python36\\site-packages\\sklearn\\base.py:465: DataConversionWarning: Data with input dtype int64, float64 were all converted to float64 by StandardScaler.\n",
      "  return self.fit(X, y, **fit_params).transform(X)\n",
      "C:\\Users\\THINKPAD\\AppData\\Roaming\\Python\\Python36\\site-packages\\sklearn\\preprocessing\\data.py:617: DataConversionWarning: Data with input dtype int64, float64 were all converted to float64 by StandardScaler.\n",
      "  return self.partial_fit(X, y)\n",
      "C:\\Users\\THINKPAD\\AppData\\Roaming\\Python\\Python36\\site-packages\\sklearn\\base.py:465: DataConversionWarning: Data with input dtype int64, float64 were all converted to float64 by StandardScaler.\n",
      "  return self.fit(X, y, **fit_params).transform(X)\n"
     ]
    },
    {
     "name": "stdout",
     "output_type": "stream",
     "text": [
      "Training until validation scores don't improve for 100 rounds.\n",
      "[100]\tvalid_0's rmse: 3.89982\n",
      "[200]\tvalid_0's rmse: 3.89179\n",
      "Early stopping, best iteration is:\n",
      "[117]\tvalid_0's rmse: 3.89138\n",
      "3.8913808992771632\n"
     ]
    }
   ],
   "source": [
    "# try to implement with pipeline\n",
    "\n",
    "class LGBM_Regressor:\n",
    "    def fit(self, train_X, train_y):\n",
    "        self.train_X = train_X\n",
    "        self.train_y = train_y\n",
    "        return self\n",
    "    def fit_predict(self,val_X,val_y):\n",
    "        params = {\n",
    "            \"objective\" : \"regression\",\n",
    "            \"metric\" : \"rmse\", \n",
    "            \"num_leaves\" : 10,\n",
    "            \"min_child_samples\" : 100,\n",
    "            \"learning_rate\" : 0.1,\n",
    "            \"bagging_fraction\" : 0.7,\n",
    "            \"feature_fraction\" : 0.5,\n",
    "            \"bagging_frequency\" : 5,\n",
    "            \"bagging_seed\" : 2018,\n",
    "        }\n",
    "\n",
    "        lgtrain = lgb.Dataset(self.train_X, label=self.train_y)\n",
    "        lgval = lgb.Dataset(val_X, label=val_y)\n",
    "        model = lgb.train(params, lgtrain, 1000, valid_sets=[lgval], early_stopping_rounds=100, verbose_eval=100)\n",
    "        pred_val_y = model.predict(val_X, num_iteration=model.best_iteration)\n",
    "        return model, pred_val_y\n",
    "lgbr = Pipeline(steps=[('preprocessor', preprocessor),\n",
    "                  ('regressor',  LGBM_Regressor())])\n",
    "lgbr.fit(train_X_reg,train_y_reg)\n",
    "modelR, pred_val_y = lgbr.fit_predict(val_X_reg, val_y_reg)\n",
    "print(np.sqrt(metrics.mean_squared_error(val_y_reg, pred_val_y)))"
   ]
  },
  {
   "cell_type": "markdown",
   "metadata": {},
   "source": [
    "### Loss Prediction on the Best Model"
   ]
  },
  {
   "cell_type": "code",
   "execution_count": 87,
   "metadata": {},
   "outputs": [],
   "source": [
    "# 1 year\n",
    "samples['age'] = samples['age1']\n",
    "pred_X1 = samples[numCols+['age']+catCols]\n",
    "pred_loss1 = modelR.predict(pred_X1)"
   ]
  },
  {
   "cell_type": "code",
   "execution_count": 88,
   "metadata": {},
   "outputs": [],
   "source": [
    "# 5 year\n",
    "samples['age'] = samples['age5']\n",
    "pred_X5 = samples[numCols+['age']+catCols]\n",
    "pred_loss5 = modelR.predict(pred_X5)"
   ]
  },
  {
   "cell_type": "markdown",
   "metadata": {},
   "source": [
    "### XGboost"
   ]
  },
  {
   "cell_type": "code",
   "execution_count": 198,
   "metadata": {},
   "outputs": [],
   "source": [
    "def run_xgb(X_train, y_train, X_val, y_val, X_test, y_test):\n",
    "    params = {'objective': 'reg:linear',\n",
    "              'eval_metric': 'rmse',\n",
    "              'eta': 0.001,\n",
    "              'max_depth': 10,\n",
    "              'subsample': 0.6,\n",
    "              'colsample_bytree': 0.6,\n",
    "              'alpha':0.001,\n",
    "              'random_state': 42,\n",
    "              'silent': True}\n",
    "\n",
    "    xgb_train_data = xgb.DMatrix(X_train.values, y_train.values)\n",
    "    xgb_val_data = xgb.DMatrix(X_val.values, y_val.values)\n",
    "    xgb_test_data = xgb.DMatrix(X_test.values, y_test.values)\n",
    "    #xgb_submit_data = xgb.DMatrix(X_test)\n",
    "    model = xgb.train(params, xgb_train_data, \n",
    "                      num_boost_round=2000, \n",
    "                      evals= [(xgb_train_data, 'train'), (xgb_val_data, 'valid')],\n",
    "                      early_stopping_rounds=100, \n",
    "                      verbose_eval=500\n",
    "                     )\n",
    "\n",
    "    y_pred_train = model.predict(xgb_train_data, ntree_limit=model.best_ntree_limit)\n",
    "    y_pred_val = model.predict(xgb_val_data, ntree_limit=model.best_ntree_limit)\n",
    "    y_pred_test = model.predict(xgb_test_data, ntree_limit=model.best_ntree_limit)\n",
    "    #y_pred_submit = model.predict(xgb_submit_data, ntree_limit=model.best_ntree_limit)\n",
    "\n",
    "    return model, y_pred_val, y_pred_test"
   ]
  },
  {
   "cell_type": "code",
   "execution_count": 200,
   "metadata": {},
   "outputs": [
    {
     "name": "stdout",
     "output_type": "stream",
     "text": [
      "[0]\ttrain-rmse:0.271663\tvalid-rmse:0.266664\n",
      "Multiple eval metrics have been passed: 'valid-rmse' will be used for early stopping.\n",
      "\n",
      "Will train until valid-rmse hasn't improved in 100 rounds.\n",
      "[500]\ttrain-rmse:0.201799\tvalid-rmse:0.216351\n",
      "[1000]\ttrain-rmse:0.158865\tvalid-rmse:0.191542\n",
      "[1500]\ttrain-rmse:0.132325\tvalid-rmse:0.179971\n",
      "[1999]\ttrain-rmse:0.114847\tvalid-rmse:0.174588\n",
      "time: 37.94398045539856\n",
      "0.17458794135121491\n",
      "0.167976698081359\n"
     ]
    }
   ],
   "source": [
    "starttime = time.time()\n",
    "xgb_model, xgb_preds_val, xgb_preds_test = run_xgb(train_X_reg, pd.DataFrame(train_y_reg), val_X_reg, pd.DataFrame(val_y_reg),test_X_reg, pd.DataFrame(test_y_reg))\n",
    "print('time: {}'.format(time.time()-starttime))\n",
    "print(np.sqrt(metrics.mean_squared_error(val_y_reg, xgb_preds_val)))\n",
    "print(np.sqrt(metrics.mean_squared_error(test_y_reg, xgb_preds_test)))"
   ]
  },
  {
   "cell_type": "markdown",
   "metadata": {},
   "source": [
    "### DNN Regressor"
   ]
  },
  {
   "cell_type": "code",
   "execution_count": 99,
   "metadata": {},
   "outputs": [
    {
     "name": "stderr",
     "output_type": "stream",
     "text": [
      "C:\\Users\\THINKPAD\\AppData\\Roaming\\Python\\Python36\\site-packages\\sklearn\\preprocessing\\data.py:617: DataConversionWarning: Data with input dtype int64, float64 were all converted to float64 by StandardScaler.\n",
      "  return self.partial_fit(X, y)\n",
      "C:\\Users\\THINKPAD\\AppData\\Local\\Continuum\\Anaconda3\\envs\\Tensor\\lib\\site-packages\\ipykernel_launcher.py:4: DataConversionWarning: Data with input dtype int64, float64 were all converted to float64 by StandardScaler.\n",
      "  after removing the cwd from sys.path.\n",
      "C:\\Users\\THINKPAD\\AppData\\Local\\Continuum\\Anaconda3\\envs\\Tensor\\lib\\site-packages\\ipykernel_launcher.py:5: DataConversionWarning: Data with input dtype int64, float64 were all converted to float64 by StandardScaler.\n",
      "  \"\"\"\n",
      "C:\\Users\\THINKPAD\\AppData\\Local\\Continuum\\Anaconda3\\envs\\Tensor\\lib\\site-packages\\ipykernel_launcher.py:6: DataConversionWarning: Data with input dtype int64, float64 were all converted to float64 by StandardScaler.\n",
      "  \n"
     ]
    }
   ],
   "source": [
    "data_scaler = StandardScaler()\n",
    "train_num_r = train_X_reg[numCols]\n",
    "data_scaler.fit(train_num_r)\n",
    "train_num_r = data_scaler.transform(train_num_r)\n",
    "val_num_r = data_scaler.transform(val_X_reg[numCols])\n",
    "test_num_r = data_scaler.transform(test_X_reg[numCols])\n",
    "train_num_r_df = pd.DataFrame(train_num_r,columns = numCols)\n",
    "train_num_r_df.reset_index(inplace=True)\n",
    "val_num_r_df = pd.DataFrame(val_num_r,columns = numCols)\n",
    "val_num_r_df.reset_index(inplace=True)\n",
    "test_num_r_df = pd.DataFrame(test_num_r,columns = numCols)\n",
    "test_num_r_df.reset_index(inplace=True)"
   ]
  },
  {
   "cell_type": "code",
   "execution_count": 102,
   "metadata": {},
   "outputs": [],
   "source": [
    "one_hot = OneHotEncoder(handle_unknown='ignore')\n",
    "train_cat_r = one_hot.fit_transform(train_X_reg[catCols]).toarray()\n",
    "val_cat_r = one_hot.transform(val_X_reg[catCols]).toarray()\n",
    "test_cat_r = one_hot.transform(test_X_reg[catCols]).toarray()\n",
    "feature_names = [str(i) for i in list(one_hot.get_feature_names())]\n",
    "train_cat_r_df = pd.DataFrame(train_cat_r,columns = feature_names)\n",
    "train_cat_r_df.reset_index(inplace=True)\n",
    "val_cat_r_df = pd.DataFrame(val_cat_r,columns = feature_names)\n",
    "val_cat_r_df.reset_index(inplace=True)\n",
    "test_cat_r_df = pd.DataFrame(test_cat_r,columns = feature_names)\n",
    "test_cat_r_df.reset_index(inplace=True)\n",
    "newcatCols = list(train_cat_r_df.columns)\n",
    "feature_cols = [tf.contrib.layers.real_valued_column(k) for k in numCols+newcatCols]"
   ]
  },
  {
   "cell_type": "code",
   "execution_count": 103,
   "metadata": {},
   "outputs": [],
   "source": [
    "train_dnn_r = pd.concat([train_num_r_df,train_cat_r_df],axis = 1)\n",
    "val_dnn_r = pd.concat([val_num_r_df,val_cat_r_df],axis = 1)\n",
    "test_dnn_r = pd.concat([test_num_r_df,test_cat_r_df],axis = 1)"
   ]
  },
  {
   "cell_type": "code",
   "execution_count": 104,
   "metadata": {},
   "outputs": [
    {
     "data": {
      "text/plain": [
       "(5748, 13309)"
      ]
     },
     "execution_count": 104,
     "metadata": {},
     "output_type": "execute_result"
    }
   ],
   "source": [
    "train_dnn_r.shape"
   ]
  },
  {
   "cell_type": "code",
   "execution_count": 105,
   "metadata": {},
   "outputs": [],
   "source": [
    "train_dnn_r_columns = list(train_dnn_r.columns)\n",
    "train_input_fn = tf.estimator.inputs.numpy_input_fn(\n",
    "    x = {k: train_dnn_r[k].values for k in train_dnn_r_columns},\n",
    "    y = train_y_reg,\n",
    "    batch_size=512,\n",
    "    num_epochs=500,\n",
    "    shuffle=False,\n",
    ")\n",
    "test_input_fn = tf.estimator.inputs.numpy_input_fn(\n",
    "    x = {k: val_dnn_r[k].values for k in train_dnn_r_columns},\n",
    "    y = val_y_reg,\n",
    "    batch_size=512,\n",
    "    num_epochs=500,\n",
    "    shuffle=False\n",
    ")"
   ]
  },
  {
   "cell_type": "code",
   "execution_count": 106,
   "metadata": {},
   "outputs": [
    {
     "name": "stdout",
     "output_type": "stream",
     "text": [
      "INFO:tensorflow:Using default config.\n",
      "WARNING:tensorflow:Using temporary folder as model directory: C:\\Users\\THINKPAD\\AppData\\Local\\Temp\\tmpqo_av6ng\n",
      "INFO:tensorflow:Using config: {'_model_dir': 'C:\\\\Users\\\\THINKPAD\\\\AppData\\\\Local\\\\Temp\\\\tmpqo_av6ng', '_tf_random_seed': None, '_save_summary_steps': 100, '_save_checkpoints_steps': None, '_save_checkpoints_secs': 600, '_session_config': None, '_keep_checkpoint_max': 5, '_keep_checkpoint_every_n_hours': 10000, '_log_step_count_steps': 100, '_service': None, '_cluster_spec': <tensorflow.python.training.server_lib.ClusterSpec object at 0x000001C8EA14F208>, '_task_type': 'worker', '_task_id': 0, '_global_id_in_cluster': 0, '_master': '', '_evaluation_master': '', '_is_chief': True, '_num_ps_replicas': 0, '_num_worker_replicas': 1}\n"
     ]
    }
   ],
   "source": [
    "\n",
    "regressor = tf.estimator.DNNRegressor(feature_columns=feature_cols, \n",
    "                                          hidden_units=[256, 128], \n",
    "                                          #model_dir='./models/dnnregressor'\n",
    "                                     )"
   ]
  },
  {
   "cell_type": "code",
   "execution_count": null,
   "metadata": {},
   "outputs": [
    {
     "name": "stdout",
     "output_type": "stream",
     "text": [
      "INFO:tensorflow:Calling model_fn.\n",
      "INFO:tensorflow:Done calling model_fn.\n",
      "INFO:tensorflow:Create CheckpointSaverHook.\n",
      "INFO:tensorflow:Graph was finalized.\n",
      "INFO:tensorflow:Running local_init_op.\n",
      "INFO:tensorflow:Done running local_init_op.\n"
     ]
    }
   ],
   "source": [
    "regressor.train(input_fn=train_input_fn, steps=10000)"
   ]
  },
  {
   "cell_type": "code",
   "execution_count": null,
   "metadata": {},
   "outputs": [],
   "source": []
  },
  {
   "cell_type": "markdown",
   "metadata": {},
   "source": [
    "## Simulation"
   ]
  },
  {
   "cell_type": "code",
   "execution_count": 67,
   "metadata": {},
   "outputs": [],
   "source": [
    "total = list(samples['total'])\n",
    "alltotal = sum(total)"
   ]
  },
  {
   "cell_type": "code",
   "execution_count": 90,
   "metadata": {},
   "outputs": [],
   "source": [
    "import random\n",
    "random.seed(0)\n",
    "# year 1\n",
    "allloss1 = []\n",
    "\n",
    "for i in range(1000):\n",
    "    simloss = []\n",
    "    for j in range(500):\n",
    "        rand =random.random()\n",
    "        if rand <= pred_prob1[j]:\n",
    "            simloss.append(pred_loss1[j]*total[j])\n",
    "        else:\n",
    "            simloss.append(0)\n",
    "    allloss1.append(simloss)\n",
    "sumloss1 = [sum(i)/alltotal*100 for i in allloss1]"
   ]
  },
  {
   "cell_type": "code",
   "execution_count": 103,
   "metadata": {},
   "outputs": [
    {
     "data": {
      "text/plain": [
       "Text(0.5, 1.0, 'distribution of 1 year % loss of loans of one simulation')"
      ]
     },
     "execution_count": 103,
     "metadata": {},
     "output_type": "execute_result"
    },
    {
     "data": {
      "image/png": "[encoded data removed]",
      "text/plain": [
       "<Figure size 432x288 with 1 Axes>"
      ]
     },
     "metadata": {
      "image/png": {
       "height": 263,
       "width": 377
      },
      "needs_background": "light"
     },
     "output_type": "display_data"
    }
   ],
   "source": [
    "# distribution of 500 loans of one simulation\n",
    "_,__,___ = plt.hist([allloss1[6][i]/total[i]*100 for i in range(500)],bins = 50)\n",
    "plt.title('distribution of 1 year % loss of loans of one simulation')"
   ]
  },
  {
   "cell_type": "code",
   "execution_count": 95,
   "metadata": {},
   "outputs": [
    {
     "data": {
      "text/plain": [
       "<matplotlib.axes._subplots.AxesSubplot at 0x2bd4fc33f28>"
      ]
     },
     "execution_count": 95,
     "metadata": {},
     "output_type": "execute_result"
    },
    {
     "data": {
      "image/png": "[encoded data removed]",
      "text/plain": [
       "<Figure size 432x288 with 1 Axes>"
      ]
     },
     "metadata": {
      "image/png": {
       "height": 263,
       "width": 374
      },
      "needs_background": "light"
     },
     "output_type": "display_data"
    }
   ],
   "source": [
    "sns.distplot(sumloss1,bins = 50,axlabel = 'Distribution of 1 Year Portfolio %Loss')"
   ]
  },
  {
   "cell_type": "code",
   "execution_count": 96,
   "metadata": {},
   "outputs": [],
   "source": [
    "# year 5\n",
    "allloss5 = []\n",
    "for i in range(1000):\n",
    "    simloss = []\n",
    "    for j in range(500):\n",
    "        rand =random.random()\n",
    "        if rand <= pred_prob5[j]:\n",
    "            simloss.append(pred_loss5[j]*total[j])\n",
    "        else:\n",
    "            simloss.append(0)\n",
    "    allloss5.append(simloss)\n",
    "sumloss5 = [sum(i)/alltotal*100 for i in allloss5]"
   ]
  },
  {
   "cell_type": "code",
   "execution_count": 107,
   "metadata": {},
   "outputs": [
    {
     "data": {
      "text/plain": [
       "Text(0.5, 1.0, 'distribution of 5 year % loss of loans of one simulation')"
      ]
     },
     "execution_count": 107,
     "metadata": {},
     "output_type": "execute_result"
    },
    {
     "data": {
      "image/png": "[encoded data removed]",
      "text/plain": [
       "<Figure size 432x288 with 1 Axes>"
      ]
     },
     "metadata": {
      "image/png": {
       "height": 263,
       "width": 377
      },
      "needs_background": "light"
     },
     "output_type": "display_data"
    }
   ],
   "source": [
    "# distribution of 500 loans of one simulation\n",
    "_,__,___ = plt.hist([allloss5[7][i]/total[i]*100 for i in range(500)],bins = 50)\n",
    "plt.title('distribution of 5 year % loss of loans of one simulation')"
   ]
  },
  {
   "cell_type": "code",
   "execution_count": 97,
   "metadata": {},
   "outputs": [
    {
     "data": {
      "text/plain": [
       "<matplotlib.axes._subplots.AxesSubplot at 0x2bd3f42b6d8>"
      ]
     },
     "execution_count": 97,
     "metadata": {},
     "output_type": "execute_result"
    },
    {
     "data": {
      "image/png": "[encoded data removed]",
      "text/plain": [
       "<Figure size 432x288 with 1 Axes>"
      ]
     },
     "metadata": {
      "image/png": {
       "height": 263,
       "width": 373
      },
      "needs_background": "light"
     },
     "output_type": "display_data"
    }
   ],
   "source": [
    "sns.distplot(sumloss5,bins = 50,axlabel = 'Distribution of 5 Year Portfolio %Loss')"
   ]
  },
  {
   "cell_type": "markdown",
   "metadata": {},
   "source": [
    "## VaR"
   ]
  },
  {
   "cell_type": "code",
   "execution_count": 44,
   "metadata": {},
   "outputs": [
    {
     "name": "stdout",
     "output_type": "stream",
     "text": [
      "95% VaR: 6.082324893041458\n",
      "90% VaR: 5.887289171130403\n"
     ]
    }
   ],
   "source": [
    "# year 1\n",
    "sumloss1 = sorted(sumloss1)\n",
    "# 95% VaR\n",
    "var195 = sumloss1[950-1]\n",
    "print('95% VaR: {}'.format(var195))\n",
    "# 90% VaR\n",
    "var190 = sumloss1[900-1]\n",
    "print('90% VaR: {}'.format(var190))"
   ]
  },
  {
   "cell_type": "code",
   "execution_count": 45,
   "metadata": {},
   "outputs": [
    {
     "name": "stdout",
     "output_type": "stream",
     "text": [
      "95% VaR: 6.812208193005478\n",
      "90% VaR: 6.571126996063757\n"
     ]
    }
   ],
   "source": [
    "# year 5\n",
    "sumloss5 = sorted(sumloss5)\n",
    "# 95% VaR\n",
    "var595 = sumloss5[950-1]\n",
    "print('95% VaR: {}'.format(var595))\n",
    "# 90% VaR\n",
    "var590 = sumloss5[900-1]\n",
    "print('90% VaR: {}'.format(var590))"
   ]
  },
  {
   "cell_type": "code",
   "execution_count": 46,
   "metadata": {},
   "outputs": [
    {
     "name": "stdout",
     "output_type": "stream",
     "text": [
      "95% Average VaR: 1.6346815426383992\n",
      "90% Average VaR: 6.2690851864256985\n"
     ]
    }
   ],
   "source": [
    "# Average VaR\n",
    "# year 1\n",
    "sumloss1 = sorted(sumloss1)\n",
    "# 95% Average VaR\n",
    "avar195 = 0\n",
    "for i in range(0,50,10):\n",
    "    avar195 += sumloss1[1000-i-1]\n",
    "avar195 = avar195/(1/0.05)\n",
    "print('95% Average VaR: {}'.format(avar195))\n",
    "# 90% Average VaR\n",
    "avar190 = 0\n",
    "for i in range(0,100,10):\n",
    "    avar190 += sumloss1[1000-i-1]\n",
    "avar190 = avar190/(1/0.1)\n",
    "print('90% Average VaR: {}'.format(avar190))"
   ]
  },
  {
   "cell_type": "code",
   "execution_count": 47,
   "metadata": {},
   "outputs": [
    {
     "name": "stdout",
     "output_type": "stream",
     "text": [
      "95% Average VaR: 1.823555452669914\n",
      "90% Average VaR: 6.996535799470867\n"
     ]
    }
   ],
   "source": [
    "# Average VaR\n",
    "# year 5\n",
    "sumloss5 = sorted(sumloss5)\n",
    "# 95% Average VaR\n",
    "avar595 = 0\n",
    "for i in range(0,50,10):\n",
    "    avar595 += sumloss5[1000-i-1]\n",
    "avar595 = avar595/(1/0.05)\n",
    "print('95% Average VaR: {}'.format(avar595))\n",
    "# 90% Average VaR\n",
    "avar590 = 0\n",
    "for i in range(0,100,10):\n",
    "    avar590 += sumloss5[1000-i-1]\n",
    "avar590 = avar590/(1/0.1)\n",
    "print('90% Average VaR: {}'.format(avar590))"
   ]
  },
  {
   "cell_type": "markdown",
   "metadata": {},
   "source": [
    "## Tranche"
   ]
  },
  {
   "cell_type": "code",
   "execution_count": 58,
   "metadata": {},
   "outputs": [
    {
     "data": {
      "text/plain": [
       "Text(0.5, 1.0, 'Distribution of 1 Year 5% - 15% Tranche Loss')"
      ]
     },
     "execution_count": 58,
     "metadata": {},
     "output_type": "execute_result"
    },
    {
     "data": {
      "image/png": "[encoded data removed]",
      "text/plain": [
       "<Figure size 432x288 with 1 Axes>"
      ]
     },
     "metadata": {
      "image/png": {
       "height": 263,
       "width": 377
      },
      "needs_background": "light"
     },
     "output_type": "display_data"
    }
   ],
   "source": [
    "# 5% - 15%\n",
    "# year 1\n",
    "investor1 = []\n",
    "for i in range(1000):\n",
    "    if sumloss1[i] >= 5 and sumloss1[i] <= 15:\n",
    "        investor1.append(sumloss1[i])\n",
    "    else:\n",
    "        investor1.append(0)\n",
    "#sns.distplot(investor1,bins = 50,axlabel = 'Distribution of 1 Year 5% - 15% Tranche Loss')\n",
    "_,__,___ = plt.hist(investor1,bins = 80)\n",
    "plt.title('Distribution of 1 Year 5% - 15% Tranche Loss')"
   ]
  },
  {
   "cell_type": "code",
   "execution_count": 59,
   "metadata": {},
   "outputs": [
    {
     "data": {
      "text/plain": [
       "Text(0.5, 1.0, 'Distribution of 5 Year 5% - 15% Tranche Loss')"
      ]
     },
     "execution_count": 59,
     "metadata": {},
     "output_type": "execute_result"
    },
    {
     "data": {
      "image/png": "[encoded data removed]",
      "text/plain": [
       "<Figure size 432x288 with 1 Axes>"
      ]
     },
     "metadata": {
      "image/png": {
       "height": 263,
       "width": 377
      },
      "needs_background": "light"
     },
     "output_type": "display_data"
    }
   ],
   "source": [
    "# year 5\n",
    "investor5 = []\n",
    "for i in range(1000):\n",
    "    if sumloss5[i] >= 5 and sumloss5[i] <= 15:\n",
    "        investor5.append(sumloss5[i])\n",
    "    else:\n",
    "        investor5.append(0)\n",
    "#sns.distplot(investor5,bins = 50,axlabel = 'Distribution of 5 Year 5% - 15% Tranche Loss')\n",
    "_,__,___ = plt.hist(investor5,bins = 80)\n",
    "plt.title('Distribution of 5 Year 5% - 15% Tranche Loss')"
   ]
  },
  {
   "cell_type": "code",
   "execution_count": 54,
   "metadata": {},
   "outputs": [
    {
     "data": {
      "text/plain": [
       "Text(0.5, 1.0, 'Distribution of 1 Year 15% - 100% Tranche Loss')"
      ]
     },
     "execution_count": 54,
     "metadata": {},
     "output_type": "execute_result"
    },
    {
     "data": {
      "image/png": "[encoded data removed]",
      "text/plain": [
       "<Figure size 432x288 with 1 Axes>"
      ]
     },
     "metadata": {
      "image/png": {
       "height": 263,
       "width": 383
      },
      "needs_background": "light"
     },
     "output_type": "display_data"
    }
   ],
   "source": [
    "# 15% - 100%\n",
    "# year 1\n",
    "investor1 = []\n",
    "for i in range(1000):\n",
    "    if sumloss1[i] >= 15 and sumloss1[i] <= 100:\n",
    "        investor1.append(sumloss1[i])\n",
    "    else:\n",
    "        investor1.append(0)\n",
    "_,__,___ = plt.hist(investor1,bins = 50)\n",
    "plt.title('Distribution of 1 Year 15% - 100% Tranche Loss')"
   ]
  },
  {
   "cell_type": "code",
   "execution_count": 53,
   "metadata": {},
   "outputs": [
    {
     "data": {
      "text/plain": [
       "Text(0.5, 1.0, 'Distribution of 5 Year 15% - 100% Tranche Loss')"
      ]
     },
     "execution_count": 53,
     "metadata": {},
     "output_type": "execute_result"
    },
    {
     "data": {
      "image/png": "[encoded data removed]",
      "text/plain": [
       "<Figure size 432x288 with 1 Axes>"
      ]
     },
     "metadata": {
      "image/png": {
       "height": 263,
       "width": 383
      },
      "needs_background": "light"
     },
     "output_type": "display_data"
    }
   ],
   "source": [
    "# year 5\n",
    "investor5 = []\n",
    "for i in range(1000):\n",
    "    if sumloss5[i] >= 15 and sumloss5[i] <= 100:\n",
    "        investor5.append(sumloss5[i])\n",
    "    else:\n",
    "        investor5.append(0)\n",
    "\n",
    "_,__,___ = plt.hist(investor5,bins = 50)\n",
    "plt.title('Distribution of 5 Year 15% - 100% Tranche Loss')"
   ]
  },
  {
   "cell_type": "code",
   "execution_count": null,
   "metadata": {},
   "outputs": [],
   "source": []
  }
 ],
 "metadata": {
  "kernelspec": {
   "display_name": "Python 3",
   "language": "python",
   "name": "python3"
  },
  "language_info": {
   "codemirror_mode": {
    "name": "ipython",
    "version": 3
   },
   "file_extension": ".py",
   "mimetype": "text/x-python",
   "name": "python",
   "nbconvert_exporter": "python",
   "pygments_lexer": "ipython3",
   "version": "3.6.7"
  }
 },
 "nbformat": 4,
 "nbformat_minor": 2
}
